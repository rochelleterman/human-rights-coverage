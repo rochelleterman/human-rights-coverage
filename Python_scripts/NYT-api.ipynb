{
 "metadata": {
  "name": "",
  "signature": "sha256:2d7b98143f59fd06f1b0c01e55adbf2418498ff4b724b43ed7c8b879a0406609"
 },
 "nbformat": 3,
 "nbformat_minor": 0,
 "worksheets": [
  {
   "cells": [
    {
     "cell_type": "code",
     "collapsed": false,
     "input": [
      "from nytimesarticle import articleAPI"
     ],
     "language": "python",
     "metadata": {},
     "outputs": [],
     "prompt_number": 64
    },
    {
     "cell_type": "code",
     "collapsed": false,
     "input": [
      "api = articleAPI('e15cea455f73cc47d6d971667e09c31c:19:44644296')"
     ],
     "language": "python",
     "metadata": {},
     "outputs": [],
     "prompt_number": 65
    },
    {
     "cell_type": "markdown",
     "metadata": {},
     "source": [
      "###Unpickle my data from Amnesty_NER.ipynb"
     ]
    },
    {
     "cell_type": "code",
     "collapsed": false,
     "input": [
      "import pprint, pickle"
     ],
     "language": "python",
     "metadata": {},
     "outputs": [],
     "prompt_number": 9
    },
    {
     "cell_type": "code",
     "collapsed": false,
     "input": [
      "pkl_file = open('data.pkl', 'rb')"
     ],
     "language": "python",
     "metadata": {},
     "outputs": [],
     "prompt_number": 10
    },
    {
     "cell_type": "code",
     "collapsed": false,
     "input": [
      "names = pickle.load(pkl_file)"
     ],
     "language": "python",
     "metadata": {},
     "outputs": [],
     "prompt_number": 11
    },
    {
     "cell_type": "code",
     "collapsed": false,
     "input": [
      "pkl_file.close()"
     ],
     "language": "python",
     "metadata": {},
     "outputs": [],
     "prompt_number": 12
    },
    {
     "cell_type": "markdown",
     "metadata": {},
     "source": [
      "###Continuing with my analysis"
     ]
    },
    {
     "cell_type": "code",
     "collapsed": false,
     "input": [
      "namesSub = dict((k, names[k]) for k in names.keys()[2001:3000]) # taking subset of dict for testing purposes\n",
      "namesSub"
     ],
     "language": "python",
     "metadata": {},
     "outputs": [
      {
       "metadata": {},
       "output_type": "pyout",
       "prompt_number": 54,
       "text": [
        "{2566: ['Abdu Ismail Tong',\n",
        "  'Mohamed Hassan Mahmoud',\n",
        "  'Ahmed Suleiman Mohamed',\n",
        "  'Mohamed Adam Yahya',\n",
        "  'Yousif Yaow Mombai',\n",
        "  'Ahmed Yassin'],\n",
        " 2567: ['Mohamed Hamid Ahmed',\n",
        "  'Mohamed Ibrahim Abdallah',\n",
        "  'Abdullah Rabhi',\n",
        "  'Mohamed Issa Tiue',\n",
        "  'Sadul Adam Abdelrahman'],\n",
        " 2568: ['Salih Adam Belo', 'Islam Salih Adam Belo'],\n",
        " 2569: ['Idris Adam Alyas',\n",
        "  'Abd-al-Rahim Ali',\n",
        "  'Nasr-al-Din Ahmad Ali',\n",
        "  'Sulayman Jum',\n",
        "  'Paul John Kaw',\n",
        "  'Fathi Adam Mohammed Ahmad Dahab',\n",
        "  'Badawi Hasan Ibrahim'],\n",
        " 2571: ['Martin Anuel Agulik'],\n",
        " 2572: ['Abdul-Rasoul',\n",
        "  'Ali Hassan Tajeddin',\n",
        "  'Mohamed Othman al-Mirghani',\n",
        "  'Idris al-Banna',\n",
        "  'Pacifico Lado Lolik',\n",
        "  'Omar Nour',\n",
        "  'Hassan al-Turabi',\n",
        "  'Mohamed Ibrahim Nougoud',\n",
        "  'Khalid Farah'],\n",
        " 2573: ['George Yustus'],\n",
        " 2574: ['Dawina Mohamed Dawina', 'Siddik Mohamed Ahmed', 'Hani Shakour'],\n",
        " 2575: ['Haja Karshoum',\n",
        "  'Dafallah Tiya Jeilani',\n",
        "  'Mohamed Bakhit Daldum',\n",
        "  'Hakim Hamdeen',\n",
        "  'Kalthum Daldum',\n",
        "  'Ardeib Murfaieen',\n",
        "  'Suleiman Fargallah Marfaieen'],\n",
        " 2576: ['Sid Ahmad'],\n",
        " 2577: ['Ansar',\n",
        "  'Bakri Adil',\n",
        "  'Abdel Rasoul al-Nur',\n",
        "  'Ibrahim Ali',\n",
        "  'Al-Fadl Adam',\n",
        "  'al-Haj Abdelrahman Abdallah Nugdullah',\n",
        "  'Mustafa Abdel Gadir',\n",
        "  'Abdel Mahmud Haj Saleh',\n",
        "  'Mohamed al-Mahdi',\n",
        "  'Ali Mahmud Hassanein',\n",
        "  'Mohamed Satti',\n",
        "  'Mahdi Abderahman Ali',\n",
        "  'Mohamed Mahil',\n",
        "  'Nagib Nejm al-Din',\n",
        "  'Ali Omda Abdel Magid',\n",
        "  'Omer Mohamed Omer',\n",
        "  'Mohamed Ismail al-Azhari'],\n",
        " 2578: ['Yachoub Suleiman', 'Mahamat Ousmane Gong', 'Adoum Yaya Kot Kot'],\n",
        " 2579: ['Mudawi Ibrahim Adam'],\n",
        " 2580: ['Alrayah Ibrahim Eldaw',\n",
        "  'Dawalbeit Kabbur',\n",
        "  'Alfaris Ibrahim',\n",
        "  'Sayed Abu Bakr',\n",
        "  'Osman Ali Ismael'],\n",
        " 2581: ['Kabbashi Khater Mohammed Ahmad',\n",
        "  'Ahmad Salman',\n",
        "  'Tawer Osman Tawer',\n",
        "  'Abdel Jalil al-Basha',\n",
        "  'Yagoub Yahya'],\n",
        " 2583: ['Mohamed Wahaba',\n",
        "  'Salah Hassan Said',\n",
        "  'Mohamed Bashir',\n",
        "  'Omar Ali',\n",
        "  'Abdel Hamid Ali Bashir',\n",
        "  'Mohamed Bashir al-Faki',\n",
        "  'Abdul Rahman Abdulla Salin',\n",
        "  'Farouk Ali Zakaria',\n",
        "  \"Abdul Ra'ouf Ali Abu Na'ouf\"],\n",
        " 2584: ['Magdi Mohamedani'],\n",
        " 2585: ['Hassan Adam Ali'],\n",
        " 2586: ['Bushra Mahdi Bushra',\n",
        "  'Al-Fadl Hamad Diab',\n",
        "  'Abdel Latif Gimiabi',\n",
        "  'Yahya Ali Abdalla',\n",
        "  'Mohamed al-Sil',\n",
        "  'Baba Shaafi',\n",
        "  'Fadella Mohamed Hashim',\n",
        "  'Ismail Adam Ali'],\n",
        " 2587: ['Abakar Jalab',\n",
        "  'Ibrahim Gumai',\n",
        "  'Dafa Alla Mowloudi',\n",
        "  'Omer Salim',\n",
        "  'Salih Omer'],\n",
        " 2590: ['Janjawid'],\n",
        " 2591: ['Jalal al Tayeb',\n",
        "  'Farouk Kadoda',\n",
        "  'Ushari Ahmad Mahmoud',\n",
        "  'Taisir Mohamed Ahmed',\n",
        "  'Khalid',\n",
        "  'Mom Kou Nhial',\n",
        "  'Adlan al Hardallou'],\n",
        " 2592: ['George Yustus'],\n",
        " 2593: ['Abdel-Rahim Mohamed Salih'],\n",
        " 2594: ['Samuel Aru Bol'],\n",
        " 2595: ['Jimma Bileu Kul',\n",
        "  'David Koak Goak',\n",
        "  'Martin Nyang Kic',\n",
        "  'Lulut Kok Deng',\n",
        "  'Simon Tut Yat',\n",
        "  'Jimma Bileu Kung',\n",
        "  'John',\n",
        "  'Farouq Abdalla Gatkuoth',\n",
        "  'John Gilla Lul',\n",
        "  'Kueth Kang Deng',\n",
        "  'Lazarus Lai Puol',\n",
        "  'Peter Lai Nyibek',\n",
        "  'Pol Bec',\n",
        "  'Bakok Galuak Paguir',\n",
        "  'John Dak',\n",
        "  'Waragak Galuak Paguir',\n",
        "  'Peter Pal Poc Mar',\n",
        "  'Paul Kuting Gil',\n",
        "  'Cuang Deng',\n",
        "  'Jacob Duong Wuon',\n",
        "  'Farouq Abdalla Gatkouth',\n",
        "  'Gabriel Deng Wuol'],\n",
        " 2596: ['Al-Sudani al-Doulia'],\n",
        " 2597: ['Awad Al-Karim Mohamed Ahmed',\n",
        "  'Mohamed Mahjub Mohamed Ali',\n",
        "  'al-Haj Karoum',\n",
        "  'Mohamed Nourain',\n",
        "  'Hashim Tullub',\n",
        "  'Sid Ahmed al-Hussein',\n",
        "  'Taha Said Ahmed',\n",
        "  'Siddiq Youssif al-Nur',\n",
        "  'Abdel Aziz al-Rufai',\n",
        "  'Mahdi Abdelrahman Ali',\n",
        "  'Abdalla Malik',\n",
        "  'Mohamed Abdin Osman',\n",
        "  'Gaafar',\n",
        "  'Ali Simat',\n",
        "  'Kamil Abdel Rahman al-Sheik',\n",
        "  'Osman Sour Kati',\n",
        "  'Mohamed Adam',\n",
        "  'Ali Ahmed al-Said',\n",
        "  'Nasr Ali Nasr',\n",
        "  'Abdel Karim Karomal',\n",
        "  'Gamal Abdel Rahman',\n",
        "  'Yahya Mudalal'],\n",
        " 2598: ['Abbas Mohamed', 'Yousef Hussein', 'Abbas Mohamed al Tahir'],\n",
        " 2600: ['Musa Ibrahim Mohammed',\n",
        "  'Tariq Da?ud Juma',\n",
        "  'Ahmed Ishaq Omar',\n",
        "  'Ahmed Yusuf Burma'],\n",
        " 2601: ['Dawalbeit Kabbur',\n",
        "  'Ibrahim Eldaw',\n",
        "  'Alfaris Ibrahim',\n",
        "  'Sayed Abu Bakr',\n",
        "  'Osman Ali Ismael'],\n",
        " 2604: ['Abdel-Mahmoud al-Haj Saleh',\n",
        "  'Salah Abdel-Salam',\n",
        "  'Khalid Mohamed Ibrahim',\n",
        "  'Al-Fadel Adam Ismail',\n",
        "  'Yousif',\n",
        "  'Nour',\n",
        "  'Omar Nour',\n",
        "  'Bakiri Adil'],\n",
        " 2605: ['Mustafa'],\n",
        " 2606: ['Abdel-Mahmud Abbo',\n",
        "  'Abdel-Rahman Farah',\n",
        "  'Abdel-Rahman al-Sadiq al-Mahdi',\n",
        "  'Ibrahim el-Amin',\n",
        "  'Abdel-Mahmud Haj Salih',\n",
        "  'Sarah Nugdallah'],\n",
        " 2608: ['al-Tijani Mustapha',\n",
        "  'Mahjoub al-Zubeir',\n",
        "  'Adam Madibu',\n",
        "  'Salah Abdel Karim',\n",
        "  'Ali Khalifa',\n",
        "  \"Mohamed Dia'a al-Din\",\n",
        "  'Mohamed Babiker Mokhtar',\n",
        "  'Mansour Hassan',\n",
        "  'Mohamed Suleiman',\n",
        "  'al-Hadi Abdel Aziz',\n",
        "  'Nur al-Din Medani',\n",
        "  'al-Fadl Mahir',\n",
        "  'Abdel Jalil Karoma',\n",
        "  'Taha Sid Ahmad',\n",
        "  'Farouq Kadoda'],\n",
        " 2609: ['Suleimen al-Khedir',\n",
        "  'Hamad al-Tahir',\n",
        "  'Abdelrahman Abdullah Nugdullah',\n",
        "  'al-Haj Abdelrahman Abdullah Nugdullah',\n",
        "  'Baha al-Din Hassan Osman',\n",
        "  'Abdelmahmud Abbo',\n",
        "  'Mahmud Khalil',\n",
        "  'Radwan'],\n",
        " 2611: ['Abok Alfa Akok'],\n",
        " 2615: ['Izzat Mirghani Taha',\n",
        "  'Khalifa Khader Kemair',\n",
        "  \"Baha' Abul-Qasim\",\n",
        "  'Abdel-Rahim Faisel',\n",
        "  'Kamal Mahmud Gadien',\n",
        "  'Khajeli Saleh Khajeli',\n",
        "  'Ali Hassan Taha',\n",
        "  'Ali Jaaf',\n",
        "  'Mahassin',\n",
        "  'Kamal Badai',\n",
        "  'Kamal Osman Badai',\n",
        "  'Saad Karrar',\n",
        "  'Rabie',\n",
        "  'Hamaza',\n",
        "  \"Adil Samsa'ah\",\n",
        "  'Al-Sadiq Abdel-Magid',\n",
        "  'Bashir Badai',\n",
        "  'Zakia',\n",
        "  'Ala Mirghani Taha',\n",
        "  'Kamal Abu al-Gassim'],\n",
        " 2616: ['Samira Hassan Ali Karrar'],\n",
        " 2617: ['Lino Sebit', 'Hillary Boma'],\n",
        " 2618: ['Maha Hassan Ali',\n",
        "  'Abdelgadir Hafiz',\n",
        "  'Mohamed Abdel Seed',\n",
        "  'Abdelgadir'],\n",
        " 2620: ['Mohamed Wida Ala',\n",
        "  'Mohamed Mahjoub',\n",
        "  'Joseph Okailo',\n",
        "  'Abdel Hameed Ali',\n",
        "  'Ali al Said',\n",
        "  'Mohamed Suleiman Mohamed',\n",
        "  'Jimmy Wongo',\n",
        "  'Al Tijani Mustafa',\n",
        "  'Ghazi Suleiman',\n",
        "  'Osman Yusif Ibrahim',\n",
        "  'Siddig Yusif Ibrahim',\n",
        "  'Ali Mahmoud Hasanain',\n",
        "  'Ibrahim Haj Musa'],\n",
        " 2621: ['Mohamed Ibrahim Abdallah', 'Fadul Adam Abdelrahman'],\n",
        " 2624: ['Sadiq al-Shami',\n",
        "  'Ali Abdallah Abbas',\n",
        "  'Omar al-Amin',\n",
        "  'Gelal Edin al-Sayid',\n",
        "  'Mustafa Abdelkadir'],\n",
        " 2625: ['Ali al-Mahi'],\n",
        " 2626: ['Awad al-Sharif',\n",
        "  'Adnan Zahir Surur',\n",
        "  'Philip Akot Akok',\n",
        "  'Kamal al-Gizouli'],\n",
        " 2627: ['Mohamed Abdulsid', 'Sadiq al-Mahdi'],\n",
        " 2628: ['Kamal Abdelwahab Nureldayem'],\n",
        " 2629: ['Luke Subek',\n",
        "  'Louis Gore',\n",
        "  'Richard Roman',\n",
        "  'Venusto',\n",
        "  'Christopher Gore',\n",
        "  'Tobias Atede'],\n",
        " 2630: ['Samira Hassan Ali Karrar'],\n",
        " 2631: ['Hassan Ali',\n",
        "  'Maha Hassan Ali',\n",
        "  'Abdelgadir Hafiz',\n",
        "  'Mohamed Abdel Seed'],\n",
        " 2632: ['Tijani Mustafa',\n",
        "  'Mohamed Wida Ala',\n",
        "  'Mohamed Mahjoub',\n",
        "  'Joseph Okailo',\n",
        "  'Ibrahim Mahmoud Hasanain',\n",
        "  'Ali al Said',\n",
        "  'Jimmy Wongo',\n",
        "  'Ghazi Suleiman',\n",
        "  'Ibrahim Alha Musa',\n",
        "  'Suleiman Mustafa'],\n",
        " 2633: ['Nageeb Nagmeldin'],\n",
        " 2634: ['Toby Madut'],\n",
        " 2635: ['Intisar Bakri Abdulgader',\n",
        "  'Intisar Bakri Abdulkqader',\n",
        "  'Intisar Bakri Abdulqader'],\n",
        " 2636: ['Mukhtar Ali Ahmed', 'Zakaria', 'Abulgasim Ahmed Abulgasim'],\n",
        " 2638: ['Ushari Ahmed Mahmoud'],\n",
        " 2639: ['Hani Mohamed Hamad', 'Jalal Ahmed Bacre'],\n",
        " 2640: ['Izzat Mirghani Taha',\n",
        "  'Khalifa Khader Kemair',\n",
        "  \"Baha' Abul-Qasim\",\n",
        "  'Abdel-Rahim Faisel',\n",
        "  'Adil Sa',\n",
        "  'Kamal Mahmud Gadien',\n",
        "  'Khajeli Saleh Khajeli',\n",
        "  'Ali Hassan Taha',\n",
        "  'Ali Jaaf',\n",
        "  'Kamal Badai',\n",
        "  'Kamal Osman Badai',\n",
        "  'Saad Karrar',\n",
        "  'Hamuda',\n",
        "  'Hamaza',\n",
        "  \"Adil Samsa'ah\",\n",
        "  'Rabie',\n",
        "  'Bashir Badai',\n",
        "  'Ala Mirghani Taha',\n",
        "  'Kamal Abu al-Gassim'],\n",
        " 2641: ['Hussein Daffala',\n",
        "  'Abdel Moneim Ahmad al-Haj',\n",
        "  'Ishaq Ibrahim',\n",
        "  'Mohammed Dia',\n",
        "  'Osman Idris Abu Ras'],\n",
        " 2642: ['Maha Hassan Ali', 'Mohamed Abdel Seed', 'Abd Al-Gadir Hafiz'],\n",
        " 2643: ['Nageeb Nagmeldin'],\n",
        " 2645: ['Sadiq al-Mahdi',\n",
        "  'Abdul Rasoul al-Nour',\n",
        "  'Ali Hassan Tajeddin',\n",
        "  'Mohamed Othman al-Mirghani',\n",
        "  'Idris al-Banna',\n",
        "  'Pacifico Lado Lolik',\n",
        "  'Omar Nour',\n",
        "  'Hassan al-Turabi',\n",
        "  'Mohamed Ibrahim Nougoud',\n",
        "  'Khalid Farah'],\n",
        " 2646: ['Moses Macar', 'Richard Hassan Kalam Sakit'],\n",
        " 2647: ['Otto George Dangasuk'],\n",
        " 2648: ['Nasr Hassan Bashir Nasr',\n",
        "  'Mohamedein Suleiman Bakheit',\n",
        "  'Fadul Sultan Karkola',\n",
        "  'Zaki Hassan Bashir Nasr'],\n",
        " 2649: ['Kamal Abu',\n",
        "  'Izzat Mirghani Taha',\n",
        "  'Khalifa Khader Kemair',\n",
        "  'Hamuda',\n",
        "  'Kamal Abu al-Gassim'],\n",
        " 2650: ['Mahasin',\n",
        "  'Bashir El Tayid',\n",
        "  'Widad Hassan Ali Karrar',\n",
        "  'Souad Abdelrahim',\n",
        "  'Alia Hassan Ali Karrar',\n",
        "  'Samira Hassan Ali Karrar',\n",
        "  'Awadis Mirgani'],\n",
        " 2651: ['Widaat Hassan Ali Karrar', 'Samira Hassan Ali Karrar'],\n",
        " 2652: ['Maha Hassan Ali', 'Abd Al-Gadir Hafiz', 'Mohamed Abd Al-Seed'],\n",
        " 2655: ['Sara Abdullahi Nagdullah',\n",
        "  'Rashida Ibrahim Abdul-Karim',\n",
        "  'Sara al-Fadil Mahmoud'],\n",
        " 2656: ['Otto George Dangasuk'],\n",
        " 2657: ['Mohamed Abdulsid'],\n",
        " 2658: ['Mahasin',\n",
        "  'Bashir El Tayid',\n",
        "  'Widad Hassan Ali Karrar',\n",
        "  'Souad Abdelrahim',\n",
        "  'Kamal Abualgasim',\n",
        "  'Alia Hassan Ali Karrar',\n",
        "  'Samira Hassan Ali Karrar',\n",
        "  'Awadis Mirgani'],\n",
        " 2660: ['Ezekiel Kodi', 'Kwai Malak', 'Joshua Dau Diu', 'Abel Alier'],\n",
        " 2661: ['Sidieg Ibrahim abd al-Khier',\n",
        "  'Ali abd al-Rahman Idris',\n",
        "  'Fadul Adam abd al-Rahman',\n",
        "  'Abudoma',\n",
        "  'Mohamed Ibrahim abd Allah',\n",
        "  'Rabih Fadul',\n",
        "  'Adam abd al-Rahman Hussain',\n",
        "  'Mohamed Issa Tiato',\n",
        "  'Mohamed Hamed Ahmed',\n",
        "  'Siddieg Suliman Abakar',\n",
        "  'Mohamed Abakar Shigaifat'],\n",
        " 2662: ['Hassan Ahmed Hassan Basheer', 'Osman Idris Abo Rass'],\n",
        " 2663: ['El Amin Mohamed Osman',\n",
        "  'Ismail Mustafa',\n",
        "  'Salah Asmali',\n",
        "  'Halima Abdul Daym',\n",
        "  'Mubarak',\n",
        "  'Issa Buhra',\n",
        "  'Abdul Aziz',\n",
        "  'Fadl El Mula',\n",
        "  'Aldawa Al Islamiya',\n",
        "  'Mohamed Mumin'],\n",
        " 2664: ['Amouna Abdallah Daldoum', 'Sadia Idriss Fadul'],\n",
        " 2666: ['Sidig Yahya Mohamed',\n",
        "  'Hussein Abd al-Gadir Shaabah',\n",
        "  'Saied Ahmad Abderahim',\n",
        "  'Kamal al-Jazouli',\n",
        "  'Mohamed Abdalla Saleh',\n",
        "  'Ali Khider Mohamed al-Amin',\n",
        "  'Yahya Ali Abdalla',\n",
        "  'Kamal Hassan Mabrouk',\n",
        "  'Nagib Nagm Eddine',\n",
        "  'Omar Ahmad al-Amin',\n",
        "  'Ali Said Ali',\n",
        "  'Tarek Hussein Asheik'],\n",
        " 2667: ['Tayseer Mohammed Ahmed Ali',\n",
        "  'Sadiq al-Mahdi',\n",
        "  'Ahmed al-Mahdi',\n",
        "  'Mohammed Abdel-Rahim',\n",
        "  'Habib Sarnoub al-Daw',\n",
        "  'Sadiq Ibrahim',\n",
        "  'Ibrahim al-Amin',\n",
        "  'Siddiq Mohammed',\n",
        "  'Hamid Mohammed Hamid',\n",
        "  'Mohammed Yussuf Hassan',\n",
        "  'Fadlalla Burma Nasir',\n",
        "  'Ibrahim Ali Abdelgadir Fageer'],\n",
        " 2668: ['Kamal Abu', 'Izzat Mirghani Taha', 'Khalifa Khader Kemair'],\n",
        " 2669: ['Yahya Saleh Mukwar',\n",
        "  'Awad al-Karim Mohamed Ahmed',\n",
        "  'Mahjoub al-Zubeir',\n",
        "  'Nasur Ali Nasur',\n",
        "  'Minallah Abdelwahab Eissa',\n",
        "  'Yahya Ali Abdallah'],\n",
        " 2670: ['Widaat Hassan Ali Karrar', 'Samira Hassan Ali Karrar'],\n",
        " 2671: ['Adam Abdel Hamid Adam', 'Adam Abdel Hamid Adam Sudan'],\n",
        " 2672: ['Saleh Mahmud Osman'],\n",
        " 2674: ['Ali Hussain Mohamed Omer', 'Haroun Mohamed Ali', 'Mohammed Omer'],\n",
        " 2675: ['Amin Mekki Medani'],\n",
        " 2676: ['Ahmed Khalid',\n",
        "  'Mohamed Hamadto',\n",
        "  'Hamid el-Tayeb',\n",
        "  'Adil Mohamed el-Haj',\n",
        "  'Tijani Ali Salih',\n",
        "  'Shaa el-Din Awad El-Karim',\n",
        "  'Ali Tijani Ali',\n",
        "  'Mustafa el-Tinai',\n",
        "  'Abdel Karim Kafi',\n",
        "  'Abdalla Mohamed el-Amin',\n",
        "  'Yahia Gamal',\n",
        "  'Sayid Hamouda',\n",
        "  'Fadil Salih Humaida',\n",
        "  'Khalid Fadl el-Seed',\n",
        "  'Abdel Latif',\n",
        "  'Omer Mohamed Omer',\n",
        "  'Mohamed Osman Abdalla Halifi',\n",
        "  'Mohamed Ahmed el-Rayah',\n",
        "  'Abdel Rahman Abdalla Nugudalla'],\n",
        " 2677: ['Majda',\n",
        "  'Afifa Hassan Ali Karrar',\n",
        "  'Manal',\n",
        "  'Nadia Hassan Ali Karrar',\n",
        "  'Saria Abdelmoneim Karrar',\n",
        "  'Haram Ahmad Ali Karrar',\n",
        "  'Hana al-Sadiq Abdullah al-Fadl al-Mahdi',\n",
        "  'Majda Mustafa Awad Khojali',\n",
        "  'Manal Mustafa Awad Khojali',\n",
        "  'Layla Hassan Ali Karrar'],\n",
        " 2678: ['Tayseer Mohammed Ahmed Ali',\n",
        "  'El-Sadiq Ibrahim',\n",
        "  'Hamid Mohammed Hadid',\n",
        "  'Ahmed al-Mahdi',\n",
        "  'Mohammed Abdel-Rahim',\n",
        "  'Habib Sarnoub al-Daw',\n",
        "  'Ibrahim al-Amin',\n",
        "  'Siddiq Mohammed',\n",
        "  'Mohammed Yussuf Hassan',\n",
        "  'Fadlalla Burma Nasir',\n",
        "  'Ibrahim Ali Abdelgadir Fageer'],\n",
        " 2679: ['Mahjoub Mohamed al-Hassan Erwa', 'Mutwakil Daff', 'Ahmad Ali Bagadi'],\n",
        " 2680: ['Kamil Abdel Rahman',\n",
        "  'Taha Souraj',\n",
        "  'al-Haj Osman',\n",
        "  'Mohamed Mahjoub',\n",
        "  'Abdallah Malik',\n",
        "  'Taha Mohamed Taha',\n",
        "  'Omar Abdallah Jadallah',\n",
        "  'Kamal Abdel Karim Mirghani',\n",
        "  'Abdel Karim Karouma',\n",
        "  'Mohamed Suleiman',\n",
        "  'Ali Issailat',\n",
        "  'Dhali Rahmtalla',\n",
        "  'Abdallah Abdel Aziz',\n",
        "  'Mohamed'],\n",
        " 2681: ['Mohamed Taj al-Sir',\n",
        "  'Ali Mohamed Osman al-Simat',\n",
        "  'Tariq Abdel Hamid',\n",
        "  'Atif Hassan',\n",
        "  'Omar Mohamed Ali',\n",
        "  'Imad al-Amin',\n",
        "  'Mohamed Farouq',\n",
        "  'Isam al-Shubagi',\n",
        "  'Yasir Abdel Hamid',\n",
        "  'Usama Siddig Yousif',\n",
        "  'Usama Said',\n",
        "  'Mamoun Karrar'],\n",
        " 2682: ['Faisal', 'Bagir Mohamed'],\n",
        " 2683: ['Abdu Ismail Tong',\n",
        "  'Mohamed Hassan Mahmoud',\n",
        "  'Ahmed Juma Mohamed',\n",
        "  'Ahmed Suleiman Mohamed',\n",
        "  'Mohamed Adam Yahya',\n",
        "  'Adam Abdullah Mohamed',\n",
        "  'Ahmed Yassin Mohamed Abakar Haroun',\n",
        "  'Yousif Yaow Mombai',\n",
        "  'Habib Ali Abd al-Gadir',\n",
        "  'Mohamed Abakar Haroun',\n",
        "  'Khaleel Tahir Bashir'],\n",
        " 2684: ['Edward Terso', 'Edward Terso Lado'],\n",
        " 2685: ['Al-Tayeb Ali Ahmad'],\n",
        " 2686: ['Amin Mekki Medani'],\n",
        " 2687: ['Martin Odeki',\n",
        "  'Mauro Omodok',\n",
        "  'Francis Oliha',\n",
        "  'Mario Choho',\n",
        "  'Franco Maya',\n",
        "  'Adelio Ikwada'],\n",
        " 2688: ['Ali Tijani Ali',\n",
        "  'Khalid Fadl el-Seed',\n",
        "  'Mohamed Osman Abdalla Halifi',\n",
        "  'Mohamed Ahmed el-Rayah',\n",
        "  'Yahya Gamal',\n",
        "  'Salih Humaida',\n",
        "  'Adil Mohamed el-Haj',\n",
        "  'Mutassim el-Goreishi',\n",
        "  'Faisal Kaballo',\n",
        "  'Mirghani Babiker Ali',\n",
        "  'Abdel Rahman Abdalla Nugudalla',\n",
        "  'Abdel Latif',\n",
        "  'Mohamed Hamadto',\n",
        "  'Hamid el-Tayeb',\n",
        "  'Shaa el-Din Awad',\n",
        "  'Abdel Karim Kafi',\n",
        "  'Sayid Hamouda',\n",
        "  'Mustafa el-Tinai',\n",
        "  'Gimaibi',\n",
        "  'Abdallah',\n",
        "  'Ahmed Khalid',\n",
        "  'Mustafa',\n",
        "  'Tijani Ali Salih',\n",
        "  'Abdalla Mohamed El-Amin',\n",
        "  'Omer Mohamed Omer'],\n",
        " 2689: ['Majda',\n",
        "  'Afifa Hassan Ali Karrar',\n",
        "  'Fathia',\n",
        "  'Fatima',\n",
        "  'Saria Abdelmoneim Karrar',\n",
        "  'Assia',\n",
        "  'Manal Mohammed Mahgoub',\n",
        "  'Awatif Mirghani Taha',\n",
        "  'Samira Hassan Ali Karrar',\n",
        "  'Hayat',\n",
        "  'Zakia',\n",
        "  'Haram Ahmad Ali Karrar',\n",
        "  'Salwa',\n",
        "  'Samira',\n",
        "  'Hana al-Sadiq Abdullah',\n",
        "  'Mhassin Abulgassim',\n",
        "  'Mona Abulgassim',\n",
        "  'Manal',\n",
        "  'Nadia Hassan Ali Karrar',\n",
        "  'Hana al-Sadiq Abdullah al-Fadl al-Mahdi',\n",
        "  'Manal Mustafa Awad Khojali',\n",
        "  'Mohamed Abdulaziz',\n",
        "  'Majda Mustafa Awad Khojali',\n",
        "  'Layla Hassan Ali Karrar',\n",
        "  'Awadia Abulgassim'],\n",
        " 2690: ['El-Sadiq Ibrahim',\n",
        "  'Ahmed al-Mahdi',\n",
        "  'Mohammed Abdel-Rahim',\n",
        "  'Habib Sarnoub al-Daw',\n",
        "  'Sadiq al-Mahdi',\n",
        "  'Ibrahim al-Amin',\n",
        "  'Siddiq Mohammed',\n",
        "  'Hamid Mohammed Hamid',\n",
        "  'Mohammed Yussuf Hassan',\n",
        "  'Fadlalla Burma Nasir',\n",
        "  'Ibrahim Ali Abdelgadir Fageer'],\n",
        " 2691: ['Abdel Rasoul al-Nur', 'Abdel Rasoul', 'Sara Nugdallah'],\n",
        " 2692: ['Gordon Micah', 'Gordon Micah Kur'],\n",
        " 2693: ['Ahmad Abdallahi',\n",
        "  'Galal Hamid',\n",
        "  'Wad Medani',\n",
        "  'Osman Abdelgader',\n",
        "  'Ali Arbab',\n",
        "  'Abdeen Miheisi',\n",
        "  'Mohamed Abdelghafar',\n",
        "  'Mubarak Mohamed al-Hassan'],\n",
        " 2694: ['Faisal', 'Bagir Mohamed'],\n",
        " 2696: ['Hussein Ibrahim Gindeel'],\n",
        " 2697: ['Abdallah Mahmud', 'Abdallah Hamed Ismail', 'Mohamed Hamad Adam Muta'],\n",
        " 2698: ['Saleh Suleiman Adam'],\n",
        " 2699: ['Mukhtar Ali Ahmed',\n",
        "  'Zakaria Ahmed Abulgasim',\n",
        "  'Abulgasim Ahmed Abulgasim'],\n",
        " 2701: ['Sara Abdullahi Nagdullah',\n",
        "  'Rashida Ibrahim Abdul-Karim',\n",
        "  'Sara al-Fadil Mahmoud'],\n",
        " 2702: ['Monytuoc Biong'],\n",
        " 2703: ['Constantino Pitia', 'Nicholas Abdallah'],\n",
        " 2704: ['Haidar al-Tigani',\n",
        "  'Mubarek Mohamed Abdalla Gadeen',\n",
        "  'Mohamed Abdel',\n",
        "  'Gaafar Yassin Ahmad',\n",
        "  'al-Hassan Ahmad Salih Mohamed',\n",
        "  'Yasir Abu Zeid Ahmad',\n",
        "  'Mustafa Ahmad al-Tai',\n",
        "  'Osman Mohamed Ali Gumma',\n",
        "  'Mohamed Hassan Osman al-Zubeir',\n",
        "  'Mohamed',\n",
        "  'Tahir Fadul'],\n",
        " 2705: ['Mahjoub Mohamed al-Hassan Erwa',\n",
        "  'Mutwakil Daff',\n",
        "  'Ahmad Ali Bagadi',\n",
        "  'Mutwakil Abdel Daff'],\n",
        " 2706: ['Mahasin',\n",
        "  'Bashir El Tayid',\n",
        "  'Widad Hassan Ali Karrar',\n",
        "  'Souad Abdelrahim',\n",
        "  'Kamal Abualgasim',\n",
        "  'Alia Hassan Ali Karrar',\n",
        "  'Samira Hassan Ali Karrar',\n",
        "  'Awadi',\n",
        "  'Awadis Mirgani'],\n",
        " 2707: ['Kamil Abdel Rahman',\n",
        "  'Taha Souraj',\n",
        "  'al-Haj Osman',\n",
        "  'Mohamed Mahjoub',\n",
        "  'Abdallah Malik',\n",
        "  'Taha Mohamed Taha',\n",
        "  'Omar Abdallah Jadallah',\n",
        "  'Kamal Abdel Karim Mirghani',\n",
        "  'Abdel Karim Karouma',\n",
        "  'Mohamed Suleiman',\n",
        "  'Ali Issailat',\n",
        "  'Dhali Rahmtalla',\n",
        "  'Abdallah Abdel Aziz',\n",
        "  'Mohamed'],\n",
        " 2708: ['Sileck Sagga', 'Ahmada\\xc3\\xaf Sabre', 'Ahmada', 'Souleymane Garfa'],\n",
        " 2710: ['Hussein Ibrahim Gindeel'],\n",
        " 2711: ['Al-Tayeb Ali Ahmad'],\n",
        " 2712: ['Hassan Sidiq Atolabi',\n",
        "  'Haitham Aldusogi',\n",
        "  'Ahmed Abdel Fatah Gabriel',\n",
        "  'Abdel Rahman Zaidan',\n",
        "  'Osman Al Magdum',\n",
        "  'Abdel Aatti Abdel Khair'],\n",
        " 2713: ['Sadiq al-Mahdi'],\n",
        " 2714: ['Sadiq al-Mahdi'],\n",
        " 2715: ['Adam Mohamed Adam', 'Hussein Abdul Karim'],\n",
        " 2716: ['Majda',\n",
        "  'Afifa Hassan Ali Karrar',\n",
        "  'Fathia',\n",
        "  'Fatima',\n",
        "  'Saria Abdelmoneim Karrar',\n",
        "  'Assia',\n",
        "  'Manal Mohammed Mahgoub',\n",
        "  'Awatif Mirghani Taha',\n",
        "  'Muna',\n",
        "  'Samira Hassan Ali Karrar',\n",
        "  'Hayat',\n",
        "  'Zakia',\n",
        "  'Haram Ahmad Ali Karrar',\n",
        "  'Layla Hassan Ali Karrar',\n",
        "  'Samira',\n",
        "  'Mhassin Abulgassim',\n",
        "  'Mona Abulgassim',\n",
        "  'Salwa',\n",
        "  'Manal',\n",
        "  'Nadia Hassan Ali Karrar',\n",
        "  'Hana al-Sadiq Abdullah al-Fadl al-Mahdi',\n",
        "  'Manal Mustafa Awad Khojali',\n",
        "  'Mohamed Abdulaziz',\n",
        "  'Muna Mustafa Awad Khojali',\n",
        "  'Majda Mustafa Awad Khojali',\n",
        "  'Awadia Abulgassim'],\n",
        " 2717: ['Ansar',\n",
        "  'al-Hadi Adam',\n",
        "  'Ibrahim al-Amin',\n",
        "  'Hamid Mohammed Hamid',\n",
        "  'Mohammed Yussuf Hassan',\n",
        "  'Sadiq al-Mahdi',\n",
        "  'Abdel Rahman Yunis',\n",
        "  'al-Fadl Omar',\n",
        "  'Habib Sarnoub al-Daw',\n",
        "  'Ibrahim',\n",
        "  'Mohammed Abdel-Rahim',\n",
        "  'Siddiq Mohammed',\n",
        "  'Mohammed al-Mahdi',\n",
        "  'Musa Abdalla al-Bashir',\n",
        "  'Fadlalla Burma Nasir',\n",
        "  'Abdul Rasoul al-Nur Ismael',\n",
        "  'Abdel Mahmud Abbo',\n",
        "  'Mirghani Abdel Rahman Suleiman',\n",
        "  'Abdullah Ishaq',\n",
        "  'Mustafa',\n",
        "  'Al-Sadiq Ibrahim',\n",
        "  'Mohamed al-Mahdi',\n",
        "  'Abd al-Latif',\n",
        "  'Ibrahim Ali Abdelgadir Fageer'],\n",
        " 2718: ['Sid Ahmad al-Hussein', 'Sid Ahmad'],\n",
        " 2719: ['Ansar', 'Sadiq', 'Sadiq al-Mahdi'],\n",
        " 2720: ['Ahmad Abdallahi',\n",
        "  'Galal Hamid',\n",
        "  'Wad Medani',\n",
        "  'Osman Abdelgader',\n",
        "  'Al-Kheir Ali Arbab',\n",
        "  'Ali Arbab',\n",
        "  'Adam Abdel Kabir',\n",
        "  'Mubarak Mohamed al-Hassan',\n",
        "  'Mohamed Abdelghafar',\n",
        "  'Abdeen Miheisi'],\n",
        " 2721: ['Salah Mohamed Abdelrahman'],\n",
        " 2722: ['Khalil Abdel Rahman', 'Siddid Abdel Rahman'],\n",
        " 2723: ['Mahasin Abaker Fadul'],\n",
        " 2726: ['Abderrahmane Farah',\n",
        "  'Fawzi Ahmed Al-Fadel',\n",
        "  'Mahdi Babu Nimir',\n",
        "  'Abderrassul al-Nur',\n",
        "  'Bakir Adel',\n",
        "  'Abderrahmane Sadiq Al-Mahdi',\n",
        "  'Fadlalla Burma Nassir'],\n",
        " 2727: ['Haroun Abdel-Karim'],\n",
        " 2728: ['Majda',\n",
        "  'Afifa Hassan Ali Karrar',\n",
        "  'Fathia',\n",
        "  'Fatima',\n",
        "  'Saria Abdelmoneim Karrar',\n",
        "  'Assia',\n",
        "  'Manal Mohammed Mahgoub',\n",
        "  'Awatif Mirghani Taha',\n",
        "  'Muna',\n",
        "  'Samira Hassan Ali Karrar',\n",
        "  'Afaf Mirghani Taha Further',\n",
        "  'Hayat',\n",
        "  'Zakia',\n",
        "  'Haram Ahmad Ali Karrar',\n",
        "  'Layla Hassan Ali Karrar',\n",
        "  'Samira',\n",
        "  'Mhassin Abulgassim',\n",
        "  'Mona Abulgassim',\n",
        "  'Salwa',\n",
        "  'Manal',\n",
        "  'Nadia Hassan Ali Karrar',\n",
        "  'Hana al-Sadiq Abdullah al-Fadl al-Mahdi',\n",
        "  'Manal Mustafa Awad Khojali',\n",
        "  'Mohamed Abdulaziz',\n",
        "  'Muna Mustafa Awad Khojali',\n",
        "  'Majda Mustafa Awad Khojali',\n",
        "  'Awadia Abulgassim'],\n",
        " 2729: ['Gaafar Yasin Ahmad'],\n",
        " 2731: ['Ansar', 'Sara Nugdallah'],\n",
        " 2732: ['Nagib Nejm al-Din', 'Moneim Attia'],\n",
        " 2733: ['Abdel Basit Abbas Hussein',\n",
        "  'Mudawi Ibrahim Adam',\n",
        "  'Abdel Rahman al-Amin',\n",
        "  'Kamal Abdel Rahman'],\n",
        " 2734: ['Mohammed al Hassan', 'Mohammed', 'Adil Mahmoud'],\n",
        " 2735: ['Toby Madut'],\n",
        " 2736: ['Aderob Bakkash', 'Khalifa Omar Ohajj'],\n",
        " 2737: ['Adam Mohamed Shareif', 'Mossaad Mohamed Ali'],\n",
        " 2738: ['Adnan Zahir Surur', 'Amar Abdel Khalig', 'Anwar Abbas'],\n",
        " 2739: ['Mirghani Abd al-Rahman Suleiman',\n",
        "  'Farouq Ahmad Adam',\n",
        "  'Abdel Rahman Idris',\n",
        "  'Said Haroun',\n",
        "  'Musa al-Hussein',\n",
        "  'al-Haj Mudawi'],\n",
        " 2740: ['Ansar',\n",
        "  'al-Hadi Adam',\n",
        "  'al-Tigani Ahmad',\n",
        "  'Mohammed Abdel-Rahim',\n",
        "  'Mohammed Yussuf Hassan',\n",
        "  'Nasr al-Din',\n",
        "  'al-Fadl Omar',\n",
        "  'Hussein Ahmad Fadl',\n",
        "  'Ibrahim',\n",
        "  'Ibrahim al-Amin',\n",
        "  'Hamad al-Nil Doulieb',\n",
        "  'Mohammed al-Mahdi',\n",
        "  'Musa Abdalla al-Bashir',\n",
        "  'Abdel Rahman Yunis',\n",
        "  'Osman Idris Habani',\n",
        "  'Yahia Mukwar',\n",
        "  'Abdel Mahmud Abbo',\n",
        "  'Abdel Rahman',\n",
        "  'Abdel Nabi Ali Ahmad',\n",
        "  'Hussein',\n",
        "  'Abdullah Ishaq',\n",
        "  'Mustafa',\n",
        "  'Abdel-Rahim',\n",
        "  'Abdel Bagi Taj al-Din',\n",
        "  'Berier Mohamed al-Tom',\n",
        "  'Mahmud Abasher',\n",
        "  'Abd al-Latif',\n",
        "  'Ibrahim Ali Abdelgadir Fageer'],\n",
        " 2741: ['Kamal Abdelwahab Nureldayem'],\n",
        " 2742: ['Galal Ismail',\n",
        "  'Mahjoub al-Zubeir',\n",
        "  'Abdul Rahman al-Amin',\n",
        "  'Ali al-Khattib',\n",
        "  \"Haj Musa 'Abd al-Rahim\",\n",
        "  'Hassan Hussein',\n",
        "  'Abdallah Musa',\n",
        "  'Faqiri Abdallah',\n",
        "  'Sulieman Khalaf Allah',\n",
        "  'Imad Ali Dahab',\n",
        "  'Mahir Mekki',\n",
        "  'Moatissim Siam',\n",
        "  'Abdul Azim Abdullah',\n",
        "  'Said Ashakir',\n",
        "  'Khalil Osman Khalil'],\n",
        " 2744: ['Edward Terso Lado'],\n",
        " 2745: ['Adam Mohamed Sharief', 'Mossaad Mohamed Ali'],\n",
        " 2746: ['Alfred Taban'],\n",
        " 2747: ['Baher Abdul Hamed',\n",
        "  'Juma Imam',\n",
        "  'Ismail Yacoub',\n",
        "  'Ali Mohamed Beshir'],\n",
        " 2748: ['Afifa Hassan Ali Karrar',\n",
        "  'Awatif Mirghani Taha',\n",
        "  'Nadia Hassan Ali Karrar',\n",
        "  'Muna Mustafa Awad Khojali',\n",
        "  'Haram Ahmad Ali Karrar',\n",
        "  'Hana al-Sadiq Abdullah al-Fadl al-Mahdi',\n",
        "  'Majda Mustafa Awad Khojali',\n",
        "  'Manal Mustafa Awad Khojali',\n",
        "  'Afaf Mirghani Taha',\n",
        "  'Layla Hassan Ali Karrar'],\n",
        " 2749: ['al-Fadl Omar',\n",
        "  'Abdel Mahmud Abbo',\n",
        "  'Rahim',\n",
        "  'Abdullah Ishaq',\n",
        "  'Mustafa',\n",
        "  'Mohammed Abdel',\n",
        "  'al-Hadi Adam',\n",
        "  'Abdel Rahman Yunis',\n",
        "  'Ibrahim',\n",
        "  'Ibrahim al-Amin',\n",
        "  'Abdul Rasoul al-Nur Ismael',\n",
        "  'Mohammed al-Mahdi',\n",
        "  'Mohammed Yussuf Hassan',\n",
        "  'Musa Abdalla al-Bashir',\n",
        "  'Fadlalla Burma Nasir',\n",
        "  'Ibrahim Ali Abdelgadir Fageer',\n",
        "  'Mirghani Abdel Rahman Suleiman Sudan',\n",
        "  'Abd al-Latif'],\n",
        " 2750: ['Kamal Tadros', 'Magdi Chelata', 'Ashraf Adli', \"Baha' Zaki\"],\n",
        " 2751: ['Tebira Idris Habani',\n",
        "  'Ansar',\n",
        "  'Sheik Abdallah Ishaq',\n",
        "  'Ahmad Musa',\n",
        "  'Ali Hassan Taj al-Din',\n",
        "  'Fadlalla Burma Nasir',\n",
        "  'Hussein Adam Salama',\n",
        "  'Abu Bakr Abdel Magid al-Amir',\n",
        "  'Tirab Tendal',\n",
        "  'Abdel Mahmud Abu',\n",
        "  'Abdel Nabi Ali Ahmad',\n",
        "  'Ali al-Omda Abdel Magid'],\n",
        " 2752: ['Ahmat Abdoulaye', 'Mahamat Ousmane', 'Faki Adam', 'Ismael'],\n",
        " 2753: ['Hadi',\n",
        "  'Sara Nugdullah',\n",
        "  'Rana Mohamed Ahmad',\n",
        "  'Asma al-Sayid Ali',\n",
        "  'Seham Adam',\n",
        "  'Sara Hamid',\n",
        "  'Eyman Abdelrahim',\n",
        "  'Lillian Mohamed Salih Hussein',\n",
        "  'Amani Ahmad Osman',\n",
        "  'Zeinab Ali al-Omda Abdelmajid',\n",
        "  'Sara Gassim',\n",
        "  'Widad Mohamed',\n",
        "  'Entessar Siddig',\n",
        "  'Samia Ahmad Osman',\n",
        "  'Zahra Mohamed Ahmad Fadil',\n",
        "  'Huda Ahmad Abdalla',\n",
        "  'Eyman Mohamed al-Hussein',\n",
        "  'Amal Osman',\n",
        "  'Fatima Kamal Mohamed Kheir',\n",
        "  'Sakhena Abdallah Kambal',\n",
        "  'Kossar Hassan Mohamed',\n",
        "  'Ibtehaj Ibrahim',\n",
        "  'Salwa Said',\n",
        "  'Najala Saad Ahmad',\n",
        "  'Samira Osman Hamid',\n",
        "  'Samira Talib Ismail',\n",
        "  'Hayat Mahmud',\n",
        "  'Setena Mohamed Salih',\n",
        "  'Omyma Ahmad Mustafa',\n",
        "  'Omar Suraldahab',\n",
        "  'Neimat Ahmad Malik'],\n",
        " 2754: ['Hassan Ali',\n",
        "  'Mohamed Siddig',\n",
        "  'Sami Yousef Ismail',\n",
        "  'Ammar Najm al-Din',\n",
        "  'Omar al-Amin',\n",
        "  'Mohamed al-Mustafa Hashem',\n",
        "  'Taher Bashiri'],\n",
        " 2755: ['Mohammad Issa',\n",
        "  'Adam Mohammad Osman',\n",
        "  'Idris Mohamed Ali',\n",
        "  'Adam al-Zubayr Issa',\n",
        "  'Bushara Bushra Abdel Rahman',\n",
        "  'Mohammad Abu Bakr Idris'],\n",
        " 2756: ['Ali Hussain Mohamed Omer', 'Haroun Mohamed Ali', 'Mohammed Omer'],\n",
        " 2757: ['Abdul Rasoul',\n",
        "  'Sadiq al-Mahdi',\n",
        "  'Ali Hassan Tajeddin',\n",
        "  'Mohamed Othman al-Mirghani',\n",
        "  'Idris al-Banna',\n",
        "  'Pacifico Lado Lolik',\n",
        "  'Omar Nour',\n",
        "  'Hassan al-Turabi',\n",
        "  'Mohamed Ibrahim Nougoud'],\n",
        " 2758: ['Nahad Ismael',\n",
        "  'Othman Balul',\n",
        "  'Ismat Mirghani',\n",
        "  'Bashir Mustafa',\n",
        "  'Kadro',\n",
        "  'Abdelgader Hussein'],\n",
        " 2759: ['Zein al-Abdin al-Tayib Osman', 'Muawia Jaffar'],\n",
        " 2760: ['Hassan Osman',\n",
        "  'Abdallah Barakat',\n",
        "  'Mohamad al-Gadi',\n",
        "  'Mustapha Zaki Mustapha'],\n",
        " 2761: ['Haidar',\n",
        "  'Abd al-Rahman Suleiman',\n",
        "  'Mubarek Mohamed Abdalla Gadeen',\n",
        "  'Mohamed Abdel',\n",
        "  'Gaafar Yassin Ahmad',\n",
        "  'Osman Mo',\n",
        "  'Mirghani',\n",
        "  'al-Hassan Ahmad Salih Mohamed',\n",
        "  'Osman Mustapha Mahjoub',\n",
        "  'Tigani',\n",
        "  'Yasir Abu Zeid Ahmad',\n",
        "  'Abdel Rasoul al-Nur Ismael',\n",
        "  'Camillo Odongi Loyuk',\n",
        "  'Fadlalla Burma Nasir',\n",
        "  'Mustafa Ahmad al-Tai',\n",
        "  'Osman Mohamed Ali Gumma',\n",
        "  'Mohamed Hassan Osman al-Zubeir',\n",
        "  'al-Tahir Fadul',\n",
        "  'Mohamed'],\n",
        " 2763: ['Jalal Mohamed',\n",
        "  'Abbas Mohamed al Tahir',\n",
        "  'Adil Mahmoud',\n",
        "  'Bakri Gibreil',\n",
        "  'Mohammed al Hassan',\n",
        "  'Hassan Ibrahim',\n",
        "  'Haydar Abdelrahman',\n",
        "  'Yousef Hussein',\n",
        "  'Mohammed',\n",
        "  'Omar Sidahmed',\n",
        "  'Nasr Aldeen Yousef',\n",
        "  'Adil Mohamed',\n",
        "  'Mohamed al Hassan Ibrahim'],\n",
        " 2764: ['Tahir Bashiri', 'Sami Yousef Ismail', 'Ammar Najm al-Din'],\n",
        " 2765: ['Mudawi Ibrahim Adam'],\n",
        " 2766: ['Sadiq al-Shami',\n",
        "  'Gelal Edin al-Sayid',\n",
        "  'Kamal al-Jazouli',\n",
        "  'Mustafa Abdelkadir',\n",
        "  'Ali Abdallah Abbas',\n",
        "  'Hassan Hussein Mohamed',\n",
        "  'Saleh Mahmoud Mohammed Osman',\n",
        "  'Omar al-Amin'],\n",
        " 2767: ['Ali Bashir Mariud', 'Arkango Agadad'],\n",
        " 2768: ['Nasr Hassan Bashir Nasr',\n",
        "  'Mohamedein Suleiman Bakheit',\n",
        "  'Fadul Sultan Karkola',\n",
        "  'Zaki Hassan Bashir Nasr'],\n",
        " 2769: ['Haidar al-Tigani',\n",
        "  'Mubarek Mohamed Abdalla Gadeen',\n",
        "  'Mohamed Abdel',\n",
        "  'Gaafar Yassin Ahmad',\n",
        "  'al-Hassan Ahmad Salih Mohamed',\n",
        "  'Yasir Abu Zeid Ahmad',\n",
        "  'Mustafa Ahmad al-Tai',\n",
        "  'Osman Mohamed Ali Gumma',\n",
        "  'Mohamed Hassan Osman al-Zubeir',\n",
        "  'al-Tahir Fadul',\n",
        "  'Mohamed'],\n",
        " 2770: ['Salah', 'Bushra Abdel-Karim', 'Mahjoub Sherif'],\n",
        " 2771: ['Hashim Mohamed Zeyada'],\n",
        " 2772: ['Yousef Hussein', 'Abbas Mohamed al Tahir'],\n",
        " 2773: ['Gadim Hamdoum Hamid', 'Kabashi Alayan'],\n",
        " 2774: ['Madina', 'Alakor Lual Deng', 'Lual Deng'],\n",
        " 2775: ['Halima Adam Ibrahim',\n",
        "  'Yagoub Ismail Mohamed',\n",
        "  'Mohamed Osman Mohamed',\n",
        "  'Ibrahim Siddiq Ali',\n",
        "  'Habib Adam Yagoub',\n",
        "  'Ismail Mohamed Hamid',\n",
        "  'Kalma'],\n",
        " 2778: ['Ismail Haroun Adam',\n",
        "  'Ali Mohamed Bashir',\n",
        "  'Mohamed Abdel Hamid',\n",
        "  'Gima Mohamed Adam'],\n",
        " 2779: ['Constantino Pitia', 'Nicholas Abdallah'],\n",
        " 2780: ['Ansar',\n",
        "  'Ahmad Bilal',\n",
        "  'Awad Salim',\n",
        "  'Gibreel',\n",
        "  'Mamoun Yousif',\n",
        "  'Abdel Ghani Mohamed Omar al-Amir',\n",
        "  'Abdelrahman al-Khair Abdelwahab',\n",
        "  'Ali Yousif'],\n",
        " 2781: ['Magdi Chelata', 'Ashraf Adli', \"Baha' Zaki\"],\n",
        " 2782: ['Ali Abbas Ali',\n",
        "  'Camillio Luthali',\n",
        "  'Jaknoon',\n",
        "  'Bushra Hamid Burma',\n",
        "  'Haj Ahmad',\n",
        "  'Mohamed Mahmud',\n",
        "  'Faud Salih',\n",
        "  'Taj al-Sir Sarbil',\n",
        "  'Hassan al-Khatib',\n",
        "  'Salah Ahmad al-Jaber',\n",
        "  'Abdallah al-Tayeb',\n",
        "  'Salah Karboni',\n",
        "  'Tariq Abu Abdu',\n",
        "  'Osman Atiat Allah',\n",
        "  'Kamal al-Tigani',\n",
        "  'Abd al-Marouf Hussein',\n",
        "  'Gamal Yusuf',\n",
        "  'Naser Kamal'],\n",
        " 2783: ['Ammar Hassanain Abdel-Sid'],\n",
        " 2785: ['Yahya Omar Hamza',\n",
        "  'Mohamed Abdelgader Hilal',\n",
        "  'Sayed',\n",
        "  'Sayed Mohamed Abdallah',\n",
        "  'Hassan Shahata',\n",
        "  'Al-Sheikh Kennish',\n",
        "  'Al-Fatih Omar',\n",
        "  'Ahmad Tijani Taher'],\n",
        " 2786: ['Ali Fadul'],\n",
        " 2787: ['Ibrahim Dubara Mongho'],\n",
        " 2788: ['Nasr Hassan Bashir Nasr',\n",
        "  'Mohamedein Suleiman Bakheit',\n",
        "  'Fadul Sultan Karkola',\n",
        "  'Zaki Hassan Bashir Nasr'],\n",
        " 2789: ['Ali Mahmud Hassanein'],\n",
        " 2790: ['Sara Nugdallah'],\n",
        " 2791: ['Muataz Hasaan',\n",
        "  'Ismail Azhari',\n",
        "  'Adil Ibrahim Karrar',\n",
        "  'Khalid al-Mahi',\n",
        "  'Abualabbas Dai al-Naim',\n",
        "  'Abd al-Kafi'],\n",
        " 2792: ['Nafir El Din Tampour',\n",
        "  'Ahmed Ibrahim',\n",
        "  'Jebel Mara',\n",
        "  'Abdel Wahid Mohamed Ahmed Nour'],\n",
        " 2794: ['Ahmed Abdullah Suleiman', 'Abdelrhman Zakaria Mohamed'],\n",
        " 2796: ['Abderrahmane Farah',\n",
        "  'Fawzi Ahmed al-Fadel',\n",
        "  'Mahdi Babu Nimir',\n",
        "  'Osman Abdulmutaleb',\n",
        "  'Bakir Adel',\n",
        "  'Abderrahmane Sadiq al-mahdi',\n",
        "  'Abderrahmane al-sayed',\n",
        "  'Abderassul al-Nur',\n",
        "  'Fadlalls Burma Bassir'],\n",
        " 2797: ['Samuel Aru Bol'],\n",
        " 2798: ['Alfred Taban', 'Peter Cirrilo', 'Nicholas Aboya'],\n",
        " 2799: ['Abdel-Rahman Farah', 'Hamad Omar Bagadi', 'Sadiq al Mahdi'],\n",
        " 2800: ['Sadiq', 'Sadiq al-Mahdi'],\n",
        " 2801: ['Hassan Adam Ali'],\n",
        " 2802: ['Adam Abdel Rahman Abdel Shafe', 'Diko Grini'],\n",
        " 2803: ['Nagmeldin Abdallah'],\n",
        " 2804: ['Suleiman Jamous', 'Isa Ali Hassabullah'],\n",
        " 2806: ['Abdelgader Hussein al-Kadro',\n",
        "  'Nahad Ismael',\n",
        "  'Baker',\n",
        "  'Othman Balul',\n",
        "  'Ismat Mirghani',\n",
        "  'Bashir Mustafa',\n",
        "  'Mohammed Ali Ghassim',\n",
        "  'Khalid al-Zeine Ali'],\n",
        " 2807: ['Mirghani Kafi'],\n",
        " 2808: ['Nicolas Aboya', 'Peter Cirrilo', 'Alfred Taban'],\n",
        " 2809: ['Fiqi Salih Ibrahim',\n",
        "  'Fasher',\n",
        "  'Nasr al-Din Tambur',\n",
        "  'Mohamed Atim Mohamed Salama',\n",
        "  'Yusif Mohamed Sharaf al-Din',\n",
        "  'Omer Haroun',\n",
        "  'al-Zubeir Mohamed Khamis',\n",
        "  'Yacoub Khamis',\n",
        "  'Mohamed Sowar Adam'],\n",
        " 2810: ['Ali Mahmud Hassanein'],\n",
        " 2811: ['Tebira Idris Habani',\n",
        "  'Sheik Abdallah Ishaq',\n",
        "  'Ali Hassan Taj al-Din',\n",
        "  'Fadlalla Burma Nasir',\n",
        "  'Hussein Adam Salama',\n",
        "  'Abu Bakr Abdel Magid al-Amir',\n",
        "  'Tirab Tendal',\n",
        "  'Abdel Mahmud Abu',\n",
        "  'Abdel Nabi Ali Ahmad',\n",
        "  'Ali al-Omda Abdel Magid',\n",
        "  'Ahmad Musa Sudan'],\n",
        " 2812: ['Yahya Saleh Mukwar',\n",
        "  'Awad al-Karim Mohamed Ahmed',\n",
        "  'Mahjoub al-Zubeir',\n",
        "  'Nasur Ali Nasur',\n",
        "  'Minallah Abdelwahab Eissa',\n",
        "  'Yahya Ali Abdallah'],\n",
        " 2813: ['Farid Abbas',\n",
        "  'Abdel Bagi Mohamed Ali',\n",
        "  'Rehab Abdel Bagi Mohamed Ali'],\n",
        " 2814: ['Fathi Mohammad al-Hassan'],\n",
        " 2815: ['Mohamed Hassan Hamdan'],\n",
        " 2817: ['Magdi Mahgub'],\n",
        " 2818: ['Ahmed Tijani Taher',\n",
        "  'Yahya Omar Hamza',\n",
        "  'Sayed',\n",
        "  'Sayed Mohamed Abdallah',\n",
        "  'Mohammed Saleh',\n",
        "  'Abderahman Aby al-Kul',\n",
        "  'Limov Gordon',\n",
        "  'Hassan Shahata',\n",
        "  'Al-Sheikh Kennish',\n",
        "  'Mohamed Abdelgadir Hilal',\n",
        "  'Maamun Mohamed Hussein',\n",
        "  'Al-Fatij Omar'],\n",
        " 2819: ['Manut Majok Dut',\n",
        "  'Paul Wuol Deng',\n",
        "  'Lual Wuol Tong',\n",
        "  'Garang Tong Tong',\n",
        "  'William Santino Gumaa'],\n",
        " 2820: ['Samuel Major', 'Samuel Lol', 'Karabino Majok'],\n",
        " 2821: ['Adlan Ahmad Abdel Aziz'],\n",
        " 2822: ['Abdel Rasoul al-Nur', 'Abdel Rasoul', 'Sara Nugdallah'],\n",
        " 2823: ['Galal Ismail',\n",
        "  'Mahjoub al-Zubeir',\n",
        "  'Abdul Rahman al-Amin',\n",
        "  'Ali al-Khattib',\n",
        "  \"Haj Musa 'Abd al-Rahim\",\n",
        "  'Hassan Hussein',\n",
        "  'Abdallah Musa',\n",
        "  'Faqiri Abdallah',\n",
        "  'Sulieman Khalaf Allah',\n",
        "  'Imad Ali Dahab',\n",
        "  'Mahir Mekki',\n",
        "  'Moatissim Siam',\n",
        "  'Abdul Azim Abdullah',\n",
        "  'Said Ashakir',\n",
        "  'Khalil Osman Khalil'],\n",
        " 2824: ['Ahmad Abdallahi',\n",
        "  'Galal Hamid',\n",
        "  'Osman Abdelgader',\n",
        "  'Ali Arbab',\n",
        "  'Adam Abdel Kabir',\n",
        "  'Mubarak Mohamed al-Hassan',\n",
        "  'Mohamed Abdelghafar',\n",
        "  'Abdeen Miheisi'],\n",
        " 2825: ['Farid Abbas', 'Abdel Bagi Mohamed Ali'],\n",
        " 2826: ['Mohammad Bashir Ahmed',\n",
        "  'Abdel Rahman Ahmad',\n",
        "  'Hashem al-Tayeb',\n",
        "  'Abubaker Hamed Nur',\n",
        "  'Bashir Bushara',\n",
        "  'Yusuf Mohammad Faleh',\n",
        "  'Ibrahim Mohammad Hassan',\n",
        "  'Mohammad Hashem Abdel Rahman'],\n",
        " 2827: ['Adam Suleiman',\n",
        "  'Al-Jeneina',\n",
        "  'Mohamed Ibrahim Gasi',\n",
        "  'Annur Tambus',\n",
        "  'Tijani Gamar'],\n",
        " 2829: ['Kati Tuja', 'Alfonse Rop', 'James Chol', 'Joseph Madot', 'Mary Ajak'],\n",
        " 2830: ['Abdin Mohamed Zein',\n",
        "  'Ali',\n",
        "  'Farah Hassan Adam',\n",
        "  'Mekki al-Massiba',\n",
        "  'Babiker Digna',\n",
        "  'Abu Zeid Mohamed Saleh',\n",
        "  'Fatma',\n",
        "  'Bashir Omar',\n",
        "  'Osama Abderrahmane al-Nur',\n",
        "  'Salma Shwaya',\n",
        "  'Abdin'],\n",
        " 2831: ['Muawia Umran',\n",
        "  'Ali al-Mahi al-Sakhi',\n",
        "  'Abdel Aziz Dafalla',\n",
        "  'Abul Hassan'],\n",
        " 2832: ['Abdel Karim Abdel Jaliel',\n",
        "  'Yousif Hussein',\n",
        "  'Nadir Mahjoub Mohamed Salih'],\n",
        " 2833: ['Mohamed Babiker',\n",
        "  'Suliman',\n",
        "  'Siddiq Yusuf',\n",
        "  'Ali al-Mahi al-Sakhi',\n",
        "  'Ali al-Mahi al-Sakhi Ali Khalifa'],\n",
        " 2834: ['Hashim Mohamed Zeyada', 'Zeyada', 'Hashim Mohamed Zayada'],\n",
        " 2835: ['Nagib Nejm al-Din', 'Moneim Attia'],\n",
        " 2836: ['Salah Mohamed Abdelrahman', 'Mudawi Ibrahim Adam'],\n",
        " 2838: ['Yahya Omar Hamza',\n",
        "  'Sayed Mohamed Abdallah',\n",
        "  'Limov Gordon',\n",
        "  'Hassan Shahata',\n",
        "  'Al-Sheikh Kennish',\n",
        "  'Mohamed Abdelgadir Hilal',\n",
        "  'Maamun Mohamed Hussein',\n",
        "  'Ahmad Tijani Taher',\n",
        "  'Al-Fatih Omar al-Sayed',\n",
        "  'Mohamed Saleh'],\n",
        " 2839: ['Abdel-Rahman Farah', 'Hamad Omar Bagadi', 'Mahdi', 'Sadiq al Mahdi'],\n",
        " 2840: ['Ahmed Adballa Akood', 'Ahmed Abdalla Akood'],\n",
        " 2841: ['Muataz Hasaan',\n",
        "  'Adil Ibrahim Karrar',\n",
        "  'Khalid al-Mahi',\n",
        "  'Ismail Azhari Ali Mohamed Ali',\n",
        "  'Abd al-Kafi',\n",
        "  'Abualabbas Dai al-Naim'],\n",
        " 2842: ['Rehab Abdel Bagi Mohamed Ali'],\n",
        " 2843: ['Salah Mohamed Abdelrahman', 'Mudawi Ibrahim Adam'],\n",
        " 2844: ['Suleiman Jamous', 'Al Fasher', 'Isa Ali Hassaballah'],\n",
        " 2845: ['Yahya Omar Hamza',\n",
        "  'Sayed Mohamed Abdallah',\n",
        "  'Limov Gordon',\n",
        "  'Hassan Shahata',\n",
        "  'Al-Sheikh Kennish',\n",
        "  'Abderahman Abu',\n",
        "  'Mohamed Abdelgadir Hilal',\n",
        "  'Maamun Mohamed Hussein',\n",
        "  'Ahmad Tijani Taher',\n",
        "  'Al-Fatih Omar al-Sayed',\n",
        "  'Mohamed Saleh'],\n",
        " 2846: ['David Tombe',\n",
        "  'Mark Taban',\n",
        "  'Taban Elisa',\n",
        "  'Joseph Ladu',\n",
        "  'James Duling',\n",
        "  'Sarafino Pitya',\n",
        "  'Arkangelo Yugu',\n",
        "  'Pitia Kenyi',\n",
        "  'David Kenyi',\n",
        "  'Mustafa Abdel Gadir',\n",
        "  'Juma Mohamed',\n",
        "  'Simon Jada',\n",
        "  'Kennedy Khamis'],\n",
        " 2847: ['Abdel-Rahman Farah', 'Hamad Omar Bagadi', 'Sadiq al Mahdi'],\n",
        " 2848: ['Hashem al-Tayeb Yusuf', 'Al-Shafi', 'Lenin al-Tayeb Yusuf', 'Yusuf'],\n",
        " 2850: ['Ahmed Tijani Taher',\n",
        "  'Yahya Omar Hamza',\n",
        "  'Sayed Mohamed Abdallah',\n",
        "  'Limov Gordon',\n",
        "  'Hassan Shahata',\n",
        "  'Al-Sheikh Kennish',\n",
        "  'Mohamed Saleh',\n",
        "  'Mohamed Abdelgadir Hilal',\n",
        "  'Maamun Mohamed Hussein',\n",
        "  'Al-Fatih Omar al-Sayed',\n",
        "  'Abderahman Abu'],\n",
        " 2851: ['Mohamed Abdelrassul',\n",
        "  'Baku Ibrahim',\n",
        "  'Eddine Saleh',\n",
        "  'Idris Habib',\n",
        "  'Abu al-Bashar Yussuf',\n",
        "  'Abu Bakr Saif Eddine',\n",
        "  'Abdallah Yussuf',\n",
        "  'Adbelaziz Abdelkabir'],\n",
        " 2852: ['Magdi Mohamedani',\n",
        "  'Omar Mohamed Mokhtar',\n",
        "  'Shehab Ahmad Gaafar',\n",
        "  'Salah Mohamed Idris',\n",
        "  'Mokhtar Fadul'],\n",
        " 2853: ['Adel Nasir Ahmad Faraj'],\n",
        " 2854: ['Mohammad Omer Suliman Ahmad',\n",
        "  'Adam Abaker Ali',\n",
        "  'Al-Taher Ahmad Hamdan'],\n",
        " 2855: ['Ali Bashir Mariud'],\n",
        " 2856: ['Sadiq al-Shami',\n",
        "  'Mohamed Diya Eddine',\n",
        "  'Shams Eddine',\n",
        "  'Omar Muhajir Muhammadine'],\n",
        " 2857: ['Joseph Ladu',\n",
        "  'Marcello Lado',\n",
        "  'Tony Ilario',\n",
        "  'Katir James',\n",
        "  'Arkangelo Yugu',\n",
        "  'Juma Mohamed',\n",
        "  'Oliver Mori',\n",
        "  'Taban Elisa',\n",
        "  'Mustafa Abdel Gadir',\n",
        "  'Sarafino Pitya',\n",
        "  'Paulino Gamut',\n",
        "  'Luis Gore',\n",
        "  'Kennedy Khamis',\n",
        "  'David Tombe',\n",
        "  'Mustafa Abdel',\n",
        "  'Mark Taban',\n",
        "  'Mark Laboke Jenner',\n",
        "  'Pitia Kenyi',\n",
        "  'Andrew Tombe',\n",
        "  'Simon Jada',\n",
        "  'Stephen Daniel',\n",
        "  'Faustino Modi',\n",
        "  'Cornelio Longoya',\n",
        "  'James Duling',\n",
        "  'Charles Majok',\n",
        "  'Aboudwan Talle',\n",
        "  'David Kenyi'],\n",
        " 2858: ['Ibrahim Mohammed Abbo',\n",
        "  'Atim Mohammed Salama',\n",
        "  'Abdel Latif Abdel Rahim',\n",
        "  'Abdel Rahman Ishaq',\n",
        "  'Abdalla Ali Masar',\n",
        "  'Adam Ibrahim Khalil',\n",
        "  'Abdel Rahman Yousif',\n",
        "  'Adam Mohammed Ahmed'],\n",
        " 2859: ['Intisar Abdel Rahman Fadl',\n",
        "  'El Tayeb',\n",
        "  'Abdel Azim Daw',\n",
        "  'Al Hassan Sharoofa',\n",
        "  'Al Noor',\n",
        "  'Huda',\n",
        "  'Ahraf Alhilo',\n",
        "  'Mohammed Ahmed Khalid',\n",
        "  'Hana Mohamed Ali',\n",
        "  'Mawahib Ali',\n",
        "  'Abdel Rhaman',\n",
        "  'Mohamed Al Hassan Rahma',\n",
        "  'Asha Sharoofa',\n",
        "  'Hassan Harri',\n",
        "  'Tagelsir'],\n",
        " 2860: ['Ismail Abdallah Musa', 'Suleiman Ahmed Hussein'],\n",
        " 2861: ['Magdi Mahgub', 'Sayed Ahmed Ali Gaballa'],\n",
        " 2862: ['Sadiq al-Shami',\n",
        "  'Ibrahim Mohamed Saleh',\n",
        "  'Mohamed Diya Eddine',\n",
        "  'Shams Eddine Abdallah Khalil',\n",
        "  'Al-Fatah al-Mardi',\n",
        "  'Mohamed Ali Daoud',\n",
        "  'Omar Muhajir Muhammadine',\n",
        "  'Mohamed Haji',\n",
        "  'Adel Khalafallah',\n",
        "  'Muttaleb Mohamed Osmane',\n",
        "  'Mohamed Hassan Pasha',\n",
        "  'Mohamed Hamad',\n",
        "  'Yahya Mohamed al-Hussein',\n",
        "  'Mohamed Hassan Khalid',\n",
        "  'Salah Mukhtar al-Khatib',\n",
        "  'Babiker Moussa',\n",
        "  'Al-Tijani Hussein',\n",
        "  'Majdi Abdel Majid',\n",
        "  'Ahmed Abdel Nabi'],\n",
        " 2863: ['al-Bashir Rahama Obeid', 'Zo al-Noon al-Tigani'],\n",
        " 2864: ['Mohamed Hamad Kowa',\n",
        "  'Khamis Farajallah Kortel',\n",
        "  'Angelo',\n",
        "  'Idris Shameila',\n",
        "  'Mustafa Angelo'],\n",
        " 2865: ['Mustapha Abdel Gadir',\n",
        "  'Mohamed Ali al-Sayid',\n",
        "  'Mohamed Ali al-Said',\n",
        "  'Bushra Abdel Karim'],\n",
        " 2867: ['Abdel Shafi Issa Mustapha',\n",
        "  'Mohammad Bashir Ahmed',\n",
        "  'Abdel Rahman Ahmad',\n",
        "  'Hashem al-Tayeb',\n",
        "  'Abubaker Hamed Nur',\n",
        "  'Bashir Bushara',\n",
        "  'Yusuf Mohammad Faleh',\n",
        "  'Ibrahim Mohammad Hassan',\n",
        "  'Mohammad Hashem Abdel Rahman'],\n",
        " 2868: ['Ali Hussain Dossa', 'Ali Ahmed Daoud'],\n",
        " 2869: ['Hassan Sidiq Atolabi',\n",
        "  'Haitham Aldusogi',\n",
        "  'Ahmed Abdel Fatah Gabriel',\n",
        "  'Abdel Rahman Zaidan',\n",
        "  'Osman Al Magdum',\n",
        "  'Abdel Aatti Abdel Khair'],\n",
        " 2870: ['Amnuel Abeigel',\n",
        "  'Mao Rominio',\n",
        "  'Ahmed Isameldin',\n",
        "  'Yaser Mohamed El Hassan Osman'],\n",
        " 2871: ['Ashraf Alhillo',\n",
        "  'Hasana Abkr Gamoos',\n",
        "  'Safa Abdalla Yousif',\n",
        "  'Al Hassan',\n",
        "  'Asha Sharoofa',\n",
        "  'Wafa Abdalla Yousif',\n",
        "  'Muna Hassan',\n",
        "  'Hassan Harri'],\n",
        " 2872: ['Alfatih Abdallah',\n",
        "  'Imad Mirghani Sid Ahmed',\n",
        "  'Raafat Hassan Abbas',\n",
        "  'Mohamed Jalal Ahmed Hashim',\n",
        "  'Ghazafi Adulmotalib',\n",
        "  'Abuobaida Awad',\n",
        "  'Abualgasim Farahana',\n",
        "  'Alam Eldin Abdelgaum'],\n",
        " 2873: ['Fawzi Ahmed',\n",
        "  'Abderrahamane Sadiq al-Mahdi',\n",
        "  'Mahdi Babu Nimir',\n",
        "  'Hamid Mohamed Ali al-Tom',\n",
        "  'Bakir Adel',\n",
        "  'Osman Adbulmutaleb',\n",
        "  'Abderassul al-Nur',\n",
        "  'Jamal al-Taieb',\n",
        "  'Abderrahamane Al-Sayed',\n",
        "  'Abderrahamane',\n",
        "  'Fadlalla Burma Nassir',\n",
        "  'Fadel'],\n",
        " 2874: ['Bakok Galuak Paguir',\n",
        "  'Gabriel Deng Wuol',\n",
        "  'John Gilla Lul',\n",
        "  'Kueth Kang Deng',\n",
        "  'Simon Tut Yat',\n",
        "  'John Dak',\n",
        "  'David Koak Goak',\n",
        "  'Lazarus Lai Puol',\n",
        "  'Martin Nyang Kic',\n",
        "  'Waragak Galuak Paguir',\n",
        "  'Paul Kuting Gil',\n",
        "  'Nasir',\n",
        "  'Lulut Kok Deng',\n",
        "  'Peter Lai Nyibek',\n",
        "  'Pol Bec',\n",
        "  'Jimma Bileu Kung',\n",
        "  'Peter Pal Poc Mar',\n",
        "  'Jacob Duong Wuon',\n",
        "  'Cuang Deng',\n",
        "  'Farouq Abdalla Gatkuoth'],\n",
        " 2875: ['Abd al-Rahman Ali al-Bashir',\n",
        "  'Lenin al-Tayib',\n",
        "  'Awad Bashir',\n",
        "  'Muhi al-Din al-Galad',\n",
        "  'Tariq Yousif',\n",
        "  'Ibrahim Fateh al-Rahman',\n",
        "  'Usama Siddiq Yousif',\n",
        "  'Muataz Abdallah',\n",
        "  'Mohaid Mohamed Ahmad Siddiq',\n",
        "  'Mohamed al-Sadiq',\n",
        "  'Abdel Bagi Mandela',\n",
        "  'Adlan Ahmad Abdelazi',\n",
        "  'Yasir Mohamed Ali',\n",
        "  'Adlan Ahmad Abdelaziz',\n",
        "  'Mohamed al-Mustapha'],\n",
        " 2876: ['Al-Shafi', 'Lenin al-Tayeb Yusuf', 'Yusuf'],\n",
        " 2877: ['Hassan Haroun Adam', 'Hassan Haroun Adam Sudan'],\n",
        " 2878: ['Hamed Suleiman',\n",
        "  'Arturt Kerkawi Qarib',\n",
        "  'Mahammed Fadilallah Othman'],\n",
        " 2879: ['Salma Abdulla Khalil', 'Nadia Said', 'Saaida Abdulla Khalil'],\n",
        " 2880: ['Mamoun Elyas Mohammed Ahmed'],\n",
        " 2881: ['Mohamed Abdel Karim',\n",
        "  'Abd al-Aziz',\n",
        "  'Abd al-Fattah Sami Ahmad',\n",
        "  'Issam',\n",
        "  'Adam',\n",
        "  'Mohamed Abdul Karim',\n",
        "  'Omar Hassan Ahmad al-Bashir'],\n",
        " 2883: ['Ansar', 'Ansar Sunna'],\n",
        " 2884: ['Hassab al-Rasoul',\n",
        "  'Siddiq Yousif',\n",
        "  'Abdallah Meshawi',\n",
        "  'Kamal al-Gizhouli',\n",
        "  'Kamal al-Gizouli'],\n",
        " 2888: ['Alfatih Abdallah',\n",
        "  'Saad Mohamed Ahmed',\n",
        "  'Abdelhalim Abdulghani',\n",
        "  'Osman Shama',\n",
        "  'Abdulaziz Mohamed Ali Khairi',\n",
        "  'Ghazafi Abdulmotalib',\n",
        "  'Abualgasim Farahana',\n",
        "  'Abuobaida Awad',\n",
        "  'Abdallah Abdelgaum'],\n",
        " 2889: ['Alfred Taban'],\n",
        " 2890: ['Salah Disougi',\n",
        "  'Al-Haj Mekki Medani',\n",
        "  'Gaafar Mohamed Ahmed',\n",
        "  'Kamal Mekki Medani',\n",
        "  'Amir al-Tilib',\n",
        "  'Hisham El Kareb',\n",
        "  'Mohamad al-Amin Gaith',\n",
        "  'Abdin Miheisi',\n",
        "  'Kamal Ahmad Saleh',\n",
        "  'Mamoun Mekki Medani',\n",
        "  'Medani',\n",
        "  'Amin Mekki Medani'],\n",
        " 2892: ['Abul Gassim', 'Issam Abul Gassim'],\n",
        " 2893: ['Sadiq', 'Sadiq-al-Mahdi', 'Sadiq al-Mahdi'],\n",
        " 2894: ['Lenin al-Tayeb Yusuf'],\n",
        " 2896: ['Abdelaziz Mohamed Salmane',\n",
        "  'Mokhtar Abdallah',\n",
        "  'Mohamed Omar al-Mirghani'],\n",
        " 2897: ['Hashem al-Tayeb Yusuf',\n",
        "  'Yusuf',\n",
        "  'Khidder al-Tayeb Yusuf',\n",
        "  'al-Shafi'],\n",
        " 2899: ['Abul Gassim', 'Abdul Gassim'],\n",
        " 2900: [\"Kamal 'Abd al-Karim Mirghani\",\n",
        "  'Atif Haroun',\n",
        "  'Yahya Mukwar',\n",
        "  'Ahmad Osman',\n",
        "  'Mohamed Ibrahim Abdu',\n",
        "  'Awad Gibreel',\n",
        "  'Ali al-Mahi al-Sakhi'],\n",
        " 2901: ['Omer Farouk'],\n",
        " 2902: ['Adib Abdel Rahman Yusuf'],\n",
        " 2903: ['Alfred Taban'],\n",
        " 2904: ['Salah Disougi',\n",
        "  'Al-Haj Mekki Medani',\n",
        "  'Gaafar Mohamed Ahmed',\n",
        "  'Kamal Mekki Medani',\n",
        "  'Amir al-Tilib',\n",
        "  'Mohamad al-Amin Gaith',\n",
        "  'Abdin Miheisi',\n",
        "  'Kamal Ahmad Saleh',\n",
        "  'Mamoun Mekki Medani',\n",
        "  'Hisham al-Kareb',\n",
        "  'Abdin'],\n",
        " 2905: ['Abdel-Rahman Farah', 'Hamad Omar Bagadi', 'Sadiq al Mahdi'],\n",
        " 2907: ['Imad Mirghani Sid Ahmed',\n",
        "  'Raafat Hassan Abbas',\n",
        "  'Mohamed Jalal Ahmed Hashim',\n",
        "  'Osman Shamat',\n",
        "  'Saad Mohamed Ahmed',\n",
        "  'Abdulaziz Mohamed Ali Khairi',\n",
        "  'Mujahed Mohamed Abdallah',\n",
        "  'Osman Ibrahim',\n",
        "  'Abdallah Abdelgaum',\n",
        "  'Alam Eldin Abdelghani'],\n",
        " 2908: ['Ansar', 'Sid Ahmad al-Hussein', 'Abdallah Barakat'],\n",
        " 2909: ['Islam Salih Adam Belo'],\n",
        " 2910: ['Tariq Ahmed Gasim',\n",
        "  'Mohamed Al-Hajj',\n",
        "  'Yusuf Hussein',\n",
        "  'Fawaz Salah Al-Sayed'],\n",
        " 2911: ['Wad Medani', 'Osman Omar al-Sharif'],\n",
        " 2912: ['Tariq Ahmed Gasim',\n",
        "  'Mohamed Al-Hajj',\n",
        "  'Yusuf Hussein',\n",
        "  'Fawaz Salah Al-Sayed'],\n",
        " 2913: ['Abdel-Rahim Mohamed Salih'],\n",
        " 2914: ['Osman Omar', 'Osman Omar al-Sharif'],\n",
        " 2916: ['Salih Adam Belo', 'Adam Belo', 'Islam Salih Adam Belo'],\n",
        " 2917: ['Samuel Arrew Boll', 'Peter Cirrilo', 'Eliaba James Surur'],\n",
        " 2918: ['Gaafar Yassin Ahmad Abdullah',\n",
        "  'Atalla Ali Karmallah',\n",
        "  'Abd al-Rahman Suleiman',\n",
        "  'Abdel Rasoul al-Nur Ismael',\n",
        "  'Mohamed Abdel',\n",
        "  'Kamal al-Din Omar Ahmad Dafallah',\n",
        "  'Osman',\n",
        "  'Ahmad Abdel Raouf Karmallah',\n",
        "  'Mirghani',\n",
        "  'al-Hassan Ahmad Salih Mohamed',\n",
        "  'Osman Mustapha Mahjoub',\n",
        "  'Mustafa Ahmad al-Hassan al-Tilib',\n",
        "  'Osman Mahmud Ali Juma',\n",
        "  'Haidar al-Tigani',\n",
        "  'Mohamed Hassan Osman al-Zubeir',\n",
        "  'Mubarek Ahmad Abdalla Gadeen',\n",
        "  'Mohamed Osman',\n",
        "  'Yasir Abu Zeid Ahmad Abu Zeid',\n",
        "  'Fadlalla BurmaNnasir'],\n",
        " 2919: ['Elhadi Tangur'],\n",
        " 2920: ['Yasir Salim', 'Abdallah Taha', 'Mudawi Ibrahim Adam'],\n",
        " 2922: ['Abbas El Tigani', 'Gamar Eldin Mohammed Eisa'],\n",
        " 2923: ['Osman Adam Abdel Mawla'],\n",
        " 2924: ['Mohamed Jalal Ahmed Hashim'],\n",
        " 2927: ['Mudawi Ibrahim', 'Mudawi', 'Abdallah Taha', 'Yasir Salim'],\n",
        " 2929: ['Suleiman Mahmoud Nadi', 'Abkr Mohammed Abdo Shain'],\n",
        " 2930: ['Ahmad Abdel Hamid Mohammad Mustafa',\n",
        "  'Ahmad Abdel Hamid Mohamed Mustafa'],\n",
        " 2931: ['Mudawi Ibrahim Adam'],\n",
        " 2932: ['Janjawid',\n",
        "  'Yasir Jabir Juma',\n",
        "  'Ismail Adam Omar',\n",
        "  'Mohamed Adam Ali',\n",
        "  'Saraf Osman Ibrahim'],\n",
        " 2933: ['Abdel Shafi Issa Mustapha'],\n",
        " 2934: ['Mohamed Jalal Ahmed Hashim'],\n",
        " 2935: ['Abu Nigel El Amin',\n",
        "  'Ramadan Ismail',\n",
        "  'Juma Mahamoud',\n",
        "  'Juma Omar El-Nur'],\n",
        " 2936: ['Abdel Karim Araka Tibin',\n",
        "  'Mohammed Abdel Karim Abdallah',\n",
        "  'Adam Abaker Hamed',\n",
        "  'Al-Fadel Adam Mohammed Nurain',\n",
        "  'Abdallah Yusuf Mohammed Abdallah',\n",
        "  'Harun Idris Hassan',\n",
        "  'Ali Mansour Hasaballah',\n",
        "  'Alyan Ali Mohammed',\n",
        "  'Al-Fadi Tambour',\n",
        "  'Al-Tayib Mohammed Daf',\n",
        "  'Mohammed Al-Hafez Ali',\n",
        "  'Ibrahim Musa Ahmed',\n",
        "  'Abdel Mannan Abdel Mawla'],\n",
        " 2937: ['Abbas El Tigani', 'Gamar Eldin Mohammed Eisa'],\n",
        " 2938: ['Kabbashi Khater Mohammed Ahmad',\n",
        "  'Ahmad Salman',\n",
        "  'Tawer Osman Tawer',\n",
        "  'Abdel Jalil al-Basha',\n",
        "  'Yaqoub Yahya'],\n",
        " 2939: ['Isaag Abaker',\n",
        "  'Easa Mohamed Adam',\n",
        "  'Tibin Abdel Rahman Isaag',\n",
        "  'Alhadi Abaker Hammad',\n",
        "  'Abaker Ahrran',\n",
        "  'Mohamed Abdella Yahya',\n",
        "  'Abader Adam Bakheet',\n",
        "  'Mohamed Abdel Rahman Ibraheam',\n",
        "  'Saead Abdella Abaker'],\n",
        " 2941: ['Nayef Mohammed Hamed',\n",
        "  'Maysara Izzeddin Mohammed Mansur',\n",
        "  'Nazmi Mohammed Hamed',\n",
        "  'Isam Mohammed Faqir',\n",
        "  'Farouq Nouri',\n",
        "  'Hisham Abbas',\n",
        "  'Al-Khatib Mohammed Salem'],\n",
        " 2942: ['Ghazi Suleiman'],\n",
        " 2943: ['Ibrahim Mohammed Jadallah',\n",
        "  'Mohammed Al-Jazuli Adam',\n",
        "  'Isam Mohammed Yusuf',\n",
        "  'Yassin Yusuf Abdallah',\n",
        "  'Jalal Shaib',\n",
        "  'Mustafa Abdallah',\n",
        "  'Hassaballah Hassab al-Nabi Issa'],\n",
        " 2944: ['Nayef Mohammed Hamed',\n",
        "  'Maysara Izzeddin Mohammed Mansur',\n",
        "  'Nazmi Mohammed Hamed',\n",
        "  'Isam Mohammed Faqir',\n",
        "  'Farouq Nouri',\n",
        "  'Hisham Abbas',\n",
        "  'Al-Khatib Mohammed Salem'],\n",
        " 2945: ['Ashraf Alhillo', 'Hassan Harri'],\n",
        " 2946: ['Zakaria Ahmed Abulgasim', 'Abulgasim Ahmed Abulgasim'],\n",
        " 2949: ['El Fadil Adam Mohammed Ahmed Noorein',\n",
        "  'Fadil Adam Mohammed Ahmed Noorein'],\n",
        " 2950: ['Osman Adam Abdel Mawla'],\n",
        " 2951: ['Juma Omar El-Nur'],\n",
        " 2952: ['Soba Aradi', 'Abdallah Daw Al-Bait Ahmed'],\n",
        " 2953: ['Ghazi Suleiman'],\n",
        " 2954: ['Mahmoud Gazira',\n",
        "  'Abdallah Daw Al-Bait Ahmed',\n",
        "  'Hanan Mahmoud Gazira'],\n",
        " 2955: ['Abu Obeida Abdallah'],\n",
        " 2956: ['Mohamed Hajana',\n",
        "  'Zahir Mohamed Musa',\n",
        "  'Pakinam Saad Eddin',\n",
        "  'Osman Ibrahim'],\n",
        " 2957: ['Juma Omar El-Nur'],\n",
        " 2958: ['Mohamed Ismail', 'Ibrahim Birzi'],\n",
        " 2959: ['Bahar El Din Shibou', 'Hamid Adam Hassan Abdelrahman'],\n",
        " 2960: ['Mansur Mohamed Abulgasim',\n",
        "  'Zakaria Mohamed Adam Mohamed',\n",
        "  'Mohamed Adam',\n",
        "  'Mohamed Ahmed Abu Zeid',\n",
        "  'Mohamed Ahmed Mohamed',\n",
        "  'Abdelmajid Ali Abdelmajid',\n",
        "  'Mohamed Bahr',\n",
        "  'Ahmed Ishaq Mohamed Sika',\n",
        "  'Abaker Mohamed Yusif',\n",
        "  'Omer Abdelmajid',\n",
        "  'Sissi Atim Mohamed Salama',\n",
        "  'Ali Mohamed Abdallah',\n",
        "  'Mubarak Ibrahim Yahya',\n",
        "  'Badei Ibrahim Ali',\n",
        "  'Hamdi Ishaq Mohamed Tuka'],\n",
        " 2961: ['Mohammed Birgid',\n",
        "  'Abdel Magid Ali Abdel Magid',\n",
        "  'Ishaq Mohammed Sanousi',\n",
        "  'Abdel Hay Omar',\n",
        "  'Al-Tayeb Abdel Aziz',\n",
        "  'Sabir Hassan',\n",
        "  'Hassan Adam Fadel',\n",
        "  'Jamaleddin Isa',\n",
        "  'Mustafa Adam',\n",
        "  'Mohammed Taha',\n",
        "  'Adam Ibrahim'],\n",
        " 2962: ['Adam Abdel Hamid Adam', 'Adam Abdel Hamid Adam Sudan'],\n",
        " 2963: ['Bahr al-Din Abdullah Rifah', 'Nureddin Mohammad Abdel Rahim'],\n",
        " 2964: ['Mahmoud Osman Ibrahim'],\n",
        " 2967: ['Abu Obeida Abdallah'],\n",
        " 2968: ['Adel Abdallah Nasr al-Din'],\n",
        " 2969: ['Kabbashi Khater Mohammed Ahmad',\n",
        "  'Ahmad Salman',\n",
        "  'Tawer Osman Tawer',\n",
        "  'Abdel Jalil al-Basha',\n",
        "  'Yaqoub Yahya'],\n",
        " 2970: ['Mohamed Issa El Haj',\n",
        "  'Adam Hamid',\n",
        "  'Suleiman Tahir Abdallaare',\n",
        "  'Mohamed Omer Ibrahim',\n",
        "  'Ahmed Dut Hamid',\n",
        "  'Abdelaziz Abdalla Abdel Mahmoud',\n",
        "  'Musa Daoud',\n",
        "  'Mohammed Mohammed Tahir',\n",
        "  'Al Haj Al Nour',\n",
        "  'Abu Gasim Musa Eltahir',\n",
        "  'Suleiman Tahir Abdalla'],\n",
        " 2971: ['Elhadi Tangur'],\n",
        " 2972: ['Adel Abdallah Nasr al-Din'],\n",
        " 2973: ['Salah Mohamed Abdelrahman', 'Mudawi Ibrahim Adam'],\n",
        " 2974: ['Salah Mohamed Abdelrahman'],\n",
        " 2975: ['Majid Mosa Hassan', 'Abdul Majid Mosa Hassan'],\n",
        " 2976: ['Sawani', 'Jebel Moon', 'Goz Banat'],\n",
        " 2977: ['Mohammed Ibrahim', 'Michael Kustober', 'Hamdi Sebit'],\n",
        " 2978: ['Mohamed Ahmed Abd Al-Gadir Al-Arbab', 'Mohamed Ahmed Abd Al-Gadir'],\n",
        " 2979: ['Adam Saleh',\n",
        "  'Al-Haj Tirab Mahmoud',\n",
        "  'Ali Musa Bakara',\n",
        "  'Mohamed Osman Al-Basha',\n",
        "  'Abdel Aziz Abdul Kader',\n",
        "  'Adam Hussain Mohammed Fadil',\n",
        "  'Adam Dau',\n",
        "  'Ahmed Abdul Rahman',\n",
        "  'Mahdi Yaqub',\n",
        "  'Musa Mohammed'],\n",
        " 2981: ['Aqib Hamed',\n",
        "  'Qadir',\n",
        "  'Adam Daf',\n",
        "  'Idris Hussein Zaghawa',\n",
        "  'Ibrahim Hamed',\n",
        "  'Abdallah Suleiman Hamed',\n",
        "  'Bakhit Hamed'],\n",
        " 2985: ['Mohamed Hajana',\n",
        "  'Zahir Mohamed Musa',\n",
        "  'Pakinam Saad Eddin',\n",
        "  'Osman Ibrahim'],\n",
        " 2986: ['Saleh Mahmud Osman'],\n",
        " 2987: ['Adam Saleh',\n",
        "  'Al-Haj Tirab Mahmoud',\n",
        "  'Ali Musa Bakara',\n",
        "  'Mohamed Osman Al-Basha',\n",
        "  'Adam Mohamed',\n",
        "  'Abdel Aziz Abdul Kader',\n",
        "  'Adam Hussain Mohammed Fadil',\n",
        "  'Abdul Aziz Ahmed Musa',\n",
        "  'Adam Dau',\n",
        "  'Ahmed Abdul Rahman',\n",
        "  'Mahdi Yaqub',\n",
        "  'Musa Mohammed'],\n",
        " 2988: ['Aqib Hamed',\n",
        "  'Bakhit Hamed',\n",
        "  'Adam Daf',\n",
        "  'Abdallah Suleiman Hamed al-Thayer',\n",
        "  'Idris Hussein',\n",
        "  'Bakhit Ibrahim',\n",
        "  'Ibrahim Hamed',\n",
        "  'Bashir Digin Abdallah'],\n",
        " 2989: ['Mohamed Hassan Hamdan'],\n",
        " 2991: ['Abazar Ahmed Abu Al-Bashir', 'Buthayna Mohamed Ahmed'],\n",
        " 2996: ['Mohammad Omer Suliman Ahmad', 'Adam Abaker Ali'],\n",
        " 2998: ['Abaqer Adam Mohamed', 'Abdul Aziz Ahmed Musa'],\n",
        " 2999: ['Mudawi Ibrahim Adam Sudan', 'Mudawi Ibrahim Adam'],\n",
        " 3000: ['Intisar Bakri Abdulgader'],\n",
        " 3001: ['Abdallah Bashir'],\n",
        " 3002: ['Intisar Bakri Abdulgader'],\n",
        " 3003: ['Salih Adam Belo', 'Islam Salih Adam Belo'],\n",
        " 3005: ['Saleh Mahmud Osman'],\n",
        " 3007: ['Adib Abdel Rahman Yusuf'],\n",
        " 3009: ['Abazar Ahmed Abu Al-Bashir', 'Buthayna Mohamed Ahmed'],\n",
        " 3012: ['Janjawid'],\n",
        " 3013: ['Marla'],\n",
        " 3015: ['Simon Sishayi Nxumalo'],\n",
        " 3016: ['Bernard Rennie'],\n",
        " 3017: ['dominic Mngomezulu',\n",
        "  'Mphandlane Shongwe',\n",
        "  'Ray Russon',\n",
        "  'Maxwell Lukhele',\n",
        "  'Sabelo Dlamini',\n",
        "  'Mario Masuku',\n",
        "  'Mandla Hlatshwayo',\n",
        "  'Boy Magagulu',\n",
        "  'Zodwa Mkhonta',\n",
        "  'Dlamini',\n",
        "  'Kuseni Dlamini'],\n",
        " 3018: ['Dominic Mngomezulu', 'Ray Russon', 'Sabelo Dlamini', 'Boy Magagulu'],\n",
        " 3019: ['Mphandlana Shongwe',\n",
        "  'Thandeka Nxumalo',\n",
        "  'Andreas Lukhele',\n",
        "  'Msongelwa Lukhele',\n",
        "  'Wiseman Mabuza',\n",
        "  'Joseph Silindza',\n",
        "  'Zake Ginindza'],\n",
        " 3020: ['Jan Sithole'],\n",
        " 3021: ['Jabulani Nxumalo',\n",
        "  'Simon Noge',\n",
        "  'Jan Sithole',\n",
        "  'Richard Nxumalo',\n",
        "  'Themba Msibi'],\n",
        " 3022: ['Musa Dlamini', 'Jan Sithole', 'Mario Masuku'],\n",
        " 3023: ['Bernard Rennie'],\n",
        " 3024: ['Dominic Mngomezulu',\n",
        "  'Ray Russon',\n",
        "  'Sabelo Dlamini',\n",
        "  'Boy Magagulu',\n",
        "  'Mphandlana Shongwe'],\n",
        " 3025: ['Mphandlana Shongwe',\n",
        "  'Thandeka Nxumalo',\n",
        "  'Andreas Lukhele',\n",
        "  'Msongelwa Lukhele',\n",
        "  'Wiseman Mabuza',\n",
        "  'Joseph Silindza',\n",
        "  'Zake Ginindza'],\n",
        " 3026: ['Jabulani Nxumalo',\n",
        "  'Simon Noge',\n",
        "  'Jan Sithole',\n",
        "  'Richard Nxumalo',\n",
        "  'Themba Msibi'],\n",
        " 3027: ['Dominic Mngomezulu',\n",
        "  'Mphandlane Shongwe',\n",
        "  'Ray Russon',\n",
        "  'Sabelo Dlamini',\n",
        "  'Mario Masuku',\n",
        "  'Mandla Hlatshwayo',\n",
        "  'Boy Magagulu',\n",
        "  'Zodwa Mkhonta',\n",
        "  'Dlamini',\n",
        "  'Kuseni Dlamini'],\n",
        " 3028: ['Ray Russon', 'Boy Magagula', 'Sabelo Dlamini', 'Dominic Mngomezulu'],\n",
        " 3029: ['Mphandlana Songwe',\n",
        "  'Mphandlana Shongwe',\n",
        "  'Thandeka Nxumalo',\n",
        "  'Andreas Lukhele',\n",
        "  'Msongelwa Lukhele',\n",
        "  'Wiseman Mabuza',\n",
        "  'Joseph Silindza',\n",
        "  'Zake Ginindza'],\n",
        " 3030: ['Jabulani Nxumalo',\n",
        "  'Jan Sithole',\n",
        "  'Richard Nxumalo',\n",
        "  'Joseph Gumedze',\n",
        "  'Themba Msibi'],\n",
        " 3032: ['Dominic Mngomezulu',\n",
        "  'Ray Russon',\n",
        "  'Maxwell Lukhele',\n",
        "  'Sabelo Dlamini',\n",
        "  'Mario Masuku',\n",
        "  'Mandla Hlatshwayo',\n",
        "  'Boy Magagulu',\n",
        "  'Zodwa Mkhonta',\n",
        "  'Dlamini',\n",
        "  'Kuseni Dlamini'],\n",
        " 3033: ['Ray Russon', 'Boy magagula', 'Sabelo Dlamini', 'Dominic Mngomezulu'],\n",
        " 3035: ['Dominic Mngomezulu',\n",
        "  'Ray Russon',\n",
        "  'Sabelo Dlamini',\n",
        "  'Boy Magagulu',\n",
        "  'Mphandlane Shongwe'],\n",
        " 3037: ['Dominic Mngomezulu',\n",
        "  'Ray Russon',\n",
        "  'Sabelo Dlamini',\n",
        "  'Boy Magagulu',\n",
        "  'Mphandlane Shongwe'],\n",
        " 3038: ['Dominic Mngomezulu',\n",
        "  'Ray Russon',\n",
        "  'Sabelo Dlamini',\n",
        "  'Boy Magagulu',\n",
        "  'Mphandlana Shongwe'],\n",
        " 3044: ['Mwinyijuma Othmani Upindo', 'James Mapalala'],\n",
        " 3047: ['Othman Makame',\n",
        "  'Juma Ngwali',\n",
        "  'Soud Mohammed Nuhu',\n",
        "  'Nassor Seif',\n",
        "  'Mkubwa Makame',\n",
        "  'Massoud Ali',\n",
        "  'Ali Nassor',\n",
        "  'Omar Msellem',\n",
        "  'Said Abdulla'],\n",
        " 3048: ['Iddi Koch Sasha',\n",
        "  'Elias Mwaluko',\n",
        "  'Dominic Nshimanyi',\n",
        "  'Juma Athman',\n",
        "  'Kisage Kamfitiye',\n",
        "  'Hamadi Kamfitiye',\n",
        "  'Lazaro Lukilangarom'],\n",
        " 3050: ['Sanganira Lugi', 'Katembo Amri Kisasa'],\n",
        " 3052: ['Ali Saleh'],\n",
        " 3053: ['Musa Membar'],\n",
        " 3054: ['Othman Makame',\n",
        "  'Juma Ngwali',\n",
        "  'Soud Mohammed Nuhu',\n",
        "  'Nassor Seif',\n",
        "  'Mkubwa Makame',\n",
        "  'Massoud Ali',\n",
        "  'Ali Nassor',\n",
        "  'Omar Msellem',\n",
        "  'Said Abdulla'],\n",
        " 3055: ['Ali Saleh'],\n",
        " 3056: ['Shaban Mloo',\n",
        "  'Maulid Makame',\n",
        "  'Mohamed Juma Khatib',\n",
        "  'Juma Ngwali',\n",
        "  'Juma Othman',\n",
        "  'Nassor Suleiman',\n",
        "  'Seif Sharif Hamad',\n",
        "  'Salim Yusuf Mohamed',\n",
        "  'Khatib Hassan',\n",
        "  'Mussa Haji Kombo'],\n",
        " 3057: ['Hamad Masaud Hamad',\n",
        "  'Mohammed Ali Yussuf',\n",
        "  'Maulid Makame Abdallah',\n",
        "  'Ahmed Seif',\n",
        "  'Juma Othman Juma'],\n",
        " 3059: ['Haji Ali Pandu',\n",
        "  'Shaban Mloo',\n",
        "  'Maghano Khamis',\n",
        "  'Soud Mgeni',\n",
        "  'Mkuba Makame'],\n",
        " 3062: ['Shaban Mloo',\n",
        "  'Maulid Makame',\n",
        "  'Mohamed Juma Khatib',\n",
        "  'Juma Ngwali',\n",
        "  'Juma Othman',\n",
        "  'Nassor Suleiman',\n",
        "  'Khatib Hassan',\n",
        "  'Salim Yusuf Mohamed',\n",
        "  'Seif Sharif Hamad',\n",
        "  'Mussa Haji Kombo'],\n",
        " 3063: ['Abdallah Khamis'],\n",
        " 3064: ['James'],\n",
        " 3066: ['Remi Gahutu'],\n",
        " 3067: ['Machano Khamis Ali', 'Juma Duni Haji'],\n",
        " 3068: ['Ali Haji Pandu',\n",
        "  'Shaban Mloo',\n",
        "  'Juma Osman Juma',\n",
        "  'Soud Yusuf Mgeni',\n",
        "  'Machano Khamis'],\n",
        " 3069: ['Hamid Msahadi',\n",
        "  'Salim Hamad Ndevu',\n",
        "  'Hamid Juma Haji',\n",
        "  'Juma Ngwali',\n",
        "  'Said Salum Said',\n",
        "  'Mkubwa Makame',\n",
        "  'Seif Mattar'],\n",
        " 3071: ['Suleiman Seif', 'Ahmed Seif', 'Machano Khamis Ali', 'Juma Duni Haji'],\n",
        " 3072: ['Suleiman Nassour',\n",
        "  'Khamis Rashid',\n",
        "  'Abdullah Hamadi',\n",
        "  'Hussein Mbarouk',\n",
        "  'Omari Ali Omari',\n",
        "  'Ali Nassour Mohamed',\n",
        "  'Hemed Abdullah Hemed',\n",
        "  'Omar Msellem'],\n",
        " 3075: ['Amegan Djika',\n",
        "  'Yaya',\n",
        "  'Batchassi',\n",
        "  'Saliou',\n",
        "  'Amoussou',\n",
        "  'Kisse Anani'],\n",
        " 3076: ['Alexandre Adecambi',\n",
        "  'Claude Amouzou',\n",
        "  'Epiphane Kavegue',\n",
        "  'Pierre Bak',\n",
        "  'Tchao Kodjo Ange Maboudou',\n",
        "  'Wilson Adje',\n",
        "  'Pierre Bakela',\n",
        "  'Lambert Koffi'],\n",
        " 3077: ['Marc Palanga'],\n",
        " 3078: ['Marcel Gokou', 'Milehoho Akoko'],\n",
        " 3079: ['Koffi Dolou',\n",
        "  'Komlan Olivier Dansou',\n",
        "  'Kossi Akakpo',\n",
        "  'Donne Lawson',\n",
        "  'Dick',\n",
        "  'Akuele Doumassi',\n",
        "  'Kokou Guy Tokpli Tete',\n",
        "  'Claude Senah',\n",
        "  'Abentey',\n",
        "  'Adeoyor Arioundele',\n",
        "  'Esther Kassekpo',\n",
        "  'Fataou Djibril',\n",
        "  'Kokou Blitti'],\n",
        " 3080: ['Alexandre Adecambi',\n",
        "  'Claude Amouzou',\n",
        "  'Epiphane Kavegue',\n",
        "  'Tchao Kodjo Ange Maboudou',\n",
        "  'Wilson Adje',\n",
        "  'Pierre Bakela',\n",
        "  'Lambert Koffi'],\n",
        " 3081: ['Kara Gendarmerie', 'Marc Palanga', 'Mazama Katassa'],\n",
        " 3084: ['Marc Palanga'],\n",
        " 3087: ['Agbali Kodjo',\n",
        "  'Yaya Seibou',\n",
        "  'Koffi Tepe',\n",
        "  'Amezian Mensah',\n",
        "  'Eugene Koffi Tepe',\n",
        "  'Yeto Kougblenou',\n",
        "  'Mayanbo',\n",
        "  'Batchassi',\n",
        "  'Lawson',\n",
        "  'Robert Tepe',\n",
        "  'Affo Ati Issaka',\n",
        "  'Affo Bozinanbo',\n",
        "  'Paul Tepe'],\n",
        " 3088: ['David Bruce'],\n",
        " 3089: ['Gayibor Fran\\xc3\\xa7ois',\n",
        "  'Sant',\n",
        "  'Anna',\n",
        "  'Anna Brice',\n",
        "  'Tengue Nestor'],\n",
        " 3090: ['Joseph Kokou Koffigoh'],\n",
        " 3091: ['Joseph Kokou Koffigoh'],\n",
        " 3092: ['Tavio Amorin'],\n",
        " 3093: ['Eyadema',\n",
        "  'Kossi Amedegounou',\n",
        "  'Jean Lawson',\n",
        "  'Antoine Aboudou',\n",
        "  'Kodzo Akakpo',\n",
        "  'Kokou Gakoto',\n",
        "  'Ahamadou Boukari',\n",
        "  'Ekue Koulepato',\n",
        "  'Tevi Jacob Lawson',\n",
        "  'Kossi Assignon',\n",
        "  'Rosali Gagli',\n",
        "  'Alphonse Adjeovi',\n",
        "  'Agbeve Toyo',\n",
        "  'Koudjo Atsu',\n",
        "  'Latevi Prosper Lawson',\n",
        "  'Kossi Fiagnon',\n",
        "  'Jules Gagli',\n",
        "  'Kuegan Yao Agbagnon',\n",
        "  'Sevi Sadi',\n",
        "  'Sossouvi Afatchawo',\n",
        "  'Tchasse Koumi Koffi Toyo',\n",
        "  'Koffi Agbali'],\n",
        " 3094: ['Nadjombe Antoine Koffi', 'Lom'],\n",
        " 3096: ['Esso Charles Pello', 'Pello'],\n",
        " 3097: ['Esso Charles Pello', 'Pello'],\n",
        " 3098: ['Philipe Evegno', 'Dimas Dzikodo'],\n",
        " 3099: ['Benjamin Adjoh', 'Ars\\xc3\\xa8ne Bolouvi'],\n",
        " 3100: ['Toussaint Agnankra',\n",
        "  'Kassegne Assogba',\n",
        "  'Daniel Olando',\n",
        "  'Anani Akakpo',\n",
        "  'Kokou Sossou',\n",
        "  'Sylvain',\n",
        "  'Maurice Nawondje',\n",
        "  'Nougloze Yovo',\n",
        "  'Koudjo Senade',\n",
        "  'Emmanuel Akakpo',\n",
        "  'Gnato Toyi',\n",
        "  'Lasso'],\n",
        " 3101: ['Maurice Naoudje',\n",
        "  'Kodjo Fiagbe Mensah',\n",
        "  'Kassegne Assogba',\n",
        "  'Anani Akakpo',\n",
        "  'Kokou Okessou Mbooura'],\n",
        " 3102: ['Ameen Ayodele'],\n",
        " 3103: ['Attiogbe Stephane Koudoussou', 'Gerard Akoume'],\n",
        " 3104: ['Nadjombe Antoine Koffi'],\n",
        " 3105: ['Gayibor Fran\\xc3\\xa7ois', 'Sant', 'Anna Brice', 'Tengue Nestor'],\n",
        " 3106: ['Bolouvi Ars\\xc3\\xa8ne', 'Adjoh Benjamin'],\n",
        " 3107: ['Houndjo Mawudzro'],\n",
        " 3108: ['Houndjo Mawudzro'],\n",
        " 3111: ['Chedli Ben Hamadi Ben Ouanes El Ouertani'],\n",
        " 3113: ['Habib Achour'],\n",
        " 3119: ['Rachid Ghannouchi'],\n",
        " 3121: ['Abdallah Ben Mohamed Ben Lakhdar Huwaidri'],\n",
        " 3124: ['Khemais Chamari'],\n",
        " 3126: ['Khemais Chamari'],\n",
        " 3127: ['Khemais Chamari'],\n",
        " 3130: ['Abdel Majid'],\n",
        " 3132: ['Abdel Majid Bin Tarshoon'],\n",
        " 3148: ['Lance Sera-Muwanga'],\n",
        " 3149: ['Hussein Abdi Hassan'],\n",
        " 3150: ['Sulema Ndamagye', 'Dominic Oboth', 'Salim Mulumba'],\n",
        " 3151: ['Nathanael Nsengiyumva'],\n",
        " 3152: ['Dan Mugarura', 'Pascal Gakyaro'],\n",
        " 3153: ['Joel Lubangakene', 'Lubangakene'],\n",
        " 3154: ['Steven Bukusuba'],\n",
        " 3156: ['Hussein Abdi Hassan'],\n",
        " 3157: ['Dominiko Oboth',\n",
        "  'Ibrahim Bilal',\n",
        "  'Yoana Serukuma',\n",
        "  'Stephen Misango',\n",
        "  'Mubere',\n",
        "  'Sajabbi Siraisi',\n",
        "  'Joseph Kizza',\n",
        "  'Ibrahim Mugisha',\n",
        "  'Simba Ogwang',\n",
        "  'Christopher Katama',\n",
        "  'Cypriano Wasswa',\n",
        "  'Benegedo Luzwala',\n",
        "  'Silver Ongom',\n",
        "  'Faustino Kyobwenge',\n",
        "  'Kelly Omuge',\n",
        "  'Edward Mpagi',\n",
        "  'Chris Rwakasisi',\n",
        "  'Badru Babalanda',\n",
        "  'Haji Musa Ssebirumbi',\n",
        "  'Joseph Muganga',\n",
        "  'Suleiman Ojasi',\n",
        "  'Peter Ndagonzerwa',\n",
        "  'Salim Ikuluba',\n",
        "  'Abdalla Nasuru',\n",
        "  'Haji Mohammed Birikade',\n",
        "  'Badru Walakira',\n",
        "  'Yairo Mugisha',\n",
        "  'Francis Senoga',\n",
        "  'Karisiti Sebugwawo',\n",
        "  'Herbert Kasolo',\n",
        "  'Omar Bongo',\n",
        "  'Abdu Mukasa',\n",
        "  'Salimu Mulumba',\n",
        "  'Emmanuel Kasujja',\n",
        "  'Christopher Sentamu',\n",
        "  'Angilo Balikenda',\n",
        "  'Suleiman Ndabage',\n",
        "  'Abdalla Nabudere',\n",
        "  'Yafasi Kamala',\n",
        "  'Robert Sabiti',\n",
        "  'Fred Tindikura',\n",
        "  'Elias Wanyama',\n",
        "  'Frank Byaruhanga',\n",
        "  'Paul Musisi',\n",
        "  'Isaya Bikumu',\n",
        "  'Paul Matovu',\n",
        "  'Kabeka Basweri',\n",
        "  'Paul Kayondo',\n",
        "  'Peter Osungei'],\n",
        " 3159: ['Dan Mugarura', 'Pascal Gakyaro'],\n",
        " 3162: ['Klongi Tisiyano'],\n",
        " 3163: ['Gabriel Oriem',\n",
        "  'Gabriel Oboya',\n",
        "  'Kezeroni Acok',\n",
        "  'Jeremiah Moro',\n",
        "  'Blasio Olanga'],\n",
        " 3164: ['Hussein Abdul Mumir',\n",
        "  'Asuman Mahmood',\n",
        "  'Omar Ahmed Mandela',\n",
        "  'Muhammed Diriya',\n",
        "  'Salah',\n",
        "  'Abduwel Abdullah Amin',\n",
        "  'Mohamed Gulam Kabba',\n",
        "  'Mohamed Rashid Asuman',\n",
        "  'Hassan',\n",
        "  'Ali Mahmood',\n",
        "  'Hassan Noor'],\n",
        " 3165: ['Adolphe Dusabe'],\n",
        " 3166: ['Titi Masudi',\n",
        "  'Fabrice Buregeya',\n",
        "  'Ngunda Bawula',\n",
        "  'Bikay Kusimuweri',\n",
        "  'Patrick Kabula'],\n",
        " 3170: ['Olwog', 'Mr Oneka', 'Mr Apota', 'Luka Labeja'],\n",
        " 3171: ['Hussein Abdul Mumir',\n",
        "  'Asuman Mahmood',\n",
        "  'Ali Mahmood',\n",
        "  'Muhammed Diriya',\n",
        "  'Salah',\n",
        "  'Sharif',\n",
        "  'Abduwel Abdullah Amin',\n",
        "  'Mohamed Gulam Kabba',\n",
        "  'Mohamed Rashid Asuman',\n",
        "  'Abdul Khadir',\n",
        "  'Hassan',\n",
        "  'Omar Ahmed Mandela',\n",
        "  'Hajji Ali',\n",
        "  'Hassan Noor'],\n",
        " 3172: ['Peter Oloya'],\n",
        " 3173: ['Fabrice Buregeya',\n",
        "  'Emmanuel Tumukende',\n",
        "  'Bikay Kusimuweri',\n",
        "  'Patrick Kabula'],\n",
        " 3175: ['Gabriel Oriem',\n",
        "  'Gabriel Oboya',\n",
        "  'Kezeroni Acok',\n",
        "  'Jeremiah Moro',\n",
        "  'Blasio Olanga'],\n",
        " 3176: ['Alex Otim', 'Joseph Odong', 'Peter Oloya'],\n",
        " 3178: ['Salim Ikuluba',\n",
        "  'Christopher Sentamu',\n",
        "  'Kelly Omuge',\n",
        "  'Paul Musisi',\n",
        "  'Joseph Kizza',\n",
        "  'Badru Babalanda',\n",
        "  'Karisiti Sebugawao',\n",
        "  'Sajabbi Siraisi'],\n",
        " 3180: ['Tadeo Omal', 'Yovan Ojok', 'Tiberio Atwoma Okeny'],\n",
        " 3184: ['Omara Atubo',\n",
        "  'Michael Alip Atepu',\n",
        "  'Zachary Olum',\n",
        "  'Okodi Levi',\n",
        "  'Irene Apiu Laju'],\n",
        " 3185: ['Pasca Okello'],\n",
        " 3186: ['Ochieng', 'Santo Alero'],\n",
        " 3188: ['Omara Atubo',\n",
        "  'Michael Alip Atepu',\n",
        "  'Zachary Olum',\n",
        "  'Okodi Levi',\n",
        "  'Irene Apiu Laju'],\n",
        " 3190: ['Denis Coto',\n",
        "  'Tom Ekwang',\n",
        "  'Geoffrey Ebong',\n",
        "  'Joshua Ocen',\n",
        "  'Emmanuel Abak',\n",
        "  'Patrick Opono',\n",
        "  'Alfred Ebong',\n",
        "  'Geoffrey Oyuru'],\n",
        " 3192: ['James Olobo',\n",
        "  'Philip Odwong',\n",
        "  'Jacob Okello Orach',\n",
        "  'Andrew Adimola',\n",
        "  'Ojara Penyamoi',\n",
        "  'John Ocira',\n",
        "  'Maurice Lagolo',\n",
        "  'Hannington Opira',\n",
        "  'Okello Aldo'],\n",
        " 3194: ['Peter Ekusai', 'Levi Odongo', 'Abel Olero', 'Max Opii'],\n",
        " 3195: ['Tadeo Omal', 'Tadeo', 'Yovan Ojok', 'Tiberio Atwoma Okeny'],\n",
        " 3196: ['Silver Tugugu',\n",
        "  'Richard Odongpiny-Omal',\n",
        "  'Sisto Obwoma',\n",
        "  'Erizefani Kasakya',\n",
        "  'William Gurikacha',\n",
        "  'Jeflin Lubega',\n",
        "  'Haji Musa Ssebirumbi',\n",
        "  'Amisi Katarikawe',\n",
        "  'James Kinyingi Muwanga',\n",
        "  'John Bosco Kiwanuka',\n",
        "  'Benson Komakech',\n",
        "  'Medadi Tindawesire',\n",
        "  'John Fisher Iga',\n",
        "  'Bashir Kanunyuzi',\n",
        "  'Lwanga Kimbugwe Kaloli',\n",
        "  'Yefusa Khamali',\n",
        "  'Galasino Kinto',\n",
        "  'Justus Robert Bashekana',\n",
        "  'Emmanuel Kasujja',\n",
        "  'Leo Nyendwoha',\n",
        "  'Joseph Andabati',\n",
        "  'Dauson John Bageya',\n",
        "  'William Bataringaya',\n",
        "  'Leo Mwebaze',\n",
        "  'Sowedi Kanunyuzi',\n",
        "  'Stephen Sunday',\n",
        "  'Celestino Olango'],\n",
        " 3198: ['Peter EKusai', 'Levi Odongo', 'Abel Olero', 'Max Opii'],\n",
        " 3199: ['Omara Atubo', 'Zachary Olum', 'Irene Apiu Julu'],\n",
        " 3201: ['Emmanuel Kasujja', 'Yefusa Khamali', 'Haji Musa Ssebirumbi'],\n",
        " 3202: ['Silver Tugugu',\n",
        "  'Richard Odongpiny-Omal',\n",
        "  'Sisto Obwoma',\n",
        "  'Erizefani Kasakya',\n",
        "  'William Gurikacha',\n",
        "  'Jeflin Lubega',\n",
        "  'Haji Musa Ssebirumbi',\n",
        "  'Ronald',\n",
        "  'Amisi Katarikawe',\n",
        "  'James Kinyingi Muwanga',\n",
        "  'John Bosco Kiwanuka',\n",
        "  'Benson Komakech',\n",
        "  'Medadi Tindawesire',\n",
        "  'John Fisher Iga',\n",
        "  'Bashir Kanunyuzi',\n",
        "  'Lwanga Kimbugwe Kaloli',\n",
        "  'Yefusa Khamali',\n",
        "  'Galasino Kinto',\n",
        "  'Justus Robert Bashekana',\n",
        "  'Ronald Owino',\n",
        "  'Emmanuel Kasujja',\n",
        "  'Leo Nyendwoha',\n",
        "  'Joseph Andabati',\n",
        "  'Dauson John Bageya',\n",
        "  'William Bataringaya',\n",
        "  'Leo Mwebaze',\n",
        "  'Sowedi Kanunyuzi',\n",
        "  'Stephen Sunday',\n",
        "  'Celestino Olango'],\n",
        " 3204: ['Jean-Francois David'],\n",
        " 3206: ['Jean-Francois David Uganda', 'Jean-Francois David'],\n",
        " 3209: ['Dominiko Oboth',\n",
        "  'Salim Ikuluba',\n",
        "  'Fred Tindikira',\n",
        "  'Simba Ogwang',\n",
        "  'Silver Ongom',\n",
        "  'Kelly Omuge',\n",
        "  'Edward Mpagi',\n",
        "  'Paulo Kayondo',\n",
        "  'Badru Babalanda',\n",
        "  'Paulo Matovu',\n",
        "  'Joseph Muganga',\n",
        "  'Frank Byaruhanga',\n",
        "  'Haji Mohamed Birikadde',\n",
        "  'Peter Osunge',\n",
        "  'Badru Walakira',\n",
        "  'Paulo Musisi',\n",
        "  'Karisiti Sebugwawo',\n",
        "  'Herbert Kasolo',\n",
        "  'Abdalla Nebudere',\n",
        "  'Abdu Mukasa',\n",
        "  'Peter Ndasonzerura',\n",
        "  'Joseph Mukasa Mubiru',\n",
        "  'Salimu Mulumba',\n",
        "  'Abdallah Nassur',\n",
        "  'Aloysius Ndibowa',\n",
        "  'Suleiman Ojasi',\n",
        "  'Peter Osungei'],\n",
        " 3225: ['Soumane Toure', 'Salif Kabore'],\n",
        " 3226: ['Diallo Firmin'],\n",
        " 3227: ['Beba Gambila',\n",
        "  'Bassold Baliun',\n",
        "  'Dah Guiuorote',\n",
        "  'Neya Zoumzaye',\n",
        "  'Norgho Joseph',\n",
        "  'Songo Ousmane',\n",
        "  'Pare Drissa'],\n",
        " 3228: ['Joseph Mock Sack',\n",
        "  'Burkina',\n",
        "  'Raymond Train Poda',\n",
        "  'Passate Ouedraogo',\n",
        "  'Tibo Ouedraogo',\n",
        "  'Kouka Adama Ouedraogo',\n",
        "  'Mohamed Salam',\n",
        "  'Issouf Sawadogo',\n",
        "  'Moumouni Traore',\n",
        "  'Mousbila Sankara',\n",
        "  'Guillaume Sessouma'],\n",
        " 3229: ['Raymond Train Poda',\n",
        "  'Moumouni Traore',\n",
        "  'Burkina Faso',\n",
        "  'Tibo Ouedraogo Burkina Faso'],\n",
        " 3230: ['Emile Zigani', 'Blaise Sidiani', 'Emile Zigani Burkina Faso'],\n",
        " 3231: ['Sankara',\n",
        "  'Pierre Bidima',\n",
        "  'Halidou Ou\\xc3\\xa9draogo',\n",
        "  'Tol\\xc3\\xa9 Sagnon',\n",
        "  'Norbert Tiendr_b_ogo',\n",
        "  'Etienne Traor\\xc3\\xa9',\n",
        "  'Etienne Traor',\n",
        "  'Norbert Tiendr\\xc3\\xa9b\\xc3\\xa9ogo',\n",
        "  'B\\xc3\\xa9n\\xc3\\xa9wend\\xc3\\xa9 Sankara'],\n",
        " 3233: ['Soumane Toure'],\n",
        " 3235: ['Jean-Clement Bagre',\n",
        "  'Boukary Dabo',\n",
        "  'Burkina Faso',\n",
        "  'Sie Souleymane Coulibaly'],\n",
        " 3236: ['Emile Zigani',\n",
        "  'Blaise Sidiani',\n",
        "  'Boulgou',\n",
        "  'Emile Zigani Burkina Faso'],\n",
        " 3241: ['Joseph Mock Sack',\n",
        "  'Tibo Ouedraogo',\n",
        "  'Raymond Train Poda',\n",
        "  'Passate Ouedraogo',\n",
        "  'Kouka Adama Ouedraogo',\n",
        "  'Mohamed Salam',\n",
        "  'Issouf Sawadogo',\n",
        "  'Moumouni Traore',\n",
        "  'Mousbila Sankara',\n",
        "  'Guillaume Sessouma',\n",
        "  'Karim Sankara',\n",
        "  'Moussa Kabore',\n",
        "  'Burkina Faso'],\n",
        " 3243: ['Guy Yogo', 'Moussa Michel Tapsoba'],\n",
        " 3244: ['Joseph Mock Sack',\n",
        "  'Karim Sandara',\n",
        "  'Tibo Ouedraogo',\n",
        "  'Raymond Train Poda',\n",
        "  'Passate Ouedraogo',\n",
        "  'Kouka Adama Ouedraogo',\n",
        "  'Mohamed Salam',\n",
        "  'Issouf Sawadogo',\n",
        "  'Moumouni Traore',\n",
        "  'Mousbila Sankara',\n",
        "  'Guillaume Sessouma',\n",
        "  'Moussa Kabore',\n",
        "  'Burkina Faso'],\n",
        " 3245: ['Serge Tall',\n",
        "  'Christophe Dima',\n",
        "  'Guy Yogo',\n",
        "  'Moussa Michel Tapsoba',\n",
        "  'Daouda Traore',\n",
        "  'Sara Sereme'],\n",
        " 3246: ['Jean-Clement Bagre',\n",
        "  'Burkina Faso',\n",
        "  'Dabo Seni Konanda',\n",
        "  'Sie Souleymane Coulibaly'],\n",
        " 3248: ['Soumane Toure'],\n",
        " 3249: ['Burkina Faso'],\n",
        " 3250: ['Joseph Mock Sack',\n",
        "  'Mousbila Sandara',\n",
        "  'Tibo Ouedraogo',\n",
        "  'Raymond Train Poda',\n",
        "  'Passate Ouedraogo',\n",
        "  'Kouka Adama Ouedraogo',\n",
        "  'Mohamed Salam',\n",
        "  'Issouf Sawadogo',\n",
        "  'Moumouni Traore',\n",
        "  'Guillaume Sessouma',\n",
        "  'Karim Sankara',\n",
        "  'Moussa Kabore',\n",
        "  'Burkina Faso'],\n",
        " 3252: ['Pelegsonri Moumouni',\n",
        "  'Nana Koudbi Gnowende',\n",
        "  'Zare Zakaria',\n",
        "  'Sawadogo Salfo',\n",
        "  'Zombre Seydou',\n",
        "  'Tassembedo Albert',\n",
        "  'Soala Mathieu',\n",
        "  'Burkina Faso'],\n",
        " 3253: ['Jean-Clement Bagre',\n",
        "  'Seni Konanda',\n",
        "  'Dabo',\n",
        "  'Burkina Faso',\n",
        "  'Sie Souleymane Coulibaly'],\n",
        " 3254: ['Soumane Toure'],\n",
        " 3255: ['Serge Tall',\n",
        "  'Christophe Dima',\n",
        "  'Guy Yogo',\n",
        "  'Germain Bationo',\n",
        "  'Moussa Michel Tapsoba',\n",
        "  'Daouda Traore',\n",
        "  'Sara Sereme'],\n",
        " 3256: ['Burkina Faso', 'Guillaume Sessouma'],\n",
        " 3258: ['Guy Yogo',\n",
        "  'Sara Sereme',\n",
        "  'Germain Bationo',\n",
        "  'Christophe Dima',\n",
        "  'Serge Tall'],\n",
        " 3260: ['Makanda Mpinga Shambuyi'],\n",
        " 3261: ['Kabongo Crispin',\n",
        "  'Kamanda Ngandu',\n",
        "  'Tshimanga Pierre',\n",
        "  'Muntabo Jean',\n",
        "  'Milambo Jules',\n",
        "  'Tumba Kabedi',\n",
        "  'Mbombo Albertine',\n",
        "  'Songo Makanda',\n",
        "  'Mutombo Jean',\n",
        "  'Ilunga Crispin',\n",
        "  'Mbuyi Emerance'],\n",
        " 3262: ['Lumumba',\n",
        "  'Ngandu',\n",
        "  'Sapue Kumene',\n",
        "  'Lusamba Mubi-Malu',\n",
        "  'Miseia Kabulu Christophe',\n",
        "  'Mpasu Mabanza',\n",
        "  'Olongo Mamba Jean-Marie',\n",
        "  'Loko',\n",
        "  'Ekongo Udimba Paul',\n",
        "  'Otete Gaston'],\n",
        " 3263: ['Mobutu'],\n",
        " 3264: ['Nessy Ngungasa', 'Yakobi', 'Nkass Mbimbi'],\n",
        " 3265: ['Kange',\n",
        "  'Second-Lieutenant Otongo',\n",
        "  'Mboko',\n",
        "  'Corporal Ngoma',\n",
        "  'Bokumu',\n",
        "  'Mulelwa',\n",
        "  'Malibizi',\n",
        "  'Corporal Kikuna',\n",
        "  'Mosolo'],\n",
        " 3266: ['Roger Sala Nzo Badila'],\n",
        " 3267: ['Louis Botombili Kalome', 'Louis Botimbili Kalome'],\n",
        " 3268: ['Jeanine Mukanirwa', 'Jean-Marie Rusimbuku', 'Ntabarusha Mungu'],\n",
        " 3269: ['Tshisekedi', 'Mulumba'],\n",
        " 3270: ['Tshibanda Tshingambo',\n",
        "  'Justin Kapitane Mwamba',\n",
        "  'Pierre Lumbi Okongo'],\n",
        " 3272: ['Mukuna Georges Anderson',\n",
        "  'Mukendi Placide',\n",
        "  'Lukulungu Martin',\n",
        "  'Mbuyi Kalombo',\n",
        "  'Mbayi',\n",
        "  'Mutombo Anaclet'],\n",
        " 3273: ['Luanda Kibaho',\n",
        "  'Ndasimwa Malira',\n",
        "  'Muhindo Mawazo',\n",
        "  'Kamulete Ngabo',\n",
        "  'Bahati Basimolerwa',\n",
        "  'Malira Kabuya',\n",
        "  'Byamungu Kahima',\n",
        "  'Bonane'],\n",
        " 3274: ['Kokolo', 'Eugene Diomi Ndongala Nzomambu'],\n",
        " 3275: ['Louis Botimbili Kalome'],\n",
        " 3276: ['Jeanine Mukanirwa',\n",
        "  'Aim\\xc3\\xa9e Ntabarusha Mungu',\n",
        "  'Jean-Marie Rusimbuku',\n",
        "  'Ntabarusha Mungu'],\n",
        " 3277: ['Golden Misabiko'],\n",
        " 3278: ['Floribert Chebeya Bahizire'],\n",
        " 3279: ['Akuka Atangowena'],\n",
        " 3280: ['Tshisekedi', 'Mulumba'],\n",
        " 3281: ['Tosomba Owale Henriette', 'Ekesombo Helene', 'Lokanu Ekonga Marie'],\n",
        " 3283: ['Byamungu Kahima', 'Ndasimwa Malira', 'Malira Kabuya'],\n",
        " 3284: ['Joseph Kanku Pinganay'],\n",
        " 3285: ['Jean Marie Lukudji',\n",
        "  'Justin Kapempe',\n",
        "  'Emmanuel Cole',\n",
        "  'Ingele Ifoto',\n",
        "  'Mossi Mwassi',\n",
        "  'Zahidi Arthur Ngoma'],\n",
        " 3286: ['Christophe Bintu', 'Bienvenu Kasole'],\n",
        " 3287: ['Jeanine Mukanirwa'],\n",
        " 3288: ['Jos\\xef\\xbf\\xbd Lifumba Botumbele',\n",
        "  'Bienvenu Tungu Mukumbu',\n",
        "  'Charles F\\xef\\xbf\\xbdlix Kianza Bata',\n",
        "  'Jos\\xc3\\xa9 Lifumba Botumbele',\n",
        "  'Lusiladio Mavambu',\n",
        "  'Basisa Iyondo',\n",
        "  'Bona Kongbo Nzingaba',\n",
        "  'Nlandu',\n",
        "  'Claude Gayo Tenvo',\n",
        "  'Andr\\xc3\\xa9',\n",
        "  'Charles F\\xc3\\xa9lix Kianza Bata',\n",
        "  'Gbala Kukambisa',\n",
        "  'Marie-Th\\xc3\\xa9r\\xc3\\xa8se Nlandu',\n",
        "  'Ruffin Edjanga Fataki'],\n",
        " 3290: ['Tshisekedi', 'Mulumba'],\n",
        " 3292: ['Fernand Tala-Ngai'],\n",
        " 3293: ['Tshisekedi', 'Mobutu', 'Etienne Tshisekedi'],\n",
        " 3294: ['Blaise Banzwa Kabo', 'Gabriel Kyamusoke', 'Gabriel Kamusoke'],\n",
        " 3295: ['Adrien Phongo Kunda',\n",
        "  'Kisimba Ngoy',\n",
        "  'Cleophas Kamitatu Masamba',\n",
        "  'Bofassa Djema',\n",
        "  'Joseph Mukendi',\n",
        "  'Mulumba'],\n",
        " 3296: ['Laurent-D\\xc3\\xa9sir\\xc3\\xa9 Kabila',\n",
        "  'Anne-Marie Masumbuko Mwali',\n",
        "  'Kabila',\n",
        "  'Rosette Kamwanya Beya'],\n",
        " 3299: ['Kyungu Mukange'],\n",
        " 3300: ['Kahindo Bozelo', 'Mbholu'],\n",
        " 3301: ['Fernand Tala-Ngai'],\n",
        " 3302: ['Mobutu', 'Etienne Tshisekedi'],\n",
        " 3303: ['Mozoi Ramazani', 'Eboka Makusa'],\n",
        " 3304: ['Leonard Kamalebo'],\n",
        " 3305: ['Kokolo', 'Christophe Bintu', 'Bienvenu Kasole'],\n",
        " 3306: ['Jean-Louis Bosenyi',\n",
        "  'Kasilibani Kabamba',\n",
        "  'Djuma Banga',\n",
        "  'Ilunga Mbaya',\n",
        "  'Kuna Diavanga'],\n",
        " 3307: [\"N'sii Luanda Shandwe\"],\n",
        " 3309: ['Joseph Dunia Ruyenzi'],\n",
        " 3310: ['Tshisekedi', 'Mulumba'],\n",
        " 3311: ['Kahindo Bozelo', 'Mbholu'],\n",
        " 3312: ['Tshibanda Tshingambo',\n",
        "  'Justin Kapitane Mwamba',\n",
        "  'Pierre Lumbi Okongo'],\n",
        " 3314: ['Mbayi Kalombo',\n",
        "  'Marcel Kabongo',\n",
        "  'Joseph Olenga Nkoyi',\n",
        "  'Lambert Tshishimbi',\n",
        "  'Bosco Kalala Ntambwe',\n",
        "  'Mukendi Kabongo',\n",
        "  'Dolly Tshimpaka Tambwe',\n",
        "  'Etienne Tshisekedi',\n",
        "  'Mutombo Kalala',\n",
        "  'Kasongo Tshilenga',\n",
        "  'Gustave Lemba',\n",
        "  'Martin Liongo',\n",
        "  'Josue Bakatumana Mulowayi',\n",
        "  'Anderson Mukoma',\n",
        "  'Jean Kalenga'],\n",
        " 3315: ['Byamungu Kahima', 'Ndasimwa Malira', 'Malira Kabuya'],\n",
        " 3316: ['Kokolo', 'Christophe Bintu', 'Bienvenu Kasole'],\n",
        " 3317: ['Floribert Mirimo',\n",
        "  'Weteshe Mahindule',\n",
        "  'Muhima Kamayole',\n",
        "  'Muhombo Mirimo',\n",
        "  'Munihire Mirimo'],\n",
        " 3318: ['Makanda Mpinga Shambuyi', 'Lumbu Maloba Ndiba'],\n",
        " 3319: ['Kyungu Mukange'],\n",
        " 3320: ['Kabongo Crispin',\n",
        "  'Kamanda Ngandu',\n",
        "  'Tshimanga Pierre',\n",
        "  'Muntuabo Jean',\n",
        "  'Milambo Jules',\n",
        "  'Ngalula Alphonsine',\n",
        "  'Mbombo Albertine',\n",
        "  'Songo Makanda',\n",
        "  'Tumba Kabedi',\n",
        "  'Ilunga Crispin',\n",
        "  'Mbuyi Emerance',\n",
        "  'Mutombo Makaku'],\n",
        " 3321: ['Mbayi Kalombo',\n",
        "  'Marcel Kabongo',\n",
        "  'Joseph Olenga Nkoyi',\n",
        "  'Bosco Kalala Ntambwe',\n",
        "  'Mukendi Kabongo',\n",
        "  'Dolly Tshimpaka Tambwe',\n",
        "  'Mbayi',\n",
        "  'Etienne Tshisekedi',\n",
        "  'Lambert',\n",
        "  'Mutombo Kalala',\n",
        "  'Kasongo Tshilenga',\n",
        "  'Gustave Lemba',\n",
        "  'Martin Liongo',\n",
        "  'Josue Bakatumana Mulowayi',\n",
        "  'Anderson Mukoma',\n",
        "  'Jean Kalenga'],\n",
        " 3322: ['Adrien Phongo Kunda',\n",
        "  'Kisimba Ngoy',\n",
        "  'Cleophas Kamitatu Masamba',\n",
        "  'Bofassa Djema',\n",
        "  'Joseph Mukendi',\n",
        "  'Mulumba'],\n",
        " 3323: ['Golden Misabiko Baholelwa', 'Hubert Tshiswaka Jeanne Bilonda'],\n",
        " 3324: [\"N'sii Luanda Shandwe\"],\n",
        " 3325: ['Joseph Dunia Ruyenzi', 'Ma\\xc3\\xaetre Dunia', 'Dunia'],\n",
        " 3328: ['Mulumba',\n",
        "  'Tshisekedi',\n",
        "  'Birindwa',\n",
        "  'Kabeya Kasuku',\n",
        "  'Bijanu Mutunda',\n",
        "  'Kadima Mutuntu'],\n",
        " 3329: ['Balanganayi Ntambwe',\n",
        "  'Katshiunga Mwenye Mari',\n",
        "  'Nzembela Kankolongo',\n",
        "  'Kalolo Nkima'],\n",
        " 3330: ['Ngandu',\n",
        "  'Sapue Kumene',\n",
        "  'Lusamba Mubi-Malu',\n",
        "  'Miseia Kabulu Christophe',\n",
        "  'Mpasu Mabanza',\n",
        "  'Olongo Mamba Jean-Marie',\n",
        "  'Loko',\n",
        "  'Ekongo Udimba Paul',\n",
        "  'Otete Gaston'],\n",
        " 3331: ['Babibango',\n",
        "  'Kandolo Mulumba',\n",
        "  'Kenge Mukengeshayi',\n",
        "  'Mulumba Kandolo'],\n",
        " 3332: ['Willy Mishiki', 'Joseph Olenga Nkoy'],\n",
        " 3333: ['Golden Misabiko Baholelwa', 'Jeanne Bilonda', 'Hubert Tshiswaka'],\n",
        " 3334: ['Kikandi Shandwe',\n",
        "  'Bernard Bafulwa Baranga',\n",
        "  'Z\\xc3\\xa9lote Farini Luendo Shandwe',\n",
        "  'Farini Luendo Shandwe'],\n",
        " 3335: ['N\\xc2\\x92sii Luanda Shandwe',\n",
        "  'Luanda Shandwe',\n",
        "  'N?sii Luanda Shandwe'],\n",
        " 3336: ['Marie-Th\\xc3\\xa9r\\xc3\\xa8se Nlandu'],\n",
        " 3337: ['Akuka Atangowena'],\n",
        " 3339: ['Guillaume Ngefa',\n",
        "  'Dieudonne Nyangele',\n",
        "  'Olenga Nkoy',\n",
        "  'Mukendi wa Mulumba',\n",
        "  'Justin Mobikayi',\n",
        "  'Michel Kembo'],\n",
        " 3340: ['Batabiha Bushoki', 'Jimmy Carter'],\n",
        " 3341: ['Didi Mwati Bulambo'],\n",
        " 3342: ['Rugemaninzi',\n",
        "  'Cubaka',\n",
        "  'Kabila',\n",
        "  'Augustin Babunga',\n",
        "  'D\\xc3\\xa9sir\\xc3\\xa9 Rugemaninzi',\n",
        "  'Masu Ga Rugamika',\n",
        "  'Espoir Ruhigita Bulangalire',\n",
        "  'Pierre Ndatabaye',\n",
        "  'Kamola Muderhwa'],\n",
        " 3343: ['Modeste Mutinga',\n",
        "  'Andre Ipakala',\n",
        "  'Marie-Ange Lukiana',\n",
        "  'Docteur Kambamba Mbwebwe'],\n",
        " 3344: ['Jules-C\\xc3\\xa9sar Mayimbi'],\n",
        " 3345: ['Nlandu', 'Marie-Th\\xc3\\xa9r\\xc3\\xa8se Nlandu'],\n",
        " 3346: ['Tshisekedi', 'Mulumba'],\n",
        " 3347: ['Topango'],\n",
        " 3348: ['Michel Kembo',\n",
        "  'Mukendi wa Mulumba',\n",
        "  'Justin Mobikayi',\n",
        "  'Dieudonne Nyangele',\n",
        "  'Olenga Nkoy'],\n",
        " 3349: ['Batabiha Bushoki'],\n",
        " 3350: ['Pasteur Muzizi', 'Pasteur Bugunzu', 'Kabande'],\n",
        " 3351: ['Elompasi',\n",
        "  'D\\xc3\\xa9mocrate Mukanya',\n",
        "  'Fran\\xc3\\xa7ois Tshimbumba',\n",
        "  'D?nis Kanyinda',\n",
        "  'Laurent Kabila',\n",
        "  'Pierre Kafungi',\n",
        "  'Alexandre Katambayi',\n",
        "  'D\\xc3\\xa9nis Kanyinda',\n",
        "  'Jean-Maire Tshimanga',\n",
        "  'Mukanya',\n",
        "  'Willy Kanku',\n",
        "  'D\\xc3\\xa9sir\\xc3\\xa9 Elompasi',\n",
        "  'Etienne Tshisekedi',\n",
        "  'L\\xc3\\xa9onard Bozi'],\n",
        " 3352: ['Modeste Mutinga',\n",
        "  'Andre Ipakala',\n",
        "  'Marie-Ange Lukiana',\n",
        "  'Docteur Kambamba Mbwebwe'],\n",
        " 3353: ['Floribert Chebeya Bahizire'],\n",
        " 3354: ['Jules-C\\xc3\\xa9sar Mayimbi'],\n",
        " 3355: ['Z\\xc3\\xa9lote Farini',\n",
        "  'Djento Mahungu',\n",
        "  'Bernard Bafulwa Baranga',\n",
        "  'Farini',\n",
        "  'Simon Salumu',\n",
        "  'Kikandi Shandwe'],\n",
        " 3358: ['Mulumba',\n",
        "  'Kanana Tshiongo',\n",
        "  'Tshisekedi',\n",
        "  'Birindwa',\n",
        "  'Kabeya Kasuku',\n",
        "  'Bijanu Mutunda',\n",
        "  'Kyungu Mukange',\n",
        "  'Mukandila Mpiana',\n",
        "  'Kadima Mutuntu'],\n",
        " 3359: ['Balanganayi Ntambwe',\n",
        "  'Nzembela Kankolongo',\n",
        "  'Kalolo Nkima',\n",
        "  'Katshiunga Mwenya Mari'],\n",
        " 3360: ['Katako Said', 'Dibinga wa Said', 'Yusuf Simba'],\n",
        " 3361: ['Lambert Mbunganyi', 'Didi Mwati Bulambo', 'Donatien Mazambi'],\n",
        " 3362: ['Albert Bosangi'],\n",
        " 3363: ['Th?odore Bosange',\n",
        "  'Albert Gilbert Bosange Yema',\n",
        "  'Th\\xc3\\xa9odore Bosange'],\n",
        " 3364: ['Floribert Mirimo',\n",
        "  'Muhima Kamayole',\n",
        "  'Muhombo Mirimo',\n",
        "  'Munihire Mirimo'],\n",
        " 3366: ['Hubert Tshiswaka'],\n",
        " 3367: ['Akuka Atangowena'],\n",
        " 3368: ['Kabongo', 'Mangala Ngolu Ndoki'],\n",
        " 3369: ['Katako Said', 'Dibinga wa Said', 'Yusuf Simba'],\n",
        " 3370: ['Lambert Mbunganyi', 'Didi Mwati Bulambo', 'Donatien Mazambi'],\n",
        " 3371: ['Floribert Chebeya Bahizire'],\n",
        " 3372: ['Kabila',\n",
        "  'Laurent-Desir\\xc3\\xa9 Kabila',\n",
        "  'Andre Ipakala',\n",
        "  'Laurent-Desir',\n",
        "  'Modeste Mutinga',\n",
        "  'Docteur Kambamba Mbwebwe'],\n",
        " 3373: ['Tito Kigwenu',\n",
        "  'Bigabo Ntwayingabo',\n",
        "  'Budederi Bigabo',\n",
        "  'Andrea Nyamarimbwe',\n",
        "  'Mo\\xc3\\xafse Mudita',\n",
        "  'Mo\\xef\\xbf\\xbdse Mudita',\n",
        "  'Fanuel Sebatutsi',\n",
        "  'Muvura Munyakazi',\n",
        "  'Bigabo',\n",
        "  'Bienvenu Rugagaza',\n",
        "  'Mugaju Ruterera',\n",
        "  'Muzero',\n",
        "  'Rusingizwa Bitebetebe'],\n",
        " 3378: ['Birindwa'],\n",
        " 3379: ['Balanganayi Ntambwe',\n",
        "  'Katshiunga Mwenye Mari',\n",
        "  'Nzembela Kankolongo',\n",
        "  'Kalolo Nkima'],\n",
        " 3380: ['Kabunga',\n",
        "  'Muhozi',\n",
        "  'Hutu',\n",
        "  'Tabura Kabuga',\n",
        "  'Kacuku',\n",
        "  'Ndayambaje',\n",
        "  'Tutsi',\n",
        "  'Hunde'],\n",
        " 3381: ['Kabila', 'Muderwa'],\n",
        " 3382: ['Badouin Hamuli Kaobarhuza', 'Badouin Hamuli Kabarhuza'],\n",
        " 3383: ['Jonas Mukamba',\n",
        "  'Mieke Rang',\n",
        "  'Nkashama',\n",
        "  'Caroline Pare',\n",
        "  'Pierre Mombele',\n",
        "  'Tshisumpa',\n",
        "  'Mianda Tshimona',\n",
        "  'Tshitenge',\n",
        "  'Christophe Tshimona'],\n",
        " 3384: ['Luanda Shandwe', \"N'sii Luanda Shandwe\"],\n",
        " 3385: ['Djento Mahungu'],\n",
        " 3386: ['Mulamba Tshisakamba',\n",
        "  'Kumwamba Nsapu',\n",
        "  'Gr\\xc3\\xa9goire Mulamba Tshisakamba'],\n",
        " 3388: ['Kyungu Mukange'],\n",
        " 3389: ['Kabongo', 'Boniface', 'Mangala Ngolu Ndoki'],\n",
        " 3391: ['Baudouin Hamuli Kabarhuza', 'Hamuli'],\n",
        " 3392: ['Floribert Chebeya Bahizire'],\n",
        " 3393: [\"N'sii Luanda Shandwe\"],\n",
        " 3394: ['Luanda Shandwe'],\n",
        " 3397: ['Tshimanga', 'David'],\n",
        " 3398: ['Kalala Mbenga Kalao'],\n",
        " 3399: ['Kabuku Makule', 'Kisinyabo Kambere', 'Albert Muhingi'],\n",
        " 3400: ['Freddy Kitoko.Members', 'Freddy Kitoko'],\n",
        " 3401: ['Musoko', 'Honor\\xc3\\xa9 Musoko'],\n",
        " 3404: ['Kabunga', 'Muhozi', 'Ndayambaje', 'Tabura Kabuga', 'Kasuku'],\n",
        " 3405: ['Tutsi'],\n",
        " 3406: ['Jonas Mukamba Dadiata', 'Kumbu Kumbel', 'Jonas Mukamba Kadiata'],\n",
        " 3407: ['Joel Mafuta',\n",
        "  'Vianga Mwana',\n",
        "  'Mampasi',\n",
        "  'Laurent Kantu Lumpungu',\n",
        "  'Gerard Lukoki',\n",
        "  'Hassan Kabengele',\n",
        "  'Felly Mawila',\n",
        "  'Simon Mbengi'],\n",
        " 3408: ['Jonas Mukamba Kadiata',\n",
        "  'Mieke Rang',\n",
        "  'Caroline Pare',\n",
        "  'Pierre Mombele',\n",
        "  'Mianda Tshimona',\n",
        "  'Tshisumpa'],\n",
        " 3411: ['Mulumba',\n",
        "  'Kanana Tshiongo',\n",
        "  'Tshisekedi',\n",
        "  'Birindwa',\n",
        "  'Ndiadia',\n",
        "  'Kabeya Kasuku',\n",
        "  'Bijanu Mutunda',\n",
        "  'Kyungu Mukange',\n",
        "  'Mangala',\n",
        "  'Mukandila Mpiana',\n",
        "  'Kadima Mutuntu'],\n",
        " 3412: ['Lambert Tshitshimbi Katombe', 'Felix Mbayi Kalombo'],\n",
        " 3413: ['Pasteur Muzizi', 'Pasteur Semutobo', 'Pasteur Bugunzu', 'Kabande'],\n",
        " 3414: ['Kumbu Kumbel', 'Jonas Mukamba Kadiata'],\n",
        " 3415: ['Mukalayi', 'Michel Rudatenguha'],\n",
        " 3416: [\"N'sii Luanda Shandwe\"],\n",
        " 3417: ['Tshisekedi', 'Mulumba', 'Bijanu Mutunda'],\n",
        " 3418: ['Alidor Mwambantita'],\n",
        " 3419: ['Jonas Mukamba Kadiata',\n",
        "  'James',\n",
        "  'Caroline Pare',\n",
        "  'Pierre Mombele',\n",
        "  'Mieke Rang',\n",
        "  'Mianda Tshimona',\n",
        "  'Tshisumpa'],\n",
        " 3420: ['Musoko', 'Honor\\xc3\\xa9 Musoko'],\n",
        " 3421: ['Paul Ndokayi', 'Yawa Gomonza'],\n",
        " 3423: ['Kanana Tshiongo',\n",
        "  'Mangala',\n",
        "  'Ndiadia',\n",
        "  'Kabeya Kasuku',\n",
        "  'Kyungu Mukange',\n",
        "  'Mukandila Mpiana',\n",
        "  'Kadima Mutuntu'],\n",
        " 3424: ['Tutsi'],\n",
        " 3425: ['Jonas Mukamba Kadiata'],\n",
        " 3426: ['Ngonga', 'Matabaro', 'Musema Gatabazi', 'Sankara', 'Kale Muhoza'],\n",
        " 3427: ['Catherine Nzuzi', 'Mbombo'],\n",
        " 3428: [\"N'sii Luanda Shandwe\"],\n",
        " 3429: [\"N'sii Luanda Shandwe\"],\n",
        " 3433: ['Kyungu Mukange'],\n",
        " 3434: ['Richard Mpiana Kalenga',\n",
        "  'Germaine Mputu Mpinda',\n",
        "  'Anthos Mulamba Nyunyi',\n",
        "  'Aaron Aidin Abala',\n",
        "  'Robby Tshimbalanga Ngilima',\n",
        "  'Luck Kayembe Ndonda',\n",
        "  'Etienne Abdoul Karim Tshikala'],\n",
        " 3435: ['Mushizi Nfundiko Kizito', 'Omba Kamengele'],\n",
        " 3438: ['Immaculee Birhaheka'],\n",
        " 3439: ['Mushizi Nfundiko Kizito', 'Omba Kamengele', 'Raphael Wakenge'],\n",
        " 3440: ['Muzalia Wakyebwa',\n",
        "  'Paulin Bapolisi',\n",
        "  'R\\xc3\\xa9gine Mutijima',\n",
        "  'Karume',\n",
        "  'Lusambo',\n",
        "  'Gervais Chirhalwira Nkunzimana',\n",
        "  'Bonheur Badesire Isungu'],\n",
        " 3443: ['Immacul\\xc3\\xa9e Birhaheka', 'Birhaheka'],\n",
        " 3444: ['Philippe Bilisi'],\n",
        " 3445: ['Freddy Loseke Lisumbu la Yayenga', 'Freddy Loseke Lisumbu'],\n",
        " 3446: ['Anne-Marie Kamwanya Masumbuko',\n",
        "  'Laurent-D\\xc3\\xa9sir\\xc3\\xa9 Kabila',\n",
        "  \"N'sii Luanda Shandwe\",\n",
        "  'Kabila'],\n",
        " 3447: ['Donatien Kisangani Mukatamwina'],\n",
        " 3448: ['Richard Kianza',\n",
        "  'Pasteur Jos\\xef\\xbf\\xbd Inonga',\n",
        "  'Marie-Th\\xc3\\xa9r\\xc3\\xa8se Nlandu',\n",
        "  'Gaillot',\n",
        "  'Gauthier Lusadisu',\n",
        "  'Nlandu Mpolo-Nene',\n",
        "  'Bienvenu Makumbu',\n",
        "  'Pasteur Jos\\xc3\\xa9 Inonga',\n",
        "  'Marie-Th\\xc3\\xa9r\\xc3\\xa8se Nlandu Mpolo-Nene'],\n",
        " 3450: ['Bossassi Epole Bolya Kodya'],\n",
        " 3451: ['Harouna Mbongo',\n",
        "  'Floribert Chebeya Bahizire',\n",
        "  'Bashi Nabukili',\n",
        "  'Tutsi'],\n",
        " 3452: ['Kianza Lumbete', 'Kiambukuta Komisa'],\n",
        " 3453: ['Laurent Kantu Lumpungu'],\n",
        " 3454: ['Freddy Loseke Lisumbu la Yayenga', 'Freddy Loseke Lisumbu'],\n",
        " 3455: [\"N'sii Luanda Shandwe\"],\n",
        " 3457: ['Diomba Ramazani', 'Bertin Lukanda', 'Haki Za Binadamu'],\n",
        " 3458: ['Dianambo Mushakamba',\n",
        "  'Zamba Wali',\n",
        "  'Kwangwe Lwimbo',\n",
        "  'Amisi Masimangu',\n",
        "  'Bofamba Jean',\n",
        "  'Kabasele Tshiondo',\n",
        "  'Kenga Ngoy',\n",
        "  'Lemba Erick',\n",
        "  'Ruaga Hungu',\n",
        "  'Tshisola Piere Yiukilayi',\n",
        "  'Badibanga Kakonde',\n",
        "  'Tshibuabua Mukubayi',\n",
        "  'Mbuyu'],\n",
        " 3459: ['Mushizi Nfundiko Kizito', 'Omba Kamengele', 'Raphael Wakenge'],\n",
        " 3460: ['Tshisumpa', 'Jonas Mukamba Kadiata'],\n",
        " 3461: ['Golden Misabiko Baholelwa'],\n",
        " 3462: ['Harouna Mbongo', 'Floribert Chebeya Bahizire', 'Bashi Nabukili'],\n",
        " 3463: ['Diomba Ramazani', 'Asumani Dieudonne', 'Bertin Lukanda'],\n",
        " 3464: ['Patrice Kulenguluka',\n",
        "  'Mafuta Kizola',\n",
        "  'Rodolphe Matuka',\n",
        "  'Rufin Konda',\n",
        "  'Urbain Nkwasandi',\n",
        "  'Henri Mindele',\n",
        "  'Fid\\xc3\\xa8le Mizele'],\n",
        " 3465: ['Paulin Bapolisi',\n",
        "  'R\\xc3\\xa9gine Mutijima',\n",
        "  'Karume',\n",
        "  'Lusambo',\n",
        "  'Bonheur Badesire Isungu',\n",
        "  'Aloys Muzalia Wakyebwa'],\n",
        " 3467: ['Constantin Kabongo',\n",
        "  'Jean Albert Mulumba Mukoma',\n",
        "  'Denis Bibanza',\n",
        "  'Fils Mukoka',\n",
        "  'Jacques Kayena Lubanzadio',\n",
        "  'Pascal Kapuwas Ilunga',\n",
        "  'Hilaire Francois Mukandile Mpanya',\n",
        "  'Jean Pierre Tshilumba Mfuamba',\n",
        "  'Canado Lokwa'],\n",
        " 3468: ['Arony', 'Rugota'],\n",
        " 3469: [\"Feu d'Or Bonsange\", 'Clovis Kadda', 'Kala Bongamba'],\n",
        " 3470: ['Golden Misabiko Baholelwa'],\n",
        " 3471: ['Birindwa'],\n",
        " 3472: ['Joseph Olenga Nkoy', 'Willy Misihiki'],\n",
        " 3473: ['Didi Mwati Bulambo'],\n",
        " 3474: ['Marcel Mbayo',\n",
        "  'Jean Bosiluwa',\n",
        "  'Mulumba',\n",
        "  'Shabani',\n",
        "  'Mukendi',\n",
        "  'David Mukeba',\n",
        "  'Bernard Cikulu',\n",
        "  'Yoane Nkuba',\n",
        "  'Alexandre Kalambaye',\n",
        "  'Alphonse Mwamba',\n",
        "  'Pierre Lukusa',\n",
        "  'Modeste Kikunga',\n",
        "  'Joseph Mbuyi',\n",
        "  'Richard Bieme Ngalisame',\n",
        "  'Ezuluwa Monzemba',\n",
        "  'Firmin Nkama',\n",
        "  'Romain Mpoyi',\n",
        "  'Nyembo Yalumbu'],\n",
        " 3475: ['Raymond Kabala',\n",
        "  'Alidor Muamba Ntita',\n",
        "  'Odile Kalala',\n",
        "  'Etienne Richard Mbaya',\n",
        "  'Placide Mpoyi'],\n",
        " 3479: ['Diomba Ramazani',\n",
        "  'Dieudonne Asumani',\n",
        "  'Bertin Lukanda',\n",
        "  'Berti Lukanda'],\n",
        " 3480: ['Mbweyi Sanga Fr\\xc3\\xa9deric',\n",
        "  'Mbweyi Sanga',\n",
        "  'Nzayilu Malengo',\n",
        "  'Nzinga Kovatandi',\n",
        "  'Joseph Kumbu',\n",
        "  'Kiavedisa Kisita',\n",
        "  'Mukobo Puto',\n",
        "  'Arthur Mabiala'],\n",
        " 3481: ['Bonsange', 'Clovis Kadda', 'Kala Bongamba'],\n",
        " 3482: ['Jean-Pierre BUSINGISI', 'Omer KAMOSO', 'Karume'],\n",
        " 3483: [\"N'sii Luanda Shandwe\"],\n",
        " 3485: ['Didi Mwati Bulambo'],\n",
        " 3486: ['Kabamba', 'Charles Fuamba Mukendi'],\n",
        " 3487: ['Jonas Kabuyaya'],\n",
        " 3488: ['Golden Misabiko'],\n",
        " 3489: ['Issa Yuba',\n",
        "  'Dada Feza Rukeratabaro',\n",
        "  'Muzaliwa Maroy',\n",
        "  'Gaby Ngimbi Kiamba',\n",
        "  'Onza Kanda',\n",
        "  'Bukasa Musenga',\n",
        "  'Lambert Djunga Shango',\n",
        "  'Pierre Risasi'],\n",
        " 3490: ['Jonas Kabuyaya'],\n",
        " 3492: ['Guillaume Rugumbira Lwagunja',\n",
        "  'Batesema Mastaki',\n",
        "  'Anselme Masasu Nindaga',\n",
        "  'Ngalamulume Mukwege',\n",
        "  'Jimmy Katenda',\n",
        "  'Sebalende Bernard Munogolo',\n",
        "  'Odon Mweze',\n",
        "  'Vincent Madjaga'],\n",
        " 3493: ['Kanyongo Kisase'],\n",
        " 3494: ['Issa Yuba',\n",
        "  'Dada Feza Rukeratabaro',\n",
        "  'Muzaliwa Maroy',\n",
        "  'Gaby Ngimbi Kiamba',\n",
        "  'Onza Kanda',\n",
        "  'Pierre Risasi',\n",
        "  'Bukasa Musenga',\n",
        "  'Lambert Djunga Shango',\n",
        "  'Okumbo'],\n",
        " 3495: ['Kasereka Kihuvi', 'Kanyonyu', 'Lumbu Lumbu'],\n",
        " 3496: ['Antho Fari'],\n",
        " 3497: ['Muhendu',\n",
        "  'Mwamba',\n",
        "  'Kakulele',\n",
        "  'Kambale Bahekwa',\n",
        "  'Jonas Mutamo',\n",
        "  'Mbula Bwambukamo',\n",
        "  'Fran\\xc3\\xa7ois Mwamba'],\n",
        " 3498: ['Kabamba', 'Charles Fuamba Mukendi'],\n",
        " 3499: ['Roger Sala Nzo Badila', 'Nsii Luanda Shandwe'],\n",
        " 3500: ['Atoba John',\n",
        "  'Marcel Ngoy Wa Ngoyi',\n",
        "  'Justin Kapempe',\n",
        "  'Jean Marie Lukundji',\n",
        "  'Rene Ndjoli Ngoma',\n",
        "  'Jean Pierre Ngoma',\n",
        "  'Joseph Ngoma',\n",
        "  'Zahidi Arthur Ngoma',\n",
        "  'Elia Ona Bobo'],\n",
        " 3501: ['Alidor Muamba Ntita', 'Raymond Kabala'],\n",
        " 3502: ['Mikobi Bope',\n",
        "  'Tshikombo Mandjika',\n",
        "  'Beya Mulumba',\n",
        "  'Mulango',\n",
        "  'Leonard Fuka Unzola',\n",
        "  'Ngoie',\n",
        "  'Kasongo Dibwe'],\n",
        " 3503: ['Kasereka Kihuvi', 'Kanyonyu', 'Lumbu Lumbu'],\n",
        " 3504: ['Massibu Nkudi', 'Leonard Fuka Unzola', 'Leonard Fuka', 'Unzola'],\n",
        " 3505: ['Justin Kapempe',\n",
        "  'Ingele Ifoto',\n",
        "  'Zahidi Arthur Ngoma',\n",
        "  'Mosi Mwati',\n",
        "  'Jean Marie Lukundji'],\n",
        " 3506: ['Jean Habimana',\n",
        "  'Marie Bizimanyara',\n",
        "  'Maryse Habimana',\n",
        "  'Abimana Ngurukiye',\n",
        "  'Claude Nsengiyumva',\n",
        "  'Jeanne Lirangiwe',\n",
        "  'Zanardia Silikio',\n",
        "  'Laurent Butoyi',\n",
        "  'Susanne Kagabo',\n",
        "  'Cyrille Botwamunyu',\n",
        "  'Vincent Habimana',\n",
        "  'Dorothee Harerimana',\n",
        "  'Ida Dushimirimana',\n",
        "  'Jean-Louis Habimana',\n",
        "  'Alois Kaihura',\n",
        "  'Marthe Senwankuru',\n",
        "  'Antoine Nkurunziza'],\n",
        " 3507: ['Dieudonn\\xc3\\xa9 Amundala Kabengele'],\n",
        " 3510: ['Peter Chiko Bwalya', 'Stephen Mukata', 'Richard Mukonga'],\n",
        " 3511: ['Peter Lloyd Mwape'],\n",
        " 3512: ['Sianda Ilukena',\n",
        "  'Weze Kaunda',\n",
        "  'Steven Moyo',\n",
        "  'Cuthbert Nguni',\n",
        "  'Rupiya Banda',\n",
        "  'Philemon Lwabila',\n",
        "  'McPherson Mbulo',\n",
        "  'Henry Kamima',\n",
        "  'Stan Mutanga',\n",
        "  'Bonnie Tembo',\n",
        "  'Peter Lishika',\n",
        "  'Ackim Zimba',\n",
        "  'Rabson Chongo',\n",
        "  'Bweendo Mulengela',\n",
        "  'Peter Mwanza',\n",
        "  'Christopher Muyoka',\n",
        "  'Stanley Mhango',\n",
        "  'William Banda'],\n",
        " 3514: ['Peter Chiko Bwalya', 'Stephen Mukata', 'Richard Mukonga'],\n",
        " 3515: ['Sianda Ilukena',\n",
        "  'Weze Kaunda',\n",
        "  'Steven Moyo',\n",
        "  'Cuthbert Nguni',\n",
        "  'Rupiya Banda',\n",
        "  'Philemon Lwabila',\n",
        "  'McPherson Mbulo',\n",
        "  'Henry Kamima',\n",
        "  'Stan Mutanga',\n",
        "  'Bonnie Tembo',\n",
        "  'Peter Lishika',\n",
        "  'Wilfred Wanani',\n",
        "  'Ackim Zimba',\n",
        "  'Rabson Chongo',\n",
        "  'Bweendo Mulengela',\n",
        "  'Peter Mwanza',\n",
        "  'Christopher Muyoka',\n",
        "  'Panji Kaunda',\n",
        "  'Stanley Mhango',\n",
        "  'William Banda',\n",
        "  'Kenneth Kaunda'],\n",
        " 3516: [\"Fred M'membe\"],\n",
        " 3517: ['Goodson Machona',\n",
        "  'Lubasi Katundu',\n",
        "  'Kelvin Shimo',\n",
        "  'Amos Malupenga',\n",
        "  'Brighton Phiri',\n",
        "  'Joe Kaunda'],\n",
        " 3518: ['Jeremias Bandua'],\n",
        " 3519: ['Richard Mukonga'],\n",
        " 3520: ['Sianda Ilukena',\n",
        "  'Weze Kaunda',\n",
        "  'Steven Moyo',\n",
        "  'Cuthbert Nguni',\n",
        "  'Rupiya Banda',\n",
        "  'McPherson Mbulo',\n",
        "  'Henry Kamima',\n",
        "  'Stan Mutanga',\n",
        "  'Bonnie Tembo',\n",
        "  'Peter Lishika',\n",
        "  'Wilfred Wanani',\n",
        "  'Rabson Chongo',\n",
        "  'Bweendo Mulengela',\n",
        "  'Christopher Muyoka',\n",
        "  'Panji Kaunda',\n",
        "  'William Banda',\n",
        "  'Kenneth Kaunda'],\n",
        " 3521: [\"Fred M'membe\"],\n",
        " 3522: ['Goodson Machona',\n",
        "  'Lubasi Katundu',\n",
        "  'Kelvin Shimo',\n",
        "  'Amos Malupenga',\n",
        "  'Brighton Phiri',\n",
        "  'Joe Kaunda'],\n",
        " 3523: ['Sianda Ilukena',\n",
        "  'Steven Moyo',\n",
        "  'Cuthbert Nguni',\n",
        "  'Rupiya Banda',\n",
        "  'McPherson Mbulo',\n",
        "  'Henry Kamima',\n",
        "  'Stan Mutanga',\n",
        "  'Bonnie Tembo',\n",
        "  'Peter Lishika',\n",
        "  'Rabson Chongo',\n",
        "  'Bweendo Mulengela',\n",
        "  'Christopher Muyoka',\n",
        "  'William Banda',\n",
        "  'Wezi Kaunda'],\n",
        " 3524: ['Donald Mwale', 'Isaac Sandifold Phiri'],\n",
        " 3525: ['Sianda Ilukena',\n",
        "  'Steven Moyo',\n",
        "  'Cuthbert Nguni',\n",
        "  'Henry Kamina',\n",
        "  'Bonnie Tembo',\n",
        "  'Peter Lishika',\n",
        "  'Lemmy Suwisha',\n",
        "  'Bweendo Mulengela',\n",
        "  'Christopher Muyoka',\n",
        "  'Wezi Kaunda'],\n",
        " 3526: ['Malimba Masheke',\n",
        "  'Roger Chongwe',\n",
        "  'Mungomba',\n",
        "  'Kenneth Kaunda',\n",
        "  'Azwell Banda'],\n",
        " 3527: ['Bellington Mukoma',\n",
        "  'Bilex Mutale',\n",
        "  'Musonda',\n",
        "  'Jack Chiti',\n",
        "  'Major Kanga',\n",
        "  'Stephen Lungu'],\n",
        " 3529: ['Jehovah'],\n",
        " 3530: ['Mahmoud Ahmed Chehem', 'Estifanos Solomon'],\n",
        " 3534: ['Joshua',\n",
        "  'Zemen Seyoum Tsehaye',\n",
        "  'Abdulkadir',\n",
        "  'Asrat',\n",
        "  'Mohamed Ali',\n",
        "  'Keste Debena Mattewos Habteab',\n",
        "  'Admas',\n",
        "  'Tsigenay Amanuel Asrat',\n",
        "  'Isaac',\n",
        "  'Meqaleh Dawit Habtemichael',\n",
        "  'Fessahaye Yohannes',\n",
        "  'Keste Debena Dawit Isaac'],\n",
        " 3535: ['Mengist Tewelde-Medhin'],\n",
        " 3536: ['Habtom Weldemichael', 'Tewelde Gebremedhin'],\n",
        " 3537: ['Ali Mohamed Saleh'],\n",
        " 3538: ['Kidane Weldu'],\n",
        " 3539: ['Ogbe Abraham', 'Haile Woldetensae'],\n",
        " 3540: ['Joshua',\n",
        "  'Zemen Seyoum Tsehaye',\n",
        "  'Abdulkadir',\n",
        "  'Asrat',\n",
        "  'Mohamed Ali',\n",
        "  'Keste Debena Mattewos Habteab',\n",
        "  'Admas',\n",
        "  'Tsigenay Amanuel Asrat',\n",
        "  'Isaac',\n",
        "  'Meqaleh Dawit Habtemichael',\n",
        "  'Fessahaye Yohannes',\n",
        "  'Keste Debena Dawit Isaac'],\n",
        " 3541: ['Mikias Mekonnen', 'Zecharias Abraham'],\n",
        " 3542: ['Demoze Afewerki', 'Kidane Weldu'],\n",
        " 3543: ['Abune Antonios'],\n",
        " 3546: ['Kiflu Gebremeskel', 'Tesfatsion Hagos', 'Haile Naizgi'],\n",
        " 3547: ['Abune Antonios'],\n",
        " 3549: ['Jehovah'],\n",
        " 3550: ['Mikias Mekonnen', 'Zecharias Abraham'],\n",
        " 3551: ['Adi Abeto'],\n",
        " 3553: ['Leul Gebreab'],\n",
        " 3554: ['Jehovah'],\n",
        " 3555: ['Binyam Gezay'],\n",
        " 3557: ['Semere Zaid'],\n",
        " 3558: ['Miskir Semerab Goitom'],\n",
        " 3561: ['Simon',\n",
        "  'Elsa',\n",
        "  'Gebremichael',\n",
        "  'Hamelmal',\n",
        "  'Hiwot',\n",
        "  'Berhane',\n",
        "  'Akberet Nigussie',\n",
        "  'Teklemariam',\n",
        "  'Sirak Gebremichael',\n",
        "  'Abraham',\n",
        "  'Yergalem Afewerki'],\n",
        " 3562: ['Petros Solomon', 'Aster Yohannes'],\n",
        " 3564: ['Simon',\n",
        "  'Freweyni Gebreab',\n",
        "  'Eden',\n",
        "  'Yergalem Aferwerki',\n",
        "  'Akberet Nigussie',\n",
        "  'Abraham Weldu',\n",
        "  'Berhane Tesfay',\n",
        "  'Sirak Gebremichael',\n",
        "  'Elsa Tekle',\n",
        "  'Gebremichael Yohaness',\n",
        "  'Teklemariam'],\n",
        " 3565: ['Akberet Nigussie',\n",
        "  'Simon',\n",
        "  'Abraham Weldu',\n",
        "  'Gebremichael Yahoness',\n",
        "  'Teklemariam'],\n",
        " 3567: ['Hebe de Bonafini'],\n",
        " 3568: ['Hebe Bonafini', 'Alejandra Bonafini', 'Maria Alejandra Bonafini'],\n",
        " 3569: ['Santo Biasatti', 'Jose Luis Cabezas'],\n",
        " 3570: ['Jos', 'Jos\\xc3\\xa9 Luis Ojeda', 'Luis Ojeda'],\n",
        " 3572: ['Gustavo', 'Gustavo Melmann', 'Natalia'],\n",
        " 3574: ['Hernan Lopez'],\n",
        " 3575: ['Maria Alejandra Bonafini'],\n",
        " 3576: ['Alejandro Mirabet'],\n",
        " 3577: ['Maria Teresa S?nchez',\n",
        "  'Sonia Torres de Parodi',\n",
        "  'Maria Teresa S\\xc3\\xa1nchez',\n",
        "  'Elvio Zanotti'],\n",
        " 3578: ['Clara Britos'],\n",
        " 3579: ['Cristina Saborido', 'Eva Arroyo'],\n",
        " 3581: ['Fernando'],\n",
        " 3582: ['Federico Uber',\n",
        "  'Diego Rodriguez Laguens',\n",
        "  'Mabel Cristina Laguens de Rodriguez'],\n",
        " 3583: ['Diego Rodriguez Laguens',\n",
        "  'Felipe Rodriguez Laguens',\n",
        "  'Mabel Cristina Laguens de Rodriguez',\n",
        "  'Federico Alfredo Huber',\n",
        "  'Rodriguez Laguens'],\n",
        " 3584: ['Daniel Straga'],\n",
        " 3585: ['Hebe Bonafini'],\n",
        " 3586: ['Amado', 'Andr\\xc3\\xa9s Amado'],\n",
        " 3587: ['lica Escayola', 'Pablo Gabriel Salinas', 'Alfredo Guevara Escayola'],\n",
        " 3589: ['Hebe de Bonafini'],\n",
        " 3590: ['Miguel Bru'],\n",
        " 3591: ['Diego Rodriguez', 'Diego Rodriguez Laguens'],\n",
        " 3592: ['Mario Humberto G\\xef\\xbf\\xbdmez Yardez',\n",
        "  'Gloria Alvarez',\n",
        "  'Mario Humberto Gomez Yardez',\n",
        "  'Mario Hmberto Gomez Yardez',\n",
        "  'Natalia Gomez',\n",
        "  'Mario Humberto G\\xc3\\xb3mez Yardez'],\n",
        " 3593: ['Jorge Julio L\\xc3\\xb3pez', 'Jorge Julio Lopez', 'Jorge Julio'],\n",
        " 3594: ['Eduardo Ruffo', 'Elena Mendoza', 'Mendoza'],\n",
        " 3595: ['Felipe Rodriguez Laguens',\n",
        "  'Mabel Cristina Laguens de Rodriguez',\n",
        "  'Felipe Rodriguez',\n",
        "  'Diego Rodriguez Laguens',\n",
        "  'Federico Alfredo Huber'],\n",
        " 3596: ['Frederico Alfredo Huber',\n",
        "  'Diego Rodriguez Laguens',\n",
        "  'Mabel Cristina Laguens de Rodriguez',\n",
        "  'Felipe Rodriguez Laguens'],\n",
        " 3597: ['Luis Ojeda Argentina', 'Jos', 'Jos\\xc3\\xa9 Luis Ojeda', 'Luis Ojeda'],\n",
        " 3598: ['Diego Lavado', 'Alejandro Acosta', 'Carlos Varela'],\n",
        " 3599: ['Clara Britos'],\n",
        " 3600: ['Pablo Guardatti', 'Pablo Cristian Guardatti'],\n",
        " 3601: ['Mabel Cristina Laguens de Rodriguez',\n",
        "  'Federico Alfredo Hubert',\n",
        "  'Diego Rodriguez Laguens',\n",
        "  'Hubert',\n",
        "  'Federico Alfredo Hubert Further'],\n",
        " 3602: ['Maria Jose Fernandez Llorente',\n",
        "  'Antonio Fernandez Llorente',\n",
        "  'Ariel Garbarz',\n",
        "  'Magdalena Ruiz Guinazu'],\n",
        " 3603: ['Lidia Abineme', 'Lidia'],\n",
        " 3604: ['Vanessa Piedrabuena', 'Vanesa Piedrabuena', 'Vanessa Lorena Ledesma'],\n",
        " 3605: ['Claudio Pandolfi'],\n",
        " 3606: ['Margarita Alegre de Papetti',\n",
        "  'Argentina Sabaj de Castro',\n",
        "  'Milagros Demiryi',\n",
        "  'Graciela Margarita Zalasar',\n",
        "  'Carlos Razzeti'],\n",
        " 3607: ['Fernando'],\n",
        " 3608: ['Raul Alberto Lopez', 'Alejandro Mirabet'],\n",
        " 3609: ['Mario Humbert Gomez Yardez',\n",
        "  'Natalia Gomez',\n",
        "  'Gloria Alvarez',\n",
        "  'Mario Humberto Gomez Yardez',\n",
        "  'Mendoza'],\n",
        " 3610: ['Ragnar Hagelin', 'Dagmar Hagelin'],\n",
        " 3611: ['Hebe Bonafini'],\n",
        " 3612: ['Lidia ZARATE',\n",
        "  'Mary ORTIZ',\n",
        "  'Pedro ORTIZ',\n",
        "  'Silvia RUIZ',\n",
        "  'Delia GARCILAZO',\n",
        "  'Oscar RIOS',\n",
        "  'Alberto BARRETO'],\n",
        " 3613: ['Claudio Pandolfi',\n",
        "  'Sergio Kowalewski',\n",
        "  'Dario Santillan',\n",
        "  'Maximiliano Costeki'],\n",
        " 3615: ['Sonia Torres de Parodi', 'Maria Teresa Sanchez', 'Elvio Zanotti'],\n",
        " 3616: ['Lidia Zarate', 'Zarate', 'Mart\\xc3\\xadn Gonz\\xc3\\xa1lez Zarate'],\n",
        " 3617: ['Laura Melmann', 'Gustavo', 'Gustavo Melmann', 'Natalia'],\n",
        " 3618: ['Maria Eva Arroyo',\n",
        "  'Mar\\xc3\\xada Luz Pi\\xc3\\xa9rola',\n",
        "  'Maria Cristina Saborido'],\n",
        " 3619: ['Natalia Gomez', 'Gloria Alvarez', 'Mario Humberto Gomez Yardez'],\n",
        " 3620: ['Hebe BONAFINI'],\n",
        " 3621: ['Jos',\n",
        "  'Jos\\xc3\\xa9 Segundo Zambrano',\n",
        "  'Pablo Marcelo Rodr',\n",
        "  'Pablo Marcelo Rodr\\xef\\xbf\\xbdguez',\n",
        "  'Segundo Zambrano',\n",
        "  'Pablo Marcelo Rodr\\xc3\\xadguez'],\n",
        " 3622: ['Estela Carlotto'],\n",
        " 3623: ['Mario Humbert Gomez Yardez',\n",
        "  'Natalia Gomez',\n",
        "  'Gloria Alvarez',\n",
        "  'Mario Humberto Gomez Yardez'],\n",
        " 3624: ['Pablo Rodr\\xef\\xbf\\xbdguez',\n",
        "  'Jos',\n",
        "  'Jos\\xc3\\xa9 Segundo Zambrano',\n",
        "  'Pablo Marcelo Rodr',\n",
        "  'Godoy Cruz',\n",
        "  'Zambrano',\n",
        "  'Segundo Zambrano',\n",
        "  'Pablo Rodr\\xc3\\xadguez',\n",
        "  'Pablo Marcelo Rodr\\xc3\\xadguez',\n",
        "  'Jos\\xc3\\xa9 Zambrano'],\n",
        " 3625: ['Estela Carlotto'],\n",
        " 3626: ['Vanesa Piedrabuena'],\n",
        " 3627: ['Clara Britos'],\n",
        " 3628: ['Mar\\xc3\\xada Ang\\xc3\\xa9lica Escayola',\n",
        "  'Pablo Gabriel Salinas',\n",
        "  'Alfredo Guevara Escayola'],\n",
        " 3629: ['Alejandra Bonafini',\n",
        "  'Mar\\xc3\\xada Alejandra Bonafini',\n",
        "  'Hebe de Bonafini'],\n",
        " 3630: ['Sebasti\\xc3\\xa1n Bord\\xc3\\xb3n',\n",
        "  'Luis Alberto Bord\\xc3\\xb3n',\n",
        "  'Miriam Medina de Bord',\n",
        "  'Luis Alberto Bord',\n",
        "  'Miriam Medina de Bord\\xc3\\xb3n'],\n",
        " 3631: ['Gustavo Melmann', 'Natalia'],\n",
        " 3632: ['Esteban Cuya'],\n",
        " 3633: ['Jos',\n",
        "  'Jos\\xc3\\xa9 Segundo Zambrano',\n",
        "  'Pablo Marcelo Rodr',\n",
        "  'Pablo Rodr',\n",
        "  'Segundo Zambrano',\n",
        "  'Pablo Rodr\\xc3\\xadguez',\n",
        "  'Pablo Marcelo Rodr\\xc3\\xadguez'],\n",
        " 3634: ['Marcelino', 'Marcelino ALTAMIRANO', 'Marcelino Altamirano'],\n",
        " 3635: ['Diego Lavado', 'Alejandro Acosta', 'Carlos Varela'],\n",
        " 3636: ['Emilio Ferrer', 'Fernanda Sanssone', 'Laura Figueroa'],\n",
        " 3637: ['Clara Britos'],\n",
        " 3638: ['Marcelino', 'Marcelino ALTAMIRANO', 'Marcelino Altamirano'],\n",
        " 3639: ['Claudio Rodr\\xc3\\xadguez', 'Miguel Angel Aguirre'],\n",
        " 3640: ['Vanessa Piedrabuena'],\n",
        " 3641: ['Olga Luquez', 'Tropero Sosa'],\n",
        " 3642: ['Nadia Echaz\\xc3\\xba', 'Nadia Echaz', 'Rodr\\xc3\\xadguez'],\n",
        " 3643: ['Stafford Clarke'],\n",
        " 3644: ['Cyril Darville', 'Dwayne McKinney', 'Thomas Reckley'],\n",
        " 3645: ['Sean Poitier',\n",
        "  'Alexander Williams',\n",
        "  'Anatole Mcquay',\n",
        "  'Roger Chad Goodman'],\n",
        " 3646: ['David Mitchell', 'John Higgs'],\n",
        " 3648: ['Carmichael'],\n",
        " 3649: ['Stafford Clarke'],\n",
        " 3650: ['Trevor Nixon Bahamas', 'Trevor Nixon'],\n",
        " 3651: ['John Higgs Bahamas', 'John Higgs'],\n",
        " 3652: ['Sean Poitier',\n",
        "  'Alexander Williams',\n",
        "  'Anatole Mcquay',\n",
        "  'Roger Chad Goodman'],\n",
        " 3653: ['Larry Jones'],\n",
        " 3654: ['Trevor Nixon'],\n",
        " 3655: ['Cyril Darville', 'Dwayne McKinney', 'Thomas Reckley'],\n",
        " 3656: ['John Higgs Bahamas', 'John Higgs'],\n",
        " 3657: ['Trevor Fisher',\n",
        "  'Trevor Nathaniel Fisher Bahamas',\n",
        "  'Trevor Nathaniel Fisher'],\n",
        " 3658: ['David Mitchell', 'John Higgs'],\n",
        " 3659: ['David Mitchell', 'John Higgs'],\n",
        " 3660: ['Larry Jones'],\n",
        " 3661: ['Trevor Nixon'],\n",
        " 3662: ['Cyril Darville', 'Dwayne McKinney'],\n",
        " 3663: ['Trevor Fisher',\n",
        "  'Trevor Nathaniel Fisher Bahamas',\n",
        "  'Trevor Nathaniel Fisher'],\n",
        " 3664: ['David Mitchell', 'John Higgs'],\n",
        " 3665: ['Dwayne McKinney', 'Ricardo Farrington'],\n",
        " 3666: ['Alutus Newbold'],\n",
        " 3667: ['Thomas Reckley Bahamas', 'Thomas Reckley'],\n",
        " 3668: ['Ricardo Farrington Bahamas', 'Ricardo Farrington'],\n",
        " 3669: ['Bahamas',\n",
        "  'Fisher',\n",
        "  'Trevor Nathaniel Pennerman Fisher',\n",
        "  'Trevor Fisher'],\n",
        " 3670: ['David Mitchell', 'John Higgs'],\n",
        " 3671: ['Thomas Reckley Bahamas', 'Thomas Reckley'],\n",
        " 3672: ['Ricardo Farrington Bahamas', 'Ricardo Farrington'],\n",
        " 3673: ['Trevor Fisher', 'Trevor Nathaniel Pennerman Fisher', 'Richard Woods'],\n",
        " 3674: ['Leavon Williamson', 'Melvin Saunders', 'Melvin Saunders Bahamas'],\n",
        " 3675: ['Stephen Charles Swaby', 'Richard Woods'],\n",
        " 3676: ['Trevor Nathaniel Pennerman Fisher', 'Richard Woods'],\n",
        " 3677: ['Stephen Charles Swaby', 'Richard Woods'],\n",
        " 3678: ['Trevor Fisher', 'Trevor Nathaniel Fisher'],\n",
        " 3679: ['Trevor Nathaniel Pennerman Fisher', 'Richard Woods'],\n",
        " 3681: ['Trevor Nathaniel Fisher Bahamas', 'Trevor Nathaniel Fisher'],\n",
        " 3682: ['Trevor Nathaniel Fisher Bahamas', 'Trevor Nathaniel Fisher'],\n",
        " 3683: ['Ricardo Farrington Bahamas', 'Ricardo Farrington'],\n",
        " 3684: ['Michael McDonald Huggins',\n",
        "  'Frederick Benjamin Atkins',\n",
        "  'Jeffrey Joseph',\n",
        "  'Lennox Ricardo Boyce'],\n",
        " 3685: ['Lennox Boyce', 'Jeffrey Joseph'],\n",
        " 3686: ['Frederick Atkins'],\n",
        " 3687: ['Fredrick Atkins'],\n",
        " 3688: ['Vincent Murrell', 'Leston Leroy Harewood'],\n",
        " 3689: ['Michael McDonald Huggins',\n",
        "  'Frederick Benjamin Atkins',\n",
        "  'Jeffrey Joseph',\n",
        "  'Lennox Ricardo Boyce'],\n",
        " 3690: ['Lennox Boyce', 'Jeffrey Joseph'],\n",
        " 3691: ['Vincent Murrell', 'Leston Leroy Harewood'],\n",
        " 3692: ['Vincent Murrell', 'Leston Leroy Harewood'],\n",
        " 3694: ['Lindsberth Logan', 'Nicolas Antonio Guevara', 'Alfred Codrington'],\n",
        " 3695: ['Steven Smith', 'Michael Anthony Hendrix'],\n",
        " 3696: ['Edwardo Vasquez'],\n",
        " 3697: ['Nicolas Antonio Guevara', 'Alfred Codrington'],\n",
        " 3698: ['Catzim Mendez', 'Wade', 'Gilroy', 'Oswin White'],\n",
        " 3699: [\"Catalino O'Neil\"],\n",
        " 3700: ['Edwardo Vasquez'],\n",
        " 3701: ['Nicolas Antonio Guevara', 'Alfred Codrington'],\n",
        " 3702: ['Said Musa'],\n",
        " 3703: ['Edwardo Vasquez'],\n",
        " 3704: ['Edwardo Vasquez'],\n",
        " 3706: ['Leroy Dunlop'],\n",
        " 3707: ['Rudolph Leroy West'],\n",
        " 3708: ['Leroy Dunlop'],\n",
        " 3709: ['Rudolph Leroy West Bermuda', 'Rudolph Leroy West'],\n",
        " 3710: ['Miguel Lora', 'Vilma Plata'],\n",
        " 3711: ['Alberto Quintanilla',\n",
        "  'Oscar Salas',\n",
        "  'Roger Rumrrill',\n",
        "  'Genaro Cahuana Serna',\n",
        "  'Ricardo Soberon',\n",
        "  'Eliseo Condori',\n",
        "  'Hugo Cabieses',\n",
        "  'Alberto Quinta',\n",
        "  'Baldomero Caceres',\n",
        "  'Roberto Pancorbo',\n",
        "  'David Olivares',\n",
        "  'Antonio Moreno Vargas',\n",
        "  'Augusta Tejada Huallpa',\n",
        "  'La Paz',\n",
        "  'Guido Gonzalez',\n",
        "  'Evo Morales'],\n",
        " 3713: ['Waldo Albarracin', 'Waldo Albarrac\\xc3\\xadn', 'Waldo Albarrac_n'],\n",
        " 3714: ['Emilio Rodriguez',\n",
        "  'Osvaldo Toco',\n",
        "  'Ascencio Picha',\n",
        "  'Enriqueta Imaca',\n",
        "  'Juan Yapura',\n",
        "  'Victor Nina',\n",
        "  'Emilio Sejas',\n",
        "  'Gabriel Herbas',\n",
        "  'Filomeno Rivera',\n",
        "  'Walter Antezana',\n",
        "  'Pedro Soto',\n",
        "  'Victor Cossio',\n",
        "  'Fred Nu\\xc3\\xb1ez',\n",
        "  'Felipe Flores',\n",
        "  'Felipe Quispe Huanca',\n",
        "  'Sacarias Pereira'],\n",
        " 3715: ['Waldo Albarrac\\xc3\\xadn', 'Waldo Albarrac'],\n",
        " 3716: ['Cliver Rochas'],\n",
        " 3718: ['Marcela Alejandra Porco'],\n",
        " 3719: ['Roger Rumrrill',\n",
        "  'Hugo Campos',\n",
        "  'Secundino Montevilla',\n",
        "  'Miguel Humerez',\n",
        "  'Augusta Tejada Huallpa',\n",
        "  'Dante Lorini',\n",
        "  'Evo Morales',\n",
        "  'Marcelo Gonzalez Barrios',\n",
        "  'Victor Flores Alvarez',\n",
        "  'Baldomero Caceres',\n",
        "  'David Olivares',\n",
        "  'Antonio Moreno Vargas',\n",
        "  'Rafael Puente Calvo',\n",
        "  'Maruja Machaca',\n",
        "  'Carlos Sanchez Berzain',\n",
        "  'Alberto Quintanilla',\n",
        "  'Genaro Cahuana Serna',\n",
        "  'Eliseo Condori',\n",
        "  'Jesus Javari',\n",
        "  'Juan Bautista Torres Quispe',\n",
        "  'Roberto Pancorbo',\n",
        "  'Ricardo Soberon',\n",
        "  'Sabino Arroyo Gonzalez',\n",
        "  'Guido Gonzalez',\n",
        "  'Eduardo Panoso',\n",
        "  'Miguel Calizaya',\n",
        "  'Oscar Salas',\n",
        "  'Carlos Camargo',\n",
        "  'Crisologo Mendoza Arias',\n",
        "  'Hugo Cabieses',\n",
        "  'Ruben Cortes',\n",
        "  'Juvenal Garavito'],\n",
        " 3720: ['Manuel Morales Davila'],\n",
        " 3721: ['Waldo Albarracin'],\n",
        " 3722: ['Waldo Albarrac\\xc3\\xadn', 'Albarrac\\xc3\\xadn', 'Waldo Albarrac_n'],\n",
        " 3723: ['Alejandro Colanzi Zeballos', 'Luis Arturo Mendivil'],\n",
        " 3724: ['Marcela Alejandra Porco'],\n",
        " 3725: ['Mario Andrade Penaloza', 'Adrian Monzon Jimenez'],\n",
        " 3726: ['David Goitia Benito',\n",
        "  'Franz Guzm\\xc3\\xa1n',\n",
        "  'Bartolom\\xc3\\xa9 Flores',\n",
        "  'Hugo Daza',\n",
        "  'Noel Guzm\\xc3\\xa1n',\n",
        "  'Flores',\n",
        "  'Franz Guzm',\n",
        "  'Edwin Huanca',\n",
        "  'Wilfredo Apaza'],\n",
        " 3727: ['Silvestre Saisari Cruz'],\n",
        " 3728: ['Oscar Gonzalo Vega',\n",
        "  'Eduardo Flores Vargas',\n",
        "  'Vilma Plata',\n",
        "  'Miguel Lora',\n",
        "  'Eliodoro Tinini Espinoza',\n",
        "  'Telmo Roman'],\n",
        " 3729: ['Miguel Calizaya',\n",
        "  'Marcelo Gonzalez Barrios',\n",
        "  'Carlos Camargo',\n",
        "  'Crisologo Mendoza Arias',\n",
        "  'Miguel Humerez',\n",
        "  'Victor Flores Alvarez',\n",
        "  'Dante Lorini',\n",
        "  'Jesus Javari',\n",
        "  'Juan Bautista Torres Quispe',\n",
        "  'Roberto Pancorbo',\n",
        "  'David Olivares',\n",
        "  'Oscar Salas',\n",
        "  'Sabino Arroyo Gonzalez',\n",
        "  'Evo Morales',\n",
        "  'Rafael Puente Calvo',\n",
        "  'Hugo Campos',\n",
        "  'Maruja Machaca',\n",
        "  'Ruben Cortes',\n",
        "  'Secundino Montevilla',\n",
        "  'Juvenal Garavito',\n",
        "  'Eduardo Panoso'],\n",
        " 3730: ['Mario Andrade Penaloza', 'Adrian Monzon Jimenez'],\n",
        " 3731: ['Waldo Albarracin', 'Juan del Granado'],\n",
        " 3732: ['Padre Gines Mateo Rocamora', 'Hugo Ortiz', 'Padre Hugo Ortiz'],\n",
        " 3733: ['Carlos Cuasace Surub\\xc3\\xad', 'Organizaci', 'Juan Pinto'],\n",
        " 3734: ['Adalberto Rojas'],\n",
        " 3736: ['Flores Vargas Victor',\n",
        "  'Nestor Bravo',\n",
        "  'Evo Morales',\n",
        "  'Marca Lamas Felipe'],\n",
        " 3737: ['Carmen Rojas',\n",
        "  'Nancy Teran',\n",
        "  'Luis Garcia',\n",
        "  'Miguel Mamani Fernandez',\n",
        "  'Sonia Ayala',\n",
        "  'Andres Chavez',\n",
        "  'Alejo Veliz',\n",
        "  'Nicolas Quiroga Armiento',\n",
        "  'Nelson Rodriguez'],\n",
        " 3738: ['Juan Yapura',\n",
        "  'Franz Guzm',\n",
        "  'Filomeno Rivera',\n",
        "  'Noel Guzm',\n",
        "  'Wilfredo Apaza',\n",
        "  'Emilio Rodr\\xef\\xbf\\xbdguez',\n",
        "  'Gloria Eyzaguirre',\n",
        "  'Noel Guzm\\xc3\\xa1n Wilfredo Apaza',\n",
        "  'Fred Nu',\n",
        "  'Emilio Rodr\\xc3\\xadguez',\n",
        "  'Bartolome Flores',\n",
        "  'Osvaldo Rioja',\n",
        "  'Jaime Buitrago',\n",
        "  'Francisco Partis',\n",
        "  'Franz Guzm\\xc3\\xa1n',\n",
        "  'Edwin Huanca',\n",
        "  'Fred Nu\\xc3\\xb1ez',\n",
        "  'Jhenny Osinaga',\n",
        "  'David Goitia Benito',\n",
        "  'Angel Claure',\n",
        "  'Felipe Flores',\n",
        "  'Felipe Quispe Huanca'],\n",
        " 3739: ['Investigaci', 'Cliver Rocha'],\n",
        " 3740: ['Alejandro Colanzi Zeballos', 'Luis Arturo Mendivil'],\n",
        " 3741: ['Flores Vargas Victor',\n",
        "  'Nestor Bravo',\n",
        "  'Evo Morales',\n",
        "  'Marca Lamas Felipe'],\n",
        " 3742: ['Manuel Morales Davila'],\n",
        " 3743: ['Waldo Albarracin'],\n",
        " 3744: ['Juan Carlos Serrudo Murrillo',\n",
        "  'Jos\\xc3\\xa9 Luis Cardozo',\n",
        "  'Gonzalo Duran Carazani',\n",
        "  'Jos\\xef\\xbf\\xbd Luis Cardozo'],\n",
        " 3745: ['Jose Menezes Vigamonte',\n",
        "  'Rene Ramirez',\n",
        "  'Fausto Montano',\n",
        "  'Cancio Nina Ramirez',\n",
        "  'Nemesio Montano',\n",
        "  'Martin Villamontes',\n",
        "  'Osvaldo Mamani',\n",
        "  'Jose Claros',\n",
        "  'Vicente Vigabriel',\n",
        "  'Anselmo Cerezo',\n",
        "  'Marcial Alave',\n",
        "  'David Herrera'],\n",
        " 3746: ['Carmen Rojas',\n",
        "  'Nancy Teran',\n",
        "  'Luis Garcia',\n",
        "  'Miguel Mamani Fernandez',\n",
        "  'Sonia Ayala',\n",
        "  'Andres Chavez',\n",
        "  'Alejo Veliz',\n",
        "  'Nicolas Quiroga Armiento',\n",
        "  'Nelson Rodriguez'],\n",
        " 3747: ['Waldo Albarracin'],\n",
        " 3748: ['Oscar Gonzalo Vega',\n",
        "  'Eduardo Flores Vargas',\n",
        "  'Vilma Plata',\n",
        "  'Miguel Lora',\n",
        "  'Eliodoro Tinini Espinoza',\n",
        "  'Telmo Roman'],\n",
        " 3749: ['Mario Andrade Penaloza', 'Adrian Monzon Jimenes'],\n",
        " 3750: ['Oscar Martin Serna',\n",
        "  'Carlos Alberto Simoes Junior',\n",
        "  'Juan Carlos Caballero',\n",
        "  'Ronald Alberto Horna Aranda'],\n",
        " 3751: ['Francisco Vallejo',\n",
        "  'Rene Ramirez',\n",
        "  'Osvaldo Mamani',\n",
        "  'Jose Menezes Villamor',\n",
        "  'Cancio Nina Ramirez',\n",
        "  'Nemesio Montano',\n",
        "  'Marcial Alavi',\n",
        "  'Jose Claros',\n",
        "  'Guillermo Fuentes Gutierrez',\n",
        "  'Martin',\n",
        "  'Vicente Vigabriel',\n",
        "  'Anselmo Cerezo',\n",
        "  'Faustino Montano',\n",
        "  'David Herrera'],\n",
        " 3752: ['Francisco Vallejo',\n",
        "  'Osvaldo Mamani',\n",
        "  'Francsico Vallejo',\n",
        "  'Cancio Nina Ramirez',\n",
        "  'Nemesio Montano',\n",
        "  'Marcial Alavi',\n",
        "  'Guillermo Fuentes Gutierrez',\n",
        "  'Vicente Vigabriel',\n",
        "  'David Herrera'],\n",
        " 3753: ['Sacha Llorentti Soliz', 'Sacha Llorentti'],\n",
        " 3755: ['Teodocio Romero',\n",
        "  'Quintin Vargas',\n",
        "  'Esteban Quispe',\n",
        "  'Delfin Olivera'],\n",
        " 3756: ['Manuel Morales', 'Manuel Morales Davila'],\n",
        " 3757: ['Waldo Albarracin', 'Albarracin'],\n",
        " 3758: ['Francisco Vallejo',\n",
        "  'Osvaldo Mamani',\n",
        "  'Cancio Nina Ramirez',\n",
        "  'Nemesio Montano',\n",
        "  'Marcial Alavi',\n",
        "  'Cancio Nina',\n",
        "  'Guillermo Fuentes Gutierrez',\n",
        "  'Vicente Vigabriel',\n",
        "  'David Herrera'],\n",
        " 3759: ['Margarita Ter\\xc3\\xa1n', 'Margarita Ter'],\n",
        " 3760: ['Teodocio Romero',\n",
        "  'Quintin Vargas',\n",
        "  'Esteban Quispe',\n",
        "  'Delfin Olivera'],\n",
        " 3762: ['Gonzalo S\\xef\\xbf\\xbdnchez de Lozada',\n",
        "  'Gonzalo S\\xc3\\xa1nchez de Lozada'],\n",
        " 3764: ['Raimundo Pereira'],\n",
        " 3766: ['Jose Cicero da Silva',\n",
        "  'Maria Aparecida Pedrosa',\n",
        "  'Cicero da Silva',\n",
        "  'Joao Lucas da Silva'],\n",
        " 3767: ['Denise Vasconcelos',\n",
        "  'Marilene Lima De Souza',\n",
        "  'Edneia Santos Cruz',\n",
        "  'Vera Lucia Flores',\n",
        "  'Euzilar Joana Da Silva Oliveira',\n",
        "  'Teresa Souza',\n",
        "  'Edmeia da Silva Eusebio'],\n",
        " 3768: ['Marilene Lima de Souza',\n",
        "  'Edneia Santos Cruz',\n",
        "  'Silva Euzebio',\n",
        "  'Vera Lucia Flores',\n",
        "  'Euzilar Joana da Silva Oliveira',\n",
        "  'Teresa Souza',\n",
        "  'Sheila da Caonceicao',\n",
        "  'Sheila da Conceicao',\n",
        "  'Denise Vasconcelo'],\n",
        " 3769: ['Maria Ines Rondello',\n",
        "  'Maria Cecilia Garcez Leme',\n",
        "  'Jonas Beltrao de Oliveira',\n",
        "  'Jonathan Luke Hannay'],\n",
        " 3770: ['Adao Soares', 'Joao Andre'],\n",
        " 3771: ['Maracaju'],\n",
        " 3773: ['Gerson de Souza', 'Gerson de Souza Melo'],\n",
        " 3774: ['Zitinho',\n",
        "  'Zito Augusto',\n",
        "  'Zito Augusto Correia',\n",
        "  'Caraj',\n",
        "  'Educa\\xc3\\xa7\\xc3\\xa3o P\\xc3\\xbablica',\n",
        "  'Educa'],\n",
        " 3775: ['Josenildo Jo\\xef\\xbf\\xbdo de Freitas',\n",
        "  'Elma Novais',\n",
        "  'Josenildo Jo\\xc3\\xa3o de Freitas J\\xc3\\xbanior',\n",
        "  'Novais',\n",
        "  'Jefferson',\n",
        "  'Roxana'],\n",
        " 3779: ['Expedito Ribeiro de Souza'],\n",
        " 3780: ['Fausto Ribeiro da Silva Filho', 'Fausto Ribeiro'],\n",
        " 3781: ['Valdemir Alves da Silva',\n",
        "  'Manoel Divino Alves da Silva',\n",
        "  'Osvaldo Duarte da Silva',\n",
        "  'Pedro Vieira de Araujo',\n",
        "  'Manoel Delfino Felix da Silva',\n",
        "  'Josemar Cantuario de Oliveira'],\n",
        " 3782: ['Wagner dos Santos', 'Wagner'],\n",
        " 3783: ['Edmilson Jose de Oliveira',\n",
        "  'Jose Alexandre da Silva',\n",
        "  'Antonio Geronimo da Silva Junior',\n",
        "  'Aldemir Ricardo Gomes',\n",
        "  'Jose Marcos de Holanda Soares',\n",
        "  'Wilson Soares de Souza',\n",
        "  'Walmir Barbosa da Silva'],\n",
        " 3785: ['Medeiros',\n",
        "  'Pl\\xef\\xbf\\xbdcido Medeiros de Souza',\n",
        "  'Pl\\xc3\\xa1cido Medeiros de Souza',\n",
        "  'Roberto Monte'],\n",
        " 3788: ['Raimundo Pereira'],\n",
        " 3789: ['Osmarino Amancio Rodrigues'],\n",
        " 3790: ['Marcelo Silva de Freitas',\n",
        "  'Santos',\n",
        "  'Joao Vieira Cunha',\n",
        "  'Getulio Joaquim da Silva',\n",
        "  'Altair Piana',\n",
        "  'Gerson Alves',\n",
        "  'Raimundo Alves de Oliveira',\n",
        "  'Jose Amancio de Souza',\n",
        "  'Atanagildo Mattos',\n",
        "  'Sandra de Oliveira Souza',\n",
        "  'Maria Divina da Silva Santos',\n",
        "  'Francisco Rodrigues de Freitas',\n",
        "  'Jose Galvao',\n",
        "  'Raimundo Alves de Olivei',\n",
        "  'Valdo Jose da Silva',\n",
        "  'Raimundo Jardim Siqueira',\n",
        "  'Sebastiao Jorge Dias'],\n",
        " 3791: ['Expedito Pinheiro de Castro', 'Joao', 'Domingos Mendes Cardoso'],\n",
        " 3792: ['Sergio Dias Gomes',\n",
        "  'Elizabeth Cristina Borges de Oliveira Maia',\n",
        "  'Valderino Miguel de Almeida',\n",
        "  'Marcos Antonio Alves da Silva',\n",
        "  'Neilton Pereira dos Santos',\n",
        "  'Anderson Thome Pereira',\n",
        "  'Wagner dos Santos',\n",
        "  'Paulo Roberto de Oliveira',\n",
        "  'Paulo Jose da Silva',\n",
        "  'Fabio de Oliveira',\n",
        "  'Rogerio da Silva',\n",
        "  'Marcos Pereira Muniz',\n",
        "  'Michael Andre de Aguiar',\n",
        "  'Fabio Ribeiro',\n",
        "  'Leonardo Teixeira',\n",
        "  'Marcelo Candido de Jesus'],\n",
        " 3793: ['Marco Antonio Rufino da Cruz', 'Marco Antonio Rufino'],\n",
        " 3794: ['Ariovaldo Jose dos Santos', 'Sebastiao Moreira'],\n",
        " 3795: ['Vagner Marcos da Silva'],\n",
        " 3796: ['Thom',\n",
        "  'Gustavo dos Reis Gazzola',\n",
        "  'Thom\\xc3\\xa1s Mohuyico Yabiku',\n",
        "  'Roberto de Campos Andrade',\n",
        "  'Mohuyico Yabiku'],\n",
        " 3797: ['Marcos Luidson de Ar',\n",
        "  'Marcos Luidson de Ar\\xef\\xbf\\xbdujo',\n",
        "  'Marcos Luidson de Ar\\xc3\\xa1ujo'],\n",
        " 3799: ['Antonio Francisco Dias',\n",
        "  'Lidio Rodrigues Lima',\n",
        "  'Benedito Conceicao',\n",
        "  'Sebastiao Santos',\n",
        "  'Jaime Amorim',\n",
        "  'Francisnaldo',\n",
        "  'Maria Antonia de Jesus'],\n",
        " 3800: ['Wagner'],\n",
        " 3801: ['Francisco Rocha',\n",
        "  'Jos',\n",
        "  'Lisley Hort?ncio Vieira',\n",
        "  'Hort\\xc3\\xaancio Vieira',\n",
        "  'Jos\\xc3\\xa9 Lisley Hort\\xc3\\xaancio Vieira',\n",
        "  'Vieira'],\n",
        " 3802: ['Nilson F\\xc3\\xa9lix',\n",
        "  'Jos\\xc3\\xa9 de N\\xc3\\xb4 F\\xc3\\xa9lix',\n",
        "  'Nilson F_lix'],\n",
        " 3803: ['Marcos Ant\\xc3\\xb4nio Monteiro',\n",
        "  'Marcos Ant\\xef\\xbf\\xbdnio Monteiro'],\n",
        " 3804: ['Marcelo Denadai', 'Maria Aparecida Denadai'],\n",
        " 3805: ['Prestes Maia'],\n",
        " 3806: ['Raimundo Pereira'],\n",
        " 3807: ['Nelson Portela',\n",
        "  'Leonir Marcon',\n",
        "  'Jose da Rosa Silva',\n",
        "  'Marilo de Bortolli',\n",
        "  'Valdir Dias Rodrigues',\n",
        "  'Helmut Hering',\n",
        "  'Antoninho Martes',\n",
        "  'Valcir Dallacosta',\n",
        "  'Eny Luiz Vinck',\n",
        "  'Joao Batista Serpa',\n",
        "  'Ademir Nunes',\n",
        "  'Joao Fernando dos Santos',\n",
        "  'Hamilton Soares',\n",
        "  'Paulinho Cirioli',\n",
        "  'Antonio Moacir Rocil',\n",
        "  'Osmar Pretik',\n",
        "  'Gaudencio da Motta',\n",
        "  'Joao Tarcisio Schwap',\n",
        "  'Joao Carlos Camargo',\n",
        "  'Amarildo Zanovello',\n",
        "  'Norberto da Silva',\n",
        "  'Ismael Ribeiro'],\n",
        " 3808: ['Rosario Filho',\n",
        "  'Belfour Roxo',\n",
        "  'Miguel Couto',\n",
        "  'Jose Francisco',\n",
        "  'Alexander Santos Cunha'],\n",
        " 3809: ['Edval Silva', 'Fabio Goncalves Cavalcante'],\n",
        " 3810: ['Thiago Passos Ferreira', 'Paulo Roberto da Silva'],\n",
        " 3811: ['Marcinhos',\n",
        "  'Zenilda Maria de Ara',\n",
        "  'Zenilda Maria de Ara\\xc3\\xbajo',\n",
        "  'Marcos Luideson',\n",
        "  'Dona Zenilda'],\n",
        " 3812: ['Jo\\xc3\\xa3o Pessoa',\n",
        "  'Jo\\xef\\xbf\\xbdo Pessoa',\n",
        "  'Frei Anast\\xc3\\xa1cio Ribeiro',\n",
        "  'Frei Anast\\xef\\xbf\\xbdcio Ribeiro'],\n",
        " 3814: ['Expedito Ribeiro de Souza',\n",
        "  'Jose Canuto Oliveira',\n",
        "  'Paulo Canuto Oliveira',\n",
        "  'Carlos Cabral Pereira',\n",
        "  'Orlando Canuto Pereira',\n",
        "  'Braz Antonio de Oliveira'],\n",
        " 3815: ['Roberto Neto da Silva',\n",
        "  'Valderio Pereira',\n",
        "  'Ricardo Rezende',\n",
        "  'Carlos Cabral Pereira',\n",
        "  'Orlando Canuto'],\n",
        " 3816: ['Luis Rodrigues dos Santos', 'Luis Rodrigues', 'Antonio Inacio Faria'],\n",
        " 3817: ['Ze de Feijao', 'Hansen', 'Jose Teixeira Castilho'],\n",
        " 3818: ['Anna',\n",
        "  'Solange',\n",
        "  \"Bartolomeu Homem D'El-Rei Pinto\",\n",
        "  'Marco Antonio Rufino da Cruz',\n",
        "  'Rutonio Jorge de Sant'],\n",
        " 3819: ['Edmilson Jose de Oliveira',\n",
        "  'Jose Alexandre da Silva',\n",
        "  'Antonio Geronimo da Silva Junior',\n",
        "  'Aldemir Ricardo Gomes',\n",
        "  'Jose Marcos de Holanda Soares',\n",
        "  'Wilson Soares de Souza',\n",
        "  'Walmir Barbosa da Silva'],\n",
        " 3820: ['Thiago Passos Ferreira',\n",
        "  'Paulo Roberto da Silva',\n",
        "  'Anderson Pereira dos Santos'],\n",
        " 3821: ['Valter Melo',\n",
        "  'Carmen Lucia',\n",
        "  'Amaral',\n",
        "  'Joao Elizio Lima Pessoa',\n",
        "  'Neusa Maria dos Santos'],\n",
        " 3822: ['Nivaldo Brand\\xc3\\xa3o de Oliveira',\n",
        "  'de Oliveira',\n",
        "  'Father Luis Ferrari',\n",
        "  'Carmelia Pereira dos Santos'],\n",
        " 3823: ['Josenildo Jo\\xef\\xbf\\xbdo de Freitas',\n",
        "  'Elma Novais',\n",
        "  'Josenildo Jo\\xc3\\xa3o de Freitas J\\xc3\\xbanior',\n",
        "  'Novais',\n",
        "  'Jefferson',\n",
        "  'Roxana'],\n",
        " 3825: ['Prestes Maia'],\n",
        " 3826: ['Antonio Francisco Dias',\n",
        "  'Lidio Rodrigues Lima',\n",
        "  'Benedito Conceicao',\n",
        "  'Sebastiao Santos',\n",
        "  'Jaime Amorim',\n",
        "  'Francisnaldo',\n",
        "  'Maria Antonia de Jesus']}"
       ]
      }
     ],
     "prompt_number": 54
    },
    {
     "cell_type": "code",
     "collapsed": false,
     "input": [
      "for key in namesSub.keys():\n",
      "    print key\n",
      "    x = {}\n",
      "    for person in namesSub[key]:\n",
      "        try:\n",
      "            articles = api.search(q = person, fq = {'source':['Reuters','AP', 'The New York Times'], 'organizations.contains':['Amnesty']})\n",
      "            x[person] = len(articles['response']['docs'])\n",
      "        except:\n",
      "            x[person] = \"NA\"\n",
      "    namesSub[key] = x\n",
      "namesSub"
     ],
     "language": "python",
     "metadata": {},
     "outputs": [
      {
       "output_type": "stream",
       "stream": "stdout",
       "text": [
        "2566\n",
        "2567"
       ]
      },
      {
       "output_type": "stream",
       "stream": "stdout",
       "text": [
        "\n",
        "2568"
       ]
      },
      {
       "output_type": "stream",
       "stream": "stdout",
       "text": [
        "\n",
        "2569"
       ]
      },
      {
       "output_type": "stream",
       "stream": "stdout",
       "text": [
        "\n",
        "2571"
       ]
      },
      {
       "output_type": "stream",
       "stream": "stdout",
       "text": [
        "\n",
        "2572"
       ]
      },
      {
       "output_type": "stream",
       "stream": "stdout",
       "text": [
        "\n",
        "2573"
       ]
      },
      {
       "output_type": "stream",
       "stream": "stdout",
       "text": [
        "\n",
        "2574"
       ]
      },
      {
       "output_type": "stream",
       "stream": "stdout",
       "text": [
        "\n",
        "2575"
       ]
      },
      {
       "output_type": "stream",
       "stream": "stdout",
       "text": [
        "\n",
        "2576"
       ]
      },
      {
       "output_type": "stream",
       "stream": "stdout",
       "text": [
        "\n",
        "2577"
       ]
      },
      {
       "output_type": "stream",
       "stream": "stdout",
       "text": [
        "\n",
        "2578"
       ]
      },
      {
       "output_type": "stream",
       "stream": "stdout",
       "text": [
        "\n",
        "2579"
       ]
      },
      {
       "output_type": "stream",
       "stream": "stdout",
       "text": [
        "\n",
        "2580"
       ]
      },
      {
       "output_type": "stream",
       "stream": "stdout",
       "text": [
        "\n",
        "2581"
       ]
      },
      {
       "output_type": "stream",
       "stream": "stdout",
       "text": [
        "\n",
        "2583"
       ]
      },
      {
       "output_type": "stream",
       "stream": "stdout",
       "text": [
        "\n",
        "2584"
       ]
      },
      {
       "output_type": "stream",
       "stream": "stdout",
       "text": [
        "\n",
        "2585"
       ]
      },
      {
       "output_type": "stream",
       "stream": "stdout",
       "text": [
        "\n",
        "2586"
       ]
      },
      {
       "output_type": "stream",
       "stream": "stdout",
       "text": [
        "\n",
        "2587"
       ]
      },
      {
       "output_type": "stream",
       "stream": "stdout",
       "text": [
        "\n",
        "2590"
       ]
      },
      {
       "output_type": "stream",
       "stream": "stdout",
       "text": [
        "\n",
        "2591"
       ]
      },
      {
       "output_type": "stream",
       "stream": "stdout",
       "text": [
        "\n",
        "2592"
       ]
      },
      {
       "output_type": "stream",
       "stream": "stdout",
       "text": [
        "\n",
        "2593"
       ]
      },
      {
       "output_type": "stream",
       "stream": "stdout",
       "text": [
        "\n",
        "2594"
       ]
      },
      {
       "output_type": "stream",
       "stream": "stdout",
       "text": [
        "\n",
        "2595"
       ]
      },
      {
       "output_type": "stream",
       "stream": "stdout",
       "text": [
        "\n",
        "2596"
       ]
      },
      {
       "output_type": "stream",
       "stream": "stdout",
       "text": [
        "\n",
        "2597"
       ]
      },
      {
       "output_type": "stream",
       "stream": "stdout",
       "text": [
        "\n",
        "2598"
       ]
      },
      {
       "output_type": "stream",
       "stream": "stdout",
       "text": [
        "\n",
        "2600"
       ]
      },
      {
       "output_type": "stream",
       "stream": "stdout",
       "text": [
        "\n",
        "2601"
       ]
      },
      {
       "output_type": "stream",
       "stream": "stdout",
       "text": [
        "\n",
        "2604"
       ]
      },
      {
       "output_type": "stream",
       "stream": "stdout",
       "text": [
        "\n",
        "2605"
       ]
      },
      {
       "output_type": "stream",
       "stream": "stdout",
       "text": [
        "\n",
        "2606"
       ]
      },
      {
       "output_type": "stream",
       "stream": "stdout",
       "text": [
        "\n",
        "2608"
       ]
      },
      {
       "output_type": "stream",
       "stream": "stdout",
       "text": [
        "\n",
        "2609"
       ]
      },
      {
       "output_type": "stream",
       "stream": "stdout",
       "text": [
        "\n",
        "2611"
       ]
      },
      {
       "output_type": "stream",
       "stream": "stdout",
       "text": [
        "\n",
        "2615"
       ]
      },
      {
       "output_type": "stream",
       "stream": "stdout",
       "text": [
        "\n",
        "2616"
       ]
      },
      {
       "output_type": "stream",
       "stream": "stdout",
       "text": [
        "\n",
        "2617"
       ]
      },
      {
       "output_type": "stream",
       "stream": "stdout",
       "text": [
        "\n",
        "2618"
       ]
      },
      {
       "output_type": "stream",
       "stream": "stdout",
       "text": [
        "\n",
        "2620"
       ]
      },
      {
       "output_type": "stream",
       "stream": "stdout",
       "text": [
        "\n",
        "2621"
       ]
      },
      {
       "output_type": "stream",
       "stream": "stdout",
       "text": [
        "\n",
        "2624"
       ]
      },
      {
       "output_type": "stream",
       "stream": "stdout",
       "text": [
        "\n",
        "2625"
       ]
      },
      {
       "output_type": "stream",
       "stream": "stdout",
       "text": [
        "\n",
        "2626"
       ]
      },
      {
       "output_type": "stream",
       "stream": "stdout",
       "text": [
        "\n",
        "2627"
       ]
      },
      {
       "output_type": "stream",
       "stream": "stdout",
       "text": [
        "\n",
        "2628"
       ]
      },
      {
       "output_type": "stream",
       "stream": "stdout",
       "text": [
        "\n",
        "2629"
       ]
      },
      {
       "output_type": "stream",
       "stream": "stdout",
       "text": [
        "\n",
        "2630"
       ]
      },
      {
       "output_type": "stream",
       "stream": "stdout",
       "text": [
        "\n",
        "2631"
       ]
      },
      {
       "output_type": "stream",
       "stream": "stdout",
       "text": [
        "\n",
        "2632"
       ]
      },
      {
       "output_type": "stream",
       "stream": "stdout",
       "text": [
        "\n",
        "2633"
       ]
      },
      {
       "output_type": "stream",
       "stream": "stdout",
       "text": [
        "\n",
        "2634"
       ]
      },
      {
       "output_type": "stream",
       "stream": "stdout",
       "text": [
        "\n",
        "2635"
       ]
      },
      {
       "output_type": "stream",
       "stream": "stdout",
       "text": [
        "\n",
        "2636"
       ]
      },
      {
       "output_type": "stream",
       "stream": "stdout",
       "text": [
        "\n",
        "2638"
       ]
      },
      {
       "output_type": "stream",
       "stream": "stdout",
       "text": [
        "\n",
        "2639"
       ]
      },
      {
       "output_type": "stream",
       "stream": "stdout",
       "text": [
        "\n",
        "2640"
       ]
      },
      {
       "output_type": "stream",
       "stream": "stdout",
       "text": [
        "\n",
        "2641"
       ]
      },
      {
       "output_type": "stream",
       "stream": "stdout",
       "text": [
        "\n",
        "2642"
       ]
      },
      {
       "output_type": "stream",
       "stream": "stdout",
       "text": [
        "\n",
        "2643"
       ]
      },
      {
       "output_type": "stream",
       "stream": "stdout",
       "text": [
        "\n",
        "2645"
       ]
      },
      {
       "output_type": "stream",
       "stream": "stdout",
       "text": [
        "\n",
        "2646"
       ]
      },
      {
       "output_type": "stream",
       "stream": "stdout",
       "text": [
        "\n",
        "2647"
       ]
      },
      {
       "output_type": "stream",
       "stream": "stdout",
       "text": [
        "\n",
        "2648"
       ]
      },
      {
       "output_type": "stream",
       "stream": "stdout",
       "text": [
        "\n",
        "2649"
       ]
      },
      {
       "output_type": "stream",
       "stream": "stdout",
       "text": [
        "\n",
        "2650"
       ]
      },
      {
       "output_type": "stream",
       "stream": "stdout",
       "text": [
        "\n",
        "2651"
       ]
      },
      {
       "output_type": "stream",
       "stream": "stdout",
       "text": [
        "\n",
        "2652"
       ]
      },
      {
       "output_type": "stream",
       "stream": "stdout",
       "text": [
        "\n",
        "2655"
       ]
      },
      {
       "output_type": "stream",
       "stream": "stdout",
       "text": [
        "\n",
        "2656"
       ]
      },
      {
       "output_type": "stream",
       "stream": "stdout",
       "text": [
        "\n",
        "2657"
       ]
      },
      {
       "output_type": "stream",
       "stream": "stdout",
       "text": [
        "\n",
        "2658"
       ]
      },
      {
       "output_type": "stream",
       "stream": "stdout",
       "text": [
        "\n",
        "2660"
       ]
      },
      {
       "output_type": "stream",
       "stream": "stdout",
       "text": [
        "\n",
        "2661"
       ]
      },
      {
       "output_type": "stream",
       "stream": "stdout",
       "text": [
        "\n",
        "2662"
       ]
      },
      {
       "output_type": "stream",
       "stream": "stdout",
       "text": [
        "\n",
        "2663"
       ]
      },
      {
       "output_type": "stream",
       "stream": "stdout",
       "text": [
        "\n",
        "2664"
       ]
      },
      {
       "output_type": "stream",
       "stream": "stdout",
       "text": [
        "\n",
        "2666"
       ]
      },
      {
       "output_type": "stream",
       "stream": "stdout",
       "text": [
        "\n",
        "2667"
       ]
      },
      {
       "output_type": "stream",
       "stream": "stdout",
       "text": [
        "\n",
        "2668"
       ]
      },
      {
       "output_type": "stream",
       "stream": "stdout",
       "text": [
        "\n",
        "2669"
       ]
      },
      {
       "output_type": "stream",
       "stream": "stdout",
       "text": [
        "\n",
        "2670"
       ]
      },
      {
       "output_type": "stream",
       "stream": "stdout",
       "text": [
        "\n",
        "2671"
       ]
      },
      {
       "output_type": "stream",
       "stream": "stdout",
       "text": [
        "\n",
        "2672"
       ]
      },
      {
       "output_type": "stream",
       "stream": "stdout",
       "text": [
        "\n",
        "2674"
       ]
      },
      {
       "output_type": "stream",
       "stream": "stdout",
       "text": [
        "\n",
        "2675"
       ]
      },
      {
       "output_type": "stream",
       "stream": "stdout",
       "text": [
        "\n",
        "2676"
       ]
      },
      {
       "output_type": "stream",
       "stream": "stdout",
       "text": [
        "\n",
        "2677"
       ]
      },
      {
       "output_type": "stream",
       "stream": "stdout",
       "text": [
        "\n",
        "2678"
       ]
      },
      {
       "output_type": "stream",
       "stream": "stdout",
       "text": [
        "\n",
        "2679"
       ]
      },
      {
       "output_type": "stream",
       "stream": "stdout",
       "text": [
        "\n",
        "2680"
       ]
      },
      {
       "output_type": "stream",
       "stream": "stdout",
       "text": [
        "\n",
        "2681"
       ]
      },
      {
       "output_type": "stream",
       "stream": "stdout",
       "text": [
        "\n",
        "2682"
       ]
      },
      {
       "output_type": "stream",
       "stream": "stdout",
       "text": [
        "\n",
        "2683"
       ]
      },
      {
       "output_type": "stream",
       "stream": "stdout",
       "text": [
        "\n",
        "2684"
       ]
      },
      {
       "output_type": "stream",
       "stream": "stdout",
       "text": [
        "\n",
        "2685"
       ]
      },
      {
       "output_type": "stream",
       "stream": "stdout",
       "text": [
        "\n",
        "2686"
       ]
      },
      {
       "output_type": "stream",
       "stream": "stdout",
       "text": [
        "\n",
        "2687"
       ]
      },
      {
       "output_type": "stream",
       "stream": "stdout",
       "text": [
        "\n",
        "2688"
       ]
      },
      {
       "output_type": "stream",
       "stream": "stdout",
       "text": [
        "\n",
        "2689"
       ]
      },
      {
       "output_type": "stream",
       "stream": "stdout",
       "text": [
        "\n",
        "2690"
       ]
      },
      {
       "output_type": "stream",
       "stream": "stdout",
       "text": [
        "\n",
        "2691"
       ]
      },
      {
       "output_type": "stream",
       "stream": "stdout",
       "text": [
        "\n",
        "2692"
       ]
      },
      {
       "output_type": "stream",
       "stream": "stdout",
       "text": [
        "\n",
        "2693"
       ]
      },
      {
       "output_type": "stream",
       "stream": "stdout",
       "text": [
        "\n",
        "2694"
       ]
      },
      {
       "output_type": "stream",
       "stream": "stdout",
       "text": [
        "\n",
        "2696"
       ]
      },
      {
       "output_type": "stream",
       "stream": "stdout",
       "text": [
        "\n",
        "2697"
       ]
      },
      {
       "output_type": "stream",
       "stream": "stdout",
       "text": [
        "\n",
        "2698"
       ]
      },
      {
       "output_type": "stream",
       "stream": "stdout",
       "text": [
        "\n",
        "2699"
       ]
      },
      {
       "output_type": "stream",
       "stream": "stdout",
       "text": [
        "\n",
        "2701"
       ]
      },
      {
       "output_type": "stream",
       "stream": "stdout",
       "text": [
        "\n",
        "2702"
       ]
      },
      {
       "output_type": "stream",
       "stream": "stdout",
       "text": [
        "\n",
        "2703"
       ]
      },
      {
       "output_type": "stream",
       "stream": "stdout",
       "text": [
        "\n",
        "2704"
       ]
      },
      {
       "output_type": "stream",
       "stream": "stdout",
       "text": [
        "\n",
        "2705"
       ]
      },
      {
       "output_type": "stream",
       "stream": "stdout",
       "text": [
        "\n",
        "2706"
       ]
      },
      {
       "output_type": "stream",
       "stream": "stdout",
       "text": [
        "\n",
        "2707"
       ]
      },
      {
       "output_type": "stream",
       "stream": "stdout",
       "text": [
        "\n",
        "2708"
       ]
      },
      {
       "output_type": "stream",
       "stream": "stdout",
       "text": [
        "\n",
        "2710"
       ]
      },
      {
       "output_type": "stream",
       "stream": "stdout",
       "text": [
        "\n",
        "2711"
       ]
      },
      {
       "output_type": "stream",
       "stream": "stdout",
       "text": [
        "\n",
        "2712"
       ]
      },
      {
       "output_type": "stream",
       "stream": "stdout",
       "text": [
        "\n",
        "2713"
       ]
      },
      {
       "output_type": "stream",
       "stream": "stdout",
       "text": [
        "\n",
        "2714"
       ]
      },
      {
       "output_type": "stream",
       "stream": "stdout",
       "text": [
        "\n",
        "2715"
       ]
      },
      {
       "output_type": "stream",
       "stream": "stdout",
       "text": [
        "\n",
        "2716"
       ]
      },
      {
       "output_type": "stream",
       "stream": "stdout",
       "text": [
        "\n",
        "2717"
       ]
      },
      {
       "output_type": "stream",
       "stream": "stdout",
       "text": [
        "\n",
        "2718"
       ]
      },
      {
       "output_type": "stream",
       "stream": "stdout",
       "text": [
        "\n",
        "2719"
       ]
      },
      {
       "output_type": "stream",
       "stream": "stdout",
       "text": [
        "\n",
        "2720"
       ]
      },
      {
       "output_type": "stream",
       "stream": "stdout",
       "text": [
        "\n",
        "2721"
       ]
      },
      {
       "output_type": "stream",
       "stream": "stdout",
       "text": [
        "\n",
        "2722"
       ]
      },
      {
       "output_type": "stream",
       "stream": "stdout",
       "text": [
        "\n",
        "2723"
       ]
      },
      {
       "output_type": "stream",
       "stream": "stdout",
       "text": [
        "\n",
        "2726"
       ]
      },
      {
       "output_type": "stream",
       "stream": "stdout",
       "text": [
        "\n",
        "2727"
       ]
      },
      {
       "output_type": "stream",
       "stream": "stdout",
       "text": [
        "\n",
        "2728"
       ]
      },
      {
       "output_type": "stream",
       "stream": "stdout",
       "text": [
        "\n",
        "2729"
       ]
      },
      {
       "output_type": "stream",
       "stream": "stdout",
       "text": [
        "\n",
        "2731"
       ]
      },
      {
       "output_type": "stream",
       "stream": "stdout",
       "text": [
        "\n",
        "2732"
       ]
      },
      {
       "output_type": "stream",
       "stream": "stdout",
       "text": [
        "\n",
        "2733"
       ]
      },
      {
       "output_type": "stream",
       "stream": "stdout",
       "text": [
        "\n",
        "2734"
       ]
      },
      {
       "output_type": "stream",
       "stream": "stdout",
       "text": [
        "\n",
        "2735"
       ]
      },
      {
       "output_type": "stream",
       "stream": "stdout",
       "text": [
        "\n",
        "2736"
       ]
      },
      {
       "output_type": "stream",
       "stream": "stdout",
       "text": [
        "\n",
        "2737"
       ]
      },
      {
       "output_type": "stream",
       "stream": "stdout",
       "text": [
        "\n",
        "2738"
       ]
      },
      {
       "output_type": "stream",
       "stream": "stdout",
       "text": [
        "\n",
        "2739"
       ]
      },
      {
       "output_type": "stream",
       "stream": "stdout",
       "text": [
        "\n",
        "2740"
       ]
      },
      {
       "output_type": "stream",
       "stream": "stdout",
       "text": [
        "\n",
        "2741"
       ]
      },
      {
       "output_type": "stream",
       "stream": "stdout",
       "text": [
        "\n",
        "2742"
       ]
      },
      {
       "output_type": "stream",
       "stream": "stdout",
       "text": [
        "\n",
        "2744"
       ]
      },
      {
       "output_type": "stream",
       "stream": "stdout",
       "text": [
        "\n",
        "2745"
       ]
      },
      {
       "output_type": "stream",
       "stream": "stdout",
       "text": [
        "\n",
        "2746"
       ]
      },
      {
       "output_type": "stream",
       "stream": "stdout",
       "text": [
        "\n",
        "2747"
       ]
      },
      {
       "output_type": "stream",
       "stream": "stdout",
       "text": [
        "\n",
        "2748"
       ]
      },
      {
       "output_type": "stream",
       "stream": "stdout",
       "text": [
        "\n",
        "2749"
       ]
      },
      {
       "output_type": "stream",
       "stream": "stdout",
       "text": [
        "\n",
        "2750"
       ]
      },
      {
       "output_type": "stream",
       "stream": "stdout",
       "text": [
        "\n",
        "2751"
       ]
      },
      {
       "output_type": "stream",
       "stream": "stdout",
       "text": [
        "\n",
        "2752"
       ]
      },
      {
       "output_type": "stream",
       "stream": "stdout",
       "text": [
        "\n",
        "2753"
       ]
      },
      {
       "output_type": "stream",
       "stream": "stdout",
       "text": [
        "\n",
        "2754"
       ]
      },
      {
       "output_type": "stream",
       "stream": "stdout",
       "text": [
        "\n",
        "2755"
       ]
      },
      {
       "output_type": "stream",
       "stream": "stdout",
       "text": [
        "\n",
        "2756"
       ]
      },
      {
       "output_type": "stream",
       "stream": "stdout",
       "text": [
        "\n",
        "2757"
       ]
      },
      {
       "output_type": "stream",
       "stream": "stdout",
       "text": [
        "\n",
        "2758"
       ]
      },
      {
       "output_type": "stream",
       "stream": "stdout",
       "text": [
        "\n",
        "2759"
       ]
      },
      {
       "output_type": "stream",
       "stream": "stdout",
       "text": [
        "\n",
        "2760"
       ]
      },
      {
       "output_type": "stream",
       "stream": "stdout",
       "text": [
        "\n",
        "2761"
       ]
      },
      {
       "output_type": "stream",
       "stream": "stdout",
       "text": [
        "\n",
        "2763"
       ]
      },
      {
       "output_type": "stream",
       "stream": "stdout",
       "text": [
        "\n",
        "2764"
       ]
      },
      {
       "output_type": "stream",
       "stream": "stdout",
       "text": [
        "\n",
        "2765"
       ]
      },
      {
       "output_type": "stream",
       "stream": "stdout",
       "text": [
        "\n",
        "2766"
       ]
      },
      {
       "output_type": "stream",
       "stream": "stdout",
       "text": [
        "\n",
        "2767"
       ]
      },
      {
       "output_type": "stream",
       "stream": "stdout",
       "text": [
        "\n",
        "2768"
       ]
      },
      {
       "output_type": "stream",
       "stream": "stdout",
       "text": [
        "\n",
        "2769"
       ]
      },
      {
       "output_type": "stream",
       "stream": "stdout",
       "text": [
        "\n",
        "2770"
       ]
      },
      {
       "output_type": "stream",
       "stream": "stdout",
       "text": [
        "\n",
        "2771"
       ]
      },
      {
       "output_type": "stream",
       "stream": "stdout",
       "text": [
        "\n",
        "2772"
       ]
      },
      {
       "output_type": "stream",
       "stream": "stdout",
       "text": [
        "\n",
        "2773"
       ]
      },
      {
       "output_type": "stream",
       "stream": "stdout",
       "text": [
        "\n",
        "2774"
       ]
      },
      {
       "output_type": "stream",
       "stream": "stdout",
       "text": [
        "\n",
        "2775"
       ]
      },
      {
       "output_type": "stream",
       "stream": "stdout",
       "text": [
        "\n",
        "2778"
       ]
      },
      {
       "output_type": "stream",
       "stream": "stdout",
       "text": [
        "\n",
        "2779"
       ]
      },
      {
       "output_type": "stream",
       "stream": "stdout",
       "text": [
        "\n",
        "2780"
       ]
      },
      {
       "output_type": "stream",
       "stream": "stdout",
       "text": [
        "\n",
        "2781"
       ]
      },
      {
       "output_type": "stream",
       "stream": "stdout",
       "text": [
        "\n",
        "2782"
       ]
      },
      {
       "output_type": "stream",
       "stream": "stdout",
       "text": [
        "\n",
        "2783"
       ]
      },
      {
       "output_type": "stream",
       "stream": "stdout",
       "text": [
        "\n",
        "2785"
       ]
      },
      {
       "output_type": "stream",
       "stream": "stdout",
       "text": [
        "\n",
        "2786"
       ]
      },
      {
       "output_type": "stream",
       "stream": "stdout",
       "text": [
        "\n",
        "2787"
       ]
      },
      {
       "output_type": "stream",
       "stream": "stdout",
       "text": [
        "\n",
        "2788"
       ]
      },
      {
       "output_type": "stream",
       "stream": "stdout",
       "text": [
        "\n",
        "2789"
       ]
      },
      {
       "output_type": "stream",
       "stream": "stdout",
       "text": [
        "\n",
        "2790"
       ]
      },
      {
       "output_type": "stream",
       "stream": "stdout",
       "text": [
        "\n",
        "2791"
       ]
      },
      {
       "output_type": "stream",
       "stream": "stdout",
       "text": [
        "\n",
        "2792"
       ]
      },
      {
       "output_type": "stream",
       "stream": "stdout",
       "text": [
        "\n",
        "2794"
       ]
      },
      {
       "output_type": "stream",
       "stream": "stdout",
       "text": [
        "\n",
        "2796"
       ]
      },
      {
       "output_type": "stream",
       "stream": "stdout",
       "text": [
        "\n",
        "2797"
       ]
      },
      {
       "output_type": "stream",
       "stream": "stdout",
       "text": [
        "\n",
        "2798"
       ]
      },
      {
       "output_type": "stream",
       "stream": "stdout",
       "text": [
        "\n",
        "2799"
       ]
      },
      {
       "output_type": "stream",
       "stream": "stdout",
       "text": [
        "\n",
        "2800"
       ]
      },
      {
       "output_type": "stream",
       "stream": "stdout",
       "text": [
        "\n",
        "2801"
       ]
      },
      {
       "output_type": "stream",
       "stream": "stdout",
       "text": [
        "\n",
        "2802"
       ]
      },
      {
       "output_type": "stream",
       "stream": "stdout",
       "text": [
        "\n",
        "2803"
       ]
      },
      {
       "output_type": "stream",
       "stream": "stdout",
       "text": [
        "\n",
        "2804"
       ]
      },
      {
       "output_type": "stream",
       "stream": "stdout",
       "text": [
        "\n",
        "2806"
       ]
      },
      {
       "output_type": "stream",
       "stream": "stdout",
       "text": [
        "\n",
        "2807"
       ]
      },
      {
       "output_type": "stream",
       "stream": "stdout",
       "text": [
        "\n",
        "2808"
       ]
      },
      {
       "output_type": "stream",
       "stream": "stdout",
       "text": [
        "\n",
        "2809"
       ]
      },
      {
       "output_type": "stream",
       "stream": "stdout",
       "text": [
        "\n",
        "2810"
       ]
      },
      {
       "output_type": "stream",
       "stream": "stdout",
       "text": [
        "\n",
        "2811"
       ]
      },
      {
       "output_type": "stream",
       "stream": "stdout",
       "text": [
        "\n",
        "2812"
       ]
      },
      {
       "output_type": "stream",
       "stream": "stdout",
       "text": [
        "\n",
        "2813"
       ]
      },
      {
       "output_type": "stream",
       "stream": "stdout",
       "text": [
        "\n",
        "2814"
       ]
      },
      {
       "output_type": "stream",
       "stream": "stdout",
       "text": [
        "\n",
        "2815"
       ]
      },
      {
       "output_type": "stream",
       "stream": "stdout",
       "text": [
        "\n",
        "2817"
       ]
      },
      {
       "output_type": "stream",
       "stream": "stdout",
       "text": [
        "\n",
        "2818"
       ]
      },
      {
       "output_type": "stream",
       "stream": "stdout",
       "text": [
        "\n",
        "2819"
       ]
      },
      {
       "output_type": "stream",
       "stream": "stdout",
       "text": [
        "\n",
        "2820"
       ]
      },
      {
       "output_type": "stream",
       "stream": "stdout",
       "text": [
        "\n",
        "2821"
       ]
      },
      {
       "output_type": "stream",
       "stream": "stdout",
       "text": [
        "\n",
        "2822"
       ]
      },
      {
       "output_type": "stream",
       "stream": "stdout",
       "text": [
        "\n",
        "2823"
       ]
      },
      {
       "output_type": "stream",
       "stream": "stdout",
       "text": [
        "\n",
        "2824"
       ]
      },
      {
       "output_type": "stream",
       "stream": "stdout",
       "text": [
        "\n",
        "2825"
       ]
      },
      {
       "output_type": "stream",
       "stream": "stdout",
       "text": [
        "\n",
        "2826"
       ]
      },
      {
       "output_type": "stream",
       "stream": "stdout",
       "text": [
        "\n",
        "2827"
       ]
      },
      {
       "output_type": "stream",
       "stream": "stdout",
       "text": [
        "\n",
        "2829"
       ]
      },
      {
       "output_type": "stream",
       "stream": "stdout",
       "text": [
        "\n",
        "2830"
       ]
      },
      {
       "output_type": "stream",
       "stream": "stdout",
       "text": [
        "\n",
        "2831"
       ]
      },
      {
       "output_type": "stream",
       "stream": "stdout",
       "text": [
        "\n",
        "2832"
       ]
      },
      {
       "output_type": "stream",
       "stream": "stdout",
       "text": [
        "\n",
        "2833"
       ]
      },
      {
       "output_type": "stream",
       "stream": "stdout",
       "text": [
        "\n",
        "2834"
       ]
      },
      {
       "output_type": "stream",
       "stream": "stdout",
       "text": [
        "\n",
        "2835"
       ]
      },
      {
       "output_type": "stream",
       "stream": "stdout",
       "text": [
        "\n",
        "2836"
       ]
      },
      {
       "output_type": "stream",
       "stream": "stdout",
       "text": [
        "\n",
        "2838"
       ]
      },
      {
       "output_type": "stream",
       "stream": "stdout",
       "text": [
        "\n",
        "2839"
       ]
      },
      {
       "output_type": "stream",
       "stream": "stdout",
       "text": [
        "\n",
        "2840"
       ]
      },
      {
       "output_type": "stream",
       "stream": "stdout",
       "text": [
        "\n",
        "2841"
       ]
      },
      {
       "output_type": "stream",
       "stream": "stdout",
       "text": [
        "\n",
        "2842"
       ]
      },
      {
       "output_type": "stream",
       "stream": "stdout",
       "text": [
        "\n",
        "2843"
       ]
      },
      {
       "output_type": "stream",
       "stream": "stdout",
       "text": [
        "\n",
        "2844"
       ]
      },
      {
       "output_type": "stream",
       "stream": "stdout",
       "text": [
        "\n",
        "2845"
       ]
      },
      {
       "output_type": "stream",
       "stream": "stdout",
       "text": [
        "\n",
        "2846"
       ]
      },
      {
       "output_type": "stream",
       "stream": "stdout",
       "text": [
        "\n",
        "2847"
       ]
      },
      {
       "output_type": "stream",
       "stream": "stdout",
       "text": [
        "\n",
        "2848"
       ]
      },
      {
       "output_type": "stream",
       "stream": "stdout",
       "text": [
        "\n",
        "2850"
       ]
      },
      {
       "output_type": "stream",
       "stream": "stdout",
       "text": [
        "\n",
        "2851"
       ]
      },
      {
       "output_type": "stream",
       "stream": "stdout",
       "text": [
        "\n",
        "2852"
       ]
      },
      {
       "output_type": "stream",
       "stream": "stdout",
       "text": [
        "\n",
        "2853"
       ]
      },
      {
       "output_type": "stream",
       "stream": "stdout",
       "text": [
        "\n",
        "2854"
       ]
      },
      {
       "output_type": "stream",
       "stream": "stdout",
       "text": [
        "\n",
        "2855"
       ]
      },
      {
       "output_type": "stream",
       "stream": "stdout",
       "text": [
        "\n",
        "2856"
       ]
      },
      {
       "output_type": "stream",
       "stream": "stdout",
       "text": [
        "\n",
        "2857"
       ]
      },
      {
       "output_type": "stream",
       "stream": "stdout",
       "text": [
        "\n",
        "2858"
       ]
      },
      {
       "output_type": "stream",
       "stream": "stdout",
       "text": [
        "\n",
        "2859"
       ]
      },
      {
       "output_type": "stream",
       "stream": "stdout",
       "text": [
        "\n",
        "2860"
       ]
      },
      {
       "output_type": "stream",
       "stream": "stdout",
       "text": [
        "\n",
        "2861"
       ]
      },
      {
       "output_type": "stream",
       "stream": "stdout",
       "text": [
        "\n",
        "2862"
       ]
      },
      {
       "output_type": "stream",
       "stream": "stdout",
       "text": [
        "\n",
        "2863"
       ]
      },
      {
       "output_type": "stream",
       "stream": "stdout",
       "text": [
        "\n",
        "2864"
       ]
      },
      {
       "output_type": "stream",
       "stream": "stdout",
       "text": [
        "\n",
        "2865"
       ]
      },
      {
       "output_type": "stream",
       "stream": "stdout",
       "text": [
        "\n",
        "2867"
       ]
      },
      {
       "output_type": "stream",
       "stream": "stdout",
       "text": [
        "\n",
        "2868"
       ]
      },
      {
       "output_type": "stream",
       "stream": "stdout",
       "text": [
        "\n",
        "2869"
       ]
      },
      {
       "output_type": "stream",
       "stream": "stdout",
       "text": [
        "\n",
        "2870"
       ]
      },
      {
       "output_type": "stream",
       "stream": "stdout",
       "text": [
        "\n",
        "2871"
       ]
      },
      {
       "output_type": "stream",
       "stream": "stdout",
       "text": [
        "\n",
        "2872"
       ]
      },
      {
       "output_type": "stream",
       "stream": "stdout",
       "text": [
        "\n",
        "2873"
       ]
      },
      {
       "output_type": "stream",
       "stream": "stdout",
       "text": [
        "\n",
        "2874"
       ]
      },
      {
       "output_type": "stream",
       "stream": "stdout",
       "text": [
        "\n",
        "2875"
       ]
      },
      {
       "output_type": "stream",
       "stream": "stdout",
       "text": [
        "\n",
        "2876"
       ]
      },
      {
       "output_type": "stream",
       "stream": "stdout",
       "text": [
        "\n",
        "2877"
       ]
      },
      {
       "output_type": "stream",
       "stream": "stdout",
       "text": [
        "\n",
        "2878"
       ]
      },
      {
       "output_type": "stream",
       "stream": "stdout",
       "text": [
        "\n",
        "2879"
       ]
      },
      {
       "output_type": "stream",
       "stream": "stdout",
       "text": [
        "\n",
        "2880"
       ]
      },
      {
       "output_type": "stream",
       "stream": "stdout",
       "text": [
        "\n",
        "2881"
       ]
      },
      {
       "output_type": "stream",
       "stream": "stdout",
       "text": [
        "\n",
        "2883"
       ]
      },
      {
       "output_type": "stream",
       "stream": "stdout",
       "text": [
        "\n",
        "2884"
       ]
      },
      {
       "output_type": "stream",
       "stream": "stdout",
       "text": [
        "\n",
        "2888"
       ]
      },
      {
       "output_type": "stream",
       "stream": "stdout",
       "text": [
        "\n",
        "2889"
       ]
      },
      {
       "output_type": "stream",
       "stream": "stdout",
       "text": [
        "\n",
        "2890"
       ]
      },
      {
       "output_type": "stream",
       "stream": "stdout",
       "text": [
        "\n",
        "2892"
       ]
      },
      {
       "output_type": "stream",
       "stream": "stdout",
       "text": [
        "\n",
        "2893"
       ]
      },
      {
       "output_type": "stream",
       "stream": "stdout",
       "text": [
        "\n",
        "2894"
       ]
      },
      {
       "output_type": "stream",
       "stream": "stdout",
       "text": [
        "\n",
        "2896"
       ]
      },
      {
       "output_type": "stream",
       "stream": "stdout",
       "text": [
        "\n",
        "2897"
       ]
      },
      {
       "output_type": "stream",
       "stream": "stdout",
       "text": [
        "\n",
        "2899"
       ]
      },
      {
       "output_type": "stream",
       "stream": "stdout",
       "text": [
        "\n",
        "2900"
       ]
      },
      {
       "output_type": "stream",
       "stream": "stdout",
       "text": [
        "\n",
        "2901"
       ]
      },
      {
       "output_type": "stream",
       "stream": "stdout",
       "text": [
        "\n",
        "2902"
       ]
      },
      {
       "output_type": "stream",
       "stream": "stdout",
       "text": [
        "\n",
        "2903"
       ]
      },
      {
       "output_type": "stream",
       "stream": "stdout",
       "text": [
        "\n",
        "2904"
       ]
      },
      {
       "output_type": "stream",
       "stream": "stdout",
       "text": [
        "\n",
        "2905"
       ]
      },
      {
       "output_type": "stream",
       "stream": "stdout",
       "text": [
        "\n",
        "2907"
       ]
      },
      {
       "output_type": "stream",
       "stream": "stdout",
       "text": [
        "\n",
        "2908"
       ]
      },
      {
       "output_type": "stream",
       "stream": "stdout",
       "text": [
        "\n",
        "2909"
       ]
      },
      {
       "output_type": "stream",
       "stream": "stdout",
       "text": [
        "\n",
        "2910"
       ]
      },
      {
       "output_type": "stream",
       "stream": "stdout",
       "text": [
        "\n",
        "2911"
       ]
      },
      {
       "output_type": "stream",
       "stream": "stdout",
       "text": [
        "\n",
        "2912"
       ]
      },
      {
       "output_type": "stream",
       "stream": "stdout",
       "text": [
        "\n",
        "2913"
       ]
      },
      {
       "output_type": "stream",
       "stream": "stdout",
       "text": [
        "\n",
        "2914"
       ]
      },
      {
       "output_type": "stream",
       "stream": "stdout",
       "text": [
        "\n",
        "2916"
       ]
      },
      {
       "output_type": "stream",
       "stream": "stdout",
       "text": [
        "\n",
        "2917"
       ]
      },
      {
       "output_type": "stream",
       "stream": "stdout",
       "text": [
        "\n",
        "2918"
       ]
      },
      {
       "output_type": "stream",
       "stream": "stdout",
       "text": [
        "\n",
        "2919"
       ]
      },
      {
       "output_type": "stream",
       "stream": "stdout",
       "text": [
        "\n",
        "2920"
       ]
      },
      {
       "output_type": "stream",
       "stream": "stdout",
       "text": [
        "\n",
        "2922"
       ]
      },
      {
       "output_type": "stream",
       "stream": "stdout",
       "text": [
        "\n",
        "2923"
       ]
      },
      {
       "output_type": "stream",
       "stream": "stdout",
       "text": [
        "\n",
        "2924"
       ]
      },
      {
       "output_type": "stream",
       "stream": "stdout",
       "text": [
        "\n",
        "2927"
       ]
      },
      {
       "output_type": "stream",
       "stream": "stdout",
       "text": [
        "\n",
        "2929"
       ]
      },
      {
       "output_type": "stream",
       "stream": "stdout",
       "text": [
        "\n",
        "2930"
       ]
      },
      {
       "output_type": "stream",
       "stream": "stdout",
       "text": [
        "\n",
        "2931"
       ]
      },
      {
       "output_type": "stream",
       "stream": "stdout",
       "text": [
        "\n",
        "2932"
       ]
      },
      {
       "output_type": "stream",
       "stream": "stdout",
       "text": [
        "\n",
        "2933"
       ]
      },
      {
       "output_type": "stream",
       "stream": "stdout",
       "text": [
        "\n",
        "2934"
       ]
      },
      {
       "output_type": "stream",
       "stream": "stdout",
       "text": [
        "\n",
        "2935"
       ]
      },
      {
       "output_type": "stream",
       "stream": "stdout",
       "text": [
        "\n",
        "2936"
       ]
      },
      {
       "output_type": "stream",
       "stream": "stdout",
       "text": [
        "\n",
        "2937"
       ]
      },
      {
       "output_type": "stream",
       "stream": "stdout",
       "text": [
        "\n",
        "2938"
       ]
      },
      {
       "output_type": "stream",
       "stream": "stdout",
       "text": [
        "\n",
        "2939"
       ]
      },
      {
       "output_type": "stream",
       "stream": "stdout",
       "text": [
        "\n",
        "2941"
       ]
      },
      {
       "output_type": "stream",
       "stream": "stdout",
       "text": [
        "\n",
        "2942"
       ]
      },
      {
       "output_type": "stream",
       "stream": "stdout",
       "text": [
        "\n",
        "2943"
       ]
      },
      {
       "output_type": "stream",
       "stream": "stdout",
       "text": [
        "\n",
        "2944"
       ]
      },
      {
       "output_type": "stream",
       "stream": "stdout",
       "text": [
        "\n",
        "2945"
       ]
      },
      {
       "output_type": "stream",
       "stream": "stdout",
       "text": [
        "\n",
        "2946"
       ]
      },
      {
       "output_type": "stream",
       "stream": "stdout",
       "text": [
        "\n",
        "2949"
       ]
      },
      {
       "output_type": "stream",
       "stream": "stdout",
       "text": [
        "\n",
        "2950"
       ]
      },
      {
       "output_type": "stream",
       "stream": "stdout",
       "text": [
        "\n",
        "2951"
       ]
      },
      {
       "output_type": "stream",
       "stream": "stdout",
       "text": [
        "\n",
        "2952"
       ]
      },
      {
       "output_type": "stream",
       "stream": "stdout",
       "text": [
        "\n",
        "2953"
       ]
      },
      {
       "output_type": "stream",
       "stream": "stdout",
       "text": [
        "\n",
        "2954"
       ]
      },
      {
       "output_type": "stream",
       "stream": "stdout",
       "text": [
        "\n",
        "2955"
       ]
      },
      {
       "output_type": "stream",
       "stream": "stdout",
       "text": [
        "\n",
        "2956"
       ]
      },
      {
       "output_type": "stream",
       "stream": "stdout",
       "text": [
        "\n",
        "2957"
       ]
      },
      {
       "output_type": "stream",
       "stream": "stdout",
       "text": [
        "\n",
        "2958"
       ]
      },
      {
       "output_type": "stream",
       "stream": "stdout",
       "text": [
        "\n",
        "2959"
       ]
      },
      {
       "output_type": "stream",
       "stream": "stdout",
       "text": [
        "\n",
        "2960"
       ]
      },
      {
       "output_type": "stream",
       "stream": "stdout",
       "text": [
        "\n",
        "2961"
       ]
      },
      {
       "output_type": "stream",
       "stream": "stdout",
       "text": [
        "\n",
        "2962"
       ]
      },
      {
       "output_type": "stream",
       "stream": "stdout",
       "text": [
        "\n",
        "2963"
       ]
      },
      {
       "output_type": "stream",
       "stream": "stdout",
       "text": [
        "\n",
        "2964"
       ]
      },
      {
       "output_type": "stream",
       "stream": "stdout",
       "text": [
        "\n",
        "2967"
       ]
      },
      {
       "output_type": "stream",
       "stream": "stdout",
       "text": [
        "\n",
        "2968"
       ]
      },
      {
       "output_type": "stream",
       "stream": "stdout",
       "text": [
        "\n",
        "2969"
       ]
      },
      {
       "output_type": "stream",
       "stream": "stdout",
       "text": [
        "\n",
        "2970"
       ]
      },
      {
       "output_type": "stream",
       "stream": "stdout",
       "text": [
        "\n",
        "2971"
       ]
      },
      {
       "output_type": "stream",
       "stream": "stdout",
       "text": [
        "\n",
        "2972"
       ]
      },
      {
       "output_type": "stream",
       "stream": "stdout",
       "text": [
        "\n",
        "2973"
       ]
      },
      {
       "output_type": "stream",
       "stream": "stdout",
       "text": [
        "\n",
        "2974"
       ]
      },
      {
       "output_type": "stream",
       "stream": "stdout",
       "text": [
        "\n",
        "2975"
       ]
      },
      {
       "output_type": "stream",
       "stream": "stdout",
       "text": [
        "\n",
        "2976"
       ]
      },
      {
       "output_type": "stream",
       "stream": "stdout",
       "text": [
        "\n",
        "2977"
       ]
      },
      {
       "output_type": "stream",
       "stream": "stdout",
       "text": [
        "\n",
        "2978"
       ]
      },
      {
       "output_type": "stream",
       "stream": "stdout",
       "text": [
        "\n",
        "2979"
       ]
      },
      {
       "output_type": "stream",
       "stream": "stdout",
       "text": [
        "\n",
        "2981"
       ]
      },
      {
       "output_type": "stream",
       "stream": "stdout",
       "text": [
        "\n",
        "2985"
       ]
      },
      {
       "output_type": "stream",
       "stream": "stdout",
       "text": [
        "\n",
        "2986"
       ]
      },
      {
       "output_type": "stream",
       "stream": "stdout",
       "text": [
        "\n",
        "2987"
       ]
      },
      {
       "output_type": "stream",
       "stream": "stdout",
       "text": [
        "\n",
        "2988"
       ]
      },
      {
       "output_type": "stream",
       "stream": "stdout",
       "text": [
        "\n",
        "2989"
       ]
      },
      {
       "output_type": "stream",
       "stream": "stdout",
       "text": [
        "\n",
        "2991"
       ]
      },
      {
       "output_type": "stream",
       "stream": "stdout",
       "text": [
        "\n",
        "2996"
       ]
      },
      {
       "output_type": "stream",
       "stream": "stdout",
       "text": [
        "\n",
        "2998"
       ]
      },
      {
       "output_type": "stream",
       "stream": "stdout",
       "text": [
        "\n",
        "2999"
       ]
      },
      {
       "output_type": "stream",
       "stream": "stdout",
       "text": [
        "\n",
        "3000"
       ]
      },
      {
       "output_type": "stream",
       "stream": "stdout",
       "text": [
        "\n",
        "3001"
       ]
      },
      {
       "output_type": "stream",
       "stream": "stdout",
       "text": [
        "\n",
        "3002"
       ]
      },
      {
       "output_type": "stream",
       "stream": "stdout",
       "text": [
        "\n",
        "3003"
       ]
      },
      {
       "output_type": "stream",
       "stream": "stdout",
       "text": [
        "\n",
        "3005"
       ]
      },
      {
       "output_type": "stream",
       "stream": "stdout",
       "text": [
        "\n",
        "3007"
       ]
      },
      {
       "output_type": "stream",
       "stream": "stdout",
       "text": [
        "\n",
        "3009"
       ]
      },
      {
       "output_type": "stream",
       "stream": "stdout",
       "text": [
        "\n",
        "3012"
       ]
      },
      {
       "output_type": "stream",
       "stream": "stdout",
       "text": [
        "\n",
        "3013"
       ]
      },
      {
       "output_type": "stream",
       "stream": "stdout",
       "text": [
        "\n",
        "3015"
       ]
      },
      {
       "output_type": "stream",
       "stream": "stdout",
       "text": [
        "\n",
        "3016"
       ]
      },
      {
       "output_type": "stream",
       "stream": "stdout",
       "text": [
        "\n",
        "3017"
       ]
      },
      {
       "output_type": "stream",
       "stream": "stdout",
       "text": [
        "\n",
        "3018"
       ]
      },
      {
       "output_type": "stream",
       "stream": "stdout",
       "text": [
        "\n",
        "3019"
       ]
      },
      {
       "output_type": "stream",
       "stream": "stdout",
       "text": [
        "\n",
        "3020"
       ]
      },
      {
       "output_type": "stream",
       "stream": "stdout",
       "text": [
        "\n",
        "3021"
       ]
      },
      {
       "output_type": "stream",
       "stream": "stdout",
       "text": [
        "\n",
        "3022"
       ]
      },
      {
       "output_type": "stream",
       "stream": "stdout",
       "text": [
        "\n",
        "3023"
       ]
      },
      {
       "output_type": "stream",
       "stream": "stdout",
       "text": [
        "\n",
        "3024"
       ]
      },
      {
       "output_type": "stream",
       "stream": "stdout",
       "text": [
        "\n",
        "3025"
       ]
      },
      {
       "output_type": "stream",
       "stream": "stdout",
       "text": [
        "\n",
        "3026"
       ]
      },
      {
       "output_type": "stream",
       "stream": "stdout",
       "text": [
        "\n",
        "3027"
       ]
      },
      {
       "output_type": "stream",
       "stream": "stdout",
       "text": [
        "\n",
        "3028"
       ]
      },
      {
       "output_type": "stream",
       "stream": "stdout",
       "text": [
        "\n",
        "3029"
       ]
      },
      {
       "output_type": "stream",
       "stream": "stdout",
       "text": [
        "\n",
        "3030"
       ]
      },
      {
       "output_type": "stream",
       "stream": "stdout",
       "text": [
        "\n",
        "3032"
       ]
      },
      {
       "output_type": "stream",
       "stream": "stdout",
       "text": [
        "\n",
        "3033"
       ]
      },
      {
       "output_type": "stream",
       "stream": "stdout",
       "text": [
        "\n",
        "3035"
       ]
      },
      {
       "output_type": "stream",
       "stream": "stdout",
       "text": [
        "\n",
        "3037"
       ]
      },
      {
       "output_type": "stream",
       "stream": "stdout",
       "text": [
        "\n",
        "3038"
       ]
      },
      {
       "output_type": "stream",
       "stream": "stdout",
       "text": [
        "\n",
        "3044"
       ]
      },
      {
       "output_type": "stream",
       "stream": "stdout",
       "text": [
        "\n",
        "3047"
       ]
      },
      {
       "output_type": "stream",
       "stream": "stdout",
       "text": [
        "\n",
        "3048"
       ]
      },
      {
       "output_type": "stream",
       "stream": "stdout",
       "text": [
        "\n",
        "3050"
       ]
      },
      {
       "output_type": "stream",
       "stream": "stdout",
       "text": [
        "\n",
        "3052"
       ]
      },
      {
       "output_type": "stream",
       "stream": "stdout",
       "text": [
        "\n",
        "3053"
       ]
      },
      {
       "output_type": "stream",
       "stream": "stdout",
       "text": [
        "\n",
        "3054"
       ]
      },
      {
       "output_type": "stream",
       "stream": "stdout",
       "text": [
        "\n",
        "3055"
       ]
      },
      {
       "output_type": "stream",
       "stream": "stdout",
       "text": [
        "\n",
        "3056"
       ]
      },
      {
       "output_type": "stream",
       "stream": "stdout",
       "text": [
        "\n",
        "3057"
       ]
      },
      {
       "output_type": "stream",
       "stream": "stdout",
       "text": [
        "\n",
        "3059"
       ]
      },
      {
       "output_type": "stream",
       "stream": "stdout",
       "text": [
        "\n",
        "3062"
       ]
      },
      {
       "output_type": "stream",
       "stream": "stdout",
       "text": [
        "\n",
        "3063"
       ]
      },
      {
       "output_type": "stream",
       "stream": "stdout",
       "text": [
        "\n",
        "3064"
       ]
      },
      {
       "output_type": "stream",
       "stream": "stdout",
       "text": [
        "\n",
        "3066"
       ]
      },
      {
       "output_type": "stream",
       "stream": "stdout",
       "text": [
        "\n",
        "3067"
       ]
      },
      {
       "output_type": "stream",
       "stream": "stdout",
       "text": [
        "\n",
        "3068"
       ]
      },
      {
       "output_type": "stream",
       "stream": "stdout",
       "text": [
        "\n",
        "3069"
       ]
      },
      {
       "output_type": "stream",
       "stream": "stdout",
       "text": [
        "\n",
        "3071"
       ]
      },
      {
       "output_type": "stream",
       "stream": "stdout",
       "text": [
        "\n",
        "3072"
       ]
      },
      {
       "output_type": "stream",
       "stream": "stdout",
       "text": [
        "\n",
        "3075"
       ]
      },
      {
       "output_type": "stream",
       "stream": "stdout",
       "text": [
        "\n",
        "3076"
       ]
      },
      {
       "output_type": "stream",
       "stream": "stdout",
       "text": [
        "\n",
        "3077"
       ]
      },
      {
       "output_type": "stream",
       "stream": "stdout",
       "text": [
        "\n",
        "3078"
       ]
      },
      {
       "output_type": "stream",
       "stream": "stdout",
       "text": [
        "\n",
        "3079"
       ]
      },
      {
       "output_type": "stream",
       "stream": "stdout",
       "text": [
        "\n",
        "3080"
       ]
      },
      {
       "output_type": "stream",
       "stream": "stdout",
       "text": [
        "\n",
        "3081"
       ]
      },
      {
       "output_type": "stream",
       "stream": "stdout",
       "text": [
        "\n",
        "3084"
       ]
      },
      {
       "output_type": "stream",
       "stream": "stdout",
       "text": [
        "\n",
        "3087"
       ]
      },
      {
       "output_type": "stream",
       "stream": "stdout",
       "text": [
        "\n",
        "3088"
       ]
      },
      {
       "output_type": "stream",
       "stream": "stdout",
       "text": [
        "\n",
        "3089"
       ]
      },
      {
       "output_type": "stream",
       "stream": "stdout",
       "text": [
        "\n",
        "3090"
       ]
      },
      {
       "output_type": "stream",
       "stream": "stdout",
       "text": [
        "\n",
        "3091"
       ]
      },
      {
       "output_type": "stream",
       "stream": "stdout",
       "text": [
        "\n",
        "3092"
       ]
      },
      {
       "output_type": "stream",
       "stream": "stdout",
       "text": [
        "\n",
        "3093"
       ]
      },
      {
       "output_type": "stream",
       "stream": "stdout",
       "text": [
        "\n",
        "3094"
       ]
      },
      {
       "output_type": "stream",
       "stream": "stdout",
       "text": [
        "\n",
        "3096"
       ]
      },
      {
       "output_type": "stream",
       "stream": "stdout",
       "text": [
        "\n",
        "3097"
       ]
      },
      {
       "output_type": "stream",
       "stream": "stdout",
       "text": [
        "\n",
        "3098"
       ]
      },
      {
       "output_type": "stream",
       "stream": "stdout",
       "text": [
        "\n",
        "3099"
       ]
      },
      {
       "output_type": "stream",
       "stream": "stdout",
       "text": [
        "\n",
        "3100"
       ]
      },
      {
       "output_type": "stream",
       "stream": "stdout",
       "text": [
        "\n",
        "3101"
       ]
      },
      {
       "output_type": "stream",
       "stream": "stdout",
       "text": [
        "\n",
        "3102"
       ]
      },
      {
       "output_type": "stream",
       "stream": "stdout",
       "text": [
        "\n",
        "3103"
       ]
      },
      {
       "output_type": "stream",
       "stream": "stdout",
       "text": [
        "\n",
        "3104"
       ]
      },
      {
       "output_type": "stream",
       "stream": "stdout",
       "text": [
        "\n",
        "3105"
       ]
      },
      {
       "output_type": "stream",
       "stream": "stdout",
       "text": [
        "\n",
        "3106"
       ]
      },
      {
       "output_type": "stream",
       "stream": "stdout",
       "text": [
        "\n",
        "3107"
       ]
      },
      {
       "output_type": "stream",
       "stream": "stdout",
       "text": [
        "\n",
        "3108"
       ]
      },
      {
       "output_type": "stream",
       "stream": "stdout",
       "text": [
        "\n",
        "3111"
       ]
      },
      {
       "output_type": "stream",
       "stream": "stdout",
       "text": [
        "\n",
        "3113"
       ]
      },
      {
       "output_type": "stream",
       "stream": "stdout",
       "text": [
        "\n",
        "3119"
       ]
      },
      {
       "output_type": "stream",
       "stream": "stdout",
       "text": [
        "\n",
        "3121"
       ]
      },
      {
       "output_type": "stream",
       "stream": "stdout",
       "text": [
        "\n",
        "3124"
       ]
      },
      {
       "output_type": "stream",
       "stream": "stdout",
       "text": [
        "\n",
        "3126"
       ]
      },
      {
       "output_type": "stream",
       "stream": "stdout",
       "text": [
        "\n",
        "3127"
       ]
      },
      {
       "output_type": "stream",
       "stream": "stdout",
       "text": [
        "\n",
        "3130"
       ]
      },
      {
       "output_type": "stream",
       "stream": "stdout",
       "text": [
        "\n",
        "3132"
       ]
      },
      {
       "output_type": "stream",
       "stream": "stdout",
       "text": [
        "\n",
        "3148"
       ]
      },
      {
       "output_type": "stream",
       "stream": "stdout",
       "text": [
        "\n",
        "3149"
       ]
      },
      {
       "output_type": "stream",
       "stream": "stdout",
       "text": [
        "\n",
        "3150"
       ]
      },
      {
       "output_type": "stream",
       "stream": "stdout",
       "text": [
        "\n",
        "3151"
       ]
      },
      {
       "output_type": "stream",
       "stream": "stdout",
       "text": [
        "\n",
        "3152"
       ]
      },
      {
       "output_type": "stream",
       "stream": "stdout",
       "text": [
        "\n",
        "3153"
       ]
      },
      {
       "output_type": "stream",
       "stream": "stdout",
       "text": [
        "\n",
        "3154"
       ]
      },
      {
       "output_type": "stream",
       "stream": "stdout",
       "text": [
        "\n",
        "3156"
       ]
      },
      {
       "output_type": "stream",
       "stream": "stdout",
       "text": [
        "\n",
        "3157"
       ]
      },
      {
       "output_type": "stream",
       "stream": "stdout",
       "text": [
        "\n",
        "3159"
       ]
      },
      {
       "output_type": "stream",
       "stream": "stdout",
       "text": [
        "\n",
        "3162"
       ]
      },
      {
       "output_type": "stream",
       "stream": "stdout",
       "text": [
        "\n",
        "3163"
       ]
      },
      {
       "output_type": "stream",
       "stream": "stdout",
       "text": [
        "\n",
        "3164"
       ]
      },
      {
       "output_type": "stream",
       "stream": "stdout",
       "text": [
        "\n",
        "3165"
       ]
      },
      {
       "output_type": "stream",
       "stream": "stdout",
       "text": [
        "\n",
        "3166"
       ]
      },
      {
       "output_type": "stream",
       "stream": "stdout",
       "text": [
        "\n",
        "3170"
       ]
      },
      {
       "output_type": "stream",
       "stream": "stdout",
       "text": [
        "\n",
        "3171"
       ]
      },
      {
       "output_type": "stream",
       "stream": "stdout",
       "text": [
        "\n",
        "3172"
       ]
      },
      {
       "output_type": "stream",
       "stream": "stdout",
       "text": [
        "\n",
        "3173"
       ]
      },
      {
       "output_type": "stream",
       "stream": "stdout",
       "text": [
        "\n",
        "3175"
       ]
      },
      {
       "output_type": "stream",
       "stream": "stdout",
       "text": [
        "\n",
        "3176"
       ]
      },
      {
       "output_type": "stream",
       "stream": "stdout",
       "text": [
        "\n",
        "3178"
       ]
      },
      {
       "output_type": "stream",
       "stream": "stdout",
       "text": [
        "\n",
        "3180"
       ]
      },
      {
       "output_type": "stream",
       "stream": "stdout",
       "text": [
        "\n",
        "3184"
       ]
      },
      {
       "output_type": "stream",
       "stream": "stdout",
       "text": [
        "\n",
        "3185"
       ]
      },
      {
       "output_type": "stream",
       "stream": "stdout",
       "text": [
        "\n",
        "3186"
       ]
      },
      {
       "output_type": "stream",
       "stream": "stdout",
       "text": [
        "\n",
        "3188"
       ]
      },
      {
       "output_type": "stream",
       "stream": "stdout",
       "text": [
        "\n",
        "3190"
       ]
      },
      {
       "output_type": "stream",
       "stream": "stdout",
       "text": [
        "\n",
        "3192"
       ]
      },
      {
       "output_type": "stream",
       "stream": "stdout",
       "text": [
        "\n",
        "3194"
       ]
      },
      {
       "output_type": "stream",
       "stream": "stdout",
       "text": [
        "\n",
        "3195"
       ]
      },
      {
       "output_type": "stream",
       "stream": "stdout",
       "text": [
        "\n",
        "3196"
       ]
      },
      {
       "output_type": "stream",
       "stream": "stdout",
       "text": [
        "\n",
        "3198"
       ]
      },
      {
       "output_type": "stream",
       "stream": "stdout",
       "text": [
        "\n",
        "3199"
       ]
      },
      {
       "output_type": "stream",
       "stream": "stdout",
       "text": [
        "\n",
        "3201"
       ]
      },
      {
       "output_type": "stream",
       "stream": "stdout",
       "text": [
        "\n",
        "3202"
       ]
      },
      {
       "output_type": "stream",
       "stream": "stdout",
       "text": [
        "\n",
        "3204"
       ]
      },
      {
       "output_type": "stream",
       "stream": "stdout",
       "text": [
        "\n",
        "3206"
       ]
      },
      {
       "output_type": "stream",
       "stream": "stdout",
       "text": [
        "\n",
        "3209"
       ]
      },
      {
       "output_type": "stream",
       "stream": "stdout",
       "text": [
        "\n",
        "3225"
       ]
      },
      {
       "output_type": "stream",
       "stream": "stdout",
       "text": [
        "\n",
        "3226"
       ]
      },
      {
       "output_type": "stream",
       "stream": "stdout",
       "text": [
        "\n",
        "3227"
       ]
      },
      {
       "output_type": "stream",
       "stream": "stdout",
       "text": [
        "\n",
        "3228"
       ]
      },
      {
       "output_type": "stream",
       "stream": "stdout",
       "text": [
        "\n",
        "3229"
       ]
      },
      {
       "output_type": "stream",
       "stream": "stdout",
       "text": [
        "\n",
        "3230"
       ]
      },
      {
       "output_type": "stream",
       "stream": "stdout",
       "text": [
        "\n",
        "3231"
       ]
      },
      {
       "output_type": "stream",
       "stream": "stdout",
       "text": [
        "\n",
        "3233"
       ]
      },
      {
       "output_type": "stream",
       "stream": "stdout",
       "text": [
        "\n",
        "3235"
       ]
      },
      {
       "output_type": "stream",
       "stream": "stdout",
       "text": [
        "\n",
        "3236"
       ]
      },
      {
       "output_type": "stream",
       "stream": "stdout",
       "text": [
        "\n",
        "3241"
       ]
      },
      {
       "output_type": "stream",
       "stream": "stdout",
       "text": [
        "\n",
        "3243"
       ]
      },
      {
       "output_type": "stream",
       "stream": "stdout",
       "text": [
        "\n",
        "3244"
       ]
      },
      {
       "output_type": "stream",
       "stream": "stdout",
       "text": [
        "\n",
        "3245"
       ]
      },
      {
       "output_type": "stream",
       "stream": "stdout",
       "text": [
        "\n",
        "3246"
       ]
      },
      {
       "output_type": "stream",
       "stream": "stdout",
       "text": [
        "\n",
        "3248"
       ]
      },
      {
       "output_type": "stream",
       "stream": "stdout",
       "text": [
        "\n",
        "3249"
       ]
      },
      {
       "output_type": "stream",
       "stream": "stdout",
       "text": [
        "\n",
        "3250"
       ]
      },
      {
       "output_type": "stream",
       "stream": "stdout",
       "text": [
        "\n",
        "3252"
       ]
      },
      {
       "output_type": "stream",
       "stream": "stdout",
       "text": [
        "\n",
        "3253"
       ]
      },
      {
       "output_type": "stream",
       "stream": "stdout",
       "text": [
        "\n",
        "3254"
       ]
      },
      {
       "output_type": "stream",
       "stream": "stdout",
       "text": [
        "\n",
        "3255"
       ]
      },
      {
       "output_type": "stream",
       "stream": "stdout",
       "text": [
        "\n",
        "3256"
       ]
      },
      {
       "output_type": "stream",
       "stream": "stdout",
       "text": [
        "\n",
        "3258"
       ]
      },
      {
       "output_type": "stream",
       "stream": "stdout",
       "text": [
        "\n",
        "3260"
       ]
      },
      {
       "output_type": "stream",
       "stream": "stdout",
       "text": [
        "\n",
        "3261"
       ]
      },
      {
       "output_type": "stream",
       "stream": "stdout",
       "text": [
        "\n",
        "3262"
       ]
      },
      {
       "output_type": "stream",
       "stream": "stdout",
       "text": [
        "\n",
        "3263"
       ]
      },
      {
       "output_type": "stream",
       "stream": "stdout",
       "text": [
        "\n",
        "3264"
       ]
      },
      {
       "output_type": "stream",
       "stream": "stdout",
       "text": [
        "\n",
        "3265"
       ]
      },
      {
       "output_type": "stream",
       "stream": "stdout",
       "text": [
        "\n",
        "3266"
       ]
      },
      {
       "output_type": "stream",
       "stream": "stdout",
       "text": [
        "\n",
        "3267"
       ]
      },
      {
       "output_type": "stream",
       "stream": "stdout",
       "text": [
        "\n",
        "3268"
       ]
      },
      {
       "output_type": "stream",
       "stream": "stdout",
       "text": [
        "\n",
        "3269"
       ]
      },
      {
       "output_type": "stream",
       "stream": "stdout",
       "text": [
        "\n",
        "3270"
       ]
      },
      {
       "output_type": "stream",
       "stream": "stdout",
       "text": [
        "\n",
        "3272"
       ]
      },
      {
       "output_type": "stream",
       "stream": "stdout",
       "text": [
        "\n",
        "3273"
       ]
      },
      {
       "output_type": "stream",
       "stream": "stdout",
       "text": [
        "\n",
        "3274"
       ]
      },
      {
       "output_type": "stream",
       "stream": "stdout",
       "text": [
        "\n",
        "3275"
       ]
      },
      {
       "output_type": "stream",
       "stream": "stdout",
       "text": [
        "\n",
        "3276"
       ]
      },
      {
       "output_type": "stream",
       "stream": "stdout",
       "text": [
        "\n",
        "3277"
       ]
      },
      {
       "output_type": "stream",
       "stream": "stdout",
       "text": [
        "\n",
        "3278"
       ]
      },
      {
       "output_type": "stream",
       "stream": "stdout",
       "text": [
        "\n",
        "3279"
       ]
      },
      {
       "output_type": "stream",
       "stream": "stdout",
       "text": [
        "\n",
        "3280"
       ]
      },
      {
       "output_type": "stream",
       "stream": "stdout",
       "text": [
        "\n",
        "3281"
       ]
      },
      {
       "output_type": "stream",
       "stream": "stdout",
       "text": [
        "\n",
        "3283"
       ]
      },
      {
       "output_type": "stream",
       "stream": "stdout",
       "text": [
        "\n",
        "3284"
       ]
      },
      {
       "output_type": "stream",
       "stream": "stdout",
       "text": [
        "\n",
        "3285"
       ]
      },
      {
       "output_type": "stream",
       "stream": "stdout",
       "text": [
        "\n",
        "3286"
       ]
      },
      {
       "output_type": "stream",
       "stream": "stdout",
       "text": [
        "\n",
        "3287"
       ]
      },
      {
       "output_type": "stream",
       "stream": "stdout",
       "text": [
        "\n",
        "3288"
       ]
      },
      {
       "output_type": "stream",
       "stream": "stdout",
       "text": [
        "\n",
        "3290"
       ]
      },
      {
       "output_type": "stream",
       "stream": "stdout",
       "text": [
        "\n",
        "3292"
       ]
      },
      {
       "output_type": "stream",
       "stream": "stdout",
       "text": [
        "\n",
        "3293"
       ]
      },
      {
       "output_type": "stream",
       "stream": "stdout",
       "text": [
        "\n",
        "3294"
       ]
      },
      {
       "output_type": "stream",
       "stream": "stdout",
       "text": [
        "\n",
        "3295"
       ]
      },
      {
       "output_type": "stream",
       "stream": "stdout",
       "text": [
        "\n",
        "3296"
       ]
      },
      {
       "output_type": "stream",
       "stream": "stdout",
       "text": [
        "\n",
        "3299"
       ]
      },
      {
       "output_type": "stream",
       "stream": "stdout",
       "text": [
        "\n",
        "3300"
       ]
      },
      {
       "output_type": "stream",
       "stream": "stdout",
       "text": [
        "\n",
        "3301"
       ]
      },
      {
       "output_type": "stream",
       "stream": "stdout",
       "text": [
        "\n",
        "3302"
       ]
      },
      {
       "output_type": "stream",
       "stream": "stdout",
       "text": [
        "\n",
        "3303"
       ]
      },
      {
       "output_type": "stream",
       "stream": "stdout",
       "text": [
        "\n",
        "3304"
       ]
      },
      {
       "output_type": "stream",
       "stream": "stdout",
       "text": [
        "\n",
        "3305"
       ]
      },
      {
       "output_type": "stream",
       "stream": "stdout",
       "text": [
        "\n",
        "3306"
       ]
      },
      {
       "output_type": "stream",
       "stream": "stdout",
       "text": [
        "\n",
        "3307"
       ]
      },
      {
       "output_type": "stream",
       "stream": "stdout",
       "text": [
        "\n",
        "3309"
       ]
      },
      {
       "output_type": "stream",
       "stream": "stdout",
       "text": [
        "\n",
        "3310"
       ]
      },
      {
       "output_type": "stream",
       "stream": "stdout",
       "text": [
        "\n",
        "3311"
       ]
      },
      {
       "output_type": "stream",
       "stream": "stdout",
       "text": [
        "\n",
        "3312"
       ]
      },
      {
       "output_type": "stream",
       "stream": "stdout",
       "text": [
        "\n",
        "3314"
       ]
      },
      {
       "output_type": "stream",
       "stream": "stdout",
       "text": [
        "\n",
        "3315"
       ]
      },
      {
       "output_type": "stream",
       "stream": "stdout",
       "text": [
        "\n",
        "3316"
       ]
      },
      {
       "output_type": "stream",
       "stream": "stdout",
       "text": [
        "\n",
        "3317"
       ]
      },
      {
       "output_type": "stream",
       "stream": "stdout",
       "text": [
        "\n",
        "3318"
       ]
      },
      {
       "output_type": "stream",
       "stream": "stdout",
       "text": [
        "\n",
        "3319"
       ]
      },
      {
       "output_type": "stream",
       "stream": "stdout",
       "text": [
        "\n",
        "3320"
       ]
      },
      {
       "output_type": "stream",
       "stream": "stdout",
       "text": [
        "\n",
        "3321"
       ]
      },
      {
       "output_type": "stream",
       "stream": "stdout",
       "text": [
        "\n",
        "3322"
       ]
      },
      {
       "output_type": "stream",
       "stream": "stdout",
       "text": [
        "\n",
        "3323"
       ]
      },
      {
       "output_type": "stream",
       "stream": "stdout",
       "text": [
        "\n",
        "3324"
       ]
      },
      {
       "output_type": "stream",
       "stream": "stdout",
       "text": [
        "\n",
        "3325"
       ]
      },
      {
       "output_type": "stream",
       "stream": "stdout",
       "text": [
        "\n",
        "3328"
       ]
      },
      {
       "output_type": "stream",
       "stream": "stdout",
       "text": [
        "\n",
        "3329"
       ]
      },
      {
       "output_type": "stream",
       "stream": "stdout",
       "text": [
        "\n",
        "3330"
       ]
      },
      {
       "output_type": "stream",
       "stream": "stdout",
       "text": [
        "\n",
        "3331"
       ]
      },
      {
       "output_type": "stream",
       "stream": "stdout",
       "text": [
        "\n",
        "3332"
       ]
      },
      {
       "output_type": "stream",
       "stream": "stdout",
       "text": [
        "\n",
        "3333"
       ]
      },
      {
       "output_type": "stream",
       "stream": "stdout",
       "text": [
        "\n",
        "3334"
       ]
      },
      {
       "output_type": "stream",
       "stream": "stdout",
       "text": [
        "\n",
        "3335"
       ]
      },
      {
       "output_type": "stream",
       "stream": "stdout",
       "text": [
        "\n",
        "3336"
       ]
      },
      {
       "output_type": "stream",
       "stream": "stdout",
       "text": [
        "\n",
        "3337\n",
        "3339"
       ]
      },
      {
       "output_type": "stream",
       "stream": "stdout",
       "text": [
        "\n",
        "3340"
       ]
      },
      {
       "output_type": "stream",
       "stream": "stdout",
       "text": [
        "\n",
        "3341"
       ]
      },
      {
       "output_type": "stream",
       "stream": "stdout",
       "text": [
        "\n",
        "3342"
       ]
      },
      {
       "output_type": "stream",
       "stream": "stdout",
       "text": [
        "\n",
        "3343"
       ]
      },
      {
       "output_type": "stream",
       "stream": "stdout",
       "text": [
        "\n",
        "3344"
       ]
      },
      {
       "output_type": "stream",
       "stream": "stdout",
       "text": [
        "\n",
        "3345\n",
        "3346"
       ]
      },
      {
       "output_type": "stream",
       "stream": "stdout",
       "text": [
        "\n",
        "3347"
       ]
      },
      {
       "output_type": "stream",
       "stream": "stdout",
       "text": [
        "\n",
        "3348"
       ]
      },
      {
       "output_type": "stream",
       "stream": "stdout",
       "text": [
        "\n",
        "3349"
       ]
      },
      {
       "output_type": "stream",
       "stream": "stdout",
       "text": [
        "\n",
        "3350"
       ]
      },
      {
       "output_type": "stream",
       "stream": "stdout",
       "text": [
        "\n",
        "3351"
       ]
      },
      {
       "output_type": "stream",
       "stream": "stdout",
       "text": [
        "\n",
        "3352"
       ]
      },
      {
       "output_type": "stream",
       "stream": "stdout",
       "text": [
        "\n",
        "3353"
       ]
      },
      {
       "output_type": "stream",
       "stream": "stdout",
       "text": [
        "\n",
        "3354"
       ]
      },
      {
       "output_type": "stream",
       "stream": "stdout",
       "text": [
        "\n",
        "3355\n",
        "3358"
       ]
      },
      {
       "output_type": "stream",
       "stream": "stdout",
       "text": [
        "\n",
        "3359"
       ]
      },
      {
       "output_type": "stream",
       "stream": "stdout",
       "text": [
        "\n",
        "3360"
       ]
      },
      {
       "output_type": "stream",
       "stream": "stdout",
       "text": [
        "\n",
        "3361"
       ]
      },
      {
       "output_type": "stream",
       "stream": "stdout",
       "text": [
        "\n",
        "3362"
       ]
      },
      {
       "output_type": "stream",
       "stream": "stdout",
       "text": [
        "\n",
        "3363"
       ]
      },
      {
       "output_type": "stream",
       "stream": "stdout",
       "text": [
        "\n",
        "3364"
       ]
      },
      {
       "output_type": "stream",
       "stream": "stdout",
       "text": [
        "\n",
        "3366"
       ]
      },
      {
       "output_type": "stream",
       "stream": "stdout",
       "text": [
        "\n",
        "3367"
       ]
      },
      {
       "output_type": "stream",
       "stream": "stdout",
       "text": [
        "\n",
        "3368"
       ]
      },
      {
       "output_type": "stream",
       "stream": "stdout",
       "text": [
        "\n",
        "3369"
       ]
      },
      {
       "output_type": "stream",
       "stream": "stdout",
       "text": [
        "\n",
        "3370"
       ]
      },
      {
       "output_type": "stream",
       "stream": "stdout",
       "text": [
        "\n",
        "3371"
       ]
      },
      {
       "output_type": "stream",
       "stream": "stdout",
       "text": [
        "\n",
        "3372"
       ]
      },
      {
       "output_type": "stream",
       "stream": "stdout",
       "text": [
        "\n",
        "3373"
       ]
      },
      {
       "output_type": "stream",
       "stream": "stdout",
       "text": [
        "\n",
        "3378"
       ]
      },
      {
       "output_type": "stream",
       "stream": "stdout",
       "text": [
        "\n",
        "3379"
       ]
      },
      {
       "output_type": "stream",
       "stream": "stdout",
       "text": [
        "\n",
        "3380"
       ]
      },
      {
       "output_type": "stream",
       "stream": "stdout",
       "text": [
        "\n",
        "3381"
       ]
      },
      {
       "output_type": "stream",
       "stream": "stdout",
       "text": [
        "\n",
        "3382"
       ]
      },
      {
       "output_type": "stream",
       "stream": "stdout",
       "text": [
        "\n",
        "3383"
       ]
      },
      {
       "output_type": "stream",
       "stream": "stdout",
       "text": [
        "\n",
        "3384"
       ]
      },
      {
       "output_type": "stream",
       "stream": "stdout",
       "text": [
        "\n",
        "3385"
       ]
      },
      {
       "output_type": "stream",
       "stream": "stdout",
       "text": [
        "\n",
        "3386"
       ]
      },
      {
       "output_type": "stream",
       "stream": "stdout",
       "text": [
        "\n",
        "3388"
       ]
      },
      {
       "output_type": "stream",
       "stream": "stdout",
       "text": [
        "\n",
        "3389"
       ]
      },
      {
       "output_type": "stream",
       "stream": "stdout",
       "text": [
        "\n",
        "3391"
       ]
      },
      {
       "output_type": "stream",
       "stream": "stdout",
       "text": [
        "\n",
        "3392"
       ]
      },
      {
       "output_type": "stream",
       "stream": "stdout",
       "text": [
        "\n",
        "3393"
       ]
      },
      {
       "output_type": "stream",
       "stream": "stdout",
       "text": [
        "\n",
        "3394"
       ]
      },
      {
       "output_type": "stream",
       "stream": "stdout",
       "text": [
        "\n",
        "3397"
       ]
      },
      {
       "output_type": "stream",
       "stream": "stdout",
       "text": [
        "\n",
        "3398"
       ]
      },
      {
       "output_type": "stream",
       "stream": "stdout",
       "text": [
        "\n",
        "3399"
       ]
      },
      {
       "output_type": "stream",
       "stream": "stdout",
       "text": [
        "\n",
        "3400"
       ]
      },
      {
       "output_type": "stream",
       "stream": "stdout",
       "text": [
        "\n",
        "3401"
       ]
      },
      {
       "output_type": "stream",
       "stream": "stdout",
       "text": [
        "\n",
        "3404"
       ]
      },
      {
       "output_type": "stream",
       "stream": "stdout",
       "text": [
        "\n",
        "3405"
       ]
      },
      {
       "output_type": "stream",
       "stream": "stdout",
       "text": [
        "\n",
        "3406"
       ]
      },
      {
       "output_type": "stream",
       "stream": "stdout",
       "text": [
        "\n",
        "3407"
       ]
      },
      {
       "output_type": "stream",
       "stream": "stdout",
       "text": [
        "\n",
        "3408"
       ]
      },
      {
       "output_type": "stream",
       "stream": "stdout",
       "text": [
        "\n",
        "3411"
       ]
      },
      {
       "output_type": "stream",
       "stream": "stdout",
       "text": [
        "\n",
        "3412"
       ]
      },
      {
       "output_type": "stream",
       "stream": "stdout",
       "text": [
        "\n",
        "3413"
       ]
      },
      {
       "output_type": "stream",
       "stream": "stdout",
       "text": [
        "\n",
        "3414"
       ]
      },
      {
       "output_type": "stream",
       "stream": "stdout",
       "text": [
        "\n",
        "3415"
       ]
      },
      {
       "output_type": "stream",
       "stream": "stdout",
       "text": [
        "\n",
        "3416"
       ]
      },
      {
       "output_type": "stream",
       "stream": "stdout",
       "text": [
        "\n",
        "3417"
       ]
      },
      {
       "output_type": "stream",
       "stream": "stdout",
       "text": [
        "\n",
        "3418"
       ]
      },
      {
       "output_type": "stream",
       "stream": "stdout",
       "text": [
        "\n",
        "3419"
       ]
      },
      {
       "output_type": "stream",
       "stream": "stdout",
       "text": [
        "\n",
        "3420"
       ]
      },
      {
       "output_type": "stream",
       "stream": "stdout",
       "text": [
        "\n",
        "3421"
       ]
      },
      {
       "output_type": "stream",
       "stream": "stdout",
       "text": [
        "\n",
        "3423"
       ]
      },
      {
       "output_type": "stream",
       "stream": "stdout",
       "text": [
        "\n",
        "3424"
       ]
      },
      {
       "output_type": "stream",
       "stream": "stdout",
       "text": [
        "\n",
        "3425"
       ]
      },
      {
       "output_type": "stream",
       "stream": "stdout",
       "text": [
        "\n",
        "3426"
       ]
      },
      {
       "output_type": "stream",
       "stream": "stdout",
       "text": [
        "\n",
        "3427"
       ]
      },
      {
       "output_type": "stream",
       "stream": "stdout",
       "text": [
        "\n",
        "3428"
       ]
      },
      {
       "output_type": "stream",
       "stream": "stdout",
       "text": [
        "\n",
        "3429"
       ]
      },
      {
       "output_type": "stream",
       "stream": "stdout",
       "text": [
        "\n",
        "3433"
       ]
      },
      {
       "output_type": "stream",
       "stream": "stdout",
       "text": [
        "\n",
        "3434"
       ]
      },
      {
       "output_type": "stream",
       "stream": "stdout",
       "text": [
        "\n",
        "3435"
       ]
      },
      {
       "output_type": "stream",
       "stream": "stdout",
       "text": [
        "\n",
        "3438"
       ]
      },
      {
       "output_type": "stream",
       "stream": "stdout",
       "text": [
        "\n",
        "3439"
       ]
      },
      {
       "output_type": "stream",
       "stream": "stdout",
       "text": [
        "\n",
        "3440"
       ]
      },
      {
       "output_type": "stream",
       "stream": "stdout",
       "text": [
        "\n",
        "3443"
       ]
      },
      {
       "output_type": "stream",
       "stream": "stdout",
       "text": [
        "\n",
        "3444"
       ]
      },
      {
       "output_type": "stream",
       "stream": "stdout",
       "text": [
        "\n",
        "3445"
       ]
      },
      {
       "output_type": "stream",
       "stream": "stdout",
       "text": [
        "\n",
        "3446"
       ]
      },
      {
       "output_type": "stream",
       "stream": "stdout",
       "text": [
        "\n",
        "3447"
       ]
      },
      {
       "output_type": "stream",
       "stream": "stdout",
       "text": [
        "\n",
        "3448"
       ]
      },
      {
       "output_type": "stream",
       "stream": "stdout",
       "text": [
        "\n",
        "3450"
       ]
      },
      {
       "output_type": "stream",
       "stream": "stdout",
       "text": [
        "\n",
        "3451"
       ]
      },
      {
       "output_type": "stream",
       "stream": "stdout",
       "text": [
        "\n",
        "3452"
       ]
      },
      {
       "output_type": "stream",
       "stream": "stdout",
       "text": [
        "\n",
        "3453"
       ]
      },
      {
       "output_type": "stream",
       "stream": "stdout",
       "text": [
        "\n",
        "3454"
       ]
      },
      {
       "output_type": "stream",
       "stream": "stdout",
       "text": [
        "\n",
        "3455"
       ]
      },
      {
       "output_type": "stream",
       "stream": "stdout",
       "text": [
        "\n",
        "3457"
       ]
      },
      {
       "output_type": "stream",
       "stream": "stdout",
       "text": [
        "\n",
        "3458"
       ]
      },
      {
       "output_type": "stream",
       "stream": "stdout",
       "text": [
        "\n",
        "3459"
       ]
      },
      {
       "output_type": "stream",
       "stream": "stdout",
       "text": [
        "\n",
        "3460"
       ]
      },
      {
       "output_type": "stream",
       "stream": "stdout",
       "text": [
        "\n",
        "3461"
       ]
      },
      {
       "output_type": "stream",
       "stream": "stdout",
       "text": [
        "\n",
        "3462"
       ]
      },
      {
       "output_type": "stream",
       "stream": "stdout",
       "text": [
        "\n",
        "3463"
       ]
      },
      {
       "output_type": "stream",
       "stream": "stdout",
       "text": [
        "\n",
        "3464"
       ]
      },
      {
       "output_type": "stream",
       "stream": "stdout",
       "text": [
        "\n",
        "3465"
       ]
      },
      {
       "output_type": "stream",
       "stream": "stdout",
       "text": [
        "\n",
        "3467"
       ]
      },
      {
       "output_type": "stream",
       "stream": "stdout",
       "text": [
        "\n",
        "3468"
       ]
      },
      {
       "output_type": "stream",
       "stream": "stdout",
       "text": [
        "\n",
        "3469"
       ]
      },
      {
       "output_type": "stream",
       "stream": "stdout",
       "text": [
        "\n",
        "3470"
       ]
      },
      {
       "output_type": "stream",
       "stream": "stdout",
       "text": [
        "\n",
        "3471"
       ]
      },
      {
       "output_type": "stream",
       "stream": "stdout",
       "text": [
        "\n",
        "3472"
       ]
      },
      {
       "output_type": "stream",
       "stream": "stdout",
       "text": [
        "\n",
        "3473"
       ]
      },
      {
       "output_type": "stream",
       "stream": "stdout",
       "text": [
        "\n",
        "3474"
       ]
      },
      {
       "output_type": "stream",
       "stream": "stdout",
       "text": [
        "\n",
        "3475"
       ]
      },
      {
       "output_type": "stream",
       "stream": "stdout",
       "text": [
        "\n",
        "3479"
       ]
      },
      {
       "output_type": "stream",
       "stream": "stdout",
       "text": [
        "\n",
        "3480"
       ]
      },
      {
       "output_type": "stream",
       "stream": "stdout",
       "text": [
        "\n",
        "3481"
       ]
      },
      {
       "output_type": "stream",
       "stream": "stdout",
       "text": [
        "\n",
        "3482"
       ]
      },
      {
       "output_type": "stream",
       "stream": "stdout",
       "text": [
        "\n",
        "3483"
       ]
      },
      {
       "output_type": "stream",
       "stream": "stdout",
       "text": [
        "\n",
        "3485"
       ]
      },
      {
       "output_type": "stream",
       "stream": "stdout",
       "text": [
        "\n",
        "3486"
       ]
      },
      {
       "output_type": "stream",
       "stream": "stdout",
       "text": [
        "\n",
        "3487"
       ]
      },
      {
       "output_type": "stream",
       "stream": "stdout",
       "text": [
        "\n",
        "3488"
       ]
      },
      {
       "output_type": "stream",
       "stream": "stdout",
       "text": [
        "\n",
        "3489"
       ]
      },
      {
       "output_type": "stream",
       "stream": "stdout",
       "text": [
        "\n",
        "3490"
       ]
      },
      {
       "output_type": "stream",
       "stream": "stdout",
       "text": [
        "\n",
        "3492"
       ]
      },
      {
       "output_type": "stream",
       "stream": "stdout",
       "text": [
        "\n",
        "3493"
       ]
      },
      {
       "output_type": "stream",
       "stream": "stdout",
       "text": [
        "\n",
        "3494"
       ]
      },
      {
       "output_type": "stream",
       "stream": "stdout",
       "text": [
        "\n",
        "3495"
       ]
      },
      {
       "output_type": "stream",
       "stream": "stdout",
       "text": [
        "\n",
        "3496"
       ]
      },
      {
       "output_type": "stream",
       "stream": "stdout",
       "text": [
        "\n",
        "3497"
       ]
      },
      {
       "output_type": "stream",
       "stream": "stdout",
       "text": [
        "\n",
        "3498"
       ]
      },
      {
       "output_type": "stream",
       "stream": "stdout",
       "text": [
        "\n",
        "3499"
       ]
      },
      {
       "output_type": "stream",
       "stream": "stdout",
       "text": [
        "\n",
        "3500"
       ]
      },
      {
       "output_type": "stream",
       "stream": "stdout",
       "text": [
        "\n",
        "3501"
       ]
      },
      {
       "output_type": "stream",
       "stream": "stdout",
       "text": [
        "\n",
        "3502"
       ]
      },
      {
       "output_type": "stream",
       "stream": "stdout",
       "text": [
        "\n",
        "3503"
       ]
      },
      {
       "output_type": "stream",
       "stream": "stdout",
       "text": [
        "\n",
        "3504"
       ]
      },
      {
       "output_type": "stream",
       "stream": "stdout",
       "text": [
        "\n",
        "3505"
       ]
      },
      {
       "output_type": "stream",
       "stream": "stdout",
       "text": [
        "\n",
        "3506"
       ]
      },
      {
       "output_type": "stream",
       "stream": "stdout",
       "text": [
        "\n",
        "3507"
       ]
      },
      {
       "output_type": "stream",
       "stream": "stdout",
       "text": [
        "\n",
        "3510\n",
        "3511"
       ]
      },
      {
       "output_type": "stream",
       "stream": "stdout",
       "text": [
        "\n",
        "3512"
       ]
      },
      {
       "output_type": "stream",
       "stream": "stdout",
       "text": [
        "\n",
        "3514"
       ]
      },
      {
       "output_type": "stream",
       "stream": "stdout",
       "text": [
        "\n",
        "3515"
       ]
      },
      {
       "output_type": "stream",
       "stream": "stdout",
       "text": [
        "\n",
        "3516"
       ]
      },
      {
       "output_type": "stream",
       "stream": "stdout",
       "text": [
        "\n",
        "3517"
       ]
      },
      {
       "output_type": "stream",
       "stream": "stdout",
       "text": [
        "\n",
        "3518"
       ]
      },
      {
       "output_type": "stream",
       "stream": "stdout",
       "text": [
        "\n",
        "3519"
       ]
      },
      {
       "output_type": "stream",
       "stream": "stdout",
       "text": [
        "\n",
        "3520"
       ]
      },
      {
       "output_type": "stream",
       "stream": "stdout",
       "text": [
        "\n",
        "3521"
       ]
      },
      {
       "output_type": "stream",
       "stream": "stdout",
       "text": [
        "\n",
        "3522"
       ]
      },
      {
       "output_type": "stream",
       "stream": "stdout",
       "text": [
        "\n",
        "3523"
       ]
      },
      {
       "output_type": "stream",
       "stream": "stdout",
       "text": [
        "\n",
        "3524"
       ]
      },
      {
       "output_type": "stream",
       "stream": "stdout",
       "text": [
        "\n",
        "3525"
       ]
      },
      {
       "output_type": "stream",
       "stream": "stdout",
       "text": [
        "\n",
        "3526"
       ]
      },
      {
       "output_type": "stream",
       "stream": "stdout",
       "text": [
        "\n",
        "3527"
       ]
      },
      {
       "output_type": "stream",
       "stream": "stdout",
       "text": [
        "\n",
        "3529"
       ]
      },
      {
       "output_type": "stream",
       "stream": "stdout",
       "text": [
        "\n",
        "3530"
       ]
      },
      {
       "output_type": "stream",
       "stream": "stdout",
       "text": [
        "\n",
        "3534"
       ]
      },
      {
       "output_type": "stream",
       "stream": "stdout",
       "text": [
        "\n",
        "3535"
       ]
      },
      {
       "output_type": "stream",
       "stream": "stdout",
       "text": [
        "\n",
        "3536"
       ]
      },
      {
       "output_type": "stream",
       "stream": "stdout",
       "text": [
        "\n",
        "3537"
       ]
      },
      {
       "output_type": "stream",
       "stream": "stdout",
       "text": [
        "\n",
        "3538"
       ]
      },
      {
       "output_type": "stream",
       "stream": "stdout",
       "text": [
        "\n",
        "3539"
       ]
      },
      {
       "output_type": "stream",
       "stream": "stdout",
       "text": [
        "\n",
        "3540"
       ]
      },
      {
       "output_type": "stream",
       "stream": "stdout",
       "text": [
        "\n",
        "3541"
       ]
      },
      {
       "output_type": "stream",
       "stream": "stdout",
       "text": [
        "\n",
        "3542"
       ]
      },
      {
       "output_type": "stream",
       "stream": "stdout",
       "text": [
        "\n",
        "3543"
       ]
      },
      {
       "output_type": "stream",
       "stream": "stdout",
       "text": [
        "\n",
        "3546"
       ]
      },
      {
       "output_type": "stream",
       "stream": "stdout",
       "text": [
        "\n",
        "3547"
       ]
      },
      {
       "output_type": "stream",
       "stream": "stdout",
       "text": [
        "\n",
        "3549"
       ]
      },
      {
       "output_type": "stream",
       "stream": "stdout",
       "text": [
        "\n",
        "3550"
       ]
      },
      {
       "output_type": "stream",
       "stream": "stdout",
       "text": [
        "\n",
        "3551"
       ]
      },
      {
       "output_type": "stream",
       "stream": "stdout",
       "text": [
        "\n",
        "3553"
       ]
      },
      {
       "output_type": "stream",
       "stream": "stdout",
       "text": [
        "\n",
        "3554"
       ]
      },
      {
       "output_type": "stream",
       "stream": "stdout",
       "text": [
        "\n",
        "3555"
       ]
      },
      {
       "output_type": "stream",
       "stream": "stdout",
       "text": [
        "\n",
        "3557"
       ]
      },
      {
       "output_type": "stream",
       "stream": "stdout",
       "text": [
        "\n",
        "3558"
       ]
      },
      {
       "output_type": "stream",
       "stream": "stdout",
       "text": [
        "\n",
        "3561"
       ]
      },
      {
       "output_type": "stream",
       "stream": "stdout",
       "text": [
        "\n",
        "3562"
       ]
      },
      {
       "output_type": "stream",
       "stream": "stdout",
       "text": [
        "\n",
        "3564"
       ]
      },
      {
       "output_type": "stream",
       "stream": "stdout",
       "text": [
        "\n",
        "3565"
       ]
      },
      {
       "output_type": "stream",
       "stream": "stdout",
       "text": [
        "\n",
        "3567"
       ]
      },
      {
       "output_type": "stream",
       "stream": "stdout",
       "text": [
        "\n",
        "3568"
       ]
      },
      {
       "output_type": "stream",
       "stream": "stdout",
       "text": [
        "\n",
        "3569"
       ]
      },
      {
       "output_type": "stream",
       "stream": "stdout",
       "text": [
        "\n",
        "3570"
       ]
      },
      {
       "output_type": "stream",
       "stream": "stdout",
       "text": [
        "\n",
        "3572"
       ]
      },
      {
       "output_type": "stream",
       "stream": "stdout",
       "text": [
        "\n",
        "3574"
       ]
      },
      {
       "output_type": "stream",
       "stream": "stdout",
       "text": [
        "\n",
        "3575"
       ]
      },
      {
       "output_type": "stream",
       "stream": "stdout",
       "text": [
        "\n",
        "3576"
       ]
      },
      {
       "output_type": "stream",
       "stream": "stdout",
       "text": [
        "\n",
        "3577"
       ]
      },
      {
       "output_type": "stream",
       "stream": "stdout",
       "text": [
        "\n",
        "3578"
       ]
      },
      {
       "output_type": "stream",
       "stream": "stdout",
       "text": [
        "\n",
        "3579"
       ]
      },
      {
       "output_type": "stream",
       "stream": "stdout",
       "text": [
        "\n",
        "3581"
       ]
      },
      {
       "output_type": "stream",
       "stream": "stdout",
       "text": [
        "\n",
        "3582"
       ]
      },
      {
       "output_type": "stream",
       "stream": "stdout",
       "text": [
        "\n",
        "3583"
       ]
      },
      {
       "output_type": "stream",
       "stream": "stdout",
       "text": [
        "\n",
        "3584"
       ]
      },
      {
       "output_type": "stream",
       "stream": "stdout",
       "text": [
        "\n",
        "3585"
       ]
      },
      {
       "output_type": "stream",
       "stream": "stdout",
       "text": [
        "\n",
        "3586"
       ]
      },
      {
       "output_type": "stream",
       "stream": "stdout",
       "text": [
        "\n",
        "3587"
       ]
      },
      {
       "output_type": "stream",
       "stream": "stdout",
       "text": [
        "\n",
        "3589"
       ]
      },
      {
       "output_type": "stream",
       "stream": "stdout",
       "text": [
        "\n",
        "3590"
       ]
      },
      {
       "output_type": "stream",
       "stream": "stdout",
       "text": [
        "\n",
        "3591"
       ]
      },
      {
       "output_type": "stream",
       "stream": "stdout",
       "text": [
        "\n",
        "3592"
       ]
      },
      {
       "output_type": "stream",
       "stream": "stdout",
       "text": [
        "\n",
        "3593"
       ]
      },
      {
       "output_type": "stream",
       "stream": "stdout",
       "text": [
        "\n",
        "3594"
       ]
      },
      {
       "output_type": "stream",
       "stream": "stdout",
       "text": [
        "\n",
        "3595"
       ]
      },
      {
       "output_type": "stream",
       "stream": "stdout",
       "text": [
        "\n",
        "3596"
       ]
      },
      {
       "output_type": "stream",
       "stream": "stdout",
       "text": [
        "\n",
        "3597"
       ]
      },
      {
       "output_type": "stream",
       "stream": "stdout",
       "text": [
        "\n",
        "3598"
       ]
      },
      {
       "output_type": "stream",
       "stream": "stdout",
       "text": [
        "\n",
        "3599"
       ]
      },
      {
       "output_type": "stream",
       "stream": "stdout",
       "text": [
        "\n",
        "3600"
       ]
      },
      {
       "output_type": "stream",
       "stream": "stdout",
       "text": [
        "\n",
        "3601"
       ]
      },
      {
       "output_type": "stream",
       "stream": "stdout",
       "text": [
        "\n",
        "3602"
       ]
      },
      {
       "output_type": "stream",
       "stream": "stdout",
       "text": [
        "\n",
        "3603"
       ]
      },
      {
       "output_type": "stream",
       "stream": "stdout",
       "text": [
        "\n",
        "3604"
       ]
      },
      {
       "output_type": "stream",
       "stream": "stdout",
       "text": [
        "\n",
        "3605"
       ]
      },
      {
       "output_type": "stream",
       "stream": "stdout",
       "text": [
        "\n",
        "3606"
       ]
      },
      {
       "output_type": "stream",
       "stream": "stdout",
       "text": [
        "\n",
        "3607"
       ]
      },
      {
       "output_type": "stream",
       "stream": "stdout",
       "text": [
        "\n",
        "3608"
       ]
      },
      {
       "output_type": "stream",
       "stream": "stdout",
       "text": [
        "\n",
        "3609"
       ]
      },
      {
       "output_type": "stream",
       "stream": "stdout",
       "text": [
        "\n",
        "3610"
       ]
      },
      {
       "output_type": "stream",
       "stream": "stdout",
       "text": [
        "\n",
        "3611"
       ]
      },
      {
       "output_type": "stream",
       "stream": "stdout",
       "text": [
        "\n",
        "3612"
       ]
      },
      {
       "output_type": "stream",
       "stream": "stdout",
       "text": [
        "\n",
        "3613"
       ]
      },
      {
       "output_type": "stream",
       "stream": "stdout",
       "text": [
        "\n",
        "3615"
       ]
      },
      {
       "output_type": "stream",
       "stream": "stdout",
       "text": [
        "\n",
        "3616"
       ]
      },
      {
       "output_type": "stream",
       "stream": "stdout",
       "text": [
        "\n",
        "3617"
       ]
      },
      {
       "output_type": "stream",
       "stream": "stdout",
       "text": [
        "\n",
        "3618"
       ]
      },
      {
       "output_type": "stream",
       "stream": "stdout",
       "text": [
        "\n",
        "3619"
       ]
      },
      {
       "output_type": "stream",
       "stream": "stdout",
       "text": [
        "\n",
        "3620"
       ]
      },
      {
       "output_type": "stream",
       "stream": "stdout",
       "text": [
        "\n",
        "3621"
       ]
      },
      {
       "output_type": "stream",
       "stream": "stdout",
       "text": [
        "\n",
        "3622"
       ]
      },
      {
       "output_type": "stream",
       "stream": "stdout",
       "text": [
        "\n",
        "3623"
       ]
      },
      {
       "output_type": "stream",
       "stream": "stdout",
       "text": [
        "\n",
        "3624"
       ]
      },
      {
       "output_type": "stream",
       "stream": "stdout",
       "text": [
        "\n",
        "3625"
       ]
      },
      {
       "output_type": "stream",
       "stream": "stdout",
       "text": [
        "\n",
        "3626"
       ]
      },
      {
       "output_type": "stream",
       "stream": "stdout",
       "text": [
        "\n",
        "3627"
       ]
      },
      {
       "output_type": "stream",
       "stream": "stdout",
       "text": [
        "\n",
        "3628"
       ]
      },
      {
       "output_type": "stream",
       "stream": "stdout",
       "text": [
        "\n",
        "3629"
       ]
      },
      {
       "output_type": "stream",
       "stream": "stdout",
       "text": [
        "\n",
        "3630"
       ]
      },
      {
       "output_type": "stream",
       "stream": "stdout",
       "text": [
        "\n",
        "3631"
       ]
      },
      {
       "output_type": "stream",
       "stream": "stdout",
       "text": [
        "\n",
        "3632"
       ]
      },
      {
       "output_type": "stream",
       "stream": "stdout",
       "text": [
        "\n",
        "3633"
       ]
      },
      {
       "output_type": "stream",
       "stream": "stdout",
       "text": [
        "\n",
        "3634"
       ]
      },
      {
       "output_type": "stream",
       "stream": "stdout",
       "text": [
        "\n",
        "3635"
       ]
      },
      {
       "output_type": "stream",
       "stream": "stdout",
       "text": [
        "\n",
        "3636"
       ]
      },
      {
       "output_type": "stream",
       "stream": "stdout",
       "text": [
        "\n",
        "3637"
       ]
      },
      {
       "output_type": "stream",
       "stream": "stdout",
       "text": [
        "\n",
        "3638"
       ]
      },
      {
       "output_type": "stream",
       "stream": "stdout",
       "text": [
        "\n",
        "3639"
       ]
      },
      {
       "output_type": "stream",
       "stream": "stdout",
       "text": [
        "\n",
        "3640"
       ]
      },
      {
       "output_type": "stream",
       "stream": "stdout",
       "text": [
        "\n",
        "3641"
       ]
      },
      {
       "output_type": "stream",
       "stream": "stdout",
       "text": [
        "\n",
        "3642"
       ]
      },
      {
       "output_type": "stream",
       "stream": "stdout",
       "text": [
        "\n",
        "3643"
       ]
      },
      {
       "output_type": "stream",
       "stream": "stdout",
       "text": [
        "\n",
        "3644"
       ]
      },
      {
       "output_type": "stream",
       "stream": "stdout",
       "text": [
        "\n",
        "3645"
       ]
      },
      {
       "output_type": "stream",
       "stream": "stdout",
       "text": [
        "\n",
        "3646"
       ]
      },
      {
       "output_type": "stream",
       "stream": "stdout",
       "text": [
        "\n",
        "3648"
       ]
      },
      {
       "output_type": "stream",
       "stream": "stdout",
       "text": [
        "\n",
        "3649"
       ]
      },
      {
       "output_type": "stream",
       "stream": "stdout",
       "text": [
        "\n",
        "3650"
       ]
      },
      {
       "output_type": "stream",
       "stream": "stdout",
       "text": [
        "\n",
        "3651"
       ]
      },
      {
       "output_type": "stream",
       "stream": "stdout",
       "text": [
        "\n",
        "3652"
       ]
      },
      {
       "output_type": "stream",
       "stream": "stdout",
       "text": [
        "\n",
        "3653"
       ]
      },
      {
       "output_type": "stream",
       "stream": "stdout",
       "text": [
        "\n",
        "3654"
       ]
      },
      {
       "output_type": "stream",
       "stream": "stdout",
       "text": [
        "\n",
        "3655"
       ]
      },
      {
       "output_type": "stream",
       "stream": "stdout",
       "text": [
        "\n",
        "3656"
       ]
      },
      {
       "output_type": "stream",
       "stream": "stdout",
       "text": [
        "\n",
        "3657"
       ]
      },
      {
       "output_type": "stream",
       "stream": "stdout",
       "text": [
        "\n",
        "3658"
       ]
      },
      {
       "output_type": "stream",
       "stream": "stdout",
       "text": [
        "\n",
        "3659"
       ]
      },
      {
       "output_type": "stream",
       "stream": "stdout",
       "text": [
        "\n",
        "3660"
       ]
      },
      {
       "output_type": "stream",
       "stream": "stdout",
       "text": [
        "\n",
        "3661"
       ]
      },
      {
       "output_type": "stream",
       "stream": "stdout",
       "text": [
        "\n",
        "3662"
       ]
      },
      {
       "output_type": "stream",
       "stream": "stdout",
       "text": [
        "\n",
        "3663"
       ]
      },
      {
       "output_type": "stream",
       "stream": "stdout",
       "text": [
        "\n",
        "3664"
       ]
      },
      {
       "output_type": "stream",
       "stream": "stdout",
       "text": [
        "\n",
        "3665"
       ]
      },
      {
       "output_type": "stream",
       "stream": "stdout",
       "text": [
        "\n",
        "3666"
       ]
      },
      {
       "output_type": "stream",
       "stream": "stdout",
       "text": [
        "\n",
        "3667"
       ]
      },
      {
       "output_type": "stream",
       "stream": "stdout",
       "text": [
        "\n",
        "3668"
       ]
      },
      {
       "output_type": "stream",
       "stream": "stdout",
       "text": [
        "\n",
        "3669"
       ]
      },
      {
       "output_type": "stream",
       "stream": "stdout",
       "text": [
        "\n",
        "3670"
       ]
      },
      {
       "output_type": "stream",
       "stream": "stdout",
       "text": [
        "\n",
        "3671"
       ]
      },
      {
       "output_type": "stream",
       "stream": "stdout",
       "text": [
        "\n",
        "3672"
       ]
      },
      {
       "output_type": "stream",
       "stream": "stdout",
       "text": [
        "\n",
        "3673"
       ]
      },
      {
       "output_type": "stream",
       "stream": "stdout",
       "text": [
        "\n",
        "3674"
       ]
      },
      {
       "output_type": "stream",
       "stream": "stdout",
       "text": [
        "\n",
        "3675"
       ]
      },
      {
       "output_type": "stream",
       "stream": "stdout",
       "text": [
        "\n",
        "3676"
       ]
      },
      {
       "output_type": "stream",
       "stream": "stdout",
       "text": [
        "\n",
        "3677"
       ]
      },
      {
       "output_type": "stream",
       "stream": "stdout",
       "text": [
        "\n",
        "3678"
       ]
      },
      {
       "output_type": "stream",
       "stream": "stdout",
       "text": [
        "\n",
        "3679"
       ]
      },
      {
       "output_type": "stream",
       "stream": "stdout",
       "text": [
        "\n",
        "3681"
       ]
      },
      {
       "output_type": "stream",
       "stream": "stdout",
       "text": [
        "\n",
        "3682"
       ]
      },
      {
       "output_type": "stream",
       "stream": "stdout",
       "text": [
        "\n",
        "3683"
       ]
      },
      {
       "output_type": "stream",
       "stream": "stdout",
       "text": [
        "\n",
        "3684"
       ]
      },
      {
       "output_type": "stream",
       "stream": "stdout",
       "text": [
        "\n",
        "3685"
       ]
      },
      {
       "output_type": "stream",
       "stream": "stdout",
       "text": [
        "\n",
        "3686"
       ]
      },
      {
       "output_type": "stream",
       "stream": "stdout",
       "text": [
        "\n",
        "3687"
       ]
      },
      {
       "output_type": "stream",
       "stream": "stdout",
       "text": [
        "\n",
        "3688"
       ]
      },
      {
       "output_type": "stream",
       "stream": "stdout",
       "text": [
        "\n",
        "3689"
       ]
      },
      {
       "output_type": "stream",
       "stream": "stdout",
       "text": [
        "\n",
        "3690"
       ]
      },
      {
       "output_type": "stream",
       "stream": "stdout",
       "text": [
        "\n",
        "3691"
       ]
      },
      {
       "output_type": "stream",
       "stream": "stdout",
       "text": [
        "\n",
        "3692"
       ]
      },
      {
       "output_type": "stream",
       "stream": "stdout",
       "text": [
        "\n",
        "3694"
       ]
      },
      {
       "output_type": "stream",
       "stream": "stdout",
       "text": [
        "\n",
        "3695"
       ]
      },
      {
       "output_type": "stream",
       "stream": "stdout",
       "text": [
        "\n",
        "3696"
       ]
      },
      {
       "output_type": "stream",
       "stream": "stdout",
       "text": [
        "\n",
        "3697"
       ]
      },
      {
       "output_type": "stream",
       "stream": "stdout",
       "text": [
        "\n",
        "3698"
       ]
      },
      {
       "output_type": "stream",
       "stream": "stdout",
       "text": [
        "\n",
        "3699"
       ]
      },
      {
       "output_type": "stream",
       "stream": "stdout",
       "text": [
        "\n",
        "3700"
       ]
      },
      {
       "output_type": "stream",
       "stream": "stdout",
       "text": [
        "\n",
        "3701"
       ]
      },
      {
       "output_type": "stream",
       "stream": "stdout",
       "text": [
        "\n",
        "3702"
       ]
      },
      {
       "output_type": "stream",
       "stream": "stdout",
       "text": [
        "\n",
        "3703"
       ]
      },
      {
       "output_type": "stream",
       "stream": "stdout",
       "text": [
        "\n",
        "3704"
       ]
      },
      {
       "output_type": "stream",
       "stream": "stdout",
       "text": [
        "\n",
        "3706"
       ]
      },
      {
       "output_type": "stream",
       "stream": "stdout",
       "text": [
        "\n",
        "3707"
       ]
      },
      {
       "output_type": "stream",
       "stream": "stdout",
       "text": [
        "\n",
        "3708"
       ]
      },
      {
       "output_type": "stream",
       "stream": "stdout",
       "text": [
        "\n",
        "3709"
       ]
      },
      {
       "output_type": "stream",
       "stream": "stdout",
       "text": [
        "\n",
        "3710"
       ]
      },
      {
       "output_type": "stream",
       "stream": "stdout",
       "text": [
        "\n",
        "3711"
       ]
      },
      {
       "output_type": "stream",
       "stream": "stdout",
       "text": [
        "\n",
        "3713"
       ]
      },
      {
       "output_type": "stream",
       "stream": "stdout",
       "text": [
        "\n",
        "3714"
       ]
      },
      {
       "output_type": "stream",
       "stream": "stdout",
       "text": [
        "\n",
        "3715"
       ]
      },
      {
       "output_type": "stream",
       "stream": "stdout",
       "text": [
        "\n",
        "3716"
       ]
      },
      {
       "output_type": "stream",
       "stream": "stdout",
       "text": [
        "\n",
        "3718"
       ]
      },
      {
       "output_type": "stream",
       "stream": "stdout",
       "text": [
        "\n",
        "3719"
       ]
      },
      {
       "output_type": "stream",
       "stream": "stdout",
       "text": [
        "\n",
        "3720"
       ]
      },
      {
       "output_type": "stream",
       "stream": "stdout",
       "text": [
        "\n",
        "3721"
       ]
      },
      {
       "output_type": "stream",
       "stream": "stdout",
       "text": [
        "\n",
        "3722"
       ]
      },
      {
       "output_type": "stream",
       "stream": "stdout",
       "text": [
        "\n",
        "3723"
       ]
      },
      {
       "output_type": "stream",
       "stream": "stdout",
       "text": [
        "\n",
        "3724"
       ]
      },
      {
       "output_type": "stream",
       "stream": "stdout",
       "text": [
        "\n",
        "3725"
       ]
      },
      {
       "output_type": "stream",
       "stream": "stdout",
       "text": [
        "\n",
        "3726"
       ]
      },
      {
       "output_type": "stream",
       "stream": "stdout",
       "text": [
        "\n",
        "3727"
       ]
      },
      {
       "output_type": "stream",
       "stream": "stdout",
       "text": [
        "\n",
        "3728"
       ]
      },
      {
       "output_type": "stream",
       "stream": "stdout",
       "text": [
        "\n",
        "3729"
       ]
      },
      {
       "output_type": "stream",
       "stream": "stdout",
       "text": [
        "\n",
        "3730"
       ]
      },
      {
       "output_type": "stream",
       "stream": "stdout",
       "text": [
        "\n",
        "3731"
       ]
      },
      {
       "output_type": "stream",
       "stream": "stdout",
       "text": [
        "\n",
        "3732"
       ]
      },
      {
       "output_type": "stream",
       "stream": "stdout",
       "text": [
        "\n",
        "3733"
       ]
      },
      {
       "output_type": "stream",
       "stream": "stdout",
       "text": [
        "\n",
        "3734"
       ]
      },
      {
       "output_type": "stream",
       "stream": "stdout",
       "text": [
        "\n",
        "3736"
       ]
      },
      {
       "output_type": "stream",
       "stream": "stdout",
       "text": [
        "\n",
        "3737"
       ]
      },
      {
       "output_type": "stream",
       "stream": "stdout",
       "text": [
        "\n",
        "3738"
       ]
      },
      {
       "output_type": "stream",
       "stream": "stdout",
       "text": [
        "\n",
        "3739"
       ]
      },
      {
       "output_type": "stream",
       "stream": "stdout",
       "text": [
        "\n",
        "3740"
       ]
      },
      {
       "output_type": "stream",
       "stream": "stdout",
       "text": [
        "\n",
        "3741"
       ]
      },
      {
       "output_type": "stream",
       "stream": "stdout",
       "text": [
        "\n",
        "3742"
       ]
      },
      {
       "output_type": "stream",
       "stream": "stdout",
       "text": [
        "\n",
        "3743"
       ]
      },
      {
       "output_type": "stream",
       "stream": "stdout",
       "text": [
        "\n",
        "3744"
       ]
      },
      {
       "output_type": "stream",
       "stream": "stdout",
       "text": [
        "\n",
        "3745"
       ]
      },
      {
       "output_type": "stream",
       "stream": "stdout",
       "text": [
        "\n",
        "3746"
       ]
      },
      {
       "output_type": "stream",
       "stream": "stdout",
       "text": [
        "\n",
        "3747"
       ]
      },
      {
       "output_type": "stream",
       "stream": "stdout",
       "text": [
        "\n",
        "3748"
       ]
      },
      {
       "output_type": "stream",
       "stream": "stdout",
       "text": [
        "\n",
        "3749"
       ]
      },
      {
       "output_type": "stream",
       "stream": "stdout",
       "text": [
        "\n",
        "3750"
       ]
      },
      {
       "output_type": "stream",
       "stream": "stdout",
       "text": [
        "\n",
        "3751"
       ]
      },
      {
       "output_type": "stream",
       "stream": "stdout",
       "text": [
        "\n",
        "3752"
       ]
      },
      {
       "output_type": "stream",
       "stream": "stdout",
       "text": [
        "\n",
        "3753"
       ]
      },
      {
       "output_type": "stream",
       "stream": "stdout",
       "text": [
        "\n",
        "3755"
       ]
      },
      {
       "output_type": "stream",
       "stream": "stdout",
       "text": [
        "\n",
        "3756"
       ]
      },
      {
       "output_type": "stream",
       "stream": "stdout",
       "text": [
        "\n",
        "3757"
       ]
      },
      {
       "output_type": "stream",
       "stream": "stdout",
       "text": [
        "\n",
        "3758"
       ]
      },
      {
       "output_type": "stream",
       "stream": "stdout",
       "text": [
        "\n",
        "3759"
       ]
      },
      {
       "output_type": "stream",
       "stream": "stdout",
       "text": [
        "\n",
        "3760"
       ]
      },
      {
       "output_type": "stream",
       "stream": "stdout",
       "text": [
        "\n",
        "3762"
       ]
      },
      {
       "output_type": "stream",
       "stream": "stdout",
       "text": [
        "\n",
        "3764\n",
        "3766"
       ]
      },
      {
       "output_type": "stream",
       "stream": "stdout",
       "text": [
        "\n",
        "3767"
       ]
      },
      {
       "output_type": "stream",
       "stream": "stdout",
       "text": [
        "\n",
        "3768"
       ]
      },
      {
       "output_type": "stream",
       "stream": "stdout",
       "text": [
        "\n",
        "3769"
       ]
      },
      {
       "output_type": "stream",
       "stream": "stdout",
       "text": [
        "\n",
        "3770"
       ]
      },
      {
       "output_type": "stream",
       "stream": "stdout",
       "text": [
        "\n",
        "3771"
       ]
      },
      {
       "output_type": "stream",
       "stream": "stdout",
       "text": [
        "\n",
        "3773"
       ]
      },
      {
       "output_type": "stream",
       "stream": "stdout",
       "text": [
        "\n",
        "3774"
       ]
      },
      {
       "output_type": "stream",
       "stream": "stdout",
       "text": [
        "\n",
        "3775"
       ]
      },
      {
       "output_type": "stream",
       "stream": "stdout",
       "text": [
        "\n",
        "3779"
       ]
      },
      {
       "output_type": "stream",
       "stream": "stdout",
       "text": [
        "\n",
        "3780"
       ]
      },
      {
       "output_type": "stream",
       "stream": "stdout",
       "text": [
        "\n",
        "3781"
       ]
      },
      {
       "output_type": "stream",
       "stream": "stdout",
       "text": [
        "\n",
        "3782"
       ]
      },
      {
       "output_type": "stream",
       "stream": "stdout",
       "text": [
        "\n",
        "3783"
       ]
      },
      {
       "output_type": "stream",
       "stream": "stdout",
       "text": [
        "\n",
        "3785"
       ]
      },
      {
       "output_type": "stream",
       "stream": "stdout",
       "text": [
        "\n",
        "3788"
       ]
      },
      {
       "output_type": "stream",
       "stream": "stdout",
       "text": [
        "\n",
        "3789"
       ]
      },
      {
       "output_type": "stream",
       "stream": "stdout",
       "text": [
        "\n",
        "3790"
       ]
      },
      {
       "output_type": "stream",
       "stream": "stdout",
       "text": [
        "\n",
        "3791"
       ]
      },
      {
       "output_type": "stream",
       "stream": "stdout",
       "text": [
        "\n",
        "3792"
       ]
      },
      {
       "output_type": "stream",
       "stream": "stdout",
       "text": [
        "\n",
        "3793"
       ]
      },
      {
       "output_type": "stream",
       "stream": "stdout",
       "text": [
        "\n",
        "3794"
       ]
      },
      {
       "output_type": "stream",
       "stream": "stdout",
       "text": [
        "\n",
        "3795"
       ]
      },
      {
       "output_type": "stream",
       "stream": "stdout",
       "text": [
        "\n",
        "3796"
       ]
      },
      {
       "output_type": "stream",
       "stream": "stdout",
       "text": [
        "\n",
        "3797"
       ]
      },
      {
       "output_type": "stream",
       "stream": "stdout",
       "text": [
        "\n",
        "3799"
       ]
      },
      {
       "output_type": "stream",
       "stream": "stdout",
       "text": [
        "\n",
        "3800"
       ]
      },
      {
       "output_type": "stream",
       "stream": "stdout",
       "text": [
        "\n",
        "3801"
       ]
      },
      {
       "output_type": "stream",
       "stream": "stdout",
       "text": [
        "\n",
        "3802"
       ]
      },
      {
       "output_type": "stream",
       "stream": "stdout",
       "text": [
        "\n",
        "3803"
       ]
      },
      {
       "output_type": "stream",
       "stream": "stdout",
       "text": [
        "\n",
        "3804\n",
        "3805"
       ]
      },
      {
       "output_type": "stream",
       "stream": "stdout",
       "text": [
        "\n",
        "3806"
       ]
      },
      {
       "output_type": "stream",
       "stream": "stdout",
       "text": [
        "\n",
        "3807"
       ]
      },
      {
       "output_type": "stream",
       "stream": "stdout",
       "text": [
        "\n",
        "3808"
       ]
      },
      {
       "output_type": "stream",
       "stream": "stdout",
       "text": [
        "\n",
        "3809"
       ]
      },
      {
       "output_type": "stream",
       "stream": "stdout",
       "text": [
        "\n",
        "3810"
       ]
      },
      {
       "output_type": "stream",
       "stream": "stdout",
       "text": [
        "\n",
        "3811"
       ]
      },
      {
       "output_type": "stream",
       "stream": "stdout",
       "text": [
        "\n",
        "3812"
       ]
      },
      {
       "output_type": "stream",
       "stream": "stdout",
       "text": [
        "\n",
        "3814\n",
        "3815"
       ]
      },
      {
       "output_type": "stream",
       "stream": "stdout",
       "text": [
        "\n",
        "3816"
       ]
      },
      {
       "output_type": "stream",
       "stream": "stdout",
       "text": [
        "\n",
        "3817"
       ]
      },
      {
       "output_type": "stream",
       "stream": "stdout",
       "text": [
        "\n",
        "3818"
       ]
      },
      {
       "output_type": "stream",
       "stream": "stdout",
       "text": [
        "\n",
        "3819"
       ]
      },
      {
       "output_type": "stream",
       "stream": "stdout",
       "text": [
        "\n",
        "3820"
       ]
      },
      {
       "output_type": "stream",
       "stream": "stdout",
       "text": [
        "\n",
        "3821"
       ]
      },
      {
       "output_type": "stream",
       "stream": "stdout",
       "text": [
        "\n",
        "3822"
       ]
      },
      {
       "output_type": "stream",
       "stream": "stdout",
       "text": [
        "\n",
        "3823"
       ]
      },
      {
       "output_type": "stream",
       "stream": "stdout",
       "text": [
        "\n",
        "3825"
       ]
      },
      {
       "output_type": "stream",
       "stream": "stdout",
       "text": [
        "\n",
        "3826"
       ]
      },
      {
       "output_type": "stream",
       "stream": "stdout",
       "text": [
        "\n"
       ]
      },
      {
       "metadata": {},
       "output_type": "pyout",
       "prompt_number": 55,
       "text": [
        "{2566: {'Abdu Ismail Tong': 0,\n",
        "  'Ahmed Suleiman Mohamed': 0,\n",
        "  'Ahmed Yassin': 0,\n",
        "  'Mohamed Adam Yahya': 0,\n",
        "  'Mohamed Hassan Mahmoud': 0,\n",
        "  'Yousif Yaow Mombai': 0},\n",
        " 2567: {'Abdullah Rabhi': 0,\n",
        "  'Mohamed Hamid Ahmed': 0,\n",
        "  'Mohamed Ibrahim Abdallah': 0,\n",
        "  'Mohamed Issa Tiue': 0,\n",
        "  'Sadul Adam Abdelrahman': 0},\n",
        " 2568: {'Islam Salih Adam Belo': 0, 'Salih Adam Belo': 0},\n",
        " 2569: {'Abd-al-Rahim Ali': 0,\n",
        "  'Badawi Hasan Ibrahim': 0,\n",
        "  'Fathi Adam Mohammed Ahmad Dahab': 0,\n",
        "  'Idris Adam Alyas': 0,\n",
        "  'Nasr-al-Din Ahmad Ali': 0,\n",
        "  'Paul John Kaw': 0,\n",
        "  'Sulayman Jum': 0},\n",
        " 2571: {'Martin Anuel Agulik': 0},\n",
        " 2572: {'Abdul-Rasoul': 0,\n",
        "  'Ali Hassan Tajeddin': 0,\n",
        "  'Hassan al-Turabi': 0,\n",
        "  'Idris al-Banna': 0,\n",
        "  'Khalid Farah': 0,\n",
        "  'Mohamed Ibrahim Nougoud': 0,\n",
        "  'Mohamed Othman al-Mirghani': 0,\n",
        "  'Omar Nour': 0,\n",
        "  'Pacifico Lado Lolik': 0},\n",
        " 2573: {'George Yustus': 0},\n",
        " 2574: {'Dawina Mohamed Dawina': 0,\n",
        "  'Hani Shakour': 0,\n",
        "  'Siddik Mohamed Ahmed': 0},\n",
        " 2575: {'Ardeib Murfaieen': 0,\n",
        "  'Dafallah Tiya Jeilani': 0,\n",
        "  'Haja Karshoum': 0,\n",
        "  'Hakim Hamdeen': 0,\n",
        "  'Kalthum Daldum': 0,\n",
        "  'Mohamed Bakhit Daldum': 0,\n",
        "  'Suleiman Fargallah Marfaieen': 0},\n",
        " 2576: {'Sid Ahmad': 0},\n",
        " 2577: {'Abdel Mahmud Haj Saleh': 0,\n",
        "  'Abdel Rasoul al-Nur': 0,\n",
        "  'Al-Fadl Adam': 0,\n",
        "  'Ali Mahmud Hassanein': 0,\n",
        "  'Ali Omda Abdel Magid': 0,\n",
        "  'Ansar': 0,\n",
        "  'Bakri Adil': 0,\n",
        "  'Ibrahim Ali': 0,\n",
        "  'Mahdi Abderahman Ali': 0,\n",
        "  'Mohamed Ismail al-Azhari': 0,\n",
        "  'Mohamed Mahil': 0,\n",
        "  'Mohamed Satti': 0,\n",
        "  'Mohamed al-Mahdi': 0,\n",
        "  'Mustafa Abdel Gadir': 0,\n",
        "  'Nagib Nejm al-Din': 0,\n",
        "  'Omer Mohamed Omer': 0,\n",
        "  'al-Haj Abdelrahman Abdallah Nugdullah': 0},\n",
        " 2578: {'Adoum Yaya Kot Kot': 0,\n",
        "  'Mahamat Ousmane Gong': 0,\n",
        "  'Yachoub Suleiman': 0},\n",
        " 2579: {'Mudawi Ibrahim Adam': 0},\n",
        " 2580: {'Alfaris Ibrahim': 0,\n",
        "  'Alrayah Ibrahim Eldaw': 0,\n",
        "  'Dawalbeit Kabbur': 0,\n",
        "  'Osman Ali Ismael': 0,\n",
        "  'Sayed Abu Bakr': 0},\n",
        " 2581: {'Abdel Jalil al-Basha': 0,\n",
        "  'Ahmad Salman': 0,\n",
        "  'Kabbashi Khater Mohammed Ahmad': 0,\n",
        "  'Tawer Osman Tawer': 0,\n",
        "  'Yagoub Yahya': 0},\n",
        " 2583: {'Abdel Hamid Ali Bashir': 0,\n",
        "  \"Abdul Ra'ouf Ali Abu Na'ouf\": 0,\n",
        "  'Abdul Rahman Abdulla Salin': 0,\n",
        "  'Farouk Ali Zakaria': 0,\n",
        "  'Mohamed Bashir': 0,\n",
        "  'Mohamed Bashir al-Faki': 0,\n",
        "  'Mohamed Wahaba': 0,\n",
        "  'Omar Ali': 1,\n",
        "  'Salah Hassan Said': 0},\n",
        " 2584: {'Magdi Mohamedani': 0},\n",
        " 2585: {'Hassan Adam Ali': 0},\n",
        " 2586: {'Abdel Latif Gimiabi': 0,\n",
        "  'Al-Fadl Hamad Diab': 0,\n",
        "  'Baba Shaafi': 0,\n",
        "  'Bushra Mahdi Bushra': 0,\n",
        "  'Fadella Mohamed Hashim': 0,\n",
        "  'Ismail Adam Ali': 0,\n",
        "  'Mohamed al-Sil': 0,\n",
        "  'Yahya Ali Abdalla': 0},\n",
        " 2587: {'Abakar Jalab': 0,\n",
        "  'Dafa Alla Mowloudi': 0,\n",
        "  'Ibrahim Gumai': 0,\n",
        "  'Omer Salim': 0,\n",
        "  'Salih Omer': 0},\n",
        " 2590: {'Janjawid': 0},\n",
        " 2591: {'Adlan al Hardallou': 0,\n",
        "  'Farouk Kadoda': 0,\n",
        "  'Jalal al Tayeb': 0,\n",
        "  'Khalid': 2,\n",
        "  'Mom Kou Nhial': 0,\n",
        "  'Taisir Mohamed Ahmed': 0,\n",
        "  'Ushari Ahmad Mahmoud': 0},\n",
        " 2592: {'George Yustus': 0},\n",
        " 2593: {'Abdel-Rahim Mohamed Salih': 0},\n",
        " 2594: {'Samuel Aru Bol': 0},\n",
        " 2595: {'Bakok Galuak Paguir': 0,\n",
        "  'Cuang Deng': 0,\n",
        "  'David Koak Goak': 0,\n",
        "  'Farouq Abdalla Gatkouth': 0,\n",
        "  'Farouq Abdalla Gatkuoth': 0,\n",
        "  'Gabriel Deng Wuol': 0,\n",
        "  'Jacob Duong Wuon': 0,\n",
        "  'Jimma Bileu Kul': 0,\n",
        "  'Jimma Bileu Kung': 0,\n",
        "  'John': 10,\n",
        "  'John Dak': 0,\n",
        "  'John Gilla Lul': 0,\n",
        "  'Kueth Kang Deng': 0,\n",
        "  'Lazarus Lai Puol': 0,\n",
        "  'Lulut Kok Deng': 0,\n",
        "  'Martin Nyang Kic': 0,\n",
        "  'Paul Kuting Gil': 0,\n",
        "  'Peter Lai Nyibek': 0,\n",
        "  'Peter Pal Poc Mar': 0,\n",
        "  'Pol Bec': 0,\n",
        "  'Simon Tut Yat': 0,\n",
        "  'Waragak Galuak Paguir': 0},\n",
        " 2596: {'Al-Sudani al-Doulia': 0},\n",
        " 2597: {'Abdalla Malik': 0,\n",
        "  'Abdel Aziz al-Rufai': 0,\n",
        "  'Abdel Karim Karomal': 0,\n",
        "  'Ali Ahmed al-Said': 1,\n",
        "  'Ali Simat': 0,\n",
        "  'Awad Al-Karim Mohamed Ahmed': 0,\n",
        "  'Gaafar': 2,\n",
        "  'Gamal Abdel Rahman': 0,\n",
        "  'Hashim Tullub': 0,\n",
        "  'Kamil Abdel Rahman al-Sheik': 0,\n",
        "  'Mahdi Abdelrahman Ali': 0,\n",
        "  'Mohamed Abdin Osman': 0,\n",
        "  'Mohamed Adam': 1,\n",
        "  'Mohamed Mahjub Mohamed Ali': 0,\n",
        "  'Mohamed Nourain': 0,\n",
        "  'Nasr Ali Nasr': 0,\n",
        "  'Osman Sour Kati': 0,\n",
        "  'Sid Ahmed al-Hussein': 0,\n",
        "  'Siddiq Youssif al-Nur': 0,\n",
        "  'Taha Said Ahmed': 0,\n",
        "  'Yahya Mudalal': 0,\n",
        "  'al-Haj Karoum': 0},\n",
        " 2598: {'Abbas Mohamed': 0, 'Abbas Mohamed al Tahir': 0, 'Yousef Hussein': 0},\n",
        " 2600: {'Ahmed Ishaq Omar': 0,\n",
        "  'Ahmed Yusuf Burma': 0,\n",
        "  'Musa Ibrahim Mohammed': 0,\n",
        "  'Tariq Da?ud Juma': 0},\n",
        " 2601: {'Alfaris Ibrahim': 0,\n",
        "  'Dawalbeit Kabbur': 0,\n",
        "  'Ibrahim Eldaw': 0,\n",
        "  'Osman Ali Ismael': 0,\n",
        "  'Sayed Abu Bakr': 0},\n",
        " 2604: {'Abdel-Mahmoud al-Haj Saleh': 0,\n",
        "  'Al-Fadel Adam Ismail': 0,\n",
        "  'Bakiri Adil': 0,\n",
        "  'Khalid Mohamed Ibrahim': 0,\n",
        "  'Nour': 0,\n",
        "  'Omar Nour': 0,\n",
        "  'Salah Abdel-Salam': 0,\n",
        "  'Yousif': 0},\n",
        " 2605: {'Mustafa': 1},\n",
        " 2606: {'Abdel-Mahmud Abbo': 0,\n",
        "  'Abdel-Mahmud Haj Salih': 0,\n",
        "  'Abdel-Rahman Farah': 0,\n",
        "  'Abdel-Rahman al-Sadiq al-Mahdi': 0,\n",
        "  'Ibrahim el-Amin': 0,\n",
        "  'Sarah Nugdallah': 0},\n",
        " 2608: {'Abdel Jalil Karoma': 0,\n",
        "  'Adam Madibu': 0,\n",
        "  'Ali Khalifa': 0,\n",
        "  'Farouq Kadoda': 0,\n",
        "  'Mahjoub al-Zubeir': 0,\n",
        "  'Mansour Hassan': 0,\n",
        "  'Mohamed Babiker Mokhtar': 0,\n",
        "  \"Mohamed Dia'a al-Din\": 0,\n",
        "  'Mohamed Suleiman': 0,\n",
        "  'Nur al-Din Medani': 0,\n",
        "  'Salah Abdel Karim': 0,\n",
        "  'Taha Sid Ahmad': 0,\n",
        "  'al-Fadl Mahir': 0,\n",
        "  'al-Hadi Abdel Aziz': 0,\n",
        "  'al-Tijani Mustapha': 0},\n",
        " 2609: {'Abdelmahmud Abbo': 0,\n",
        "  'Abdelrahman Abdullah Nugdullah': 0,\n",
        "  'Baha al-Din Hassan Osman': 0,\n",
        "  'Hamad al-Tahir': 0,\n",
        "  'Mahmud Khalil': 0,\n",
        "  'Radwan': 0,\n",
        "  'Suleimen al-Khedir': 0,\n",
        "  'al-Haj Abdelrahman Abdullah Nugdullah': 0},\n",
        " 2611: {'Abok Alfa Akok': 0},\n",
        " 2615: {'Abdel-Rahim Faisel': 0,\n",
        "  \"Adil Samsa'ah\": 0,\n",
        "  'Al-Sadiq Abdel-Magid': 0,\n",
        "  'Ala Mirghani Taha': 0,\n",
        "  'Ali Hassan Taha': 0,\n",
        "  'Ali Jaaf': 0,\n",
        "  \"Baha' Abul-Qasim\": 0,\n",
        "  'Bashir Badai': 0,\n",
        "  'Hamaza': 0,\n",
        "  'Izzat Mirghani Taha': 0,\n",
        "  'Kamal Abu al-Gassim': 0,\n",
        "  'Kamal Badai': 0,\n",
        "  'Kamal Mahmud Gadien': 0,\n",
        "  'Kamal Osman Badai': 0,\n",
        "  'Khajeli Saleh Khajeli': 0,\n",
        "  'Khalifa Khader Kemair': 0,\n",
        "  'Mahassin': 0,\n",
        "  'Rabie': 0,\n",
        "  'Saad Karrar': 0,\n",
        "  'Zakia': 0},\n",
        " 2616: {'Samira Hassan Ali Karrar': 0},\n",
        " 2617: {'Hillary Boma': 0, 'Lino Sebit': 0},\n",
        " 2618: {'Abdelgadir': 0,\n",
        "  'Abdelgadir Hafiz': 0,\n",
        "  'Maha Hassan Ali': 0,\n",
        "  'Mohamed Abdel Seed': 0},\n",
        " 2620: {'Abdel Hameed Ali': 0,\n",
        "  'Al Tijani Mustafa': 0,\n",
        "  'Ali Mahmoud Hasanain': 0,\n",
        "  'Ali al Said': 5,\n",
        "  'Ghazi Suleiman': 0,\n",
        "  'Ibrahim Haj Musa': 0,\n",
        "  'Jimmy Wongo': 0,\n",
        "  'Joseph Okailo': 0,\n",
        "  'Mohamed Mahjoub': 0,\n",
        "  'Mohamed Suleiman Mohamed': 0,\n",
        "  'Mohamed Wida Ala': 0,\n",
        "  'Osman Yusif Ibrahim': 0,\n",
        "  'Siddig Yusif Ibrahim': 0},\n",
        " 2621: {'Fadul Adam Abdelrahman': 0, 'Mohamed Ibrahim Abdallah': 0},\n",
        " 2624: {'Ali Abdallah Abbas': 0,\n",
        "  'Gelal Edin al-Sayid': 0,\n",
        "  'Mustafa Abdelkadir': 0,\n",
        "  'Omar al-Amin': 0,\n",
        "  'Sadiq al-Shami': 0},\n",
        " 2625: {'Ali al-Mahi': 0},\n",
        " 2626: {'Adnan Zahir Surur': 0,\n",
        "  'Awad al-Sharif': 0,\n",
        "  'Kamal al-Gizouli': 0,\n",
        "  'Philip Akot Akok': 0},\n",
        " 2627: {'Mohamed Abdulsid': 0, 'Sadiq al-Mahdi': 1},\n",
        " 2628: {'Kamal Abdelwahab Nureldayem': 0},\n",
        " 2629: {'Christopher Gore': 0,\n",
        "  'Louis Gore': 0,\n",
        "  'Luke Subek': 0,\n",
        "  'Richard Roman': 1,\n",
        "  'Tobias Atede': 0,\n",
        "  'Venusto': 0},\n",
        " 2630: {'Samira Hassan Ali Karrar': 0},\n",
        " 2631: {'Abdelgadir Hafiz': 0,\n",
        "  'Hassan Ali': 2,\n",
        "  'Maha Hassan Ali': 0,\n",
        "  'Mohamed Abdel Seed': 0},\n",
        " 2632: {'Ali al Said': 5,\n",
        "  'Ghazi Suleiman': 0,\n",
        "  'Ibrahim Alha Musa': 0,\n",
        "  'Ibrahim Mahmoud Hasanain': 0,\n",
        "  'Jimmy Wongo': 0,\n",
        "  'Joseph Okailo': 0,\n",
        "  'Mohamed Mahjoub': 0,\n",
        "  'Mohamed Wida Ala': 0,\n",
        "  'Suleiman Mustafa': 0,\n",
        "  'Tijani Mustafa': 0},\n",
        " 2633: {'Nageeb Nagmeldin': 0},\n",
        " 2634: {'Toby Madut': 0},\n",
        " 2635: {'Intisar Bakri Abdulgader': 0,\n",
        "  'Intisar Bakri Abdulkqader': 0,\n",
        "  'Intisar Bakri Abdulqader': 0},\n",
        " 2636: {'Abulgasim Ahmed Abulgasim': 0, 'Mukhtar Ali Ahmed': 0, 'Zakaria': 1},\n",
        " 2638: {'Ushari Ahmed Mahmoud': 0},\n",
        " 2639: {'Hani Mohamed Hamad': 0, 'Jalal Ahmed Bacre': 0},\n",
        " 2640: {'Abdel-Rahim Faisel': 0,\n",
        "  'Adil Sa': 0,\n",
        "  \"Adil Samsa'ah\": 0,\n",
        "  'Ala Mirghani Taha': 0,\n",
        "  'Ali Hassan Taha': 0,\n",
        "  'Ali Jaaf': 0,\n",
        "  \"Baha' Abul-Qasim\": 0,\n",
        "  'Bashir Badai': 0,\n",
        "  'Hamaza': 0,\n",
        "  'Hamuda': 0,\n",
        "  'Izzat Mirghani Taha': 0,\n",
        "  'Kamal Abu al-Gassim': 0,\n",
        "  'Kamal Badai': 0,\n",
        "  'Kamal Mahmud Gadien': 0,\n",
        "  'Kamal Osman Badai': 0,\n",
        "  'Khajeli Saleh Khajeli': 0,\n",
        "  'Khalifa Khader Kemair': 0,\n",
        "  'Rabie': 0,\n",
        "  'Saad Karrar': 0},\n",
        " 2641: {'Abdel Moneim Ahmad al-Haj': 0,\n",
        "  'Hussein Daffala': 0,\n",
        "  'Ishaq Ibrahim': 0,\n",
        "  'Mohammed Dia': 0,\n",
        "  'Osman Idris Abu Ras': 0},\n",
        " 2642: {'Abd Al-Gadir Hafiz': 0,\n",
        "  'Maha Hassan Ali': 0,\n",
        "  'Mohamed Abdel Seed': 0},\n",
        " 2643: {'Nageeb Nagmeldin': 0},\n",
        " 2645: {'Abdul Rasoul al-Nour': 0,\n",
        "  'Ali Hassan Tajeddin': 0,\n",
        "  'Hassan al-Turabi': 0,\n",
        "  'Idris al-Banna': 0,\n",
        "  'Khalid Farah': 0,\n",
        "  'Mohamed Ibrahim Nougoud': 0,\n",
        "  'Mohamed Othman al-Mirghani': 0,\n",
        "  'Omar Nour': 0,\n",
        "  'Pacifico Lado Lolik': 0,\n",
        "  'Sadiq al-Mahdi': 1},\n",
        " 2646: {'Moses Macar': 0, 'Richard Hassan Kalam Sakit': 0},\n",
        " 2647: {'Otto George Dangasuk': 0},\n",
        " 2648: {'Fadul Sultan Karkola': 0,\n",
        "  'Mohamedein Suleiman Bakheit': 0,\n",
        "  'Nasr Hassan Bashir Nasr': 0,\n",
        "  'Zaki Hassan Bashir Nasr': 0},\n",
        " 2649: {'Hamuda': 0,\n",
        "  'Izzat Mirghani Taha': 0,\n",
        "  'Kamal Abu': 0,\n",
        "  'Kamal Abu al-Gassim': 0,\n",
        "  'Khalifa Khader Kemair': 0},\n",
        " 2650: {'Alia Hassan Ali Karrar': 0,\n",
        "  'Awadis Mirgani': 0,\n",
        "  'Bashir El Tayid': 0,\n",
        "  'Mahasin': 0,\n",
        "  'Samira Hassan Ali Karrar': 0,\n",
        "  'Souad Abdelrahim': 0,\n",
        "  'Widad Hassan Ali Karrar': 0},\n",
        " 2651: {'Samira Hassan Ali Karrar': 0, 'Widaat Hassan Ali Karrar': 0},\n",
        " 2652: {'Abd Al-Gadir Hafiz': 0,\n",
        "  'Maha Hassan Ali': 0,\n",
        "  'Mohamed Abd Al-Seed': 0},\n",
        " 2655: {'Rashida Ibrahim Abdul-Karim': 0,\n",
        "  'Sara Abdullahi Nagdullah': 0,\n",
        "  'Sara al-Fadil Mahmoud': 0},\n",
        " 2656: {'Otto George Dangasuk': 0},\n",
        " 2657: {'Mohamed Abdulsid': 0},\n",
        " 2658: {'Alia Hassan Ali Karrar': 0,\n",
        "  'Awadis Mirgani': 0,\n",
        "  'Bashir El Tayid': 0,\n",
        "  'Kamal Abualgasim': 0,\n",
        "  'Mahasin': 0,\n",
        "  'Samira Hassan Ali Karrar': 0,\n",
        "  'Souad Abdelrahim': 0,\n",
        "  'Widad Hassan Ali Karrar': 0},\n",
        " 2660: {'Abel Alier': 0,\n",
        "  'Ezekiel Kodi': 0,\n",
        "  'Joshua Dau Diu': 0,\n",
        "  'Kwai Malak': 0},\n",
        " 2661: {'Abudoma': 0,\n",
        "  'Adam abd al-Rahman Hussain': 0,\n",
        "  'Ali abd al-Rahman Idris': 0,\n",
        "  'Fadul Adam abd al-Rahman': 0,\n",
        "  'Mohamed Abakar Shigaifat': 0,\n",
        "  'Mohamed Hamed Ahmed': 0,\n",
        "  'Mohamed Ibrahim abd Allah': 0,\n",
        "  'Mohamed Issa Tiato': 0,\n",
        "  'Rabih Fadul': 0,\n",
        "  'Siddieg Suliman Abakar': 0,\n",
        "  'Sidieg Ibrahim abd al-Khier': 0},\n",
        " 2662: {'Hassan Ahmed Hassan Basheer': 0, 'Osman Idris Abo Rass': 0},\n",
        " 2663: {'Abdul Aziz': 1,\n",
        "  'Aldawa Al Islamiya': 0,\n",
        "  'El Amin Mohamed Osman': 0,\n",
        "  'Fadl El Mula': 0,\n",
        "  'Halima Abdul Daym': 0,\n",
        "  'Ismail Mustafa': 0,\n",
        "  'Issa Buhra': 0,\n",
        "  'Mohamed Mumin': 0,\n",
        "  'Mubarak': 3,\n",
        "  'Salah Asmali': 0},\n",
        " 2664: {'Amouna Abdallah Daldoum': 0, 'Sadia Idriss Fadul': 0},\n",
        " 2666: {'Ali Khider Mohamed al-Amin': 0,\n",
        "  'Ali Said Ali': 10,\n",
        "  'Hussein Abd al-Gadir Shaabah': 0,\n",
        "  'Kamal Hassan Mabrouk': 0,\n",
        "  'Kamal al-Jazouli': 0,\n",
        "  'Mohamed Abdalla Saleh': 0,\n",
        "  'Nagib Nagm Eddine': 0,\n",
        "  'Omar Ahmad al-Amin': 0,\n",
        "  'Saied Ahmad Abderahim': 0,\n",
        "  'Sidig Yahya Mohamed': 0,\n",
        "  'Tarek Hussein Asheik': 0,\n",
        "  'Yahya Ali Abdalla': 0},\n",
        " 2667: {'Ahmed al-Mahdi': 0,\n",
        "  'Fadlalla Burma Nasir': 0,\n",
        "  'Habib Sarnoub al-Daw': 0,\n",
        "  'Hamid Mohammed Hamid': 0,\n",
        "  'Ibrahim Ali Abdelgadir Fageer': 0,\n",
        "  'Ibrahim al-Amin': 0,\n",
        "  'Mohammed Abdel-Rahim': 1,\n",
        "  'Mohammed Yussuf Hassan': 0,\n",
        "  'Sadiq Ibrahim': 0,\n",
        "  'Sadiq al-Mahdi': 1,\n",
        "  'Siddiq Mohammed': 0,\n",
        "  'Tayseer Mohammed Ahmed Ali': 0},\n",
        " 2668: {'Izzat Mirghani Taha': 0, 'Kamal Abu': 0, 'Khalifa Khader Kemair': 0},\n",
        " 2669: {'Awad al-Karim Mohamed Ahmed': 0,\n",
        "  'Mahjoub al-Zubeir': 0,\n",
        "  'Minallah Abdelwahab Eissa': 0,\n",
        "  'Nasur Ali Nasur': 0,\n",
        "  'Yahya Ali Abdallah': 0,\n",
        "  'Yahya Saleh Mukwar': 0},\n",
        " 2670: {'Samira Hassan Ali Karrar': 0, 'Widaat Hassan Ali Karrar': 0},\n",
        " 2671: {'Adam Abdel Hamid Adam': 0, 'Adam Abdel Hamid Adam Sudan': 0},\n",
        " 2672: {'Saleh Mahmud Osman': 0},\n",
        " 2674: {'Ali Hussain Mohamed Omer': 0,\n",
        "  'Haroun Mohamed Ali': 0,\n",
        "  'Mohammed Omer': 0},\n",
        " 2675: {'Amin Mekki Medani': 0},\n",
        " 2676: {'Abdalla Mohamed el-Amin': 0,\n",
        "  'Abdel Karim Kafi': 0,\n",
        "  'Abdel Latif': 0,\n",
        "  'Abdel Rahman Abdalla Nugudalla': 0,\n",
        "  'Adil Mohamed el-Haj': 0,\n",
        "  'Ahmed Khalid': 0,\n",
        "  'Ali Tijani Ali': 0,\n",
        "  'Fadil Salih Humaida': 0,\n",
        "  'Hamid el-Tayeb': 0,\n",
        "  'Khalid Fadl el-Seed': 0,\n",
        "  'Mohamed Ahmed el-Rayah': 0,\n",
        "  'Mohamed Hamadto': 0,\n",
        "  'Mohamed Osman Abdalla Halifi': 0,\n",
        "  'Mustafa el-Tinai': 0,\n",
        "  'Omer Mohamed Omer': 0,\n",
        "  'Sayid Hamouda': 0,\n",
        "  'Shaa el-Din Awad El-Karim': 0,\n",
        "  'Tijani Ali Salih': 0,\n",
        "  'Yahia Gamal': 0},\n",
        " 2677: {'Afifa Hassan Ali Karrar': 0,\n",
        "  'Hana al-Sadiq Abdullah al-Fadl al-Mahdi': 0,\n",
        "  'Haram Ahmad Ali Karrar': 0,\n",
        "  'Layla Hassan Ali Karrar': 0,\n",
        "  'Majda': 0,\n",
        "  'Majda Mustafa Awad Khojali': 0,\n",
        "  'Manal': 0,\n",
        "  'Manal Mustafa Awad Khojali': 0,\n",
        "  'Nadia Hassan Ali Karrar': 0,\n",
        "  'Saria Abdelmoneim Karrar': 0},\n",
        " 2678: {'Ahmed al-Mahdi': 0,\n",
        "  'El-Sadiq Ibrahim': 0,\n",
        "  'Fadlalla Burma Nasir': 0,\n",
        "  'Habib Sarnoub al-Daw': 0,\n",
        "  'Hamid Mohammed Hadid': 0,\n",
        "  'Ibrahim Ali Abdelgadir Fageer': 0,\n",
        "  'Ibrahim al-Amin': 0,\n",
        "  'Mohammed Abdel-Rahim': 1,\n",
        "  'Mohammed Yussuf Hassan': 0,\n",
        "  'Siddiq Mohammed': 0,\n",
        "  'Tayseer Mohammed Ahmed Ali': 0},\n",
        " 2679: {'Ahmad Ali Bagadi': 0,\n",
        "  'Mahjoub Mohamed al-Hassan Erwa': 0,\n",
        "  'Mutwakil Daff': 0},\n",
        " 2680: {'Abdallah Abdel Aziz': 0,\n",
        "  'Abdallah Malik': 0,\n",
        "  'Abdel Karim Karouma': 0,\n",
        "  'Ali Issailat': 0,\n",
        "  'Dhali Rahmtalla': 0,\n",
        "  'Kamal Abdel Karim Mirghani': 0,\n",
        "  'Kamil Abdel Rahman': 0,\n",
        "  'Mohamed': 3,\n",
        "  'Mohamed Mahjoub': 0,\n",
        "  'Mohamed Suleiman': 0,\n",
        "  'Omar Abdallah Jadallah': 0,\n",
        "  'Taha Mohamed Taha': 0,\n",
        "  'Taha Souraj': 0,\n",
        "  'al-Haj Osman': 0},\n",
        " 2681: {'Ali Mohamed Osman al-Simat': 0,\n",
        "  'Atif Hassan': 0,\n",
        "  'Imad al-Amin': 0,\n",
        "  'Isam al-Shubagi': 0,\n",
        "  'Mamoun Karrar': 0,\n",
        "  'Mohamed Farouq': 0,\n",
        "  'Mohamed Taj al-Sir': 0,\n",
        "  'Omar Mohamed Ali': 0,\n",
        "  'Tariq Abdel Hamid': 0,\n",
        "  'Usama Said': 0,\n",
        "  'Usama Siddig Yousif': 0,\n",
        "  'Yasir Abdel Hamid': 0},\n",
        " 2682: {'Bagir Mohamed': 0, 'Faisal': 0},\n",
        " 2683: {'Abdu Ismail Tong': 0,\n",
        "  'Adam Abdullah Mohamed': 0,\n",
        "  'Ahmed Juma Mohamed': 0,\n",
        "  'Ahmed Suleiman Mohamed': 0,\n",
        "  'Ahmed Yassin Mohamed Abakar Haroun': 0,\n",
        "  'Habib Ali Abd al-Gadir': 0,\n",
        "  'Khaleel Tahir Bashir': 0,\n",
        "  'Mohamed Abakar Haroun': 0,\n",
        "  'Mohamed Adam Yahya': 0,\n",
        "  'Mohamed Hassan Mahmoud': 0,\n",
        "  'Yousif Yaow Mombai': 0},\n",
        " 2684: {'Edward Terso': 0, 'Edward Terso Lado': 0},\n",
        " 2685: {'Al-Tayeb Ali Ahmad': 0},\n",
        " 2686: {'Amin Mekki Medani': 0},\n",
        " 2687: {'Adelio Ikwada': 0,\n",
        "  'Francis Oliha': 0,\n",
        "  'Franco Maya': 0,\n",
        "  'Mario Choho': 0,\n",
        "  'Martin Odeki': 0,\n",
        "  'Mauro Omodok': 0},\n",
        " 2688: {'Abdalla Mohamed El-Amin': 0,\n",
        "  'Abdallah': 0,\n",
        "  'Abdel Karim Kafi': 0,\n",
        "  'Abdel Latif': 0,\n",
        "  'Abdel Rahman Abdalla Nugudalla': 0,\n",
        "  'Adil Mohamed el-Haj': 0,\n",
        "  'Ahmed Khalid': 0,\n",
        "  'Ali Tijani Ali': 0,\n",
        "  'Faisal Kaballo': 0,\n",
        "  'Gimaibi': 0,\n",
        "  'Hamid el-Tayeb': 0,\n",
        "  'Khalid Fadl el-Seed': 0,\n",
        "  'Mirghani Babiker Ali': 0,\n",
        "  'Mohamed Ahmed el-Rayah': 0,\n",
        "  'Mohamed Hamadto': 0,\n",
        "  'Mohamed Osman Abdalla Halifi': 0,\n",
        "  'Mustafa': 1,\n",
        "  'Mustafa el-Tinai': 0,\n",
        "  'Mutassim el-Goreishi': 0,\n",
        "  'Omer Mohamed Omer': 0,\n",
        "  'Salih Humaida': 0,\n",
        "  'Sayid Hamouda': 0,\n",
        "  'Shaa el-Din Awad': 0,\n",
        "  'Tijani Ali Salih': 0,\n",
        "  'Yahya Gamal': 0},\n",
        " 2689: {'Afifa Hassan Ali Karrar': 0,\n",
        "  'Assia': 0,\n",
        "  'Awadia Abulgassim': 0,\n",
        "  'Awatif Mirghani Taha': 0,\n",
        "  'Fathia': 0,\n",
        "  'Fatima': 1,\n",
        "  'Hana al-Sadiq Abdullah': 0,\n",
        "  'Hana al-Sadiq Abdullah al-Fadl al-Mahdi': 0,\n",
        "  'Haram Ahmad Ali Karrar': 0,\n",
        "  'Hayat': 0,\n",
        "  'Layla Hassan Ali Karrar': 0,\n",
        "  'Majda': 0,\n",
        "  'Majda Mustafa Awad Khojali': 0,\n",
        "  'Manal': 0,\n",
        "  'Manal Mohammed Mahgoub': 0,\n",
        "  'Manal Mustafa Awad Khojali': 0,\n",
        "  'Mhassin Abulgassim': 0,\n",
        "  'Mohamed Abdulaziz': 0,\n",
        "  'Mona Abulgassim': 0,\n",
        "  'Nadia Hassan Ali Karrar': 0,\n",
        "  'Salwa': 0,\n",
        "  'Samira': 0,\n",
        "  'Samira Hassan Ali Karrar': 0,\n",
        "  'Saria Abdelmoneim Karrar': 0,\n",
        "  'Zakia': 0},\n",
        " 2690: {'Ahmed al-Mahdi': 0,\n",
        "  'El-Sadiq Ibrahim': 0,\n",
        "  'Fadlalla Burma Nasir': 0,\n",
        "  'Habib Sarnoub al-Daw': 0,\n",
        "  'Hamid Mohammed Hamid': 0,\n",
        "  'Ibrahim Ali Abdelgadir Fageer': 0,\n",
        "  'Ibrahim al-Amin': 0,\n",
        "  'Mohammed Abdel-Rahim': 1,\n",
        "  'Mohammed Yussuf Hassan': 0,\n",
        "  'Sadiq al-Mahdi': 1,\n",
        "  'Siddiq Mohammed': 0},\n",
        " 2691: {'Abdel Rasoul': 0, 'Abdel Rasoul al-Nur': 0, 'Sara Nugdallah': 0},\n",
        " 2692: {'Gordon Micah': 0, 'Gordon Micah Kur': 0},\n",
        " 2693: {'Abdeen Miheisi': 0,\n",
        "  'Ahmad Abdallahi': 0,\n",
        "  'Ali Arbab': 0,\n",
        "  'Galal Hamid': 0,\n",
        "  'Mohamed Abdelghafar': 0,\n",
        "  'Mubarak Mohamed al-Hassan': 0,\n",
        "  'Osman Abdelgader': 0,\n",
        "  'Wad Medani': 0},\n",
        " 2694: {'Bagir Mohamed': 0, 'Faisal': 0},\n",
        " 2696: {'Hussein Ibrahim Gindeel': 0},\n",
        " 2697: {'Abdallah Hamed Ismail': 0,\n",
        "  'Abdallah Mahmud': 0,\n",
        "  'Mohamed Hamad Adam Muta': 0},\n",
        " 2698: {'Saleh Suleiman Adam': 0},\n",
        " 2699: {'Abulgasim Ahmed Abulgasim': 0,\n",
        "  'Mukhtar Ali Ahmed': 0,\n",
        "  'Zakaria Ahmed Abulgasim': 0},\n",
        " 2701: {'Rashida Ibrahim Abdul-Karim': 0,\n",
        "  'Sara Abdullahi Nagdullah': 0,\n",
        "  'Sara al-Fadil Mahmoud': 0},\n",
        " 2702: {'Monytuoc Biong': 0},\n",
        " 2703: {'Constantino Pitia': 0, 'Nicholas Abdallah': 0},\n",
        " 2704: {'Gaafar Yassin Ahmad': 0,\n",
        "  'Haidar al-Tigani': 0,\n",
        "  'Mohamed': 3,\n",
        "  'Mohamed Abdel': 1,\n",
        "  'Mohamed Hassan Osman al-Zubeir': 0,\n",
        "  'Mubarek Mohamed Abdalla Gadeen': 0,\n",
        "  'Mustafa Ahmad al-Tai': 0,\n",
        "  'Osman Mohamed Ali Gumma': 0,\n",
        "  'Tahir Fadul': 0,\n",
        "  'Yasir Abu Zeid Ahmad': 0,\n",
        "  'al-Hassan Ahmad Salih Mohamed': 0},\n",
        " 2705: {'Ahmad Ali Bagadi': 0,\n",
        "  'Mahjoub Mohamed al-Hassan Erwa': 0,\n",
        "  'Mutwakil Abdel Daff': 0,\n",
        "  'Mutwakil Daff': 0},\n",
        " 2706: {'Alia Hassan Ali Karrar': 0,\n",
        "  'Awadi': 0,\n",
        "  'Awadis Mirgani': 0,\n",
        "  'Bashir El Tayid': 0,\n",
        "  'Kamal Abualgasim': 0,\n",
        "  'Mahasin': 0,\n",
        "  'Samira Hassan Ali Karrar': 0,\n",
        "  'Souad Abdelrahim': 0,\n",
        "  'Widad Hassan Ali Karrar': 0},\n",
        " 2707: {'Abdallah Abdel Aziz': 0,\n",
        "  'Abdallah Malik': 0,\n",
        "  'Abdel Karim Karouma': 0,\n",
        "  'Ali Issailat': 0,\n",
        "  'Dhali Rahmtalla': 0,\n",
        "  'Kamal Abdel Karim Mirghani': 0,\n",
        "  'Kamil Abdel Rahman': 0,\n",
        "  'Mohamed': 3,\n",
        "  'Mohamed Mahjoub': 0,\n",
        "  'Mohamed Suleiman': 0,\n",
        "  'Omar Abdallah Jadallah': 0,\n",
        "  'Taha Mohamed Taha': 0,\n",
        "  'Taha Souraj': 0,\n",
        "  'al-Haj Osman': 0},\n",
        " 2708: {'Ahmada': 0,\n",
        "  'Ahmada\\xc3\\xaf Sabre': 'NA',\n",
        "  'Sileck Sagga': 0,\n",
        "  'Souleymane Garfa': 0},\n",
        " 2710: {'Hussein Ibrahim Gindeel': 0},\n",
        " 2711: {'Al-Tayeb Ali Ahmad': 0},\n",
        " 2712: {'Abdel Aatti Abdel Khair': 0,\n",
        "  'Abdel Rahman Zaidan': 0,\n",
        "  'Ahmed Abdel Fatah Gabriel': 0,\n",
        "  'Haitham Aldusogi': 0,\n",
        "  'Hassan Sidiq Atolabi': 0,\n",
        "  'Osman Al Magdum': 0},\n",
        " 2713: {'Sadiq al-Mahdi': 1},\n",
        " 2714: {'Sadiq al-Mahdi': 1},\n",
        " 2715: {'Adam Mohamed Adam': 1, 'Hussein Abdul Karim': 0},\n",
        " 2716: {'Afifa Hassan Ali Karrar': 0,\n",
        "  'Assia': 0,\n",
        "  'Awadia Abulgassim': 0,\n",
        "  'Awatif Mirghani Taha': 0,\n",
        "  'Fathia': 0,\n",
        "  'Fatima': 1,\n",
        "  'Hana al-Sadiq Abdullah al-Fadl al-Mahdi': 0,\n",
        "  'Haram Ahmad Ali Karrar': 0,\n",
        "  'Hayat': 0,\n",
        "  'Layla Hassan Ali Karrar': 0,\n",
        "  'Majda': 0,\n",
        "  'Majda Mustafa Awad Khojali': 0,\n",
        "  'Manal': 0,\n",
        "  'Manal Mohammed Mahgoub': 0,\n",
        "  'Manal Mustafa Awad Khojali': 0,\n",
        "  'Mhassin Abulgassim': 0,\n",
        "  'Mohamed Abdulaziz': 0,\n",
        "  'Mona Abulgassim': 0,\n",
        "  'Muna': 0,\n",
        "  'Muna Mustafa Awad Khojali': 0,\n",
        "  'Nadia Hassan Ali Karrar': 0,\n",
        "  'Salwa': 0,\n",
        "  'Samira': 0,\n",
        "  'Samira Hassan Ali Karrar': 0,\n",
        "  'Saria Abdelmoneim Karrar': 0,\n",
        "  'Zakia': 0},\n",
        " 2717: {'Abd al-Latif': 0,\n",
        "  'Abdel Mahmud Abbo': 0,\n",
        "  'Abdel Rahman Yunis': 0,\n",
        "  'Abdul Rasoul al-Nur Ismael': 0,\n",
        "  'Abdullah Ishaq': 0,\n",
        "  'Al-Sadiq Ibrahim': 0,\n",
        "  'Ansar': 0,\n",
        "  'Fadlalla Burma Nasir': 0,\n",
        "  'Habib Sarnoub al-Daw': 0,\n",
        "  'Hamid Mohammed Hamid': 0,\n",
        "  'Ibrahim': 6,\n",
        "  'Ibrahim Ali Abdelgadir Fageer': 0,\n",
        "  'Ibrahim al-Amin': 0,\n",
        "  'Mirghani Abdel Rahman Suleiman': 0,\n",
        "  'Mohamed al-Mahdi': 0,\n",
        "  'Mohammed Abdel-Rahim': 1,\n",
        "  'Mohammed Yussuf Hassan': 0,\n",
        "  'Mohammed al-Mahdi': 1,\n",
        "  'Musa Abdalla al-Bashir': 0,\n",
        "  'Mustafa': 1,\n",
        "  'Sadiq al-Mahdi': 1,\n",
        "  'Siddiq Mohammed': 0,\n",
        "  'al-Fadl Omar': 0,\n",
        "  'al-Hadi Adam': 0},\n",
        " 2718: {'Sid Ahmad': 0, 'Sid Ahmad al-Hussein': 0},\n",
        " 2719: {'Ansar': 0, 'Sadiq': 1, 'Sadiq al-Mahdi': 1},\n",
        " 2720: {'Abdeen Miheisi': 0,\n",
        "  'Adam Abdel Kabir': 0,\n",
        "  'Ahmad Abdallahi': 0,\n",
        "  'Al-Kheir Ali Arbab': 0,\n",
        "  'Ali Arbab': 0,\n",
        "  'Galal Hamid': 0,\n",
        "  'Mohamed Abdelghafar': 0,\n",
        "  'Mubarak Mohamed al-Hassan': 0,\n",
        "  'Osman Abdelgader': 0,\n",
        "  'Wad Medani': 0},\n",
        " 2721: {'Salah Mohamed Abdelrahman': 0},\n",
        " 2722: {'Khalil Abdel Rahman': 0, 'Siddid Abdel Rahman': 0},\n",
        " 2723: {'Mahasin Abaker Fadul': 0},\n",
        " 2726: {'Abderrahmane Farah': 0,\n",
        "  'Abderrahmane Sadiq Al-Mahdi': 0,\n",
        "  'Abderrassul al-Nur': 0,\n",
        "  'Bakir Adel': 0,\n",
        "  'Fadlalla Burma Nassir': 0,\n",
        "  'Fawzi Ahmed Al-Fadel': 0,\n",
        "  'Mahdi Babu Nimir': 0},\n",
        " 2727: {'Haroun Abdel-Karim': 0},\n",
        " 2728: {'Afaf Mirghani Taha Further': 0,\n",
        "  'Afifa Hassan Ali Karrar': 0,\n",
        "  'Assia': 0,\n",
        "  'Awadia Abulgassim': 0,\n",
        "  'Awatif Mirghani Taha': 0,\n",
        "  'Fathia': 0,\n",
        "  'Fatima': 1,\n",
        "  'Hana al-Sadiq Abdullah al-Fadl al-Mahdi': 0,\n",
        "  'Haram Ahmad Ali Karrar': 0,\n",
        "  'Hayat': 0,\n",
        "  'Layla Hassan Ali Karrar': 0,\n",
        "  'Majda': 0,\n",
        "  'Majda Mustafa Awad Khojali': 0,\n",
        "  'Manal': 0,\n",
        "  'Manal Mohammed Mahgoub': 0,\n",
        "  'Manal Mustafa Awad Khojali': 0,\n",
        "  'Mhassin Abulgassim': 0,\n",
        "  'Mohamed Abdulaziz': 0,\n",
        "  'Mona Abulgassim': 0,\n",
        "  'Muna': 0,\n",
        "  'Muna Mustafa Awad Khojali': 0,\n",
        "  'Nadia Hassan Ali Karrar': 0,\n",
        "  'Salwa': 0,\n",
        "  'Samira': 0,\n",
        "  'Samira Hassan Ali Karrar': 0,\n",
        "  'Saria Abdelmoneim Karrar': 0,\n",
        "  'Zakia': 0},\n",
        " 2729: {'Gaafar Yasin Ahmad': 0},\n",
        " 2731: {'Ansar': 0, 'Sara Nugdallah': 0},\n",
        " 2732: {'Moneim Attia': 0, 'Nagib Nejm al-Din': 0},\n",
        " 2733: {'Abdel Basit Abbas Hussein': 0,\n",
        "  'Abdel Rahman al-Amin': 0,\n",
        "  'Kamal Abdel Rahman': 0,\n",
        "  'Mudawi Ibrahim Adam': 0},\n",
        " 2734: {'Adil Mahmoud': 0, 'Mohammed': 7, 'Mohammed al Hassan': 2},\n",
        " 2735: {'Toby Madut': 0},\n",
        " 2736: {'Aderob Bakkash': 0, 'Khalifa Omar Ohajj': 0},\n",
        " 2737: {'Adam Mohamed Shareif': 0, 'Mossaad Mohamed Ali': 0},\n",
        " 2738: {'Adnan Zahir Surur': 0, 'Amar Abdel Khalig': 0, 'Anwar Abbas': 0},\n",
        " 2739: {'Abdel Rahman Idris': 0,\n",
        "  'Farouq Ahmad Adam': 0,\n",
        "  'Mirghani Abd al-Rahman Suleiman': 0,\n",
        "  'Musa al-Hussein': 0,\n",
        "  'Said Haroun': 0,\n",
        "  'al-Haj Mudawi': 0},\n",
        " 2740: {'Abd al-Latif': 0,\n",
        "  'Abdel Bagi Taj al-Din': 0,\n",
        "  'Abdel Mahmud Abbo': 0,\n",
        "  'Abdel Nabi Ali Ahmad': 0,\n",
        "  'Abdel Rahman': 0,\n",
        "  'Abdel Rahman Yunis': 0,\n",
        "  'Abdel-Rahim': 1,\n",
        "  'Abdullah Ishaq': 0,\n",
        "  'Ansar': 0,\n",
        "  'Berier Mohamed al-Tom': 0,\n",
        "  'Hamad al-Nil Doulieb': 0,\n",
        "  'Hussein': 10,\n",
        "  'Hussein Ahmad Fadl': 0,\n",
        "  'Ibrahim': 6,\n",
        "  'Ibrahim Ali Abdelgadir Fageer': 0,\n",
        "  'Ibrahim al-Amin': 0,\n",
        "  'Mahmud Abasher': 0,\n",
        "  'Mohammed Abdel-Rahim': 1,\n",
        "  'Mohammed Yussuf Hassan': 0,\n",
        "  'Mohammed al-Mahdi': 1,\n",
        "  'Musa Abdalla al-Bashir': 0,\n",
        "  'Mustafa': 1,\n",
        "  'Nasr al-Din': 0,\n",
        "  'Osman Idris Habani': 0,\n",
        "  'Yahia Mukwar': 0,\n",
        "  'al-Fadl Omar': 0,\n",
        "  'al-Hadi Adam': 0,\n",
        "  'al-Tigani Ahmad': 0},\n",
        " 2741: {'Kamal Abdelwahab Nureldayem': 0},\n",
        " 2742: {'Abdallah Musa': 0,\n",
        "  'Abdul Azim Abdullah': 0,\n",
        "  'Abdul Rahman al-Amin': 0,\n",
        "  'Ali al-Khattib': 0,\n",
        "  'Faqiri Abdallah': 0,\n",
        "  'Galal Ismail': 0,\n",
        "  \"Haj Musa 'Abd al-Rahim\": 0,\n",
        "  'Hassan Hussein': 3,\n",
        "  'Imad Ali Dahab': 0,\n",
        "  'Khalil Osman Khalil': 0,\n",
        "  'Mahir Mekki': 0,\n",
        "  'Mahjoub al-Zubeir': 0,\n",
        "  'Moatissim Siam': 0,\n",
        "  'Said Ashakir': 0,\n",
        "  'Sulieman Khalaf Allah': 0},\n",
        " 2744: {'Edward Terso Lado': 0},\n",
        " 2745: {'Adam Mohamed Sharief': 0, 'Mossaad Mohamed Ali': 0},\n",
        " 2746: {'Alfred Taban': 0},\n",
        " 2747: {'Ali Mohamed Beshir': 0,\n",
        "  'Baher Abdul Hamed': 0,\n",
        "  'Ismail Yacoub': 0,\n",
        "  'Juma Imam': 0},\n",
        " 2748: {'Afaf Mirghani Taha': 0,\n",
        "  'Afifa Hassan Ali Karrar': 0,\n",
        "  'Awatif Mirghani Taha': 0,\n",
        "  'Hana al-Sadiq Abdullah al-Fadl al-Mahdi': 0,\n",
        "  'Haram Ahmad Ali Karrar': 0,\n",
        "  'Layla Hassan Ali Karrar': 0,\n",
        "  'Majda Mustafa Awad Khojali': 0,\n",
        "  'Manal Mustafa Awad Khojali': 0,\n",
        "  'Muna Mustafa Awad Khojali': 0,\n",
        "  'Nadia Hassan Ali Karrar': 0},\n",
        " 2749: {'Abd al-Latif': 0,\n",
        "  'Abdel Mahmud Abbo': 0,\n",
        "  'Abdel Rahman Yunis': 0,\n",
        "  'Abdul Rasoul al-Nur Ismael': 0,\n",
        "  'Abdullah Ishaq': 0,\n",
        "  'Fadlalla Burma Nasir': 0,\n",
        "  'Ibrahim': 6,\n",
        "  'Ibrahim Ali Abdelgadir Fageer': 0,\n",
        "  'Ibrahim al-Amin': 0,\n",
        "  'Mirghani Abdel Rahman Suleiman Sudan': 0,\n",
        "  'Mohammed Abdel': 1,\n",
        "  'Mohammed Yussuf Hassan': 0,\n",
        "  'Mohammed al-Mahdi': 1,\n",
        "  'Musa Abdalla al-Bashir': 0,\n",
        "  'Mustafa': 1,\n",
        "  'Rahim': 1,\n",
        "  'al-Fadl Omar': 0,\n",
        "  'al-Hadi Adam': 0},\n",
        " 2750: {'Ashraf Adli': 0,\n",
        "  \"Baha' Zaki\": 0,\n",
        "  'Kamal Tadros': 0,\n",
        "  'Magdi Chelata': 0},\n",
        " 2751: {'Abdel Mahmud Abu': 0,\n",
        "  'Abdel Nabi Ali Ahmad': 0,\n",
        "  'Abu Bakr Abdel Magid al-Amir': 0,\n",
        "  'Ahmad Musa': 0,\n",
        "  'Ali Hassan Taj al-Din': 0,\n",
        "  'Ali al-Omda Abdel Magid': 0,\n",
        "  'Ansar': 0,\n",
        "  'Fadlalla Burma Nasir': 0,\n",
        "  'Hussein Adam Salama': 0,\n",
        "  'Sheik Abdallah Ishaq': 0,\n",
        "  'Tebira Idris Habani': 0,\n",
        "  'Tirab Tendal': 0},\n",
        " 2752: {'Ahmat Abdoulaye': 0,\n",
        "  'Faki Adam': 0,\n",
        "  'Ismael': 0,\n",
        "  'Mahamat Ousmane': 0},\n",
        " 2753: {'Amal Osman': 0,\n",
        "  'Amani Ahmad Osman': 0,\n",
        "  'Asma al-Sayid Ali': 0,\n",
        "  'Entessar Siddig': 0,\n",
        "  'Eyman Abdelrahim': 0,\n",
        "  'Eyman Mohamed al-Hussein': 0,\n",
        "  'Fatima Kamal Mohamed Kheir': 0,\n",
        "  'Hadi': 1,\n",
        "  'Hayat Mahmud': 0,\n",
        "  'Huda Ahmad Abdalla': 0,\n",
        "  'Ibtehaj Ibrahim': 0,\n",
        "  'Kossar Hassan Mohamed': 0,\n",
        "  'Lillian Mohamed Salih Hussein': 0,\n",
        "  'Najala Saad Ahmad': 0,\n",
        "  'Neimat Ahmad Malik': 0,\n",
        "  'Omar Suraldahab': 0,\n",
        "  'Omyma Ahmad Mustafa': 0,\n",
        "  'Rana Mohamed Ahmad': 0,\n",
        "  'Sakhena Abdallah Kambal': 0,\n",
        "  'Salwa Said': 0,\n",
        "  'Samia Ahmad Osman': 0,\n",
        "  'Samira Osman Hamid': 0,\n",
        "  'Samira Talib Ismail': 0,\n",
        "  'Sara Gassim': 0,\n",
        "  'Sara Hamid': 0,\n",
        "  'Sara Nugdullah': 0,\n",
        "  'Seham Adam': 0,\n",
        "  'Setena Mohamed Salih': 0,\n",
        "  'Widad Mohamed': 0,\n",
        "  'Zahra Mohamed Ahmad Fadil': 0,\n",
        "  'Zeinab Ali al-Omda Abdelmajid': 0},\n",
        " 2754: {'Ammar Najm al-Din': 0,\n",
        "  'Hassan Ali': 2,\n",
        "  'Mohamed Siddig': 0,\n",
        "  'Mohamed al-Mustafa Hashem': 0,\n",
        "  'Omar al-Amin': 0,\n",
        "  'Sami Yousef Ismail': 0,\n",
        "  'Taher Bashiri': 0},\n",
        " 2755: {'Adam Mohammad Osman': 0,\n",
        "  'Adam al-Zubayr Issa': 0,\n",
        "  'Bushara Bushra Abdel Rahman': 0,\n",
        "  'Idris Mohamed Ali': 0,\n",
        "  'Mohammad Abu Bakr Idris': 0,\n",
        "  'Mohammad Issa': 0},\n",
        " 2756: {'Ali Hussain Mohamed Omer': 0,\n",
        "  'Haroun Mohamed Ali': 0,\n",
        "  'Mohammed Omer': 0},\n",
        " 2757: {'Abdul Rasoul': 0,\n",
        "  'Ali Hassan Tajeddin': 0,\n",
        "  'Hassan al-Turabi': 0,\n",
        "  'Idris al-Banna': 0,\n",
        "  'Mohamed Ibrahim Nougoud': 0,\n",
        "  'Mohamed Othman al-Mirghani': 0,\n",
        "  'Omar Nour': 0,\n",
        "  'Pacifico Lado Lolik': 0,\n",
        "  'Sadiq al-Mahdi': 1},\n",
        " 2758: {'Abdelgader Hussein': 0,\n",
        "  'Bashir Mustafa': 0,\n",
        "  'Ismat Mirghani': 0,\n",
        "  'Kadro': 0,\n",
        "  'Nahad Ismael': 0,\n",
        "  'Othman Balul': 0},\n",
        " 2759: {'Muawia Jaffar': 0, 'Zein al-Abdin al-Tayib Osman': 0},\n",
        " 2760: {'Abdallah Barakat': 0,\n",
        "  'Hassan Osman': 0,\n",
        "  'Mohamad al-Gadi': 0,\n",
        "  'Mustapha Zaki Mustapha': 0},\n",
        " 2761: {'Abd al-Rahman Suleiman': 0,\n",
        "  'Abdel Rasoul al-Nur Ismael': 'NA',\n",
        "  'Camillo Odongi Loyuk': 'NA',\n",
        "  'Fadlalla Burma Nasir': 'NA',\n",
        "  'Gaafar Yassin Ahmad': 0,\n",
        "  'Haidar': 0,\n",
        "  'Mirghani': 'NA',\n",
        "  'Mohamed': 'NA',\n",
        "  'Mohamed Abdel': 1,\n",
        "  'Mohamed Hassan Osman al-Zubeir': 'NA',\n",
        "  'Mubarek Mohamed Abdalla Gadeen': 0,\n",
        "  'Mustafa Ahmad al-Tai': 'NA',\n",
        "  'Osman Mo': 0,\n",
        "  'Osman Mohamed Ali Gumma': 'NA',\n",
        "  'Osman Mustapha Mahjoub': 'NA',\n",
        "  'Tigani': 'NA',\n",
        "  'Yasir Abu Zeid Ahmad': 'NA',\n",
        "  'al-Hassan Ahmad Salih Mohamed': 'NA',\n",
        "  'al-Tahir Fadul': 'NA'},\n",
        " 2763: {'Abbas Mohamed al Tahir': 'NA',\n",
        "  'Adil Mahmoud': 'NA',\n",
        "  'Adil Mohamed': 'NA',\n",
        "  'Bakri Gibreil': 'NA',\n",
        "  'Hassan Ibrahim': 'NA',\n",
        "  'Haydar Abdelrahman': 'NA',\n",
        "  'Jalal Mohamed': 'NA',\n",
        "  'Mohamed al Hassan Ibrahim': 'NA',\n",
        "  'Mohammed': 'NA',\n",
        "  'Mohammed al Hassan': 'NA',\n",
        "  'Nasr Aldeen Yousef': 'NA',\n",
        "  'Omar Sidahmed': 'NA',\n",
        "  'Yousef Hussein': 'NA'},\n",
        " 2764: {'Ammar Najm al-Din': 'NA',\n",
        "  'Sami Yousef Ismail': 'NA',\n",
        "  'Tahir Bashiri': 'NA'},\n",
        " 2765: {'Mudawi Ibrahim Adam': 'NA'},\n",
        " 2766: {'Ali Abdallah Abbas': 'NA',\n",
        "  'Gelal Edin al-Sayid': 'NA',\n",
        "  'Hassan Hussein Mohamed': 'NA',\n",
        "  'Kamal al-Jazouli': 'NA',\n",
        "  'Mustafa Abdelkadir': 'NA',\n",
        "  'Omar al-Amin': 'NA',\n",
        "  'Sadiq al-Shami': 'NA',\n",
        "  'Saleh Mahmoud Mohammed Osman': 'NA'},\n",
        " 2767: {'Ali Bashir Mariud': 'NA', 'Arkango Agadad': 'NA'},\n",
        " 2768: {'Fadul Sultan Karkola': 'NA',\n",
        "  'Mohamedein Suleiman Bakheit': 'NA',\n",
        "  'Nasr Hassan Bashir Nasr': 'NA',\n",
        "  'Zaki Hassan Bashir Nasr': 'NA'},\n",
        " 2769: {'Gaafar Yassin Ahmad': 'NA',\n",
        "  'Haidar al-Tigani': 'NA',\n",
        "  'Mohamed': 'NA',\n",
        "  'Mohamed Abdel': 'NA',\n",
        "  'Mohamed Hassan Osman al-Zubeir': 'NA',\n",
        "  'Mubarek Mohamed Abdalla Gadeen': 'NA',\n",
        "  'Mustafa Ahmad al-Tai': 'NA',\n",
        "  'Osman Mohamed Ali Gumma': 'NA',\n",
        "  'Yasir Abu Zeid Ahmad': 'NA',\n",
        "  'al-Hassan Ahmad Salih Mohamed': 'NA',\n",
        "  'al-Tahir Fadul': 'NA'},\n",
        " 2770: {'Bushra Abdel-Karim': 'NA', 'Mahjoub Sherif': 'NA', 'Salah': 'NA'},\n",
        " 2771: {'Hashim Mohamed Zeyada': 'NA'},\n",
        " 2772: {'Abbas Mohamed al Tahir': 'NA', 'Yousef Hussein': 'NA'},\n",
        " 2773: {'Gadim Hamdoum Hamid': 'NA', 'Kabashi Alayan': 'NA'},\n",
        " 2774: {'Alakor Lual Deng': 'NA', 'Lual Deng': 'NA', 'Madina': 'NA'},\n",
        " 2775: {'Habib Adam Yagoub': 'NA',\n",
        "  'Halima Adam Ibrahim': 'NA',\n",
        "  'Ibrahim Siddiq Ali': 'NA',\n",
        "  'Ismail Mohamed Hamid': 'NA',\n",
        "  'Kalma': 'NA',\n",
        "  'Mohamed Osman Mohamed': 'NA',\n",
        "  'Yagoub Ismail Mohamed': 'NA'},\n",
        " 2778: {'Ali Mohamed Bashir': 'NA',\n",
        "  'Gima Mohamed Adam': 'NA',\n",
        "  'Ismail Haroun Adam': 'NA',\n",
        "  'Mohamed Abdel Hamid': 'NA'},\n",
        " 2779: {'Constantino Pitia': 'NA', 'Nicholas Abdallah': 'NA'},\n",
        " 2780: {'Abdel Ghani Mohamed Omar al-Amir': 'NA',\n",
        "  'Abdelrahman al-Khair Abdelwahab': 'NA',\n",
        "  'Ahmad Bilal': 'NA',\n",
        "  'Ali Yousif': 'NA',\n",
        "  'Ansar': 'NA',\n",
        "  'Awad Salim': 'NA',\n",
        "  'Gibreel': 'NA',\n",
        "  'Mamoun Yousif': 'NA'},\n",
        " 2781: {'Ashraf Adli': 'NA', \"Baha' Zaki\": 'NA', 'Magdi Chelata': 'NA'},\n",
        " 2782: {'Abd al-Marouf Hussein': 'NA',\n",
        "  'Abdallah al-Tayeb': 'NA',\n",
        "  'Ali Abbas Ali': 'NA',\n",
        "  'Bushra Hamid Burma': 'NA',\n",
        "  'Camillio Luthali': 'NA',\n",
        "  'Faud Salih': 'NA',\n",
        "  'Gamal Yusuf': 'NA',\n",
        "  'Haj Ahmad': 'NA',\n",
        "  'Hassan al-Khatib': 'NA',\n",
        "  'Jaknoon': 'NA',\n",
        "  'Kamal al-Tigani': 'NA',\n",
        "  'Mohamed Mahmud': 'NA',\n",
        "  'Naser Kamal': 'NA',\n",
        "  'Osman Atiat Allah': 'NA',\n",
        "  'Salah Ahmad al-Jaber': 'NA',\n",
        "  'Salah Karboni': 'NA',\n",
        "  'Taj al-Sir Sarbil': 'NA',\n",
        "  'Tariq Abu Abdu': 'NA'},\n",
        " 2783: {'Ammar Hassanain Abdel-Sid': 'NA'},\n",
        " 2785: {'Ahmad Tijani Taher': 'NA',\n",
        "  'Al-Fatih Omar': 'NA',\n",
        "  'Al-Sheikh Kennish': 'NA',\n",
        "  'Hassan Shahata': 'NA',\n",
        "  'Mohamed Abdelgader Hilal': 'NA',\n",
        "  'Sayed': 'NA',\n",
        "  'Sayed Mohamed Abdallah': 'NA',\n",
        "  'Yahya Omar Hamza': 'NA'},\n",
        " 2786: {'Ali Fadul': 'NA'},\n",
        " 2787: {'Ibrahim Dubara Mongho': 'NA'},\n",
        " 2788: {'Fadul Sultan Karkola': 'NA',\n",
        "  'Mohamedein Suleiman Bakheit': 'NA',\n",
        "  'Nasr Hassan Bashir Nasr': 'NA',\n",
        "  'Zaki Hassan Bashir Nasr': 'NA'},\n",
        " 2789: {'Ali Mahmud Hassanein': 'NA'},\n",
        " 2790: {'Sara Nugdallah': 'NA'},\n",
        " 2791: {'Abd al-Kafi': 'NA',\n",
        "  'Abualabbas Dai al-Naim': 'NA',\n",
        "  'Adil Ibrahim Karrar': 'NA',\n",
        "  'Ismail Azhari': 'NA',\n",
        "  'Khalid al-Mahi': 'NA',\n",
        "  'Muataz Hasaan': 'NA'},\n",
        " 2792: {'Abdel Wahid Mohamed Ahmed Nour': 'NA',\n",
        "  'Ahmed Ibrahim': 'NA',\n",
        "  'Jebel Mara': 'NA',\n",
        "  'Nafir El Din Tampour': 'NA'},\n",
        " 2794: {'Abdelrhman Zakaria Mohamed': 'NA', 'Ahmed Abdullah Suleiman': 'NA'},\n",
        " 2796: {'Abderassul al-Nur': 'NA',\n",
        "  'Abderrahmane Farah': 'NA',\n",
        "  'Abderrahmane Sadiq al-mahdi': 'NA',\n",
        "  'Abderrahmane al-sayed': 'NA',\n",
        "  'Bakir Adel': 'NA',\n",
        "  'Fadlalls Burma Bassir': 'NA',\n",
        "  'Fawzi Ahmed al-Fadel': 'NA',\n",
        "  'Mahdi Babu Nimir': 'NA',\n",
        "  'Osman Abdulmutaleb': 'NA'},\n",
        " 2797: {'Samuel Aru Bol': 'NA'},\n",
        " 2798: {'Alfred Taban': 'NA', 'Nicholas Aboya': 'NA', 'Peter Cirrilo': 'NA'},\n",
        " 2799: {'Abdel-Rahman Farah': 'NA',\n",
        "  'Hamad Omar Bagadi': 'NA',\n",
        "  'Sadiq al Mahdi': 'NA'},\n",
        " 2800: {'Sadiq': 'NA', 'Sadiq al-Mahdi': 'NA'},\n",
        " 2801: {'Hassan Adam Ali': 'NA'},\n",
        " 2802: {'Adam Abdel Rahman Abdel Shafe': 'NA', 'Diko Grini': 'NA'},\n",
        " 2803: {'Nagmeldin Abdallah': 'NA'},\n",
        " 2804: {'Isa Ali Hassabullah': 'NA', 'Suleiman Jamous': 'NA'},\n",
        " 2806: {'Abdelgader Hussein al-Kadro': 'NA',\n",
        "  'Baker': 'NA',\n",
        "  'Bashir Mustafa': 'NA',\n",
        "  'Ismat Mirghani': 'NA',\n",
        "  'Khalid al-Zeine Ali': 'NA',\n",
        "  'Mohammed Ali Ghassim': 'NA',\n",
        "  'Nahad Ismael': 'NA',\n",
        "  'Othman Balul': 'NA'},\n",
        " 2807: {'Mirghani Kafi': 'NA'},\n",
        " 2808: {'Alfred Taban': 'NA', 'Nicolas Aboya': 'NA', 'Peter Cirrilo': 'NA'},\n",
        " 2809: {'Fasher': 'NA',\n",
        "  'Fiqi Salih Ibrahim': 'NA',\n",
        "  'Mohamed Atim Mohamed Salama': 'NA',\n",
        "  'Mohamed Sowar Adam': 'NA',\n",
        "  'Nasr al-Din Tambur': 'NA',\n",
        "  'Omer Haroun': 'NA',\n",
        "  'Yacoub Khamis': 'NA',\n",
        "  'Yusif Mohamed Sharaf al-Din': 'NA',\n",
        "  'al-Zubeir Mohamed Khamis': 'NA'},\n",
        " 2810: {'Ali Mahmud Hassanein': 'NA'},\n",
        " 2811: {'Abdel Mahmud Abu': 'NA',\n",
        "  'Abdel Nabi Ali Ahmad': 'NA',\n",
        "  'Abu Bakr Abdel Magid al-Amir': 'NA',\n",
        "  'Ahmad Musa Sudan': 'NA',\n",
        "  'Ali Hassan Taj al-Din': 'NA',\n",
        "  'Ali al-Omda Abdel Magid': 'NA',\n",
        "  'Fadlalla Burma Nasir': 'NA',\n",
        "  'Hussein Adam Salama': 'NA',\n",
        "  'Sheik Abdallah Ishaq': 'NA',\n",
        "  'Tebira Idris Habani': 'NA',\n",
        "  'Tirab Tendal': 'NA'},\n",
        " 2812: {'Awad al-Karim Mohamed Ahmed': 'NA',\n",
        "  'Mahjoub al-Zubeir': 'NA',\n",
        "  'Minallah Abdelwahab Eissa': 'NA',\n",
        "  'Nasur Ali Nasur': 'NA',\n",
        "  'Yahya Ali Abdallah': 'NA',\n",
        "  'Yahya Saleh Mukwar': 'NA'},\n",
        " 2813: {'Abdel Bagi Mohamed Ali': 'NA',\n",
        "  'Farid Abbas': 'NA',\n",
        "  'Rehab Abdel Bagi Mohamed Ali': 'NA'},\n",
        " 2814: {'Fathi Mohammad al-Hassan': 'NA'},\n",
        " 2815: {'Mohamed Hassan Hamdan': 'NA'},\n",
        " 2817: {'Magdi Mahgub': 'NA'},\n",
        " 2818: {'Abderahman Aby al-Kul': 'NA',\n",
        "  'Ahmed Tijani Taher': 'NA',\n",
        "  'Al-Fatij Omar': 'NA',\n",
        "  'Al-Sheikh Kennish': 'NA',\n",
        "  'Hassan Shahata': 'NA',\n",
        "  'Limov Gordon': 'NA',\n",
        "  'Maamun Mohamed Hussein': 'NA',\n",
        "  'Mohamed Abdelgadir Hilal': 'NA',\n",
        "  'Mohammed Saleh': 'NA',\n",
        "  'Sayed': 'NA',\n",
        "  'Sayed Mohamed Abdallah': 'NA',\n",
        "  'Yahya Omar Hamza': 'NA'},\n",
        " 2819: {'Garang Tong Tong': 'NA',\n",
        "  'Lual Wuol Tong': 'NA',\n",
        "  'Manut Majok Dut': 'NA',\n",
        "  'Paul Wuol Deng': 'NA',\n",
        "  'William Santino Gumaa': 'NA'},\n",
        " 2820: {'Karabino Majok': 'NA', 'Samuel Lol': 'NA', 'Samuel Major': 'NA'},\n",
        " 2821: {'Adlan Ahmad Abdel Aziz': 'NA'},\n",
        " 2822: {'Abdel Rasoul': 'NA',\n",
        "  'Abdel Rasoul al-Nur': 'NA',\n",
        "  'Sara Nugdallah': 'NA'},\n",
        " 2823: {'Abdallah Musa': 'NA',\n",
        "  'Abdul Azim Abdullah': 'NA',\n",
        "  'Abdul Rahman al-Amin': 'NA',\n",
        "  'Ali al-Khattib': 'NA',\n",
        "  'Faqiri Abdallah': 'NA',\n",
        "  'Galal Ismail': 'NA',\n",
        "  \"Haj Musa 'Abd al-Rahim\": 'NA',\n",
        "  'Hassan Hussein': 'NA',\n",
        "  'Imad Ali Dahab': 'NA',\n",
        "  'Khalil Osman Khalil': 'NA',\n",
        "  'Mahir Mekki': 'NA',\n",
        "  'Mahjoub al-Zubeir': 'NA',\n",
        "  'Moatissim Siam': 'NA',\n",
        "  'Said Ashakir': 'NA',\n",
        "  'Sulieman Khalaf Allah': 'NA'},\n",
        " 2824: {'Abdeen Miheisi': 'NA',\n",
        "  'Adam Abdel Kabir': 'NA',\n",
        "  'Ahmad Abdallahi': 'NA',\n",
        "  'Ali Arbab': 'NA',\n",
        "  'Galal Hamid': 'NA',\n",
        "  'Mohamed Abdelghafar': 'NA',\n",
        "  'Mubarak Mohamed al-Hassan': 'NA',\n",
        "  'Osman Abdelgader': 'NA'},\n",
        " 2825: {'Abdel Bagi Mohamed Ali': 'NA', 'Farid Abbas': 'NA'},\n",
        " 2826: {'Abdel Rahman Ahmad': 'NA',\n",
        "  'Abubaker Hamed Nur': 'NA',\n",
        "  'Bashir Bushara': 'NA',\n",
        "  'Hashem al-Tayeb': 'NA',\n",
        "  'Ibrahim Mohammad Hassan': 'NA',\n",
        "  'Mohammad Bashir Ahmed': 'NA',\n",
        "  'Mohammad Hashem Abdel Rahman': 'NA',\n",
        "  'Yusuf Mohammad Faleh': 'NA'},\n",
        " 2827: {'Adam Suleiman': 'NA',\n",
        "  'Al-Jeneina': 'NA',\n",
        "  'Annur Tambus': 'NA',\n",
        "  'Mohamed Ibrahim Gasi': 'NA',\n",
        "  'Tijani Gamar': 'NA'},\n",
        " 2829: {'Alfonse Rop': 'NA',\n",
        "  'James Chol': 'NA',\n",
        "  'Joseph Madot': 'NA',\n",
        "  'Kati Tuja': 'NA',\n",
        "  'Mary Ajak': 'NA'},\n",
        " 2830: {'Abdin': 'NA',\n",
        "  'Abdin Mohamed Zein': 'NA',\n",
        "  'Abu Zeid Mohamed Saleh': 'NA',\n",
        "  'Ali': 'NA',\n",
        "  'Babiker Digna': 'NA',\n",
        "  'Bashir Omar': 'NA',\n",
        "  'Farah Hassan Adam': 'NA',\n",
        "  'Fatma': 'NA',\n",
        "  'Mekki al-Massiba': 'NA',\n",
        "  'Osama Abderrahmane al-Nur': 'NA',\n",
        "  'Salma Shwaya': 'NA'},\n",
        " 2831: {'Abdel Aziz Dafalla': 'NA',\n",
        "  'Abul Hassan': 'NA',\n",
        "  'Ali al-Mahi al-Sakhi': 'NA',\n",
        "  'Muawia Umran': 'NA'},\n",
        " 2832: {'Abdel Karim Abdel Jaliel': 'NA',\n",
        "  'Nadir Mahjoub Mohamed Salih': 'NA',\n",
        "  'Yousif Hussein': 'NA'},\n",
        " 2833: {'Ali al-Mahi al-Sakhi': 'NA',\n",
        "  'Ali al-Mahi al-Sakhi Ali Khalifa': 'NA',\n",
        "  'Mohamed Babiker': 'NA',\n",
        "  'Siddiq Yusuf': 'NA',\n",
        "  'Suliman': 'NA'},\n",
        " 2834: {'Hashim Mohamed Zayada': 'NA',\n",
        "  'Hashim Mohamed Zeyada': 'NA',\n",
        "  'Zeyada': 'NA'},\n",
        " 2835: {'Moneim Attia': 'NA', 'Nagib Nejm al-Din': 'NA'},\n",
        " 2836: {'Mudawi Ibrahim Adam': 'NA', 'Salah Mohamed Abdelrahman': 'NA'},\n",
        " 2838: {'Ahmad Tijani Taher': 'NA',\n",
        "  'Al-Fatih Omar al-Sayed': 'NA',\n",
        "  'Al-Sheikh Kennish': 'NA',\n",
        "  'Hassan Shahata': 'NA',\n",
        "  'Limov Gordon': 'NA',\n",
        "  'Maamun Mohamed Hussein': 'NA',\n",
        "  'Mohamed Abdelgadir Hilal': 'NA',\n",
        "  'Mohamed Saleh': 'NA',\n",
        "  'Sayed Mohamed Abdallah': 'NA',\n",
        "  'Yahya Omar Hamza': 'NA'},\n",
        " 2839: {'Abdel-Rahman Farah': 'NA',\n",
        "  'Hamad Omar Bagadi': 'NA',\n",
        "  'Mahdi': 'NA',\n",
        "  'Sadiq al Mahdi': 'NA'},\n",
        " 2840: {'Ahmed Abdalla Akood': 'NA', 'Ahmed Adballa Akood': 'NA'},\n",
        " 2841: {'Abd al-Kafi': 'NA',\n",
        "  'Abualabbas Dai al-Naim': 'NA',\n",
        "  'Adil Ibrahim Karrar': 'NA',\n",
        "  'Ismail Azhari Ali Mohamed Ali': 'NA',\n",
        "  'Khalid al-Mahi': 'NA',\n",
        "  'Muataz Hasaan': 'NA'},\n",
        " 2842: {'Rehab Abdel Bagi Mohamed Ali': 'NA'},\n",
        " 2843: {'Mudawi Ibrahim Adam': 'NA', 'Salah Mohamed Abdelrahman': 'NA'},\n",
        " 2844: {'Al Fasher': 'NA',\n",
        "  'Isa Ali Hassaballah': 'NA',\n",
        "  'Suleiman Jamous': 'NA'},\n",
        " 2845: {'Abderahman Abu': 'NA',\n",
        "  'Ahmad Tijani Taher': 'NA',\n",
        "  'Al-Fatih Omar al-Sayed': 'NA',\n",
        "  'Al-Sheikh Kennish': 'NA',\n",
        "  'Hassan Shahata': 'NA',\n",
        "  'Limov Gordon': 'NA',\n",
        "  'Maamun Mohamed Hussein': 'NA',\n",
        "  'Mohamed Abdelgadir Hilal': 'NA',\n",
        "  'Mohamed Saleh': 'NA',\n",
        "  'Sayed Mohamed Abdallah': 'NA',\n",
        "  'Yahya Omar Hamza': 'NA'},\n",
        " 2846: {'Arkangelo Yugu': 'NA',\n",
        "  'David Kenyi': 'NA',\n",
        "  'David Tombe': 'NA',\n",
        "  'James Duling': 'NA',\n",
        "  'Joseph Ladu': 'NA',\n",
        "  'Juma Mohamed': 'NA',\n",
        "  'Kennedy Khamis': 'NA',\n",
        "  'Mark Taban': 'NA',\n",
        "  'Mustafa Abdel Gadir': 'NA',\n",
        "  'Pitia Kenyi': 'NA',\n",
        "  'Sarafino Pitya': 'NA',\n",
        "  'Simon Jada': 'NA',\n",
        "  'Taban Elisa': 'NA'},\n",
        " 2847: {'Abdel-Rahman Farah': 'NA',\n",
        "  'Hamad Omar Bagadi': 'NA',\n",
        "  'Sadiq al Mahdi': 'NA'},\n",
        " 2848: {'Al-Shafi': 'NA',\n",
        "  'Hashem al-Tayeb Yusuf': 'NA',\n",
        "  'Lenin al-Tayeb Yusuf': 'NA',\n",
        "  'Yusuf': 'NA'},\n",
        " 2850: {'Abderahman Abu': 'NA',\n",
        "  'Ahmed Tijani Taher': 'NA',\n",
        "  'Al-Fatih Omar al-Sayed': 'NA',\n",
        "  'Al-Sheikh Kennish': 'NA',\n",
        "  'Hassan Shahata': 'NA',\n",
        "  'Limov Gordon': 'NA',\n",
        "  'Maamun Mohamed Hussein': 'NA',\n",
        "  'Mohamed Abdelgadir Hilal': 'NA',\n",
        "  'Mohamed Saleh': 'NA',\n",
        "  'Sayed Mohamed Abdallah': 'NA',\n",
        "  'Yahya Omar Hamza': 'NA'},\n",
        " 2851: {'Abdallah Yussuf': 'NA',\n",
        "  'Abu Bakr Saif Eddine': 'NA',\n",
        "  'Abu al-Bashar Yussuf': 'NA',\n",
        "  'Adbelaziz Abdelkabir': 'NA',\n",
        "  'Baku Ibrahim': 'NA',\n",
        "  'Eddine Saleh': 'NA',\n",
        "  'Idris Habib': 'NA',\n",
        "  'Mohamed Abdelrassul': 'NA'},\n",
        " 2852: {'Magdi Mohamedani': 'NA',\n",
        "  'Mokhtar Fadul': 'NA',\n",
        "  'Omar Mohamed Mokhtar': 'NA',\n",
        "  'Salah Mohamed Idris': 'NA',\n",
        "  'Shehab Ahmad Gaafar': 'NA'},\n",
        " 2853: {'Adel Nasir Ahmad Faraj': 'NA'},\n",
        " 2854: {'Adam Abaker Ali': 'NA',\n",
        "  'Al-Taher Ahmad Hamdan': 'NA',\n",
        "  'Mohammad Omer Suliman Ahmad': 'NA'},\n",
        " 2855: {'Ali Bashir Mariud': 'NA'},\n",
        " 2856: {'Mohamed Diya Eddine': 'NA',\n",
        "  'Omar Muhajir Muhammadine': 'NA',\n",
        "  'Sadiq al-Shami': 'NA',\n",
        "  'Shams Eddine': 'NA'},\n",
        " 2857: {'Aboudwan Talle': 'NA',\n",
        "  'Andrew Tombe': 'NA',\n",
        "  'Arkangelo Yugu': 'NA',\n",
        "  'Charles Majok': 'NA',\n",
        "  'Cornelio Longoya': 'NA',\n",
        "  'David Kenyi': 'NA',\n",
        "  'David Tombe': 'NA',\n",
        "  'Faustino Modi': 'NA',\n",
        "  'James Duling': 'NA',\n",
        "  'Joseph Ladu': 'NA',\n",
        "  'Juma Mohamed': 'NA',\n",
        "  'Katir James': 'NA',\n",
        "  'Kennedy Khamis': 'NA',\n",
        "  'Luis Gore': 'NA',\n",
        "  'Marcello Lado': 'NA',\n",
        "  'Mark Laboke Jenner': 'NA',\n",
        "  'Mark Taban': 'NA',\n",
        "  'Mustafa Abdel': 'NA',\n",
        "  'Mustafa Abdel Gadir': 'NA',\n",
        "  'Oliver Mori': 'NA',\n",
        "  'Paulino Gamut': 'NA',\n",
        "  'Pitia Kenyi': 'NA',\n",
        "  'Sarafino Pitya': 'NA',\n",
        "  'Simon Jada': 'NA',\n",
        "  'Stephen Daniel': 'NA',\n",
        "  'Taban Elisa': 'NA',\n",
        "  'Tony Ilario': 'NA'},\n",
        " 2858: {'Abdalla Ali Masar': 'NA',\n",
        "  'Abdel Latif Abdel Rahim': 'NA',\n",
        "  'Abdel Rahman Ishaq': 'NA',\n",
        "  'Abdel Rahman Yousif': 'NA',\n",
        "  'Adam Ibrahim Khalil': 'NA',\n",
        "  'Adam Mohammed Ahmed': 'NA',\n",
        "  'Atim Mohammed Salama': 'NA',\n",
        "  'Ibrahim Mohammed Abbo': 'NA'},\n",
        " 2859: {'Abdel Azim Daw': 'NA',\n",
        "  'Abdel Rhaman': 'NA',\n",
        "  'Ahraf Alhilo': 'NA',\n",
        "  'Al Hassan Sharoofa': 'NA',\n",
        "  'Al Noor': 'NA',\n",
        "  'Asha Sharoofa': 'NA',\n",
        "  'El Tayeb': 'NA',\n",
        "  'Hana Mohamed Ali': 'NA',\n",
        "  'Hassan Harri': 'NA',\n",
        "  'Huda': 'NA',\n",
        "  'Intisar Abdel Rahman Fadl': 'NA',\n",
        "  'Mawahib Ali': 'NA',\n",
        "  'Mohamed Al Hassan Rahma': 'NA',\n",
        "  'Mohammed Ahmed Khalid': 'NA',\n",
        "  'Tagelsir': 'NA'},\n",
        " 2860: {'Ismail Abdallah Musa': 'NA', 'Suleiman Ahmed Hussein': 'NA'},\n",
        " 2861: {'Magdi Mahgub': 'NA', 'Sayed Ahmed Ali Gaballa': 'NA'},\n",
        " 2862: {'Adel Khalafallah': 'NA',\n",
        "  'Ahmed Abdel Nabi': 'NA',\n",
        "  'Al-Fatah al-Mardi': 'NA',\n",
        "  'Al-Tijani Hussein': 'NA',\n",
        "  'Babiker Moussa': 'NA',\n",
        "  'Ibrahim Mohamed Saleh': 'NA',\n",
        "  'Majdi Abdel Majid': 'NA',\n",
        "  'Mohamed Ali Daoud': 'NA',\n",
        "  'Mohamed Diya Eddine': 'NA',\n",
        "  'Mohamed Haji': 'NA',\n",
        "  'Mohamed Hamad': 'NA',\n",
        "  'Mohamed Hassan Khalid': 'NA',\n",
        "  'Mohamed Hassan Pasha': 'NA',\n",
        "  'Muttaleb Mohamed Osmane': 'NA',\n",
        "  'Omar Muhajir Muhammadine': 'NA',\n",
        "  'Sadiq al-Shami': 'NA',\n",
        "  'Salah Mukhtar al-Khatib': 'NA',\n",
        "  'Shams Eddine Abdallah Khalil': 'NA',\n",
        "  'Yahya Mohamed al-Hussein': 'NA'},\n",
        " 2863: {'Zo al-Noon al-Tigani': 'NA', 'al-Bashir Rahama Obeid': 'NA'},\n",
        " 2864: {'Angelo': 'NA',\n",
        "  'Idris Shameila': 'NA',\n",
        "  'Khamis Farajallah Kortel': 'NA',\n",
        "  'Mohamed Hamad Kowa': 'NA',\n",
        "  'Mustafa Angelo': 'NA'},\n",
        " 2865: {'Bushra Abdel Karim': 'NA',\n",
        "  'Mohamed Ali al-Said': 'NA',\n",
        "  'Mohamed Ali al-Sayid': 'NA',\n",
        "  'Mustapha Abdel Gadir': 'NA'},\n",
        " 2867: {'Abdel Rahman Ahmad': 'NA',\n",
        "  'Abdel Shafi Issa Mustapha': 'NA',\n",
        "  'Abubaker Hamed Nur': 'NA',\n",
        "  'Bashir Bushara': 'NA',\n",
        "  'Hashem al-Tayeb': 'NA',\n",
        "  'Ibrahim Mohammad Hassan': 'NA',\n",
        "  'Mohammad Bashir Ahmed': 'NA',\n",
        "  'Mohammad Hashem Abdel Rahman': 'NA',\n",
        "  'Yusuf Mohammad Faleh': 'NA'},\n",
        " 2868: {'Ali Ahmed Daoud': 'NA', 'Ali Hussain Dossa': 'NA'},\n",
        " 2869: {'Abdel Aatti Abdel Khair': 'NA',\n",
        "  'Abdel Rahman Zaidan': 'NA',\n",
        "  'Ahmed Abdel Fatah Gabriel': 'NA',\n",
        "  'Haitham Aldusogi': 'NA',\n",
        "  'Hassan Sidiq Atolabi': 'NA',\n",
        "  'Osman Al Magdum': 'NA'},\n",
        " 2870: {'Ahmed Isameldin': 'NA',\n",
        "  'Amnuel Abeigel': 'NA',\n",
        "  'Mao Rominio': 'NA',\n",
        "  'Yaser Mohamed El Hassan Osman': 'NA'},\n",
        " 2871: {'Al Hassan': 'NA',\n",
        "  'Asha Sharoofa': 'NA',\n",
        "  'Ashraf Alhillo': 'NA',\n",
        "  'Hasana Abkr Gamoos': 'NA',\n",
        "  'Hassan Harri': 'NA',\n",
        "  'Muna Hassan': 'NA',\n",
        "  'Safa Abdalla Yousif': 'NA',\n",
        "  'Wafa Abdalla Yousif': 'NA'},\n",
        " 2872: {'Abualgasim Farahana': 'NA',\n",
        "  'Abuobaida Awad': 'NA',\n",
        "  'Alam Eldin Abdelgaum': 'NA',\n",
        "  'Alfatih Abdallah': 'NA',\n",
        "  'Ghazafi Adulmotalib': 'NA',\n",
        "  'Imad Mirghani Sid Ahmed': 'NA',\n",
        "  'Mohamed Jalal Ahmed Hashim': 'NA',\n",
        "  'Raafat Hassan Abbas': 'NA'},\n",
        " 2873: {'Abderassul al-Nur': 'NA',\n",
        "  'Abderrahamane': 'NA',\n",
        "  'Abderrahamane Al-Sayed': 'NA',\n",
        "  'Abderrahamane Sadiq al-Mahdi': 'NA',\n",
        "  'Bakir Adel': 'NA',\n",
        "  'Fadel': 'NA',\n",
        "  'Fadlalla Burma Nassir': 'NA',\n",
        "  'Fawzi Ahmed': 'NA',\n",
        "  'Hamid Mohamed Ali al-Tom': 'NA',\n",
        "  'Jamal al-Taieb': 'NA',\n",
        "  'Mahdi Babu Nimir': 'NA',\n",
        "  'Osman Adbulmutaleb': 'NA'},\n",
        " 2874: {'Bakok Galuak Paguir': 'NA',\n",
        "  'Cuang Deng': 'NA',\n",
        "  'David Koak Goak': 'NA',\n",
        "  'Farouq Abdalla Gatkuoth': 'NA',\n",
        "  'Gabriel Deng Wuol': 'NA',\n",
        "  'Jacob Duong Wuon': 'NA',\n",
        "  'Jimma Bileu Kung': 'NA',\n",
        "  'John Dak': 'NA',\n",
        "  'John Gilla Lul': 'NA',\n",
        "  'Kueth Kang Deng': 'NA',\n",
        "  'Lazarus Lai Puol': 'NA',\n",
        "  'Lulut Kok Deng': 'NA',\n",
        "  'Martin Nyang Kic': 'NA',\n",
        "  'Nasir': 'NA',\n",
        "  'Paul Kuting Gil': 'NA',\n",
        "  'Peter Lai Nyibek': 'NA',\n",
        "  'Peter Pal Poc Mar': 'NA',\n",
        "  'Pol Bec': 'NA',\n",
        "  'Simon Tut Yat': 'NA',\n",
        "  'Waragak Galuak Paguir': 'NA'},\n",
        " 2875: {'Abd al-Rahman Ali al-Bashir': 'NA',\n",
        "  'Abdel Bagi Mandela': 'NA',\n",
        "  'Adlan Ahmad Abdelazi': 'NA',\n",
        "  'Adlan Ahmad Abdelaziz': 'NA',\n",
        "  'Awad Bashir': 'NA',\n",
        "  'Ibrahim Fateh al-Rahman': 'NA',\n",
        "  'Lenin al-Tayib': 'NA',\n",
        "  'Mohaid Mohamed Ahmad Siddiq': 'NA',\n",
        "  'Mohamed al-Mustapha': 'NA',\n",
        "  'Mohamed al-Sadiq': 'NA',\n",
        "  'Muataz Abdallah': 'NA',\n",
        "  'Muhi al-Din al-Galad': 'NA',\n",
        "  'Tariq Yousif': 'NA',\n",
        "  'Usama Siddiq Yousif': 'NA',\n",
        "  'Yasir Mohamed Ali': 'NA'},\n",
        " 2876: {'Al-Shafi': 'NA', 'Lenin al-Tayeb Yusuf': 'NA', 'Yusuf': 'NA'},\n",
        " 2877: {'Hassan Haroun Adam': 'NA', 'Hassan Haroun Adam Sudan': 'NA'},\n",
        " 2878: {'Arturt Kerkawi Qarib': 'NA',\n",
        "  'Hamed Suleiman': 'NA',\n",
        "  'Mahammed Fadilallah Othman': 'NA'},\n",
        " 2879: {'Nadia Said': 'NA',\n",
        "  'Saaida Abdulla Khalil': 'NA',\n",
        "  'Salma Abdulla Khalil': 'NA'},\n",
        " 2880: {'Mamoun Elyas Mohammed Ahmed': 'NA'},\n",
        " 2881: {'Abd al-Aziz': 'NA',\n",
        "  'Abd al-Fattah Sami Ahmad': 'NA',\n",
        "  'Adam': 'NA',\n",
        "  'Issam': 'NA',\n",
        "  'Mohamed Abdel Karim': 'NA',\n",
        "  'Mohamed Abdul Karim': 'NA',\n",
        "  'Omar Hassan Ahmad al-Bashir': 'NA'},\n",
        " 2883: {'Ansar': 'NA', 'Ansar Sunna': 'NA'},\n",
        " 2884: {'Abdallah Meshawi': 'NA',\n",
        "  'Hassab al-Rasoul': 'NA',\n",
        "  'Kamal al-Gizhouli': 'NA',\n",
        "  'Kamal al-Gizouli': 'NA',\n",
        "  'Siddiq Yousif': 'NA'},\n",
        " 2888: {'Abdallah Abdelgaum': 'NA',\n",
        "  'Abdelhalim Abdulghani': 'NA',\n",
        "  'Abdulaziz Mohamed Ali Khairi': 'NA',\n",
        "  'Abualgasim Farahana': 'NA',\n",
        "  'Abuobaida Awad': 'NA',\n",
        "  'Alfatih Abdallah': 'NA',\n",
        "  'Ghazafi Abdulmotalib': 'NA',\n",
        "  'Osman Shama': 'NA',\n",
        "  'Saad Mohamed Ahmed': 'NA'},\n",
        " 2889: {'Alfred Taban': 'NA'},\n",
        " 2890: {'Abdin Miheisi': 'NA',\n",
        "  'Al-Haj Mekki Medani': 'NA',\n",
        "  'Amin Mekki Medani': 'NA',\n",
        "  'Amir al-Tilib': 'NA',\n",
        "  'Gaafar Mohamed Ahmed': 'NA',\n",
        "  'Hisham El Kareb': 'NA',\n",
        "  'Kamal Ahmad Saleh': 'NA',\n",
        "  'Kamal Mekki Medani': 'NA',\n",
        "  'Mamoun Mekki Medani': 'NA',\n",
        "  'Medani': 'NA',\n",
        "  'Mohamad al-Amin Gaith': 'NA',\n",
        "  'Salah Disougi': 'NA'},\n",
        " 2892: {'Abul Gassim': 'NA', 'Issam Abul Gassim': 'NA'},\n",
        " 2893: {'Sadiq': 'NA', 'Sadiq al-Mahdi': 'NA', 'Sadiq-al-Mahdi': 'NA'},\n",
        " 2894: {'Lenin al-Tayeb Yusuf': 'NA'},\n",
        " 2896: {'Abdelaziz Mohamed Salmane': 'NA',\n",
        "  'Mohamed Omar al-Mirghani': 'NA',\n",
        "  'Mokhtar Abdallah': 'NA'},\n",
        " 2897: {'Hashem al-Tayeb Yusuf': 'NA',\n",
        "  'Khidder al-Tayeb Yusuf': 'NA',\n",
        "  'Yusuf': 'NA',\n",
        "  'al-Shafi': 'NA'},\n",
        " 2899: {'Abdul Gassim': 'NA', 'Abul Gassim': 'NA'},\n",
        " 2900: {'Ahmad Osman': 'NA',\n",
        "  'Ali al-Mahi al-Sakhi': 'NA',\n",
        "  'Atif Haroun': 'NA',\n",
        "  'Awad Gibreel': 'NA',\n",
        "  \"Kamal 'Abd al-Karim Mirghani\": 'NA',\n",
        "  'Mohamed Ibrahim Abdu': 'NA',\n",
        "  'Yahya Mukwar': 'NA'},\n",
        " 2901: {'Omer Farouk': 'NA'},\n",
        " 2902: {'Adib Abdel Rahman Yusuf': 'NA'},\n",
        " 2903: {'Alfred Taban': 'NA'},\n",
        " 2904: {'Abdin': 'NA',\n",
        "  'Abdin Miheisi': 'NA',\n",
        "  'Al-Haj Mekki Medani': 'NA',\n",
        "  'Amir al-Tilib': 'NA',\n",
        "  'Gaafar Mohamed Ahmed': 'NA',\n",
        "  'Hisham al-Kareb': 'NA',\n",
        "  'Kamal Ahmad Saleh': 'NA',\n",
        "  'Kamal Mekki Medani': 'NA',\n",
        "  'Mamoun Mekki Medani': 'NA',\n",
        "  'Mohamad al-Amin Gaith': 'NA',\n",
        "  'Salah Disougi': 'NA'},\n",
        " 2905: {'Abdel-Rahman Farah': 'NA',\n",
        "  'Hamad Omar Bagadi': 'NA',\n",
        "  'Sadiq al Mahdi': 'NA'},\n",
        " 2907: {'Abdallah Abdelgaum': 'NA',\n",
        "  'Abdulaziz Mohamed Ali Khairi': 'NA',\n",
        "  'Alam Eldin Abdelghani': 'NA',\n",
        "  'Imad Mirghani Sid Ahmed': 'NA',\n",
        "  'Mohamed Jalal Ahmed Hashim': 'NA',\n",
        "  'Mujahed Mohamed Abdallah': 'NA',\n",
        "  'Osman Ibrahim': 'NA',\n",
        "  'Osman Shamat': 'NA',\n",
        "  'Raafat Hassan Abbas': 'NA',\n",
        "  'Saad Mohamed Ahmed': 'NA'},\n",
        " 2908: {'Abdallah Barakat': 'NA', 'Ansar': 'NA', 'Sid Ahmad al-Hussein': 'NA'},\n",
        " 2909: {'Islam Salih Adam Belo': 'NA'},\n",
        " 2910: {'Fawaz Salah Al-Sayed': 'NA',\n",
        "  'Mohamed Al-Hajj': 'NA',\n",
        "  'Tariq Ahmed Gasim': 'NA',\n",
        "  'Yusuf Hussein': 'NA'},\n",
        " 2911: {'Osman Omar al-Sharif': 'NA', 'Wad Medani': 'NA'},\n",
        " 2912: {'Fawaz Salah Al-Sayed': 'NA',\n",
        "  'Mohamed Al-Hajj': 'NA',\n",
        "  'Tariq Ahmed Gasim': 'NA',\n",
        "  'Yusuf Hussein': 'NA'},\n",
        " 2913: {'Abdel-Rahim Mohamed Salih': 'NA'},\n",
        " 2914: {'Osman Omar': 'NA', 'Osman Omar al-Sharif': 'NA'},\n",
        " 2916: {'Adam Belo': 'NA',\n",
        "  'Islam Salih Adam Belo': 'NA',\n",
        "  'Salih Adam Belo': 'NA'},\n",
        " 2917: {'Eliaba James Surur': 'NA',\n",
        "  'Peter Cirrilo': 'NA',\n",
        "  'Samuel Arrew Boll': 'NA'},\n",
        " 2918: {'Abd al-Rahman Suleiman': 'NA',\n",
        "  'Abdel Rasoul al-Nur Ismael': 'NA',\n",
        "  'Ahmad Abdel Raouf Karmallah': 'NA',\n",
        "  'Atalla Ali Karmallah': 'NA',\n",
        "  'Fadlalla BurmaNnasir': 'NA',\n",
        "  'Gaafar Yassin Ahmad Abdullah': 'NA',\n",
        "  'Haidar al-Tigani': 'NA',\n",
        "  'Kamal al-Din Omar Ahmad Dafallah': 'NA',\n",
        "  'Mirghani': 'NA',\n",
        "  'Mohamed Abdel': 'NA',\n",
        "  'Mohamed Hassan Osman al-Zubeir': 'NA',\n",
        "  'Mohamed Osman': 'NA',\n",
        "  'Mubarek Ahmad Abdalla Gadeen': 'NA',\n",
        "  'Mustafa Ahmad al-Hassan al-Tilib': 'NA',\n",
        "  'Osman': 'NA',\n",
        "  'Osman Mahmud Ali Juma': 'NA',\n",
        "  'Osman Mustapha Mahjoub': 'NA',\n",
        "  'Yasir Abu Zeid Ahmad Abu Zeid': 'NA',\n",
        "  'al-Hassan Ahmad Salih Mohamed': 'NA'},\n",
        " 2919: {'Elhadi Tangur': 'NA'},\n",
        " 2920: {'Abdallah Taha': 'NA',\n",
        "  'Mudawi Ibrahim Adam': 'NA',\n",
        "  'Yasir Salim': 'NA'},\n",
        " 2922: {'Abbas El Tigani': 'NA', 'Gamar Eldin Mohammed Eisa': 'NA'},\n",
        " 2923: {'Osman Adam Abdel Mawla': 'NA'},\n",
        " 2924: {'Mohamed Jalal Ahmed Hashim': 'NA'},\n",
        " 2927: {'Abdallah Taha': 'NA',\n",
        "  'Mudawi': 'NA',\n",
        "  'Mudawi Ibrahim': 'NA',\n",
        "  'Yasir Salim': 'NA'},\n",
        " 2929: {'Abkr Mohammed Abdo Shain': 'NA', 'Suleiman Mahmoud Nadi': 'NA'},\n",
        " 2930: {'Ahmad Abdel Hamid Mohamed Mustafa': 'NA',\n",
        "  'Ahmad Abdel Hamid Mohammad Mustafa': 'NA'},\n",
        " 2931: {'Mudawi Ibrahim Adam': 'NA'},\n",
        " 2932: {'Ismail Adam Omar': 'NA',\n",
        "  'Janjawid': 'NA',\n",
        "  'Mohamed Adam Ali': 'NA',\n",
        "  'Saraf Osman Ibrahim': 'NA',\n",
        "  'Yasir Jabir Juma': 'NA'},\n",
        " 2933: {'Abdel Shafi Issa Mustapha': 'NA'},\n",
        " 2934: {'Mohamed Jalal Ahmed Hashim': 'NA'},\n",
        " 2935: {'Abu Nigel El Amin': 'NA',\n",
        "  'Juma Mahamoud': 'NA',\n",
        "  'Juma Omar El-Nur': 'NA',\n",
        "  'Ramadan Ismail': 'NA'},\n",
        " 2936: {'Abdallah Yusuf Mohammed Abdallah': 'NA',\n",
        "  'Abdel Karim Araka Tibin': 'NA',\n",
        "  'Abdel Mannan Abdel Mawla': 'NA',\n",
        "  'Adam Abaker Hamed': 'NA',\n",
        "  'Al-Fadel Adam Mohammed Nurain': 'NA',\n",
        "  'Al-Fadi Tambour': 'NA',\n",
        "  'Al-Tayib Mohammed Daf': 'NA',\n",
        "  'Ali Mansour Hasaballah': 'NA',\n",
        "  'Alyan Ali Mohammed': 'NA',\n",
        "  'Harun Idris Hassan': 'NA',\n",
        "  'Ibrahim Musa Ahmed': 'NA',\n",
        "  'Mohammed Abdel Karim Abdallah': 'NA',\n",
        "  'Mohammed Al-Hafez Ali': 'NA'},\n",
        " 2937: {'Abbas El Tigani': 'NA', 'Gamar Eldin Mohammed Eisa': 'NA'},\n",
        " 2938: {'Abdel Jalil al-Basha': 'NA',\n",
        "  'Ahmad Salman': 'NA',\n",
        "  'Kabbashi Khater Mohammed Ahmad': 'NA',\n",
        "  'Tawer Osman Tawer': 'NA',\n",
        "  'Yaqoub Yahya': 'NA'},\n",
        " 2939: {'Abader Adam Bakheet': 'NA',\n",
        "  'Abaker Ahrran': 'NA',\n",
        "  'Alhadi Abaker Hammad': 'NA',\n",
        "  'Easa Mohamed Adam': 'NA',\n",
        "  'Isaag Abaker': 'NA',\n",
        "  'Mohamed Abdel Rahman Ibraheam': 'NA',\n",
        "  'Mohamed Abdella Yahya': 'NA',\n",
        "  'Saead Abdella Abaker': 'NA',\n",
        "  'Tibin Abdel Rahman Isaag': 'NA'},\n",
        " 2941: {'Al-Khatib Mohammed Salem': 'NA',\n",
        "  'Farouq Nouri': 'NA',\n",
        "  'Hisham Abbas': 'NA',\n",
        "  'Isam Mohammed Faqir': 'NA',\n",
        "  'Maysara Izzeddin Mohammed Mansur': 'NA',\n",
        "  'Nayef Mohammed Hamed': 'NA',\n",
        "  'Nazmi Mohammed Hamed': 'NA'},\n",
        " 2942: {'Ghazi Suleiman': 'NA'},\n",
        " 2943: {'Hassaballah Hassab al-Nabi Issa': 'NA',\n",
        "  'Ibrahim Mohammed Jadallah': 'NA',\n",
        "  'Isam Mohammed Yusuf': 'NA',\n",
        "  'Jalal Shaib': 'NA',\n",
        "  'Mohammed Al-Jazuli Adam': 'NA',\n",
        "  'Mustafa Abdallah': 'NA',\n",
        "  'Yassin Yusuf Abdallah': 'NA'},\n",
        " 2944: {'Al-Khatib Mohammed Salem': 'NA',\n",
        "  'Farouq Nouri': 'NA',\n",
        "  'Hisham Abbas': 'NA',\n",
        "  'Isam Mohammed Faqir': 'NA',\n",
        "  'Maysara Izzeddin Mohammed Mansur': 'NA',\n",
        "  'Nayef Mohammed Hamed': 'NA',\n",
        "  'Nazmi Mohammed Hamed': 'NA'},\n",
        " 2945: {'Ashraf Alhillo': 'NA', 'Hassan Harri': 'NA'},\n",
        " 2946: {'Abulgasim Ahmed Abulgasim': 'NA', 'Zakaria Ahmed Abulgasim': 'NA'},\n",
        " 2949: {'El Fadil Adam Mohammed Ahmed Noorein': 'NA',\n",
        "  'Fadil Adam Mohammed Ahmed Noorein': 'NA'},\n",
        " 2950: {'Osman Adam Abdel Mawla': 'NA'},\n",
        " 2951: {'Juma Omar El-Nur': 'NA'},\n",
        " 2952: {'Abdallah Daw Al-Bait Ahmed': 'NA', 'Soba Aradi': 'NA'},\n",
        " 2953: {'Ghazi Suleiman': 'NA'},\n",
        " 2954: {'Abdallah Daw Al-Bait Ahmed': 'NA',\n",
        "  'Hanan Mahmoud Gazira': 'NA',\n",
        "  'Mahmoud Gazira': 'NA'},\n",
        " 2955: {'Abu Obeida Abdallah': 'NA'},\n",
        " 2956: {'Mohamed Hajana': 'NA',\n",
        "  'Osman Ibrahim': 'NA',\n",
        "  'Pakinam Saad Eddin': 'NA',\n",
        "  'Zahir Mohamed Musa': 'NA'},\n",
        " 2957: {'Juma Omar El-Nur': 'NA'},\n",
        " 2958: {'Ibrahim Birzi': 'NA', 'Mohamed Ismail': 'NA'},\n",
        " 2959: {'Bahar El Din Shibou': 'NA', 'Hamid Adam Hassan Abdelrahman': 'NA'},\n",
        " 2960: {'Abaker Mohamed Yusif': 'NA',\n",
        "  'Abdelmajid Ali Abdelmajid': 'NA',\n",
        "  'Ahmed Ishaq Mohamed Sika': 'NA',\n",
        "  'Ali Mohamed Abdallah': 'NA',\n",
        "  'Badei Ibrahim Ali': 'NA',\n",
        "  'Hamdi Ishaq Mohamed Tuka': 'NA',\n",
        "  'Mansur Mohamed Abulgasim': 'NA',\n",
        "  'Mohamed Adam': 'NA',\n",
        "  'Mohamed Ahmed Abu Zeid': 'NA',\n",
        "  'Mohamed Ahmed Mohamed': 'NA',\n",
        "  'Mohamed Bahr': 'NA',\n",
        "  'Mubarak Ibrahim Yahya': 'NA',\n",
        "  'Omer Abdelmajid': 'NA',\n",
        "  'Sissi Atim Mohamed Salama': 'NA',\n",
        "  'Zakaria Mohamed Adam Mohamed': 'NA'},\n",
        " 2961: {'Abdel Hay Omar': 'NA',\n",
        "  'Abdel Magid Ali Abdel Magid': 'NA',\n",
        "  'Adam Ibrahim': 'NA',\n",
        "  'Al-Tayeb Abdel Aziz': 'NA',\n",
        "  'Hassan Adam Fadel': 'NA',\n",
        "  'Ishaq Mohammed Sanousi': 'NA',\n",
        "  'Jamaleddin Isa': 'NA',\n",
        "  'Mohammed Birgid': 'NA',\n",
        "  'Mohammed Taha': 'NA',\n",
        "  'Mustafa Adam': 'NA',\n",
        "  'Sabir Hassan': 'NA'},\n",
        " 2962: {'Adam Abdel Hamid Adam': 'NA', 'Adam Abdel Hamid Adam Sudan': 'NA'},\n",
        " 2963: {'Bahr al-Din Abdullah Rifah': 'NA',\n",
        "  'Nureddin Mohammad Abdel Rahim': 'NA'},\n",
        " 2964: {'Mahmoud Osman Ibrahim': 'NA'},\n",
        " 2967: {'Abu Obeida Abdallah': 'NA'},\n",
        " 2968: {'Adel Abdallah Nasr al-Din': 'NA'},\n",
        " 2969: {'Abdel Jalil al-Basha': 'NA',\n",
        "  'Ahmad Salman': 'NA',\n",
        "  'Kabbashi Khater Mohammed Ahmad': 'NA',\n",
        "  'Tawer Osman Tawer': 'NA',\n",
        "  'Yaqoub Yahya': 'NA'},\n",
        " 2970: {'Abdelaziz Abdalla Abdel Mahmoud': 'NA',\n",
        "  'Abu Gasim Musa Eltahir': 'NA',\n",
        "  'Adam Hamid': 'NA',\n",
        "  'Ahmed Dut Hamid': 'NA',\n",
        "  'Al Haj Al Nour': 'NA',\n",
        "  'Mohamed Issa El Haj': 'NA',\n",
        "  'Mohamed Omer Ibrahim': 'NA',\n",
        "  'Mohammed Mohammed Tahir': 'NA',\n",
        "  'Musa Daoud': 'NA',\n",
        "  'Suleiman Tahir Abdalla': 'NA',\n",
        "  'Suleiman Tahir Abdallaare': 'NA'},\n",
        " 2971: {'Elhadi Tangur': 'NA'},\n",
        " 2972: {'Adel Abdallah Nasr al-Din': 'NA'},\n",
        " 2973: {'Mudawi Ibrahim Adam': 'NA', 'Salah Mohamed Abdelrahman': 'NA'},\n",
        " 2974: {'Salah Mohamed Abdelrahman': 'NA'},\n",
        " 2975: {'Abdul Majid Mosa Hassan': 'NA', 'Majid Mosa Hassan': 'NA'},\n",
        " 2976: {'Goz Banat': 'NA', 'Jebel Moon': 'NA', 'Sawani': 'NA'},\n",
        " 2977: {'Hamdi Sebit': 'NA',\n",
        "  'Michael Kustober': 'NA',\n",
        "  'Mohammed Ibrahim': 'NA'},\n",
        " 2978: {'Mohamed Ahmed Abd Al-Gadir': 'NA',\n",
        "  'Mohamed Ahmed Abd Al-Gadir Al-Arbab': 'NA'},\n",
        " 2979: {'Abdel Aziz Abdul Kader': 'NA',\n",
        "  'Adam Dau': 'NA',\n",
        "  'Adam Hussain Mohammed Fadil': 'NA',\n",
        "  'Adam Saleh': 'NA',\n",
        "  'Ahmed Abdul Rahman': 'NA',\n",
        "  'Al-Haj Tirab Mahmoud': 'NA',\n",
        "  'Ali Musa Bakara': 'NA',\n",
        "  'Mahdi Yaqub': 'NA',\n",
        "  'Mohamed Osman Al-Basha': 'NA',\n",
        "  'Musa Mohammed': 'NA'},\n",
        " 2981: {'Abdallah Suleiman Hamed': 'NA',\n",
        "  'Adam Daf': 'NA',\n",
        "  'Aqib Hamed': 'NA',\n",
        "  'Bakhit Hamed': 'NA',\n",
        "  'Ibrahim Hamed': 'NA',\n",
        "  'Idris Hussein Zaghawa': 'NA',\n",
        "  'Qadir': 'NA'},\n",
        " 2985: {'Mohamed Hajana': 'NA',\n",
        "  'Osman Ibrahim': 'NA',\n",
        "  'Pakinam Saad Eddin': 'NA',\n",
        "  'Zahir Mohamed Musa': 'NA'},\n",
        " 2986: {'Saleh Mahmud Osman': 'NA'},\n",
        " 2987: {'Abdel Aziz Abdul Kader': 'NA',\n",
        "  'Abdul Aziz Ahmed Musa': 'NA',\n",
        "  'Adam Dau': 'NA',\n",
        "  'Adam Hussain Mohammed Fadil': 'NA',\n",
        "  'Adam Mohamed': 'NA',\n",
        "  'Adam Saleh': 'NA',\n",
        "  'Ahmed Abdul Rahman': 'NA',\n",
        "  'Al-Haj Tirab Mahmoud': 'NA',\n",
        "  'Ali Musa Bakara': 'NA',\n",
        "  'Mahdi Yaqub': 'NA',\n",
        "  'Mohamed Osman Al-Basha': 'NA',\n",
        "  'Musa Mohammed': 'NA'},\n",
        " 2988: {'Abdallah Suleiman Hamed al-Thayer': 'NA',\n",
        "  'Adam Daf': 'NA',\n",
        "  'Aqib Hamed': 'NA',\n",
        "  'Bakhit Hamed': 'NA',\n",
        "  'Bakhit Ibrahim': 'NA',\n",
        "  'Bashir Digin Abdallah': 'NA',\n",
        "  'Ibrahim Hamed': 'NA',\n",
        "  'Idris Hussein': 'NA'},\n",
        " 2989: {'Mohamed Hassan Hamdan': 'NA'},\n",
        " 2991: {'Abazar Ahmed Abu Al-Bashir': 'NA', 'Buthayna Mohamed Ahmed': 'NA'},\n",
        " 2996: {'Adam Abaker Ali': 'NA', 'Mohammad Omer Suliman Ahmad': 'NA'},\n",
        " 2998: {'Abaqer Adam Mohamed': 'NA', 'Abdul Aziz Ahmed Musa': 'NA'},\n",
        " 2999: {'Mudawi Ibrahim Adam': 'NA', 'Mudawi Ibrahim Adam Sudan': 'NA'},\n",
        " 3000: {'Intisar Bakri Abdulgader': 'NA'},\n",
        " 3001: {'Abdallah Bashir': 'NA'},\n",
        " 3002: {'Intisar Bakri Abdulgader': 'NA'},\n",
        " 3003: {'Islam Salih Adam Belo': 'NA', 'Salih Adam Belo': 'NA'},\n",
        " 3005: {'Saleh Mahmud Osman': 'NA'},\n",
        " 3007: {'Adib Abdel Rahman Yusuf': 'NA'},\n",
        " 3009: {'Abazar Ahmed Abu Al-Bashir': 'NA', 'Buthayna Mohamed Ahmed': 'NA'},\n",
        " 3012: {'Janjawid': 'NA'},\n",
        " 3013: {'Marla': 'NA'},\n",
        " 3015: {'Simon Sishayi Nxumalo': 'NA'},\n",
        " 3016: {'Bernard Rennie': 'NA'},\n",
        " 3017: {'Boy Magagulu': 'NA',\n",
        "  'Dlamini': 'NA',\n",
        "  'Kuseni Dlamini': 'NA',\n",
        "  'Mandla Hlatshwayo': 'NA',\n",
        "  'Mario Masuku': 'NA',\n",
        "  'Maxwell Lukhele': 'NA',\n",
        "  'Mphandlane Shongwe': 'NA',\n",
        "  'Ray Russon': 'NA',\n",
        "  'Sabelo Dlamini': 'NA',\n",
        "  'Zodwa Mkhonta': 'NA',\n",
        "  'dominic Mngomezulu': 'NA'},\n",
        " 3018: {'Boy Magagulu': 'NA',\n",
        "  'Dominic Mngomezulu': 'NA',\n",
        "  'Ray Russon': 'NA',\n",
        "  'Sabelo Dlamini': 'NA'},\n",
        " 3019: {'Andreas Lukhele': 'NA',\n",
        "  'Joseph Silindza': 'NA',\n",
        "  'Mphandlana Shongwe': 'NA',\n",
        "  'Msongelwa Lukhele': 'NA',\n",
        "  'Thandeka Nxumalo': 'NA',\n",
        "  'Wiseman Mabuza': 'NA',\n",
        "  'Zake Ginindza': 'NA'},\n",
        " 3020: {'Jan Sithole': 'NA'},\n",
        " 3021: {'Jabulani Nxumalo': 'NA',\n",
        "  'Jan Sithole': 'NA',\n",
        "  'Richard Nxumalo': 'NA',\n",
        "  'Simon Noge': 'NA',\n",
        "  'Themba Msibi': 'NA'},\n",
        " 3022: {'Jan Sithole': 'NA', 'Mario Masuku': 'NA', 'Musa Dlamini': 'NA'},\n",
        " 3023: {'Bernard Rennie': 'NA'},\n",
        " 3024: {'Boy Magagulu': 'NA',\n",
        "  'Dominic Mngomezulu': 'NA',\n",
        "  'Mphandlana Shongwe': 'NA',\n",
        "  'Ray Russon': 'NA',\n",
        "  'Sabelo Dlamini': 'NA'},\n",
        " 3025: {'Andreas Lukhele': 'NA',\n",
        "  'Joseph Silindza': 'NA',\n",
        "  'Mphandlana Shongwe': 'NA',\n",
        "  'Msongelwa Lukhele': 'NA',\n",
        "  'Thandeka Nxumalo': 'NA',\n",
        "  'Wiseman Mabuza': 'NA',\n",
        "  'Zake Ginindza': 'NA'},\n",
        " 3026: {'Jabulani Nxumalo': 'NA',\n",
        "  'Jan Sithole': 'NA',\n",
        "  'Richard Nxumalo': 'NA',\n",
        "  'Simon Noge': 'NA',\n",
        "  'Themba Msibi': 'NA'},\n",
        " 3027: {'Boy Magagulu': 'NA',\n",
        "  'Dlamini': 'NA',\n",
        "  'Dominic Mngomezulu': 'NA',\n",
        "  'Kuseni Dlamini': 'NA',\n",
        "  'Mandla Hlatshwayo': 'NA',\n",
        "  'Mario Masuku': 'NA',\n",
        "  'Mphandlane Shongwe': 'NA',\n",
        "  'Ray Russon': 'NA',\n",
        "  'Sabelo Dlamini': 'NA',\n",
        "  'Zodwa Mkhonta': 'NA'},\n",
        " 3028: {'Boy Magagula': 'NA',\n",
        "  'Dominic Mngomezulu': 'NA',\n",
        "  'Ray Russon': 'NA',\n",
        "  'Sabelo Dlamini': 'NA'},\n",
        " 3029: {'Andreas Lukhele': 'NA',\n",
        "  'Joseph Silindza': 'NA',\n",
        "  'Mphandlana Shongwe': 'NA',\n",
        "  'Mphandlana Songwe': 'NA',\n",
        "  'Msongelwa Lukhele': 'NA',\n",
        "  'Thandeka Nxumalo': 'NA',\n",
        "  'Wiseman Mabuza': 'NA',\n",
        "  'Zake Ginindza': 'NA'},\n",
        " 3030: {'Jabulani Nxumalo': 'NA',\n",
        "  'Jan Sithole': 'NA',\n",
        "  'Joseph Gumedze': 'NA',\n",
        "  'Richard Nxumalo': 'NA',\n",
        "  'Themba Msibi': 'NA'},\n",
        " 3032: {'Boy Magagulu': 'NA',\n",
        "  'Dlamini': 'NA',\n",
        "  'Dominic Mngomezulu': 'NA',\n",
        "  'Kuseni Dlamini': 'NA',\n",
        "  'Mandla Hlatshwayo': 'NA',\n",
        "  'Mario Masuku': 'NA',\n",
        "  'Maxwell Lukhele': 'NA',\n",
        "  'Ray Russon': 'NA',\n",
        "  'Sabelo Dlamini': 'NA',\n",
        "  'Zodwa Mkhonta': 'NA'},\n",
        " 3033: {'Boy magagula': 'NA',\n",
        "  'Dominic Mngomezulu': 'NA',\n",
        "  'Ray Russon': 'NA',\n",
        "  'Sabelo Dlamini': 'NA'},\n",
        " 3035: {'Boy Magagulu': 'NA',\n",
        "  'Dominic Mngomezulu': 'NA',\n",
        "  'Mphandlane Shongwe': 'NA',\n",
        "  'Ray Russon': 'NA',\n",
        "  'Sabelo Dlamini': 'NA'},\n",
        " 3037: {'Boy Magagulu': 'NA',\n",
        "  'Dominic Mngomezulu': 'NA',\n",
        "  'Mphandlane Shongwe': 'NA',\n",
        "  'Ray Russon': 'NA',\n",
        "  'Sabelo Dlamini': 'NA'},\n",
        " 3038: {'Boy Magagulu': 'NA',\n",
        "  'Dominic Mngomezulu': 'NA',\n",
        "  'Mphandlana Shongwe': 'NA',\n",
        "  'Ray Russon': 'NA',\n",
        "  'Sabelo Dlamini': 'NA'},\n",
        " 3044: {'James Mapalala': 'NA', 'Mwinyijuma Othmani Upindo': 'NA'},\n",
        " 3047: {'Ali Nassor': 'NA',\n",
        "  'Juma Ngwali': 'NA',\n",
        "  'Massoud Ali': 'NA',\n",
        "  'Mkubwa Makame': 'NA',\n",
        "  'Nassor Seif': 'NA',\n",
        "  'Omar Msellem': 'NA',\n",
        "  'Othman Makame': 'NA',\n",
        "  'Said Abdulla': 'NA',\n",
        "  'Soud Mohammed Nuhu': 'NA'},\n",
        " 3048: {'Dominic Nshimanyi': 'NA',\n",
        "  'Elias Mwaluko': 'NA',\n",
        "  'Hamadi Kamfitiye': 'NA',\n",
        "  'Iddi Koch Sasha': 'NA',\n",
        "  'Juma Athman': 'NA',\n",
        "  'Kisage Kamfitiye': 'NA',\n",
        "  'Lazaro Lukilangarom': 'NA'},\n",
        " 3050: {'Katembo Amri Kisasa': 'NA', 'Sanganira Lugi': 'NA'},\n",
        " 3052: {'Ali Saleh': 'NA'},\n",
        " 3053: {'Musa Membar': 'NA'},\n",
        " 3054: {'Ali Nassor': 'NA',\n",
        "  'Juma Ngwali': 'NA',\n",
        "  'Massoud Ali': 'NA',\n",
        "  'Mkubwa Makame': 'NA',\n",
        "  'Nassor Seif': 'NA',\n",
        "  'Omar Msellem': 'NA',\n",
        "  'Othman Makame': 'NA',\n",
        "  'Said Abdulla': 'NA',\n",
        "  'Soud Mohammed Nuhu': 'NA'},\n",
        " 3055: {'Ali Saleh': 'NA'},\n",
        " 3056: {'Juma Ngwali': 'NA',\n",
        "  'Juma Othman': 'NA',\n",
        "  'Khatib Hassan': 'NA',\n",
        "  'Maulid Makame': 'NA',\n",
        "  'Mohamed Juma Khatib': 'NA',\n",
        "  'Mussa Haji Kombo': 'NA',\n",
        "  'Nassor Suleiman': 'NA',\n",
        "  'Salim Yusuf Mohamed': 'NA',\n",
        "  'Seif Sharif Hamad': 'NA',\n",
        "  'Shaban Mloo': 'NA'},\n",
        " 3057: {'Ahmed Seif': 'NA',\n",
        "  'Hamad Masaud Hamad': 'NA',\n",
        "  'Juma Othman Juma': 'NA',\n",
        "  'Maulid Makame Abdallah': 'NA',\n",
        "  'Mohammed Ali Yussuf': 'NA'},\n",
        " 3059: {'Haji Ali Pandu': 'NA',\n",
        "  'Maghano Khamis': 'NA',\n",
        "  'Mkuba Makame': 'NA',\n",
        "  'Shaban Mloo': 'NA',\n",
        "  'Soud Mgeni': 'NA'},\n",
        " 3062: {'Juma Ngwali': 'NA',\n",
        "  'Juma Othman': 'NA',\n",
        "  'Khatib Hassan': 'NA',\n",
        "  'Maulid Makame': 'NA',\n",
        "  'Mohamed Juma Khatib': 'NA',\n",
        "  'Mussa Haji Kombo': 'NA',\n",
        "  'Nassor Suleiman': 'NA',\n",
        "  'Salim Yusuf Mohamed': 'NA',\n",
        "  'Seif Sharif Hamad': 'NA',\n",
        "  'Shaban Mloo': 'NA'},\n",
        " 3063: {'Abdallah Khamis': 'NA'},\n",
        " 3064: {'James': 'NA'},\n",
        " 3066: {'Remi Gahutu': 'NA'},\n",
        " 3067: {'Juma Duni Haji': 'NA', 'Machano Khamis Ali': 'NA'},\n",
        " 3068: {'Ali Haji Pandu': 'NA',\n",
        "  'Juma Osman Juma': 'NA',\n",
        "  'Machano Khamis': 'NA',\n",
        "  'Shaban Mloo': 'NA',\n",
        "  'Soud Yusuf Mgeni': 'NA'},\n",
        " 3069: {'Hamid Juma Haji': 'NA',\n",
        "  'Hamid Msahadi': 'NA',\n",
        "  'Juma Ngwali': 'NA',\n",
        "  'Mkubwa Makame': 'NA',\n",
        "  'Said Salum Said': 'NA',\n",
        "  'Salim Hamad Ndevu': 'NA',\n",
        "  'Seif Mattar': 'NA'},\n",
        " 3071: {'Ahmed Seif': 'NA',\n",
        "  'Juma Duni Haji': 'NA',\n",
        "  'Machano Khamis Ali': 'NA',\n",
        "  'Suleiman Seif': 'NA'},\n",
        " 3072: {'Abdullah Hamadi': 'NA',\n",
        "  'Ali Nassour Mohamed': 'NA',\n",
        "  'Hemed Abdullah Hemed': 'NA',\n",
        "  'Hussein Mbarouk': 'NA',\n",
        "  'Khamis Rashid': 'NA',\n",
        "  'Omar Msellem': 'NA',\n",
        "  'Omari Ali Omari': 'NA',\n",
        "  'Suleiman Nassour': 'NA'},\n",
        " 3075: {'Amegan Djika': 'NA',\n",
        "  'Amoussou': 'NA',\n",
        "  'Batchassi': 'NA',\n",
        "  'Kisse Anani': 'NA',\n",
        "  'Saliou': 'NA',\n",
        "  'Yaya': 'NA'},\n",
        " 3076: {'Alexandre Adecambi': 'NA',\n",
        "  'Claude Amouzou': 'NA',\n",
        "  'Epiphane Kavegue': 'NA',\n",
        "  'Lambert Koffi': 'NA',\n",
        "  'Pierre Bak': 'NA',\n",
        "  'Pierre Bakela': 'NA',\n",
        "  'Tchao Kodjo Ange Maboudou': 'NA',\n",
        "  'Wilson Adje': 'NA'},\n",
        " 3077: {'Marc Palanga': 'NA'},\n",
        " 3078: {'Marcel Gokou': 'NA', 'Milehoho Akoko': 'NA'},\n",
        " 3079: {'Abentey': 'NA',\n",
        "  'Adeoyor Arioundele': 'NA',\n",
        "  'Akuele Doumassi': 'NA',\n",
        "  'Claude Senah': 'NA',\n",
        "  'Dick': 'NA',\n",
        "  'Donne Lawson': 'NA',\n",
        "  'Esther Kassekpo': 'NA',\n",
        "  'Fataou Djibril': 'NA',\n",
        "  'Koffi Dolou': 'NA',\n",
        "  'Kokou Blitti': 'NA',\n",
        "  'Kokou Guy Tokpli Tete': 'NA',\n",
        "  'Komlan Olivier Dansou': 'NA',\n",
        "  'Kossi Akakpo': 'NA'},\n",
        " 3080: {'Alexandre Adecambi': 'NA',\n",
        "  'Claude Amouzou': 'NA',\n",
        "  'Epiphane Kavegue': 'NA',\n",
        "  'Lambert Koffi': 'NA',\n",
        "  'Pierre Bakela': 'NA',\n",
        "  'Tchao Kodjo Ange Maboudou': 'NA',\n",
        "  'Wilson Adje': 'NA'},\n",
        " 3081: {'Kara Gendarmerie': 'NA',\n",
        "  'Marc Palanga': 'NA',\n",
        "  'Mazama Katassa': 'NA'},\n",
        " 3084: {'Marc Palanga': 'NA'},\n",
        " 3087: {'Affo Ati Issaka': 'NA',\n",
        "  'Affo Bozinanbo': 'NA',\n",
        "  'Agbali Kodjo': 'NA',\n",
        "  'Amezian Mensah': 'NA',\n",
        "  'Batchassi': 'NA',\n",
        "  'Eugene Koffi Tepe': 'NA',\n",
        "  'Koffi Tepe': 'NA',\n",
        "  'Lawson': 'NA',\n",
        "  'Mayanbo': 'NA',\n",
        "  'Paul Tepe': 'NA',\n",
        "  'Robert Tepe': 'NA',\n",
        "  'Yaya Seibou': 'NA',\n",
        "  'Yeto Kougblenou': 'NA'},\n",
        " 3088: {'David Bruce': 'NA'},\n",
        " 3089: {'Anna': 'NA',\n",
        "  'Anna Brice': 'NA',\n",
        "  'Gayibor Fran\\xc3\\xa7ois': 'NA',\n",
        "  'Sant': 'NA',\n",
        "  'Tengue Nestor': 'NA'},\n",
        " 3090: {'Joseph Kokou Koffigoh': 'NA'},\n",
        " 3091: {'Joseph Kokou Koffigoh': 'NA'},\n",
        " 3092: {'Tavio Amorin': 'NA'},\n",
        " 3093: {'Agbeve Toyo': 'NA',\n",
        "  'Ahamadou Boukari': 'NA',\n",
        "  'Alphonse Adjeovi': 'NA',\n",
        "  'Antoine Aboudou': 'NA',\n",
        "  'Ekue Koulepato': 'NA',\n",
        "  'Eyadema': 'NA',\n",
        "  'Jean Lawson': 'NA',\n",
        "  'Jules Gagli': 'NA',\n",
        "  'Kodzo Akakpo': 'NA',\n",
        "  'Koffi Agbali': 'NA',\n",
        "  'Kokou Gakoto': 'NA',\n",
        "  'Kossi Amedegounou': 'NA',\n",
        "  'Kossi Assignon': 'NA',\n",
        "  'Kossi Fiagnon': 'NA',\n",
        "  'Koudjo Atsu': 'NA',\n",
        "  'Kuegan Yao Agbagnon': 'NA',\n",
        "  'Latevi Prosper Lawson': 'NA',\n",
        "  'Rosali Gagli': 'NA',\n",
        "  'Sevi Sadi': 'NA',\n",
        "  'Sossouvi Afatchawo': 'NA',\n",
        "  'Tchasse Koumi Koffi Toyo': 'NA',\n",
        "  'Tevi Jacob Lawson': 'NA'},\n",
        " 3094: {'Lom': 'NA', 'Nadjombe Antoine Koffi': 'NA'},\n",
        " 3096: {'Esso Charles Pello': 'NA', 'Pello': 'NA'},\n",
        " 3097: {'Esso Charles Pello': 'NA', 'Pello': 'NA'},\n",
        " 3098: {'Dimas Dzikodo': 'NA', 'Philipe Evegno': 'NA'},\n",
        " 3099: {'Ars\\xc3\\xa8ne Bolouvi': 'NA', 'Benjamin Adjoh': 'NA'},\n",
        " 3100: {'Anani Akakpo': 'NA',\n",
        "  'Daniel Olando': 'NA',\n",
        "  'Emmanuel Akakpo': 'NA',\n",
        "  'Gnato Toyi': 'NA',\n",
        "  'Kassegne Assogba': 'NA',\n",
        "  'Kokou Sossou': 'NA',\n",
        "  'Koudjo Senade': 'NA',\n",
        "  'Lasso': 'NA',\n",
        "  'Maurice Nawondje': 'NA',\n",
        "  'Nougloze Yovo': 'NA',\n",
        "  'Sylvain': 'NA',\n",
        "  'Toussaint Agnankra': 'NA'},\n",
        " 3101: {'Anani Akakpo': 'NA',\n",
        "  'Kassegne Assogba': 'NA',\n",
        "  'Kodjo Fiagbe Mensah': 'NA',\n",
        "  'Kokou Okessou Mbooura': 'NA',\n",
        "  'Maurice Naoudje': 'NA'},\n",
        " 3102: {'Ameen Ayodele': 'NA'},\n",
        " 3103: {'Attiogbe Stephane Koudoussou': 'NA', 'Gerard Akoume': 'NA'},\n",
        " 3104: {'Nadjombe Antoine Koffi': 'NA'},\n",
        " 3105: {'Anna Brice': 'NA',\n",
        "  'Gayibor Fran\\xc3\\xa7ois': 'NA',\n",
        "  'Sant': 'NA',\n",
        "  'Tengue Nestor': 'NA'},\n",
        " 3106: {'Adjoh Benjamin': 'NA', 'Bolouvi Ars\\xc3\\xa8ne': 'NA'},\n",
        " 3107: {'Houndjo Mawudzro': 'NA'},\n",
        " 3108: {'Houndjo Mawudzro': 'NA'},\n",
        " 3111: {'Chedli Ben Hamadi Ben Ouanes El Ouertani': 'NA'},\n",
        " 3113: {'Habib Achour': 'NA'},\n",
        " 3119: {'Rachid Ghannouchi': 'NA'},\n",
        " 3121: {'Abdallah Ben Mohamed Ben Lakhdar Huwaidri': 'NA'},\n",
        " 3124: {'Khemais Chamari': 'NA'},\n",
        " 3126: {'Khemais Chamari': 'NA'},\n",
        " 3127: {'Khemais Chamari': 'NA'},\n",
        " 3130: {'Abdel Majid': 'NA'},\n",
        " 3132: {'Abdel Majid Bin Tarshoon': 'NA'},\n",
        " 3148: {'Lance Sera-Muwanga': 'NA'},\n",
        " 3149: {'Hussein Abdi Hassan': 'NA'},\n",
        " 3150: {'Dominic Oboth': 'NA', 'Salim Mulumba': 'NA', 'Sulema Ndamagye': 'NA'},\n",
        " 3151: {'Nathanael Nsengiyumva': 'NA'},\n",
        " 3152: {'Dan Mugarura': 'NA', 'Pascal Gakyaro': 'NA'},\n",
        " 3153: {'Joel Lubangakene': 'NA', 'Lubangakene': 'NA'},\n",
        " 3154: {'Steven Bukusuba': 'NA'},\n",
        " 3156: {'Hussein Abdi Hassan': 'NA'},\n",
        " 3157: {'Abdalla Nabudere': 'NA',\n",
        "  'Abdalla Nasuru': 'NA',\n",
        "  'Abdu Mukasa': 'NA',\n",
        "  'Angilo Balikenda': 'NA',\n",
        "  'Badru Babalanda': 'NA',\n",
        "  'Badru Walakira': 'NA',\n",
        "  'Benegedo Luzwala': 'NA',\n",
        "  'Chris Rwakasisi': 'NA',\n",
        "  'Christopher Katama': 'NA',\n",
        "  'Christopher Sentamu': 'NA',\n",
        "  'Cypriano Wasswa': 'NA',\n",
        "  'Dominiko Oboth': 'NA',\n",
        "  'Edward Mpagi': 'NA',\n",
        "  'Elias Wanyama': 'NA',\n",
        "  'Emmanuel Kasujja': 'NA',\n",
        "  'Faustino Kyobwenge': 'NA',\n",
        "  'Francis Senoga': 'NA',\n",
        "  'Frank Byaruhanga': 'NA',\n",
        "  'Fred Tindikura': 'NA',\n",
        "  'Haji Mohammed Birikade': 'NA',\n",
        "  'Haji Musa Ssebirumbi': 'NA',\n",
        "  'Herbert Kasolo': 'NA',\n",
        "  'Ibrahim Bilal': 'NA',\n",
        "  'Ibrahim Mugisha': 'NA',\n",
        "  'Isaya Bikumu': 'NA',\n",
        "  'Joseph Kizza': 'NA',\n",
        "  'Joseph Muganga': 'NA',\n",
        "  'Kabeka Basweri': 'NA',\n",
        "  'Karisiti Sebugwawo': 'NA',\n",
        "  'Kelly Omuge': 'NA',\n",
        "  'Mubere': 'NA',\n",
        "  'Omar Bongo': 'NA',\n",
        "  'Paul Kayondo': 'NA',\n",
        "  'Paul Matovu': 'NA',\n",
        "  'Paul Musisi': 'NA',\n",
        "  'Peter Ndagonzerwa': 'NA',\n",
        "  'Peter Osungei': 'NA',\n",
        "  'Robert Sabiti': 'NA',\n",
        "  'Sajabbi Siraisi': 'NA',\n",
        "  'Salim Ikuluba': 'NA',\n",
        "  'Salimu Mulumba': 'NA',\n",
        "  'Silver Ongom': 'NA',\n",
        "  'Simba Ogwang': 'NA',\n",
        "  'Stephen Misango': 'NA',\n",
        "  'Suleiman Ndabage': 'NA',\n",
        "  'Suleiman Ojasi': 'NA',\n",
        "  'Yafasi Kamala': 'NA',\n",
        "  'Yairo Mugisha': 'NA',\n",
        "  'Yoana Serukuma': 'NA'},\n",
        " 3159: {'Dan Mugarura': 'NA', 'Pascal Gakyaro': 'NA'},\n",
        " 3162: {'Klongi Tisiyano': 'NA'},\n",
        " 3163: {'Blasio Olanga': 'NA',\n",
        "  'Gabriel Oboya': 'NA',\n",
        "  'Gabriel Oriem': 'NA',\n",
        "  'Jeremiah Moro': 'NA',\n",
        "  'Kezeroni Acok': 'NA'},\n",
        " 3164: {'Abduwel Abdullah Amin': 'NA',\n",
        "  'Ali Mahmood': 'NA',\n",
        "  'Asuman Mahmood': 'NA',\n",
        "  'Hassan': 'NA',\n",
        "  'Hassan Noor': 'NA',\n",
        "  'Hussein Abdul Mumir': 'NA',\n",
        "  'Mohamed Gulam Kabba': 'NA',\n",
        "  'Mohamed Rashid Asuman': 'NA',\n",
        "  'Muhammed Diriya': 'NA',\n",
        "  'Omar Ahmed Mandela': 'NA',\n",
        "  'Salah': 'NA'},\n",
        " 3165: {'Adolphe Dusabe': 'NA'},\n",
        " 3166: {'Bikay Kusimuweri': 'NA',\n",
        "  'Fabrice Buregeya': 'NA',\n",
        "  'Ngunda Bawula': 'NA',\n",
        "  'Patrick Kabula': 'NA',\n",
        "  'Titi Masudi': 'NA'},\n",
        " 3170: {'Luka Labeja': 'NA',\n",
        "  'Mr Apota': 'NA',\n",
        "  'Mr Oneka': 'NA',\n",
        "  'Olwog': 'NA'},\n",
        " 3171: {'Abdul Khadir': 'NA',\n",
        "  'Abduwel Abdullah Amin': 'NA',\n",
        "  'Ali Mahmood': 'NA',\n",
        "  'Asuman Mahmood': 'NA',\n",
        "  'Hajji Ali': 'NA',\n",
        "  'Hassan': 'NA',\n",
        "  'Hassan Noor': 'NA',\n",
        "  'Hussein Abdul Mumir': 'NA',\n",
        "  'Mohamed Gulam Kabba': 'NA',\n",
        "  'Mohamed Rashid Asuman': 'NA',\n",
        "  'Muhammed Diriya': 'NA',\n",
        "  'Omar Ahmed Mandela': 'NA',\n",
        "  'Salah': 'NA',\n",
        "  'Sharif': 'NA'},\n",
        " 3172: {'Peter Oloya': 'NA'},\n",
        " 3173: {'Bikay Kusimuweri': 'NA',\n",
        "  'Emmanuel Tumukende': 'NA',\n",
        "  'Fabrice Buregeya': 'NA',\n",
        "  'Patrick Kabula': 'NA'},\n",
        " 3175: {'Blasio Olanga': 'NA',\n",
        "  'Gabriel Oboya': 'NA',\n",
        "  'Gabriel Oriem': 'NA',\n",
        "  'Jeremiah Moro': 'NA',\n",
        "  'Kezeroni Acok': 'NA'},\n",
        " 3176: {'Alex Otim': 'NA', 'Joseph Odong': 'NA', 'Peter Oloya': 'NA'},\n",
        " 3178: {'Badru Babalanda': 'NA',\n",
        "  'Christopher Sentamu': 'NA',\n",
        "  'Joseph Kizza': 'NA',\n",
        "  'Karisiti Sebugawao': 'NA',\n",
        "  'Kelly Omuge': 'NA',\n",
        "  'Paul Musisi': 'NA',\n",
        "  'Sajabbi Siraisi': 'NA',\n",
        "  'Salim Ikuluba': 'NA'},\n",
        " 3180: {'Tadeo Omal': 'NA', 'Tiberio Atwoma Okeny': 'NA', 'Yovan Ojok': 'NA'},\n",
        " 3184: {'Irene Apiu Laju': 'NA',\n",
        "  'Michael Alip Atepu': 'NA',\n",
        "  'Okodi Levi': 'NA',\n",
        "  'Omara Atubo': 'NA',\n",
        "  'Zachary Olum': 'NA'},\n",
        " 3185: {'Pasca Okello': 'NA'},\n",
        " 3186: {'Ochieng': 'NA', 'Santo Alero': 'NA'},\n",
        " 3188: {'Irene Apiu Laju': 'NA',\n",
        "  'Michael Alip Atepu': 'NA',\n",
        "  'Okodi Levi': 'NA',\n",
        "  'Omara Atubo': 'NA',\n",
        "  'Zachary Olum': 'NA'},\n",
        " 3190: {'Alfred Ebong': 'NA',\n",
        "  'Denis Coto': 'NA',\n",
        "  'Emmanuel Abak': 'NA',\n",
        "  'Geoffrey Ebong': 'NA',\n",
        "  'Geoffrey Oyuru': 'NA',\n",
        "  'Joshua Ocen': 'NA',\n",
        "  'Patrick Opono': 'NA',\n",
        "  'Tom Ekwang': 'NA'},\n",
        " 3192: {'Andrew Adimola': 'NA',\n",
        "  'Hannington Opira': 'NA',\n",
        "  'Jacob Okello Orach': 'NA',\n",
        "  'James Olobo': 'NA',\n",
        "  'John Ocira': 'NA',\n",
        "  'Maurice Lagolo': 'NA',\n",
        "  'Ojara Penyamoi': 'NA',\n",
        "  'Okello Aldo': 'NA',\n",
        "  'Philip Odwong': 'NA'},\n",
        " 3194: {'Abel Olero': 'NA',\n",
        "  'Levi Odongo': 'NA',\n",
        "  'Max Opii': 'NA',\n",
        "  'Peter Ekusai': 'NA'},\n",
        " 3195: {'Tadeo': 'NA',\n",
        "  'Tadeo Omal': 'NA',\n",
        "  'Tiberio Atwoma Okeny': 'NA',\n",
        "  'Yovan Ojok': 'NA'},\n",
        " 3196: {'Amisi Katarikawe': 'NA',\n",
        "  'Bashir Kanunyuzi': 'NA',\n",
        "  'Benson Komakech': 'NA',\n",
        "  'Celestino Olango': 'NA',\n",
        "  'Dauson John Bageya': 'NA',\n",
        "  'Emmanuel Kasujja': 'NA',\n",
        "  'Erizefani Kasakya': 'NA',\n",
        "  'Galasino Kinto': 'NA',\n",
        "  'Haji Musa Ssebirumbi': 'NA',\n",
        "  'James Kinyingi Muwanga': 'NA',\n",
        "  'Jeflin Lubega': 'NA',\n",
        "  'John Bosco Kiwanuka': 'NA',\n",
        "  'John Fisher Iga': 'NA',\n",
        "  'Joseph Andabati': 'NA',\n",
        "  'Justus Robert Bashekana': 'NA',\n",
        "  'Leo Mwebaze': 'NA',\n",
        "  'Leo Nyendwoha': 'NA',\n",
        "  'Lwanga Kimbugwe Kaloli': 'NA',\n",
        "  'Medadi Tindawesire': 'NA',\n",
        "  'Richard Odongpiny-Omal': 'NA',\n",
        "  'Silver Tugugu': 'NA',\n",
        "  'Sisto Obwoma': 'NA',\n",
        "  'Sowedi Kanunyuzi': 'NA',\n",
        "  'Stephen Sunday': 'NA',\n",
        "  'William Bataringaya': 'NA',\n",
        "  'William Gurikacha': 'NA',\n",
        "  'Yefusa Khamali': 'NA'},\n",
        " 3198: {'Abel Olero': 'NA',\n",
        "  'Levi Odongo': 'NA',\n",
        "  'Max Opii': 'NA',\n",
        "  'Peter EKusai': 'NA'},\n",
        " 3199: {'Irene Apiu Julu': 'NA', 'Omara Atubo': 'NA', 'Zachary Olum': 'NA'},\n",
        " 3201: {'Emmanuel Kasujja': 'NA',\n",
        "  'Haji Musa Ssebirumbi': 'NA',\n",
        "  'Yefusa Khamali': 'NA'},\n",
        " 3202: {'Amisi Katarikawe': 'NA',\n",
        "  'Bashir Kanunyuzi': 'NA',\n",
        "  'Benson Komakech': 'NA',\n",
        "  'Celestino Olango': 'NA',\n",
        "  'Dauson John Bageya': 'NA',\n",
        "  'Emmanuel Kasujja': 'NA',\n",
        "  'Erizefani Kasakya': 'NA',\n",
        "  'Galasino Kinto': 'NA',\n",
        "  'Haji Musa Ssebirumbi': 'NA',\n",
        "  'James Kinyingi Muwanga': 'NA',\n",
        "  'Jeflin Lubega': 'NA',\n",
        "  'John Bosco Kiwanuka': 'NA',\n",
        "  'John Fisher Iga': 'NA',\n",
        "  'Joseph Andabati': 'NA',\n",
        "  'Justus Robert Bashekana': 'NA',\n",
        "  'Leo Mwebaze': 'NA',\n",
        "  'Leo Nyendwoha': 'NA',\n",
        "  'Lwanga Kimbugwe Kaloli': 'NA',\n",
        "  'Medadi Tindawesire': 'NA',\n",
        "  'Richard Odongpiny-Omal': 'NA',\n",
        "  'Ronald': 'NA',\n",
        "  'Ronald Owino': 'NA',\n",
        "  'Silver Tugugu': 'NA',\n",
        "  'Sisto Obwoma': 'NA',\n",
        "  'Sowedi Kanunyuzi': 'NA',\n",
        "  'Stephen Sunday': 'NA',\n",
        "  'William Bataringaya': 'NA',\n",
        "  'William Gurikacha': 'NA',\n",
        "  'Yefusa Khamali': 'NA'},\n",
        " 3204: {'Jean-Francois David': 'NA'},\n",
        " 3206: {'Jean-Francois David': 'NA', 'Jean-Francois David Uganda': 'NA'},\n",
        " 3209: {'Abdalla Nebudere': 'NA',\n",
        "  'Abdallah Nassur': 'NA',\n",
        "  'Abdu Mukasa': 'NA',\n",
        "  'Aloysius Ndibowa': 'NA',\n",
        "  'Badru Babalanda': 'NA',\n",
        "  'Badru Walakira': 'NA',\n",
        "  'Dominiko Oboth': 'NA',\n",
        "  'Edward Mpagi': 'NA',\n",
        "  'Frank Byaruhanga': 'NA',\n",
        "  'Fred Tindikira': 'NA',\n",
        "  'Haji Mohamed Birikadde': 'NA',\n",
        "  'Herbert Kasolo': 'NA',\n",
        "  'Joseph Muganga': 'NA',\n",
        "  'Joseph Mukasa Mubiru': 'NA',\n",
        "  'Karisiti Sebugwawo': 'NA',\n",
        "  'Kelly Omuge': 'NA',\n",
        "  'Paulo Kayondo': 'NA',\n",
        "  'Paulo Matovu': 'NA',\n",
        "  'Paulo Musisi': 'NA',\n",
        "  'Peter Ndasonzerura': 'NA',\n",
        "  'Peter Osunge': 'NA',\n",
        "  'Peter Osungei': 'NA',\n",
        "  'Salim Ikuluba': 'NA',\n",
        "  'Salimu Mulumba': 'NA',\n",
        "  'Silver Ongom': 'NA',\n",
        "  'Simba Ogwang': 'NA',\n",
        "  'Suleiman Ojasi': 'NA'},\n",
        " 3225: {'Salif Kabore': 'NA', 'Soumane Toure': 'NA'},\n",
        " 3226: {'Diallo Firmin': 'NA'},\n",
        " 3227: {'Bassold Baliun': 'NA',\n",
        "  'Beba Gambila': 'NA',\n",
        "  'Dah Guiuorote': 'NA',\n",
        "  'Neya Zoumzaye': 'NA',\n",
        "  'Norgho Joseph': 'NA',\n",
        "  'Pare Drissa': 'NA',\n",
        "  'Songo Ousmane': 'NA'},\n",
        " 3228: {'Burkina': 'NA',\n",
        "  'Guillaume Sessouma': 'NA',\n",
        "  'Issouf Sawadogo': 'NA',\n",
        "  'Joseph Mock Sack': 'NA',\n",
        "  'Kouka Adama Ouedraogo': 'NA',\n",
        "  'Mohamed Salam': 'NA',\n",
        "  'Moumouni Traore': 'NA',\n",
        "  'Mousbila Sankara': 'NA',\n",
        "  'Passate Ouedraogo': 'NA',\n",
        "  'Raymond Train Poda': 'NA',\n",
        "  'Tibo Ouedraogo': 'NA'},\n",
        " 3229: {'Burkina Faso': 'NA',\n",
        "  'Moumouni Traore': 'NA',\n",
        "  'Raymond Train Poda': 'NA',\n",
        "  'Tibo Ouedraogo Burkina Faso': 'NA'},\n",
        " 3230: {'Blaise Sidiani': 'NA',\n",
        "  'Emile Zigani': 'NA',\n",
        "  'Emile Zigani Burkina Faso': 'NA'},\n",
        " 3231: {'B\\xc3\\xa9n\\xc3\\xa9wend\\xc3\\xa9 Sankara': 'NA',\n",
        "  'Etienne Traor': 'NA',\n",
        "  'Etienne Traor\\xc3\\xa9': 'NA',\n",
        "  'Halidou Ou\\xc3\\xa9draogo': 'NA',\n",
        "  'Norbert Tiendr_b_ogo': 'NA',\n",
        "  'Norbert Tiendr\\xc3\\xa9b\\xc3\\xa9ogo': 'NA',\n",
        "  'Pierre Bidima': 'NA',\n",
        "  'Sankara': 'NA',\n",
        "  'Tol\\xc3\\xa9 Sagnon': 'NA'},\n",
        " 3233: {'Soumane Toure': 'NA'},\n",
        " 3235: {'Boukary Dabo': 'NA',\n",
        "  'Burkina Faso': 'NA',\n",
        "  'Jean-Clement Bagre': 'NA',\n",
        "  'Sie Souleymane Coulibaly': 'NA'},\n",
        " 3236: {'Blaise Sidiani': 'NA',\n",
        "  'Boulgou': 'NA',\n",
        "  'Emile Zigani': 'NA',\n",
        "  'Emile Zigani Burkina Faso': 'NA'},\n",
        " 3241: {'Burkina Faso': 'NA',\n",
        "  'Guillaume Sessouma': 'NA',\n",
        "  'Issouf Sawadogo': 'NA',\n",
        "  'Joseph Mock Sack': 'NA',\n",
        "  'Karim Sankara': 'NA',\n",
        "  'Kouka Adama Ouedraogo': 'NA',\n",
        "  'Mohamed Salam': 'NA',\n",
        "  'Moumouni Traore': 'NA',\n",
        "  'Mousbila Sankara': 'NA',\n",
        "  'Moussa Kabore': 'NA',\n",
        "  'Passate Ouedraogo': 'NA',\n",
        "  'Raymond Train Poda': 'NA',\n",
        "  'Tibo Ouedraogo': 'NA'},\n",
        " 3243: {'Guy Yogo': 'NA', 'Moussa Michel Tapsoba': 'NA'},\n",
        " 3244: {'Burkina Faso': 'NA',\n",
        "  'Guillaume Sessouma': 'NA',\n",
        "  'Issouf Sawadogo': 'NA',\n",
        "  'Joseph Mock Sack': 'NA',\n",
        "  'Karim Sandara': 'NA',\n",
        "  'Kouka Adama Ouedraogo': 'NA',\n",
        "  'Mohamed Salam': 'NA',\n",
        "  'Moumouni Traore': 'NA',\n",
        "  'Mousbila Sankara': 'NA',\n",
        "  'Moussa Kabore': 'NA',\n",
        "  'Passate Ouedraogo': 'NA',\n",
        "  'Raymond Train Poda': 'NA',\n",
        "  'Tibo Ouedraogo': 'NA'},\n",
        " 3245: {'Christophe Dima': 'NA',\n",
        "  'Daouda Traore': 'NA',\n",
        "  'Guy Yogo': 'NA',\n",
        "  'Moussa Michel Tapsoba': 'NA',\n",
        "  'Sara Sereme': 'NA',\n",
        "  'Serge Tall': 'NA'},\n",
        " 3246: {'Burkina Faso': 'NA',\n",
        "  'Dabo Seni Konanda': 'NA',\n",
        "  'Jean-Clement Bagre': 'NA',\n",
        "  'Sie Souleymane Coulibaly': 'NA'},\n",
        " 3248: {'Soumane Toure': 'NA'},\n",
        " 3249: {'Burkina Faso': 'NA'},\n",
        " 3250: {'Burkina Faso': 'NA',\n",
        "  'Guillaume Sessouma': 'NA',\n",
        "  'Issouf Sawadogo': 'NA',\n",
        "  'Joseph Mock Sack': 'NA',\n",
        "  'Karim Sankara': 'NA',\n",
        "  'Kouka Adama Ouedraogo': 'NA',\n",
        "  'Mohamed Salam': 'NA',\n",
        "  'Moumouni Traore': 'NA',\n",
        "  'Mousbila Sandara': 'NA',\n",
        "  'Moussa Kabore': 'NA',\n",
        "  'Passate Ouedraogo': 'NA',\n",
        "  'Raymond Train Poda': 'NA',\n",
        "  'Tibo Ouedraogo': 'NA'},\n",
        " 3252: {'Burkina Faso': 'NA',\n",
        "  'Nana Koudbi Gnowende': 'NA',\n",
        "  'Pelegsonri Moumouni': 'NA',\n",
        "  'Sawadogo Salfo': 'NA',\n",
        "  'Soala Mathieu': 'NA',\n",
        "  'Tassembedo Albert': 'NA',\n",
        "  'Zare Zakaria': 'NA',\n",
        "  'Zombre Seydou': 'NA'},\n",
        " 3253: {'Burkina Faso': 'NA',\n",
        "  'Dabo': 'NA',\n",
        "  'Jean-Clement Bagre': 'NA',\n",
        "  'Seni Konanda': 'NA',\n",
        "  'Sie Souleymane Coulibaly': 'NA'},\n",
        " 3254: {'Soumane Toure': 'NA'},\n",
        " 3255: {'Christophe Dima': 'NA',\n",
        "  'Daouda Traore': 'NA',\n",
        "  'Germain Bationo': 'NA',\n",
        "  'Guy Yogo': 'NA',\n",
        "  'Moussa Michel Tapsoba': 'NA',\n",
        "  'Sara Sereme': 'NA',\n",
        "  'Serge Tall': 'NA'},\n",
        " 3256: {'Burkina Faso': 'NA', 'Guillaume Sessouma': 'NA'},\n",
        " 3258: {'Christophe Dima': 'NA',\n",
        "  'Germain Bationo': 'NA',\n",
        "  'Guy Yogo': 'NA',\n",
        "  'Sara Sereme': 'NA',\n",
        "  'Serge Tall': 'NA'},\n",
        " 3260: {'Makanda Mpinga Shambuyi': 'NA'},\n",
        " 3261: {'Ilunga Crispin': 'NA',\n",
        "  'Kabongo Crispin': 'NA',\n",
        "  'Kamanda Ngandu': 'NA',\n",
        "  'Mbombo Albertine': 'NA',\n",
        "  'Mbuyi Emerance': 'NA',\n",
        "  'Milambo Jules': 'NA',\n",
        "  'Muntabo Jean': 'NA',\n",
        "  'Mutombo Jean': 'NA',\n",
        "  'Songo Makanda': 'NA',\n",
        "  'Tshimanga Pierre': 'NA',\n",
        "  'Tumba Kabedi': 'NA'},\n",
        " 3262: {'Ekongo Udimba Paul': 'NA',\n",
        "  'Loko': 'NA',\n",
        "  'Lumumba': 'NA',\n",
        "  'Lusamba Mubi-Malu': 'NA',\n",
        "  'Miseia Kabulu Christophe': 'NA',\n",
        "  'Mpasu Mabanza': 'NA',\n",
        "  'Ngandu': 'NA',\n",
        "  'Olongo Mamba Jean-Marie': 'NA',\n",
        "  'Otete Gaston': 'NA',\n",
        "  'Sapue Kumene': 'NA'},\n",
        " 3263: {'Mobutu': 'NA'},\n",
        " 3264: {'Nessy Ngungasa': 'NA', 'Nkass Mbimbi': 'NA', 'Yakobi': 'NA'},\n",
        " 3265: {'Bokumu': 'NA',\n",
        "  'Corporal Kikuna': 'NA',\n",
        "  'Corporal Ngoma': 'NA',\n",
        "  'Kange': 'NA',\n",
        "  'Malibizi': 'NA',\n",
        "  'Mboko': 'NA',\n",
        "  'Mosolo': 'NA',\n",
        "  'Mulelwa': 'NA',\n",
        "  'Second-Lieutenant Otongo': 'NA'},\n",
        " 3266: {'Roger Sala Nzo Badila': 'NA'},\n",
        " 3267: {'Louis Botimbili Kalome': 'NA', 'Louis Botombili Kalome': 'NA'},\n",
        " 3268: {'Jean-Marie Rusimbuku': 'NA',\n",
        "  'Jeanine Mukanirwa': 'NA',\n",
        "  'Ntabarusha Mungu': 'NA'},\n",
        " 3269: {'Mulumba': 'NA', 'Tshisekedi': 'NA'},\n",
        " 3270: {'Justin Kapitane Mwamba': 'NA',\n",
        "  'Pierre Lumbi Okongo': 'NA',\n",
        "  'Tshibanda Tshingambo': 'NA'},\n",
        " 3272: {'Lukulungu Martin': 'NA',\n",
        "  'Mbayi': 'NA',\n",
        "  'Mbuyi Kalombo': 'NA',\n",
        "  'Mukendi Placide': 'NA',\n",
        "  'Mukuna Georges Anderson': 'NA',\n",
        "  'Mutombo Anaclet': 'NA'},\n",
        " 3273: {'Bahati Basimolerwa': 'NA',\n",
        "  'Bonane': 'NA',\n",
        "  'Byamungu Kahima': 'NA',\n",
        "  'Kamulete Ngabo': 'NA',\n",
        "  'Luanda Kibaho': 'NA',\n",
        "  'Malira Kabuya': 'NA',\n",
        "  'Muhindo Mawazo': 'NA',\n",
        "  'Ndasimwa Malira': 'NA'},\n",
        " 3274: {'Eugene Diomi Ndongala Nzomambu': 'NA', 'Kokolo': 'NA'},\n",
        " 3275: {'Louis Botimbili Kalome': 'NA'},\n",
        " 3276: {'Aim\\xc3\\xa9e Ntabarusha Mungu': 'NA',\n",
        "  'Jean-Marie Rusimbuku': 'NA',\n",
        "  'Jeanine Mukanirwa': 'NA',\n",
        "  'Ntabarusha Mungu': 'NA'},\n",
        " 3277: {'Golden Misabiko': 'NA'},\n",
        " 3278: {'Floribert Chebeya Bahizire': 'NA'},\n",
        " 3279: {'Akuka Atangowena': 'NA'},\n",
        " 3280: {'Mulumba': 'NA', 'Tshisekedi': 'NA'},\n",
        " 3281: {'Ekesombo Helene': 'NA',\n",
        "  'Lokanu Ekonga Marie': 'NA',\n",
        "  'Tosomba Owale Henriette': 'NA'},\n",
        " 3283: {'Byamungu Kahima': 'NA',\n",
        "  'Malira Kabuya': 'NA',\n",
        "  'Ndasimwa Malira': 'NA'},\n",
        " 3284: {'Joseph Kanku Pinganay': 'NA'},\n",
        " 3285: {'Emmanuel Cole': 'NA',\n",
        "  'Ingele Ifoto': 'NA',\n",
        "  'Jean Marie Lukudji': 'NA',\n",
        "  'Justin Kapempe': 'NA',\n",
        "  'Mossi Mwassi': 'NA',\n",
        "  'Zahidi Arthur Ngoma': 'NA'},\n",
        " 3286: {'Bienvenu Kasole': 'NA', 'Christophe Bintu': 'NA'},\n",
        " 3287: {'Jeanine Mukanirwa': 'NA'},\n",
        " 3288: {'Andr\\xc3\\xa9': 'NA',\n",
        "  'Basisa Iyondo': 'NA',\n",
        "  'Bienvenu Tungu Mukumbu': 'NA',\n",
        "  'Bona Kongbo Nzingaba': 'NA',\n",
        "  'Charles F\\xc3\\xa9lix Kianza Bata': 'NA',\n",
        "  'Charles F\\xef\\xbf\\xbdlix Kianza Bata': 'NA',\n",
        "  'Claude Gayo Tenvo': 'NA',\n",
        "  'Gbala Kukambisa': 'NA',\n",
        "  'Jos\\xc3\\xa9 Lifumba Botumbele': 'NA',\n",
        "  'Jos\\xef\\xbf\\xbd Lifumba Botumbele': 'NA',\n",
        "  'Lusiladio Mavambu': 'NA',\n",
        "  'Marie-Th\\xc3\\xa9r\\xc3\\xa8se Nlandu': 'NA',\n",
        "  'Nlandu': 'NA',\n",
        "  'Ruffin Edjanga Fataki': 'NA'},\n",
        " 3290: {'Mulumba': 'NA', 'Tshisekedi': 'NA'},\n",
        " 3292: {'Fernand Tala-Ngai': 'NA'},\n",
        " 3293: {'Etienne Tshisekedi': 'NA', 'Mobutu': 'NA', 'Tshisekedi': 'NA'},\n",
        " 3294: {'Blaise Banzwa Kabo': 'NA',\n",
        "  'Gabriel Kamusoke': 'NA',\n",
        "  'Gabriel Kyamusoke': 'NA'},\n",
        " 3295: {'Adrien Phongo Kunda': 'NA',\n",
        "  'Bofassa Djema': 'NA',\n",
        "  'Cleophas Kamitatu Masamba': 'NA',\n",
        "  'Joseph Mukendi': 'NA',\n",
        "  'Kisimba Ngoy': 'NA',\n",
        "  'Mulumba': 'NA'},\n",
        " 3296: {'Anne-Marie Masumbuko Mwali': 'NA',\n",
        "  'Kabila': 'NA',\n",
        "  'Laurent-D\\xc3\\xa9sir\\xc3\\xa9 Kabila': 'NA',\n",
        "  'Rosette Kamwanya Beya': 'NA'},\n",
        " 3299: {'Kyungu Mukange': 'NA'},\n",
        " 3300: {'Kahindo Bozelo': 'NA', 'Mbholu': 'NA'},\n",
        " 3301: {'Fernand Tala-Ngai': 'NA'},\n",
        " 3302: {'Etienne Tshisekedi': 'NA', 'Mobutu': 'NA'},\n",
        " 3303: {'Eboka Makusa': 'NA', 'Mozoi Ramazani': 'NA'},\n",
        " 3304: {'Leonard Kamalebo': 'NA'},\n",
        " 3305: {'Bienvenu Kasole': 'NA', 'Christophe Bintu': 'NA', 'Kokolo': 'NA'},\n",
        " 3306: {'Djuma Banga': 'NA',\n",
        "  'Ilunga Mbaya': 'NA',\n",
        "  'Jean-Louis Bosenyi': 'NA',\n",
        "  'Kasilibani Kabamba': 'NA',\n",
        "  'Kuna Diavanga': 'NA'},\n",
        " 3307: {\"N'sii Luanda Shandwe\": 'NA'},\n",
        " 3309: {'Joseph Dunia Ruyenzi': 'NA'},\n",
        " 3310: {'Mulumba': 'NA', 'Tshisekedi': 'NA'},\n",
        " 3311: {'Kahindo Bozelo': 'NA', 'Mbholu': 'NA'},\n",
        " 3312: {'Justin Kapitane Mwamba': 'NA',\n",
        "  'Pierre Lumbi Okongo': 'NA',\n",
        "  'Tshibanda Tshingambo': 'NA'},\n",
        " 3314: {'Anderson Mukoma': 'NA',\n",
        "  'Bosco Kalala Ntambwe': 'NA',\n",
        "  'Dolly Tshimpaka Tambwe': 'NA',\n",
        "  'Etienne Tshisekedi': 'NA',\n",
        "  'Gustave Lemba': 'NA',\n",
        "  'Jean Kalenga': 'NA',\n",
        "  'Joseph Olenga Nkoyi': 'NA',\n",
        "  'Josue Bakatumana Mulowayi': 'NA',\n",
        "  'Kasongo Tshilenga': 'NA',\n",
        "  'Lambert Tshishimbi': 'NA',\n",
        "  'Marcel Kabongo': 'NA',\n",
        "  'Martin Liongo': 'NA',\n",
        "  'Mbayi Kalombo': 'NA',\n",
        "  'Mukendi Kabongo': 'NA',\n",
        "  'Mutombo Kalala': 'NA'},\n",
        " 3315: {'Byamungu Kahima': 'NA',\n",
        "  'Malira Kabuya': 'NA',\n",
        "  'Ndasimwa Malira': 'NA'},\n",
        " 3316: {'Bienvenu Kasole': 'NA', 'Christophe Bintu': 'NA', 'Kokolo': 'NA'},\n",
        " 3317: {'Floribert Mirimo': 'NA',\n",
        "  'Muhima Kamayole': 'NA',\n",
        "  'Muhombo Mirimo': 'NA',\n",
        "  'Munihire Mirimo': 'NA',\n",
        "  'Weteshe Mahindule': 'NA'},\n",
        " 3318: {'Lumbu Maloba Ndiba': 'NA', 'Makanda Mpinga Shambuyi': 'NA'},\n",
        " 3319: {'Kyungu Mukange': 'NA'},\n",
        " 3320: {'Ilunga Crispin': 'NA',\n",
        "  'Kabongo Crispin': 'NA',\n",
        "  'Kamanda Ngandu': 'NA',\n",
        "  'Mbombo Albertine': 'NA',\n",
        "  'Mbuyi Emerance': 'NA',\n",
        "  'Milambo Jules': 'NA',\n",
        "  'Muntuabo Jean': 'NA',\n",
        "  'Mutombo Makaku': 'NA',\n",
        "  'Ngalula Alphonsine': 'NA',\n",
        "  'Songo Makanda': 'NA',\n",
        "  'Tshimanga Pierre': 'NA',\n",
        "  'Tumba Kabedi': 'NA'},\n",
        " 3321: {'Anderson Mukoma': 'NA',\n",
        "  'Bosco Kalala Ntambwe': 'NA',\n",
        "  'Dolly Tshimpaka Tambwe': 'NA',\n",
        "  'Etienne Tshisekedi': 'NA',\n",
        "  'Gustave Lemba': 'NA',\n",
        "  'Jean Kalenga': 'NA',\n",
        "  'Joseph Olenga Nkoyi': 'NA',\n",
        "  'Josue Bakatumana Mulowayi': 'NA',\n",
        "  'Kasongo Tshilenga': 'NA',\n",
        "  'Lambert': 'NA',\n",
        "  'Marcel Kabongo': 'NA',\n",
        "  'Martin Liongo': 'NA',\n",
        "  'Mbayi': 'NA',\n",
        "  'Mbayi Kalombo': 'NA',\n",
        "  'Mukendi Kabongo': 'NA',\n",
        "  'Mutombo Kalala': 'NA'},\n",
        " 3322: {'Adrien Phongo Kunda': 'NA',\n",
        "  'Bofassa Djema': 'NA',\n",
        "  'Cleophas Kamitatu Masamba': 'NA',\n",
        "  'Joseph Mukendi': 'NA',\n",
        "  'Kisimba Ngoy': 'NA',\n",
        "  'Mulumba': 'NA'},\n",
        " 3323: {'Golden Misabiko Baholelwa': 'NA',\n",
        "  'Hubert Tshiswaka Jeanne Bilonda': 'NA'},\n",
        " 3324: {\"N'sii Luanda Shandwe\": 'NA'},\n",
        " 3325: {'Dunia': 'NA',\n",
        "  'Joseph Dunia Ruyenzi': 'NA',\n",
        "  'Ma\\xc3\\xaetre Dunia': 'NA'},\n",
        " 3328: {'Bijanu Mutunda': 'NA',\n",
        "  'Birindwa': 'NA',\n",
        "  'Kabeya Kasuku': 'NA',\n",
        "  'Kadima Mutuntu': 'NA',\n",
        "  'Mulumba': 'NA',\n",
        "  'Tshisekedi': 'NA'},\n",
        " 3329: {'Balanganayi Ntambwe': 'NA',\n",
        "  'Kalolo Nkima': 'NA',\n",
        "  'Katshiunga Mwenye Mari': 'NA',\n",
        "  'Nzembela Kankolongo': 'NA'},\n",
        " 3330: {'Ekongo Udimba Paul': 'NA',\n",
        "  'Loko': 'NA',\n",
        "  'Lusamba Mubi-Malu': 'NA',\n",
        "  'Miseia Kabulu Christophe': 'NA',\n",
        "  'Mpasu Mabanza': 'NA',\n",
        "  'Ngandu': 'NA',\n",
        "  'Olongo Mamba Jean-Marie': 'NA',\n",
        "  'Otete Gaston': 'NA',\n",
        "  'Sapue Kumene': 'NA'},\n",
        " 3331: {'Babibango': 'NA',\n",
        "  'Kandolo Mulumba': 'NA',\n",
        "  'Kenge Mukengeshayi': 'NA',\n",
        "  'Mulumba Kandolo': 'NA'},\n",
        " 3332: {'Joseph Olenga Nkoy': 'NA', 'Willy Mishiki': 'NA'},\n",
        " 3333: {'Golden Misabiko Baholelwa': 'NA',\n",
        "  'Hubert Tshiswaka': 'NA',\n",
        "  'Jeanne Bilonda': 'NA'},\n",
        " 3334: {'Bernard Bafulwa Baranga': 'NA',\n",
        "  'Farini Luendo Shandwe': 'NA',\n",
        "  'Kikandi Shandwe': 'NA',\n",
        "  'Z\\xc3\\xa9lote Farini Luendo Shandwe': 'NA'},\n",
        " 3335: {'Luanda Shandwe': 'NA',\n",
        "  'N?sii Luanda Shandwe': 'NA',\n",
        "  'N\\xc2\\x92sii Luanda Shandwe': 'NA'},\n",
        " 3336: {'Marie-Th\\xc3\\xa9r\\xc3\\xa8se Nlandu': 'NA'},\n",
        " 3337: {'Akuka Atangowena': 'NA'},\n",
        " 3339: {'Dieudonne Nyangele': 'NA',\n",
        "  'Guillaume Ngefa': 'NA',\n",
        "  'Justin Mobikayi': 'NA',\n",
        "  'Michel Kembo': 'NA',\n",
        "  'Mukendi wa Mulumba': 'NA',\n",
        "  'Olenga Nkoy': 'NA'},\n",
        " 3340: {'Batabiha Bushoki': 'NA', 'Jimmy Carter': 'NA'},\n",
        " 3341: {'Didi Mwati Bulambo': 'NA'},\n",
        " 3342: {'Augustin Babunga': 'NA',\n",
        "  'Cubaka': 'NA',\n",
        "  'D\\xc3\\xa9sir\\xc3\\xa9 Rugemaninzi': 'NA',\n",
        "  'Espoir Ruhigita Bulangalire': 'NA',\n",
        "  'Kabila': 'NA',\n",
        "  'Kamola Muderhwa': 'NA',\n",
        "  'Masu Ga Rugamika': 'NA',\n",
        "  'Pierre Ndatabaye': 'NA',\n",
        "  'Rugemaninzi': 'NA'},\n",
        " 3343: {'Andre Ipakala': 'NA',\n",
        "  'Docteur Kambamba Mbwebwe': 'NA',\n",
        "  'Marie-Ange Lukiana': 'NA',\n",
        "  'Modeste Mutinga': 'NA'},\n",
        " 3344: {'Jules-C\\xc3\\xa9sar Mayimbi': 'NA'},\n",
        " 3345: {'Marie-Th\\xc3\\xa9r\\xc3\\xa8se Nlandu': 'NA', 'Nlandu': 'NA'},\n",
        " 3346: {'Mulumba': 'NA', 'Tshisekedi': 'NA'},\n",
        " 3347: {'Topango': 'NA'},\n",
        " 3348: {'Dieudonne Nyangele': 'NA',\n",
        "  'Justin Mobikayi': 'NA',\n",
        "  'Michel Kembo': 'NA',\n",
        "  'Mukendi wa Mulumba': 'NA',\n",
        "  'Olenga Nkoy': 'NA'},\n",
        " 3349: {'Batabiha Bushoki': 'NA'},\n",
        " 3350: {'Kabande': 'NA', 'Pasteur Bugunzu': 'NA', 'Pasteur Muzizi': 'NA'},\n",
        " 3351: {'Alexandre Katambayi': 'NA',\n",
        "  'D?nis Kanyinda': 'NA',\n",
        "  'D\\xc3\\xa9mocrate Mukanya': 'NA',\n",
        "  'D\\xc3\\xa9nis Kanyinda': 'NA',\n",
        "  'D\\xc3\\xa9sir\\xc3\\xa9 Elompasi': 'NA',\n",
        "  'Elompasi': 'NA',\n",
        "  'Etienne Tshisekedi': 'NA',\n",
        "  'Fran\\xc3\\xa7ois Tshimbumba': 'NA',\n",
        "  'Jean-Maire Tshimanga': 'NA',\n",
        "  'Laurent Kabila': 'NA',\n",
        "  'L\\xc3\\xa9onard Bozi': 'NA',\n",
        "  'Mukanya': 'NA',\n",
        "  'Pierre Kafungi': 'NA',\n",
        "  'Willy Kanku': 'NA'},\n",
        " 3352: {'Andre Ipakala': 'NA',\n",
        "  'Docteur Kambamba Mbwebwe': 'NA',\n",
        "  'Marie-Ange Lukiana': 'NA',\n",
        "  'Modeste Mutinga': 'NA'},\n",
        " 3353: {'Floribert Chebeya Bahizire': 'NA'},\n",
        " 3354: {'Jules-C\\xc3\\xa9sar Mayimbi': 'NA'},\n",
        " 3355: {'Bernard Bafulwa Baranga': 'NA',\n",
        "  'Djento Mahungu': 'NA',\n",
        "  'Farini': 'NA',\n",
        "  'Kikandi Shandwe': 'NA',\n",
        "  'Simon Salumu': 'NA',\n",
        "  'Z\\xc3\\xa9lote Farini': 'NA'},\n",
        " 3358: {'Bijanu Mutunda': 'NA',\n",
        "  'Birindwa': 'NA',\n",
        "  'Kabeya Kasuku': 'NA',\n",
        "  'Kadima Mutuntu': 'NA',\n",
        "  'Kanana Tshiongo': 'NA',\n",
        "  'Kyungu Mukange': 'NA',\n",
        "  'Mukandila Mpiana': 'NA',\n",
        "  'Mulumba': 'NA',\n",
        "  'Tshisekedi': 'NA'},\n",
        " 3359: {'Balanganayi Ntambwe': 'NA',\n",
        "  'Kalolo Nkima': 'NA',\n",
        "  'Katshiunga Mwenya Mari': 'NA',\n",
        "  'Nzembela Kankolongo': 'NA'},\n",
        " 3360: {'Dibinga wa Said': 'NA', 'Katako Said': 'NA', 'Yusuf Simba': 'NA'},\n",
        " 3361: {'Didi Mwati Bulambo': 'NA',\n",
        "  'Donatien Mazambi': 'NA',\n",
        "  'Lambert Mbunganyi': 'NA'},\n",
        " 3362: {'Albert Bosangi': 'NA'},\n",
        " 3363: {'Albert Gilbert Bosange Yema': 'NA',\n",
        "  'Th?odore Bosange': 'NA',\n",
        "  'Th\\xc3\\xa9odore Bosange': 'NA'},\n",
        " 3364: {'Floribert Mirimo': 'NA',\n",
        "  'Muhima Kamayole': 'NA',\n",
        "  'Muhombo Mirimo': 'NA',\n",
        "  'Munihire Mirimo': 'NA'},\n",
        " 3366: {'Hubert Tshiswaka': 'NA'},\n",
        " 3367: {'Akuka Atangowena': 'NA'},\n",
        " 3368: {'Kabongo': 'NA', 'Mangala Ngolu Ndoki': 'NA'},\n",
        " 3369: {'Dibinga wa Said': 'NA', 'Katako Said': 'NA', 'Yusuf Simba': 'NA'},\n",
        " 3370: {'Didi Mwati Bulambo': 'NA',\n",
        "  'Donatien Mazambi': 'NA',\n",
        "  'Lambert Mbunganyi': 'NA'},\n",
        " 3371: {'Floribert Chebeya Bahizire': 'NA'},\n",
        " 3372: {'Andre Ipakala': 'NA',\n",
        "  'Docteur Kambamba Mbwebwe': 'NA',\n",
        "  'Kabila': 'NA',\n",
        "  'Laurent-Desir': 'NA',\n",
        "  'Laurent-Desir\\xc3\\xa9 Kabila': 'NA',\n",
        "  'Modeste Mutinga': 'NA'},\n",
        " 3373: {'Andrea Nyamarimbwe': 'NA',\n",
        "  'Bienvenu Rugagaza': 'NA',\n",
        "  'Bigabo': 'NA',\n",
        "  'Bigabo Ntwayingabo': 'NA',\n",
        "  'Budederi Bigabo': 'NA',\n",
        "  'Fanuel Sebatutsi': 'NA',\n",
        "  'Mo\\xc3\\xafse Mudita': 'NA',\n",
        "  'Mo\\xef\\xbf\\xbdse Mudita': 'NA',\n",
        "  'Mugaju Ruterera': 'NA',\n",
        "  'Muvura Munyakazi': 'NA',\n",
        "  'Muzero': 'NA',\n",
        "  'Rusingizwa Bitebetebe': 'NA',\n",
        "  'Tito Kigwenu': 'NA'},\n",
        " 3378: {'Birindwa': 'NA'},\n",
        " 3379: {'Balanganayi Ntambwe': 'NA',\n",
        "  'Kalolo Nkima': 'NA',\n",
        "  'Katshiunga Mwenye Mari': 'NA',\n",
        "  'Nzembela Kankolongo': 'NA'},\n",
        " 3380: {'Hunde': 'NA',\n",
        "  'Hutu': 'NA',\n",
        "  'Kabunga': 'NA',\n",
        "  'Kacuku': 'NA',\n",
        "  'Muhozi': 'NA',\n",
        "  'Ndayambaje': 'NA',\n",
        "  'Tabura Kabuga': 'NA',\n",
        "  'Tutsi': 'NA'},\n",
        " 3381: {'Kabila': 'NA', 'Muderwa': 'NA'},\n",
        " 3382: {'Badouin Hamuli Kabarhuza': 'NA', 'Badouin Hamuli Kaobarhuza': 'NA'},\n",
        " 3383: {'Caroline Pare': 'NA',\n",
        "  'Christophe Tshimona': 'NA',\n",
        "  'Jonas Mukamba': 'NA',\n",
        "  'Mianda Tshimona': 'NA',\n",
        "  'Mieke Rang': 'NA',\n",
        "  'Nkashama': 'NA',\n",
        "  'Pierre Mombele': 'NA',\n",
        "  'Tshisumpa': 'NA',\n",
        "  'Tshitenge': 'NA'},\n",
        " 3384: {'Luanda Shandwe': 'NA', \"N'sii Luanda Shandwe\": 'NA'},\n",
        " 3385: {'Djento Mahungu': 'NA'},\n",
        " 3386: {'Gr\\xc3\\xa9goire Mulamba Tshisakamba': 'NA',\n",
        "  'Kumwamba Nsapu': 'NA',\n",
        "  'Mulamba Tshisakamba': 'NA'},\n",
        " 3388: {'Kyungu Mukange': 'NA'},\n",
        " 3389: {'Boniface': 'NA', 'Kabongo': 'NA', 'Mangala Ngolu Ndoki': 'NA'},\n",
        " 3391: {'Baudouin Hamuli Kabarhuza': 'NA', 'Hamuli': 'NA'},\n",
        " 3392: {'Floribert Chebeya Bahizire': 'NA'},\n",
        " 3393: {\"N'sii Luanda Shandwe\": 'NA'},\n",
        " 3394: {'Luanda Shandwe': 'NA'},\n",
        " 3397: {'David': 'NA', 'Tshimanga': 'NA'},\n",
        " 3398: {'Kalala Mbenga Kalao': 'NA'},\n",
        " 3399: {'Albert Muhingi': 'NA',\n",
        "  'Kabuku Makule': 'NA',\n",
        "  'Kisinyabo Kambere': 'NA'},\n",
        " 3400: {'Freddy Kitoko': 'NA', 'Freddy Kitoko.Members': 'NA'},\n",
        " 3401: {'Honor\\xc3\\xa9 Musoko': 'NA', 'Musoko': 'NA'},\n",
        " 3404: {'Kabunga': 'NA',\n",
        "  'Kasuku': 'NA',\n",
        "  'Muhozi': 'NA',\n",
        "  'Ndayambaje': 'NA',\n",
        "  'Tabura Kabuga': 'NA'},\n",
        " 3405: {'Tutsi': 'NA'},\n",
        " 3406: {'Jonas Mukamba Dadiata': 'NA',\n",
        "  'Jonas Mukamba Kadiata': 'NA',\n",
        "  'Kumbu Kumbel': 'NA'},\n",
        " 3407: {'Felly Mawila': 'NA',\n",
        "  'Gerard Lukoki': 'NA',\n",
        "  'Hassan Kabengele': 'NA',\n",
        "  'Joel Mafuta': 'NA',\n",
        "  'Laurent Kantu Lumpungu': 'NA',\n",
        "  'Mampasi': 'NA',\n",
        "  'Simon Mbengi': 'NA',\n",
        "  'Vianga Mwana': 'NA'},\n",
        " 3408: {'Caroline Pare': 'NA',\n",
        "  'Jonas Mukamba Kadiata': 'NA',\n",
        "  'Mianda Tshimona': 'NA',\n",
        "  'Mieke Rang': 'NA',\n",
        "  'Pierre Mombele': 'NA',\n",
        "  'Tshisumpa': 'NA'},\n",
        " 3411: {'Bijanu Mutunda': 'NA',\n",
        "  'Birindwa': 'NA',\n",
        "  'Kabeya Kasuku': 'NA',\n",
        "  'Kadima Mutuntu': 'NA',\n",
        "  'Kanana Tshiongo': 'NA',\n",
        "  'Kyungu Mukange': 'NA',\n",
        "  'Mangala': 'NA',\n",
        "  'Mukandila Mpiana': 'NA',\n",
        "  'Mulumba': 'NA',\n",
        "  'Ndiadia': 'NA',\n",
        "  'Tshisekedi': 'NA'},\n",
        " 3412: {'Felix Mbayi Kalombo': 'NA', 'Lambert Tshitshimbi Katombe': 'NA'},\n",
        " 3413: {'Kabande': 'NA',\n",
        "  'Pasteur Bugunzu': 'NA',\n",
        "  'Pasteur Muzizi': 'NA',\n",
        "  'Pasteur Semutobo': 'NA'},\n",
        " 3414: {'Jonas Mukamba Kadiata': 'NA', 'Kumbu Kumbel': 'NA'},\n",
        " 3415: {'Michel Rudatenguha': 'NA', 'Mukalayi': 'NA'},\n",
        " 3416: {\"N'sii Luanda Shandwe\": 'NA'},\n",
        " 3417: {'Bijanu Mutunda': 'NA', 'Mulumba': 'NA', 'Tshisekedi': 'NA'},\n",
        " 3418: {'Alidor Mwambantita': 'NA'},\n",
        " 3419: {'Caroline Pare': 'NA',\n",
        "  'James': 'NA',\n",
        "  'Jonas Mukamba Kadiata': 'NA',\n",
        "  'Mianda Tshimona': 'NA',\n",
        "  'Mieke Rang': 'NA',\n",
        "  'Pierre Mombele': 'NA',\n",
        "  'Tshisumpa': 'NA'},\n",
        " 3420: {'Honor\\xc3\\xa9 Musoko': 'NA', 'Musoko': 'NA'},\n",
        " 3421: {'Paul Ndokayi': 'NA', 'Yawa Gomonza': 'NA'},\n",
        " 3423: {'Kabeya Kasuku': 'NA',\n",
        "  'Kadima Mutuntu': 'NA',\n",
        "  'Kanana Tshiongo': 'NA',\n",
        "  'Kyungu Mukange': 'NA',\n",
        "  'Mangala': 'NA',\n",
        "  'Mukandila Mpiana': 'NA',\n",
        "  'Ndiadia': 'NA'},\n",
        " 3424: {'Tutsi': 'NA'},\n",
        " 3425: {'Jonas Mukamba Kadiata': 'NA'},\n",
        " 3426: {'Kale Muhoza': 'NA',\n",
        "  'Matabaro': 'NA',\n",
        "  'Musema Gatabazi': 'NA',\n",
        "  'Ngonga': 'NA',\n",
        "  'Sankara': 'NA'},\n",
        " 3427: {'Catherine Nzuzi': 'NA', 'Mbombo': 'NA'},\n",
        " 3428: {\"N'sii Luanda Shandwe\": 'NA'},\n",
        " 3429: {\"N'sii Luanda Shandwe\": 'NA'},\n",
        " 3433: {'Kyungu Mukange': 'NA'},\n",
        " 3434: {'Aaron Aidin Abala': 'NA',\n",
        "  'Anthos Mulamba Nyunyi': 'NA',\n",
        "  'Etienne Abdoul Karim Tshikala': 'NA',\n",
        "  'Germaine Mputu Mpinda': 'NA',\n",
        "  'Luck Kayembe Ndonda': 'NA',\n",
        "  'Richard Mpiana Kalenga': 'NA',\n",
        "  'Robby Tshimbalanga Ngilima': 'NA'},\n",
        " 3435: {'Mushizi Nfundiko Kizito': 'NA', 'Omba Kamengele': 'NA'},\n",
        " 3438: {'Immaculee Birhaheka': 'NA'},\n",
        " 3439: {'Mushizi Nfundiko Kizito': 'NA',\n",
        "  'Omba Kamengele': 'NA',\n",
        "  'Raphael Wakenge': 'NA'},\n",
        " 3440: {'Bonheur Badesire Isungu': 'NA',\n",
        "  'Gervais Chirhalwira Nkunzimana': 'NA',\n",
        "  'Karume': 'NA',\n",
        "  'Lusambo': 'NA',\n",
        "  'Muzalia Wakyebwa': 'NA',\n",
        "  'Paulin Bapolisi': 'NA',\n",
        "  'R\\xc3\\xa9gine Mutijima': 'NA'},\n",
        " 3443: {'Birhaheka': 'NA', 'Immacul\\xc3\\xa9e Birhaheka': 'NA'},\n",
        " 3444: {'Philippe Bilisi': 'NA'},\n",
        " 3445: {'Freddy Loseke Lisumbu': 'NA',\n",
        "  'Freddy Loseke Lisumbu la Yayenga': 'NA'},\n",
        " 3446: {'Anne-Marie Kamwanya Masumbuko': 'NA',\n",
        "  'Kabila': 'NA',\n",
        "  'Laurent-D\\xc3\\xa9sir\\xc3\\xa9 Kabila': 'NA',\n",
        "  \"N'sii Luanda Shandwe\": 'NA'},\n",
        " 3447: {'Donatien Kisangani Mukatamwina': 'NA'},\n",
        " 3448: {'Bienvenu Makumbu': 'NA',\n",
        "  'Gaillot': 'NA',\n",
        "  'Gauthier Lusadisu': 'NA',\n",
        "  'Marie-Th\\xc3\\xa9r\\xc3\\xa8se Nlandu': 'NA',\n",
        "  'Marie-Th\\xc3\\xa9r\\xc3\\xa8se Nlandu Mpolo-Nene': 'NA',\n",
        "  'Nlandu Mpolo-Nene': 'NA',\n",
        "  'Pasteur Jos\\xc3\\xa9 Inonga': 'NA',\n",
        "  'Pasteur Jos\\xef\\xbf\\xbd Inonga': 'NA',\n",
        "  'Richard Kianza': 'NA'},\n",
        " 3450: {'Bossassi Epole Bolya Kodya': 'NA'},\n",
        " 3451: {'Bashi Nabukili': 'NA',\n",
        "  'Floribert Chebeya Bahizire': 'NA',\n",
        "  'Harouna Mbongo': 'NA',\n",
        "  'Tutsi': 'NA'},\n",
        " 3452: {'Kiambukuta Komisa': 'NA', 'Kianza Lumbete': 'NA'},\n",
        " 3453: {'Laurent Kantu Lumpungu': 'NA'},\n",
        " 3454: {'Freddy Loseke Lisumbu': 'NA',\n",
        "  'Freddy Loseke Lisumbu la Yayenga': 'NA'},\n",
        " 3455: {\"N'sii Luanda Shandwe\": 'NA'},\n",
        " 3457: {'Bertin Lukanda': 'NA',\n",
        "  'Diomba Ramazani': 'NA',\n",
        "  'Haki Za Binadamu': 'NA'},\n",
        " 3458: {'Amisi Masimangu': 'NA',\n",
        "  'Badibanga Kakonde': 'NA',\n",
        "  'Bofamba Jean': 'NA',\n",
        "  'Dianambo Mushakamba': 'NA',\n",
        "  'Kabasele Tshiondo': 'NA',\n",
        "  'Kenga Ngoy': 'NA',\n",
        "  'Kwangwe Lwimbo': 'NA',\n",
        "  'Lemba Erick': 'NA',\n",
        "  'Mbuyu': 'NA',\n",
        "  'Ruaga Hungu': 'NA',\n",
        "  'Tshibuabua Mukubayi': 'NA',\n",
        "  'Tshisola Piere Yiukilayi': 'NA',\n",
        "  'Zamba Wali': 'NA'},\n",
        " 3459: {'Mushizi Nfundiko Kizito': 'NA',\n",
        "  'Omba Kamengele': 'NA',\n",
        "  'Raphael Wakenge': 'NA'},\n",
        " 3460: {'Jonas Mukamba Kadiata': 'NA', 'Tshisumpa': 'NA'},\n",
        " 3461: {'Golden Misabiko Baholelwa': 'NA'},\n",
        " 3462: {'Bashi Nabukili': 'NA',\n",
        "  'Floribert Chebeya Bahizire': 'NA',\n",
        "  'Harouna Mbongo': 'NA'},\n",
        " 3463: {'Asumani Dieudonne': 'NA',\n",
        "  'Bertin Lukanda': 'NA',\n",
        "  'Diomba Ramazani': 'NA'},\n",
        " 3464: {'Fid\\xc3\\xa8le Mizele': 'NA',\n",
        "  'Henri Mindele': 'NA',\n",
        "  'Mafuta Kizola': 'NA',\n",
        "  'Patrice Kulenguluka': 'NA',\n",
        "  'Rodolphe Matuka': 'NA',\n",
        "  'Rufin Konda': 'NA',\n",
        "  'Urbain Nkwasandi': 'NA'},\n",
        " 3465: {'Aloys Muzalia Wakyebwa': 'NA',\n",
        "  'Bonheur Badesire Isungu': 'NA',\n",
        "  'Karume': 'NA',\n",
        "  'Lusambo': 'NA',\n",
        "  'Paulin Bapolisi': 'NA',\n",
        "  'R\\xc3\\xa9gine Mutijima': 'NA'},\n",
        " 3467: {'Canado Lokwa': 'NA',\n",
        "  'Constantin Kabongo': 'NA',\n",
        "  'Denis Bibanza': 'NA',\n",
        "  'Fils Mukoka': 'NA',\n",
        "  'Hilaire Francois Mukandile Mpanya': 'NA',\n",
        "  'Jacques Kayena Lubanzadio': 'NA',\n",
        "  'Jean Albert Mulumba Mukoma': 'NA',\n",
        "  'Jean Pierre Tshilumba Mfuamba': 'NA',\n",
        "  'Pascal Kapuwas Ilunga': 'NA'},\n",
        " 3468: {'Arony': 'NA', 'Rugota': 'NA'},\n",
        " 3469: {'Clovis Kadda': 'NA',\n",
        "  \"Feu d'Or Bonsange\": 'NA',\n",
        "  'Kala Bongamba': 'NA'},\n",
        " 3470: {'Golden Misabiko Baholelwa': 'NA'},\n",
        " 3471: {'Birindwa': 'NA'},\n",
        " 3472: {'Joseph Olenga Nkoy': 'NA', 'Willy Misihiki': 'NA'},\n",
        " 3473: {'Didi Mwati Bulambo': 'NA'},\n",
        " 3474: {'Alexandre Kalambaye': 'NA',\n",
        "  'Alphonse Mwamba': 'NA',\n",
        "  'Bernard Cikulu': 'NA',\n",
        "  'David Mukeba': 'NA',\n",
        "  'Ezuluwa Monzemba': 'NA',\n",
        "  'Firmin Nkama': 'NA',\n",
        "  'Jean Bosiluwa': 'NA',\n",
        "  'Joseph Mbuyi': 'NA',\n",
        "  'Marcel Mbayo': 'NA',\n",
        "  'Modeste Kikunga': 'NA',\n",
        "  'Mukendi': 'NA',\n",
        "  'Mulumba': 'NA',\n",
        "  'Nyembo Yalumbu': 'NA',\n",
        "  'Pierre Lukusa': 'NA',\n",
        "  'Richard Bieme Ngalisame': 'NA',\n",
        "  'Romain Mpoyi': 'NA',\n",
        "  'Shabani': 'NA',\n",
        "  'Yoane Nkuba': 'NA'},\n",
        " 3475: {'Alidor Muamba Ntita': 'NA',\n",
        "  'Etienne Richard Mbaya': 'NA',\n",
        "  'Odile Kalala': 'NA',\n",
        "  'Placide Mpoyi': 'NA',\n",
        "  'Raymond Kabala': 'NA'},\n",
        " 3479: {'Berti Lukanda': 'NA',\n",
        "  'Bertin Lukanda': 'NA',\n",
        "  'Dieudonne Asumani': 'NA',\n",
        "  'Diomba Ramazani': 'NA'},\n",
        " 3480: {'Arthur Mabiala': 'NA',\n",
        "  'Joseph Kumbu': 'NA',\n",
        "  'Kiavedisa Kisita': 'NA',\n",
        "  'Mbweyi Sanga': 'NA',\n",
        "  'Mbweyi Sanga Fr\\xc3\\xa9deric': 'NA',\n",
        "  'Mukobo Puto': 'NA',\n",
        "  'Nzayilu Malengo': 'NA',\n",
        "  'Nzinga Kovatandi': 'NA'},\n",
        " 3481: {'Bonsange': 'NA', 'Clovis Kadda': 'NA', 'Kala Bongamba': 'NA'},\n",
        " 3482: {'Jean-Pierre BUSINGISI': 'NA', 'Karume': 'NA', 'Omer KAMOSO': 'NA'},\n",
        " 3483: {\"N'sii Luanda Shandwe\": 'NA'},\n",
        " 3485: {'Didi Mwati Bulambo': 'NA'},\n",
        " 3486: {'Charles Fuamba Mukendi': 'NA', 'Kabamba': 'NA'},\n",
        " 3487: {'Jonas Kabuyaya': 'NA'},\n",
        " 3488: {'Golden Misabiko': 'NA'},\n",
        " 3489: {'Bukasa Musenga': 'NA',\n",
        "  'Dada Feza Rukeratabaro': 'NA',\n",
        "  'Gaby Ngimbi Kiamba': 'NA',\n",
        "  'Issa Yuba': 'NA',\n",
        "  'Lambert Djunga Shango': 'NA',\n",
        "  'Muzaliwa Maroy': 'NA',\n",
        "  'Onza Kanda': 'NA',\n",
        "  'Pierre Risasi': 'NA'},\n",
        " 3490: {'Jonas Kabuyaya': 'NA'},\n",
        " 3492: {'Anselme Masasu Nindaga': 'NA',\n",
        "  'Batesema Mastaki': 'NA',\n",
        "  'Guillaume Rugumbira Lwagunja': 'NA',\n",
        "  'Jimmy Katenda': 'NA',\n",
        "  'Ngalamulume Mukwege': 'NA',\n",
        "  'Odon Mweze': 'NA',\n",
        "  'Sebalende Bernard Munogolo': 'NA',\n",
        "  'Vincent Madjaga': 'NA'},\n",
        " 3493: {'Kanyongo Kisase': 'NA'},\n",
        " 3494: {'Bukasa Musenga': 'NA',\n",
        "  'Dada Feza Rukeratabaro': 'NA',\n",
        "  'Gaby Ngimbi Kiamba': 'NA',\n",
        "  'Issa Yuba': 'NA',\n",
        "  'Lambert Djunga Shango': 'NA',\n",
        "  'Muzaliwa Maroy': 'NA',\n",
        "  'Okumbo': 'NA',\n",
        "  'Onza Kanda': 'NA',\n",
        "  'Pierre Risasi': 'NA'},\n",
        " 3495: {'Kanyonyu': 'NA', 'Kasereka Kihuvi': 'NA', 'Lumbu Lumbu': 'NA'},\n",
        " 3496: {'Antho Fari': 'NA'},\n",
        " 3497: {'Fran\\xc3\\xa7ois Mwamba': 'NA',\n",
        "  'Jonas Mutamo': 'NA',\n",
        "  'Kakulele': 'NA',\n",
        "  'Kambale Bahekwa': 'NA',\n",
        "  'Mbula Bwambukamo': 'NA',\n",
        "  'Muhendu': 'NA',\n",
        "  'Mwamba': 'NA'},\n",
        " 3498: {'Charles Fuamba Mukendi': 'NA', 'Kabamba': 'NA'},\n",
        " 3499: {'Nsii Luanda Shandwe': 'NA', 'Roger Sala Nzo Badila': 'NA'},\n",
        " 3500: {'Atoba John': 'NA',\n",
        "  'Elia Ona Bobo': 'NA',\n",
        "  'Jean Marie Lukundji': 'NA',\n",
        "  'Jean Pierre Ngoma': 'NA',\n",
        "  'Joseph Ngoma': 'NA',\n",
        "  'Justin Kapempe': 'NA',\n",
        "  'Marcel Ngoy Wa Ngoyi': 'NA',\n",
        "  'Rene Ndjoli Ngoma': 'NA',\n",
        "  'Zahidi Arthur Ngoma': 'NA'},\n",
        " 3501: {'Alidor Muamba Ntita': 'NA', 'Raymond Kabala': 'NA'},\n",
        " 3502: {'Beya Mulumba': 'NA',\n",
        "  'Kasongo Dibwe': 'NA',\n",
        "  'Leonard Fuka Unzola': 'NA',\n",
        "  'Mikobi Bope': 'NA',\n",
        "  'Mulango': 'NA',\n",
        "  'Ngoie': 'NA',\n",
        "  'Tshikombo Mandjika': 'NA'},\n",
        " 3503: {'Kanyonyu': 'NA', 'Kasereka Kihuvi': 'NA', 'Lumbu Lumbu': 'NA'},\n",
        " 3504: {'Leonard Fuka': 'NA',\n",
        "  'Leonard Fuka Unzola': 'NA',\n",
        "  'Massibu Nkudi': 'NA',\n",
        "  'Unzola': 'NA'},\n",
        " 3505: {'Ingele Ifoto': 'NA',\n",
        "  'Jean Marie Lukundji': 'NA',\n",
        "  'Justin Kapempe': 'NA',\n",
        "  'Mosi Mwati': 'NA',\n",
        "  'Zahidi Arthur Ngoma': 'NA'},\n",
        " 3506: {'Abimana Ngurukiye': 'NA',\n",
        "  'Alois Kaihura': 'NA',\n",
        "  'Antoine Nkurunziza': 'NA',\n",
        "  'Claude Nsengiyumva': 'NA',\n",
        "  'Cyrille Botwamunyu': 'NA',\n",
        "  'Dorothee Harerimana': 'NA',\n",
        "  'Ida Dushimirimana': 'NA',\n",
        "  'Jean Habimana': 'NA',\n",
        "  'Jean-Louis Habimana': 'NA',\n",
        "  'Jeanne Lirangiwe': 'NA',\n",
        "  'Laurent Butoyi': 'NA',\n",
        "  'Marie Bizimanyara': 'NA',\n",
        "  'Marthe Senwankuru': 'NA',\n",
        "  'Maryse Habimana': 'NA',\n",
        "  'Susanne Kagabo': 'NA',\n",
        "  'Vincent Habimana': 'NA',\n",
        "  'Zanardia Silikio': 'NA'},\n",
        " 3507: {'Dieudonn\\xc3\\xa9 Amundala Kabengele': 'NA'},\n",
        " 3510: {'Peter Chiko Bwalya': 'NA',\n",
        "  'Richard Mukonga': 'NA',\n",
        "  'Stephen Mukata': 'NA'},\n",
        " 3511: {'Peter Lloyd Mwape': 'NA'},\n",
        " 3512: {'Ackim Zimba': 'NA',\n",
        "  'Bonnie Tembo': 'NA',\n",
        "  'Bweendo Mulengela': 'NA',\n",
        "  'Christopher Muyoka': 'NA',\n",
        "  'Cuthbert Nguni': 'NA',\n",
        "  'Henry Kamima': 'NA',\n",
        "  'McPherson Mbulo': 'NA',\n",
        "  'Peter Lishika': 'NA',\n",
        "  'Peter Mwanza': 'NA',\n",
        "  'Philemon Lwabila': 'NA',\n",
        "  'Rabson Chongo': 'NA',\n",
        "  'Rupiya Banda': 'NA',\n",
        "  'Sianda Ilukena': 'NA',\n",
        "  'Stan Mutanga': 'NA',\n",
        "  'Stanley Mhango': 'NA',\n",
        "  'Steven Moyo': 'NA',\n",
        "  'Weze Kaunda': 'NA',\n",
        "  'William Banda': 'NA'},\n",
        " 3514: {'Peter Chiko Bwalya': 'NA',\n",
        "  'Richard Mukonga': 'NA',\n",
        "  'Stephen Mukata': 'NA'},\n",
        " 3515: {'Ackim Zimba': 'NA',\n",
        "  'Bonnie Tembo': 'NA',\n",
        "  'Bweendo Mulengela': 'NA',\n",
        "  'Christopher Muyoka': 'NA',\n",
        "  'Cuthbert Nguni': 'NA',\n",
        "  'Henry Kamima': 'NA',\n",
        "  'Kenneth Kaunda': 'NA',\n",
        "  'McPherson Mbulo': 'NA',\n",
        "  'Panji Kaunda': 'NA',\n",
        "  'Peter Lishika': 'NA',\n",
        "  'Peter Mwanza': 'NA',\n",
        "  'Philemon Lwabila': 'NA',\n",
        "  'Rabson Chongo': 'NA',\n",
        "  'Rupiya Banda': 'NA',\n",
        "  'Sianda Ilukena': 'NA',\n",
        "  'Stan Mutanga': 'NA',\n",
        "  'Stanley Mhango': 'NA',\n",
        "  'Steven Moyo': 'NA',\n",
        "  'Weze Kaunda': 'NA',\n",
        "  'Wilfred Wanani': 'NA',\n",
        "  'William Banda': 'NA'},\n",
        " 3516: {\"Fred M'membe\": 'NA'},\n",
        " 3517: {'Amos Malupenga': 'NA',\n",
        "  'Brighton Phiri': 'NA',\n",
        "  'Goodson Machona': 'NA',\n",
        "  'Joe Kaunda': 'NA',\n",
        "  'Kelvin Shimo': 'NA',\n",
        "  'Lubasi Katundu': 'NA'},\n",
        " 3518: {'Jeremias Bandua': 'NA'},\n",
        " 3519: {'Richard Mukonga': 'NA'},\n",
        " 3520: {'Bonnie Tembo': 'NA',\n",
        "  'Bweendo Mulengela': 'NA',\n",
        "  'Christopher Muyoka': 'NA',\n",
        "  'Cuthbert Nguni': 'NA',\n",
        "  'Henry Kamima': 'NA',\n",
        "  'Kenneth Kaunda': 'NA',\n",
        "  'McPherson Mbulo': 'NA',\n",
        "  'Panji Kaunda': 'NA',\n",
        "  'Peter Lishika': 'NA',\n",
        "  'Rabson Chongo': 'NA',\n",
        "  'Rupiya Banda': 'NA',\n",
        "  'Sianda Ilukena': 'NA',\n",
        "  'Stan Mutanga': 'NA',\n",
        "  'Steven Moyo': 'NA',\n",
        "  'Weze Kaunda': 'NA',\n",
        "  'Wilfred Wanani': 'NA',\n",
        "  'William Banda': 'NA'},\n",
        " 3521: {\"Fred M'membe\": 'NA'},\n",
        " 3522: {'Amos Malupenga': 'NA',\n",
        "  'Brighton Phiri': 'NA',\n",
        "  'Goodson Machona': 'NA',\n",
        "  'Joe Kaunda': 'NA',\n",
        "  'Kelvin Shimo': 'NA',\n",
        "  'Lubasi Katundu': 'NA'},\n",
        " 3523: {'Bonnie Tembo': 'NA',\n",
        "  'Bweendo Mulengela': 'NA',\n",
        "  'Christopher Muyoka': 'NA',\n",
        "  'Cuthbert Nguni': 'NA',\n",
        "  'Henry Kamima': 'NA',\n",
        "  'McPherson Mbulo': 'NA',\n",
        "  'Peter Lishika': 'NA',\n",
        "  'Rabson Chongo': 'NA',\n",
        "  'Rupiya Banda': 'NA',\n",
        "  'Sianda Ilukena': 'NA',\n",
        "  'Stan Mutanga': 'NA',\n",
        "  'Steven Moyo': 'NA',\n",
        "  'Wezi Kaunda': 'NA',\n",
        "  'William Banda': 'NA'},\n",
        " 3524: {'Donald Mwale': 'NA', 'Isaac Sandifold Phiri': 'NA'},\n",
        " 3525: {'Bonnie Tembo': 'NA',\n",
        "  'Bweendo Mulengela': 'NA',\n",
        "  'Christopher Muyoka': 'NA',\n",
        "  'Cuthbert Nguni': 'NA',\n",
        "  'Henry Kamina': 'NA',\n",
        "  'Lemmy Suwisha': 'NA',\n",
        "  'Peter Lishika': 'NA',\n",
        "  'Sianda Ilukena': 'NA',\n",
        "  'Steven Moyo': 'NA',\n",
        "  'Wezi Kaunda': 'NA'},\n",
        " 3526: {'Azwell Banda': 'NA',\n",
        "  'Kenneth Kaunda': 'NA',\n",
        "  'Malimba Masheke': 'NA',\n",
        "  'Mungomba': 'NA',\n",
        "  'Roger Chongwe': 'NA'},\n",
        " 3527: {'Bellington Mukoma': 'NA',\n",
        "  'Bilex Mutale': 'NA',\n",
        "  'Jack Chiti': 'NA',\n",
        "  'Major Kanga': 'NA',\n",
        "  'Musonda': 'NA',\n",
        "  'Stephen Lungu': 'NA'},\n",
        " 3529: {'Jehovah': 'NA'},\n",
        " 3530: {'Estifanos Solomon': 'NA', 'Mahmoud Ahmed Chehem': 'NA'},\n",
        " 3534: {'Abdulkadir': 'NA',\n",
        "  'Admas': 'NA',\n",
        "  'Asrat': 'NA',\n",
        "  'Fessahaye Yohannes': 'NA',\n",
        "  'Isaac': 'NA',\n",
        "  'Joshua': 'NA',\n",
        "  'Keste Debena Dawit Isaac': 'NA',\n",
        "  'Keste Debena Mattewos Habteab': 'NA',\n",
        "  'Meqaleh Dawit Habtemichael': 'NA',\n",
        "  'Mohamed Ali': 'NA',\n",
        "  'Tsigenay Amanuel Asrat': 'NA',\n",
        "  'Zemen Seyoum Tsehaye': 'NA'},\n",
        " 3535: {'Mengist Tewelde-Medhin': 'NA'},\n",
        " 3536: {'Habtom Weldemichael': 'NA', 'Tewelde Gebremedhin': 'NA'},\n",
        " 3537: {'Ali Mohamed Saleh': 'NA'},\n",
        " 3538: {'Kidane Weldu': 'NA'},\n",
        " 3539: {'Haile Woldetensae': 'NA', 'Ogbe Abraham': 'NA'},\n",
        " 3540: {'Abdulkadir': 'NA',\n",
        "  'Admas': 'NA',\n",
        "  'Asrat': 'NA',\n",
        "  'Fessahaye Yohannes': 'NA',\n",
        "  'Isaac': 'NA',\n",
        "  'Joshua': 'NA',\n",
        "  'Keste Debena Dawit Isaac': 'NA',\n",
        "  'Keste Debena Mattewos Habteab': 'NA',\n",
        "  'Meqaleh Dawit Habtemichael': 'NA',\n",
        "  'Mohamed Ali': 'NA',\n",
        "  'Tsigenay Amanuel Asrat': 'NA',\n",
        "  'Zemen Seyoum Tsehaye': 'NA'},\n",
        " 3541: {'Mikias Mekonnen': 'NA', 'Zecharias Abraham': 'NA'},\n",
        " 3542: {'Demoze Afewerki': 'NA', 'Kidane Weldu': 'NA'},\n",
        " 3543: {'Abune Antonios': 'NA'},\n",
        " 3546: {'Haile Naizgi': 'NA',\n",
        "  'Kiflu Gebremeskel': 'NA',\n",
        "  'Tesfatsion Hagos': 'NA'},\n",
        " 3547: {'Abune Antonios': 'NA'},\n",
        " 3549: {'Jehovah': 'NA'},\n",
        " 3550: {'Mikias Mekonnen': 'NA', 'Zecharias Abraham': 'NA'},\n",
        " 3551: {'Adi Abeto': 'NA'},\n",
        " 3553: {'Leul Gebreab': 'NA'},\n",
        " 3554: {'Jehovah': 'NA'},\n",
        " 3555: {'Binyam Gezay': 'NA'},\n",
        " 3557: {'Semere Zaid': 'NA'},\n",
        " 3558: {'Miskir Semerab Goitom': 'NA'},\n",
        " 3561: {'Abraham': 'NA',\n",
        "  'Akberet Nigussie': 'NA',\n",
        "  'Berhane': 'NA',\n",
        "  'Elsa': 'NA',\n",
        "  'Gebremichael': 'NA',\n",
        "  'Hamelmal': 'NA',\n",
        "  'Hiwot': 'NA',\n",
        "  'Simon': 'NA',\n",
        "  'Sirak Gebremichael': 'NA',\n",
        "  'Teklemariam': 'NA',\n",
        "  'Yergalem Afewerki': 'NA'},\n",
        " 3562: {'Aster Yohannes': 'NA', 'Petros Solomon': 'NA'},\n",
        " 3564: {'Abraham Weldu': 'NA',\n",
        "  'Akberet Nigussie': 'NA',\n",
        "  'Berhane Tesfay': 'NA',\n",
        "  'Eden': 'NA',\n",
        "  'Elsa Tekle': 'NA',\n",
        "  'Freweyni Gebreab': 'NA',\n",
        "  'Gebremichael Yohaness': 'NA',\n",
        "  'Simon': 'NA',\n",
        "  'Sirak Gebremichael': 'NA',\n",
        "  'Teklemariam': 'NA',\n",
        "  'Yergalem Aferwerki': 'NA'},\n",
        " 3565: {'Abraham Weldu': 'NA',\n",
        "  'Akberet Nigussie': 'NA',\n",
        "  'Gebremichael Yahoness': 'NA',\n",
        "  'Simon': 'NA',\n",
        "  'Teklemariam': 'NA'},\n",
        " 3567: {'Hebe de Bonafini': 'NA'},\n",
        " 3568: {'Alejandra Bonafini': 'NA',\n",
        "  'Hebe Bonafini': 'NA',\n",
        "  'Maria Alejandra Bonafini': 'NA'},\n",
        " 3569: {'Jose Luis Cabezas': 'NA', 'Santo Biasatti': 'NA'},\n",
        " 3570: {'Jos': 'NA', 'Jos\\xc3\\xa9 Luis Ojeda': 'NA', 'Luis Ojeda': 'NA'},\n",
        " 3572: {'Gustavo': 'NA', 'Gustavo Melmann': 'NA', 'Natalia': 'NA'},\n",
        " 3574: {'Hernan Lopez': 'NA'},\n",
        " 3575: {'Maria Alejandra Bonafini': 'NA'},\n",
        " 3576: {'Alejandro Mirabet': 'NA'},\n",
        " 3577: {'Elvio Zanotti': 'NA',\n",
        "  'Maria Teresa S?nchez': 'NA',\n",
        "  'Maria Teresa S\\xc3\\xa1nchez': 'NA',\n",
        "  'Sonia Torres de Parodi': 'NA'},\n",
        " 3578: {'Clara Britos': 'NA'},\n",
        " 3579: {'Cristina Saborido': 'NA', 'Eva Arroyo': 'NA'},\n",
        " 3581: {'Fernando': 'NA'},\n",
        " 3582: {'Diego Rodriguez Laguens': 'NA',\n",
        "  'Federico Uber': 'NA',\n",
        "  'Mabel Cristina Laguens de Rodriguez': 'NA'},\n",
        " 3583: {'Diego Rodriguez Laguens': 'NA',\n",
        "  'Federico Alfredo Huber': 'NA',\n",
        "  'Felipe Rodriguez Laguens': 'NA',\n",
        "  'Mabel Cristina Laguens de Rodriguez': 'NA',\n",
        "  'Rodriguez Laguens': 'NA'},\n",
        " 3584: {'Daniel Straga': 'NA'},\n",
        " 3585: {'Hebe Bonafini': 'NA'},\n",
        " 3586: {'Amado': 'NA', 'Andr\\xc3\\xa9s Amado': 'NA'},\n",
        " 3587: {'Alfredo Guevara Escayola': 'NA',\n",
        "  'Pablo Gabriel Salinas': 'NA',\n",
        "  'lica Escayola': 'NA'},\n",
        " 3589: {'Hebe de Bonafini': 'NA'},\n",
        " 3590: {'Miguel Bru': 'NA'},\n",
        " 3591: {'Diego Rodriguez': 'NA', 'Diego Rodriguez Laguens': 'NA'},\n",
        " 3592: {'Gloria Alvarez': 'NA',\n",
        "  'Mario Hmberto Gomez Yardez': 'NA',\n",
        "  'Mario Humberto Gomez Yardez': 'NA',\n",
        "  'Mario Humberto G\\xc3\\xb3mez Yardez': 'NA',\n",
        "  'Mario Humberto G\\xef\\xbf\\xbdmez Yardez': 'NA',\n",
        "  'Natalia Gomez': 'NA'},\n",
        " 3593: {'Jorge Julio': 'NA',\n",
        "  'Jorge Julio Lopez': 'NA',\n",
        "  'Jorge Julio L\\xc3\\xb3pez': 'NA'},\n",
        " 3594: {'Eduardo Ruffo': 'NA', 'Elena Mendoza': 'NA', 'Mendoza': 'NA'},\n",
        " 3595: {'Diego Rodriguez Laguens': 'NA',\n",
        "  'Federico Alfredo Huber': 'NA',\n",
        "  'Felipe Rodriguez': 'NA',\n",
        "  'Felipe Rodriguez Laguens': 'NA',\n",
        "  'Mabel Cristina Laguens de Rodriguez': 'NA'},\n",
        " 3596: {'Diego Rodriguez Laguens': 'NA',\n",
        "  'Felipe Rodriguez Laguens': 'NA',\n",
        "  'Frederico Alfredo Huber': 'NA',\n",
        "  'Mabel Cristina Laguens de Rodriguez': 'NA'},\n",
        " 3597: {'Jos': 'NA',\n",
        "  'Jos\\xc3\\xa9 Luis Ojeda': 'NA',\n",
        "  'Luis Ojeda': 'NA',\n",
        "  'Luis Ojeda Argentina': 'NA'},\n",
        " 3598: {'Alejandro Acosta': 'NA', 'Carlos Varela': 'NA', 'Diego Lavado': 'NA'},\n",
        " 3599: {'Clara Britos': 'NA'},\n",
        " 3600: {'Pablo Cristian Guardatti': 'NA', 'Pablo Guardatti': 'NA'},\n",
        " 3601: {'Diego Rodriguez Laguens': 'NA',\n",
        "  'Federico Alfredo Hubert': 'NA',\n",
        "  'Federico Alfredo Hubert Further': 'NA',\n",
        "  'Hubert': 'NA',\n",
        "  'Mabel Cristina Laguens de Rodriguez': 'NA'},\n",
        " 3602: {'Antonio Fernandez Llorente': 'NA',\n",
        "  'Ariel Garbarz': 'NA',\n",
        "  'Magdalena Ruiz Guinazu': 'NA',\n",
        "  'Maria Jose Fernandez Llorente': 'NA'},\n",
        " 3603: {'Lidia': 'NA', 'Lidia Abineme': 'NA'},\n",
        " 3604: {'Vanesa Piedrabuena': 'NA',\n",
        "  'Vanessa Lorena Ledesma': 'NA',\n",
        "  'Vanessa Piedrabuena': 'NA'},\n",
        " 3605: {'Claudio Pandolfi': 'NA'},\n",
        " 3606: {'Argentina Sabaj de Castro': 'NA',\n",
        "  'Carlos Razzeti': 'NA',\n",
        "  'Graciela Margarita Zalasar': 'NA',\n",
        "  'Margarita Alegre de Papetti': 'NA',\n",
        "  'Milagros Demiryi': 'NA'},\n",
        " 3607: {'Fernando': 'NA'},\n",
        " 3608: {'Alejandro Mirabet': 'NA', 'Raul Alberto Lopez': 'NA'},\n",
        " 3609: {'Gloria Alvarez': 'NA',\n",
        "  'Mario Humbert Gomez Yardez': 'NA',\n",
        "  'Mario Humberto Gomez Yardez': 'NA',\n",
        "  'Mendoza': 'NA',\n",
        "  'Natalia Gomez': 'NA'},\n",
        " 3610: {'Dagmar Hagelin': 'NA', 'Ragnar Hagelin': 'NA'},\n",
        " 3611: {'Hebe Bonafini': 'NA'},\n",
        " 3612: {'Alberto BARRETO': 'NA',\n",
        "  'Delia GARCILAZO': 'NA',\n",
        "  'Lidia ZARATE': 'NA',\n",
        "  'Mary ORTIZ': 'NA',\n",
        "  'Oscar RIOS': 'NA',\n",
        "  'Pedro ORTIZ': 'NA',\n",
        "  'Silvia RUIZ': 'NA'},\n",
        " 3613: {'Claudio Pandolfi': 'NA',\n",
        "  'Dario Santillan': 'NA',\n",
        "  'Maximiliano Costeki': 'NA',\n",
        "  'Sergio Kowalewski': 'NA'},\n",
        " 3615: {'Elvio Zanotti': 'NA',\n",
        "  'Maria Teresa Sanchez': 'NA',\n",
        "  'Sonia Torres de Parodi': 'NA'},\n",
        " 3616: {'Lidia Zarate': 'NA',\n",
        "  'Mart\\xc3\\xadn Gonz\\xc3\\xa1lez Zarate': 'NA',\n",
        "  'Zarate': 'NA'},\n",
        " 3617: {'Gustavo': 'NA',\n",
        "  'Gustavo Melmann': 'NA',\n",
        "  'Laura Melmann': 'NA',\n",
        "  'Natalia': 'NA'},\n",
        " 3618: {'Maria Cristina Saborido': 'NA',\n",
        "  'Maria Eva Arroyo': 'NA',\n",
        "  'Mar\\xc3\\xada Luz Pi\\xc3\\xa9rola': 'NA'},\n",
        " 3619: {'Gloria Alvarez': 'NA',\n",
        "  'Mario Humberto Gomez Yardez': 'NA',\n",
        "  'Natalia Gomez': 'NA'},\n",
        " 3620: {'Hebe BONAFINI': 'NA'},\n",
        " 3621: {'Jos': 'NA',\n",
        "  'Jos\\xc3\\xa9 Segundo Zambrano': 'NA',\n",
        "  'Pablo Marcelo Rodr': 'NA',\n",
        "  'Pablo Marcelo Rodr\\xc3\\xadguez': 'NA',\n",
        "  'Pablo Marcelo Rodr\\xef\\xbf\\xbdguez': 'NA',\n",
        "  'Segundo Zambrano': 'NA'},\n",
        " 3622: {'Estela Carlotto': 'NA'},\n",
        " 3623: {'Gloria Alvarez': 'NA',\n",
        "  'Mario Humbert Gomez Yardez': 'NA',\n",
        "  'Mario Humberto Gomez Yardez': 'NA',\n",
        "  'Natalia Gomez': 'NA'},\n",
        " 3624: {'Godoy Cruz': 'NA',\n",
        "  'Jos': 'NA',\n",
        "  'Jos\\xc3\\xa9 Segundo Zambrano': 'NA',\n",
        "  'Jos\\xc3\\xa9 Zambrano': 'NA',\n",
        "  'Pablo Marcelo Rodr': 'NA',\n",
        "  'Pablo Marcelo Rodr\\xc3\\xadguez': 'NA',\n",
        "  'Pablo Rodr\\xc3\\xadguez': 'NA',\n",
        "  'Pablo Rodr\\xef\\xbf\\xbdguez': 'NA',\n",
        "  'Segundo Zambrano': 'NA',\n",
        "  'Zambrano': 'NA'},\n",
        " 3625: {'Estela Carlotto': 'NA'},\n",
        " 3626: {'Vanesa Piedrabuena': 'NA'},\n",
        " 3627: {'Clara Britos': 'NA'},\n",
        " 3628: {'Alfredo Guevara Escayola': 'NA',\n",
        "  'Mar\\xc3\\xada Ang\\xc3\\xa9lica Escayola': 'NA',\n",
        "  'Pablo Gabriel Salinas': 'NA'},\n",
        " 3629: {'Alejandra Bonafini': 'NA',\n",
        "  'Hebe de Bonafini': 'NA',\n",
        "  'Mar\\xc3\\xada Alejandra Bonafini': 'NA'},\n",
        " 3630: {'Luis Alberto Bord': 'NA',\n",
        "  'Luis Alberto Bord\\xc3\\xb3n': 'NA',\n",
        "  'Miriam Medina de Bord': 'NA',\n",
        "  'Miriam Medina de Bord\\xc3\\xb3n': 'NA',\n",
        "  'Sebasti\\xc3\\xa1n Bord\\xc3\\xb3n': 'NA'},\n",
        " 3631: {'Gustavo Melmann': 'NA', 'Natalia': 'NA'},\n",
        " 3632: {'Esteban Cuya': 'NA'},\n",
        " 3633: {'Jos': 'NA',\n",
        "  'Jos\\xc3\\xa9 Segundo Zambrano': 'NA',\n",
        "  'Pablo Marcelo Rodr': 'NA',\n",
        "  'Pablo Marcelo Rodr\\xc3\\xadguez': 'NA',\n",
        "  'Pablo Rodr': 'NA',\n",
        "  'Pablo Rodr\\xc3\\xadguez': 'NA',\n",
        "  'Segundo Zambrano': 'NA'},\n",
        " 3634: {'Marcelino': 'NA',\n",
        "  'Marcelino ALTAMIRANO': 'NA',\n",
        "  'Marcelino Altamirano': 'NA'},\n",
        " 3635: {'Alejandro Acosta': 'NA', 'Carlos Varela': 'NA', 'Diego Lavado': 'NA'},\n",
        " 3636: {'Emilio Ferrer': 'NA',\n",
        "  'Fernanda Sanssone': 'NA',\n",
        "  'Laura Figueroa': 'NA'},\n",
        " 3637: {'Clara Britos': 'NA'},\n",
        " 3638: {'Marcelino': 'NA',\n",
        "  'Marcelino ALTAMIRANO': 'NA',\n",
        "  'Marcelino Altamirano': 'NA'},\n",
        " 3639: {'Claudio Rodr\\xc3\\xadguez': 'NA', 'Miguel Angel Aguirre': 'NA'},\n",
        " 3640: {'Vanessa Piedrabuena': 'NA'},\n",
        " 3641: {'Olga Luquez': 'NA', 'Tropero Sosa': 'NA'},\n",
        " 3642: {'Nadia Echaz': 'NA',\n",
        "  'Nadia Echaz\\xc3\\xba': 'NA',\n",
        "  'Rodr\\xc3\\xadguez': 'NA'},\n",
        " 3643: {'Stafford Clarke': 'NA'},\n",
        " 3644: {'Cyril Darville': 'NA',\n",
        "  'Dwayne McKinney': 'NA',\n",
        "  'Thomas Reckley': 'NA'},\n",
        " 3645: {'Alexander Williams': 'NA',\n",
        "  'Anatole Mcquay': 'NA',\n",
        "  'Roger Chad Goodman': 'NA',\n",
        "  'Sean Poitier': 'NA'},\n",
        " 3646: {'David Mitchell': 'NA', 'John Higgs': 'NA'},\n",
        " 3648: {'Carmichael': 'NA'},\n",
        " 3649: {'Stafford Clarke': 'NA'},\n",
        " 3650: {'Trevor Nixon': 'NA', 'Trevor Nixon Bahamas': 'NA'},\n",
        " 3651: {'John Higgs': 'NA', 'John Higgs Bahamas': 'NA'},\n",
        " 3652: {'Alexander Williams': 'NA',\n",
        "  'Anatole Mcquay': 'NA',\n",
        "  'Roger Chad Goodman': 'NA',\n",
        "  'Sean Poitier': 'NA'},\n",
        " 3653: {'Larry Jones': 'NA'},\n",
        " 3654: {'Trevor Nixon': 'NA'},\n",
        " 3655: {'Cyril Darville': 'NA',\n",
        "  'Dwayne McKinney': 'NA',\n",
        "  'Thomas Reckley': 'NA'},\n",
        " 3656: {'John Higgs': 'NA', 'John Higgs Bahamas': 'NA'},\n",
        " 3657: {'Trevor Fisher': 'NA',\n",
        "  'Trevor Nathaniel Fisher': 'NA',\n",
        "  'Trevor Nathaniel Fisher Bahamas': 'NA'},\n",
        " 3658: {'David Mitchell': 'NA', 'John Higgs': 'NA'},\n",
        " 3659: {'David Mitchell': 'NA', 'John Higgs': 'NA'},\n",
        " 3660: {'Larry Jones': 'NA'},\n",
        " 3661: {'Trevor Nixon': 'NA'},\n",
        " 3662: {'Cyril Darville': 'NA', 'Dwayne McKinney': 'NA'},\n",
        " 3663: {'Trevor Fisher': 'NA',\n",
        "  'Trevor Nathaniel Fisher': 'NA',\n",
        "  'Trevor Nathaniel Fisher Bahamas': 'NA'},\n",
        " 3664: {'David Mitchell': 'NA', 'John Higgs': 'NA'},\n",
        " 3665: {'Dwayne McKinney': 'NA', 'Ricardo Farrington': 'NA'},\n",
        " 3666: {'Alutus Newbold': 'NA'},\n",
        " 3667: {'Thomas Reckley': 'NA', 'Thomas Reckley Bahamas': 'NA'},\n",
        " 3668: {'Ricardo Farrington': 'NA', 'Ricardo Farrington Bahamas': 'NA'},\n",
        " 3669: {'Bahamas': 'NA',\n",
        "  'Fisher': 'NA',\n",
        "  'Trevor Fisher': 'NA',\n",
        "  'Trevor Nathaniel Pennerman Fisher': 'NA'},\n",
        " 3670: {'David Mitchell': 'NA', 'John Higgs': 'NA'},\n",
        " 3671: {'Thomas Reckley': 'NA', 'Thomas Reckley Bahamas': 'NA'},\n",
        " 3672: {'Ricardo Farrington': 'NA', 'Ricardo Farrington Bahamas': 'NA'},\n",
        " 3673: {'Richard Woods': 'NA',\n",
        "  'Trevor Fisher': 'NA',\n",
        "  'Trevor Nathaniel Pennerman Fisher': 'NA'},\n",
        " 3674: {'Leavon Williamson': 'NA',\n",
        "  'Melvin Saunders': 'NA',\n",
        "  'Melvin Saunders Bahamas': 'NA'},\n",
        " 3675: {'Richard Woods': 'NA', 'Stephen Charles Swaby': 'NA'},\n",
        " 3676: {'Richard Woods': 'NA', 'Trevor Nathaniel Pennerman Fisher': 'NA'},\n",
        " 3677: {'Richard Woods': 'NA', 'Stephen Charles Swaby': 'NA'},\n",
        " 3678: {'Trevor Fisher': 'NA', 'Trevor Nathaniel Fisher': 'NA'},\n",
        " 3679: {'Richard Woods': 'NA', 'Trevor Nathaniel Pennerman Fisher': 'NA'},\n",
        " 3681: {'Trevor Nathaniel Fisher': 'NA',\n",
        "  'Trevor Nathaniel Fisher Bahamas': 'NA'},\n",
        " 3682: {'Trevor Nathaniel Fisher': 'NA',\n",
        "  'Trevor Nathaniel Fisher Bahamas': 'NA'},\n",
        " 3683: {'Ricardo Farrington': 'NA', 'Ricardo Farrington Bahamas': 'NA'},\n",
        " 3684: {'Frederick Benjamin Atkins': 'NA',\n",
        "  'Jeffrey Joseph': 'NA',\n",
        "  'Lennox Ricardo Boyce': 'NA',\n",
        "  'Michael McDonald Huggins': 'NA'},\n",
        " 3685: {'Jeffrey Joseph': 'NA', 'Lennox Boyce': 'NA'},\n",
        " 3686: {'Frederick Atkins': 'NA'},\n",
        " 3687: {'Fredrick Atkins': 'NA'},\n",
        " 3688: {'Leston Leroy Harewood': 'NA', 'Vincent Murrell': 'NA'},\n",
        " 3689: {'Frederick Benjamin Atkins': 'NA',\n",
        "  'Jeffrey Joseph': 'NA',\n",
        "  'Lennox Ricardo Boyce': 'NA',\n",
        "  'Michael McDonald Huggins': 'NA'},\n",
        " 3690: {'Jeffrey Joseph': 'NA', 'Lennox Boyce': 'NA'},\n",
        " 3691: {'Leston Leroy Harewood': 'NA', 'Vincent Murrell': 'NA'},\n",
        " 3692: {'Leston Leroy Harewood': 'NA', 'Vincent Murrell': 'NA'},\n",
        " 3694: {'Alfred Codrington': 'NA',\n",
        "  'Lindsberth Logan': 'NA',\n",
        "  'Nicolas Antonio Guevara': 'NA'},\n",
        " 3695: {'Michael Anthony Hendrix': 'NA', 'Steven Smith': 'NA'},\n",
        " 3696: {'Edwardo Vasquez': 'NA'},\n",
        " 3697: {'Alfred Codrington': 'NA', 'Nicolas Antonio Guevara': 'NA'},\n",
        " 3698: {'Catzim Mendez': 'NA',\n",
        "  'Gilroy': 'NA',\n",
        "  'Oswin White': 'NA',\n",
        "  'Wade': 'NA'},\n",
        " 3699: {\"Catalino O'Neil\": 'NA'},\n",
        " 3700: {'Edwardo Vasquez': 'NA'},\n",
        " 3701: {'Alfred Codrington': 'NA', 'Nicolas Antonio Guevara': 'NA'},\n",
        " 3702: {'Said Musa': 'NA'},\n",
        " 3703: {'Edwardo Vasquez': 'NA'},\n",
        " 3704: {'Edwardo Vasquez': 'NA'},\n",
        " 3706: {'Leroy Dunlop': 'NA'},\n",
        " 3707: {'Rudolph Leroy West': 'NA'},\n",
        " 3708: {'Leroy Dunlop': 'NA'},\n",
        " 3709: {'Rudolph Leroy West': 'NA', 'Rudolph Leroy West Bermuda': 'NA'},\n",
        " 3710: {'Miguel Lora': 'NA', 'Vilma Plata': 'NA'},\n",
        " 3711: {'Alberto Quinta': 'NA',\n",
        "  'Alberto Quintanilla': 'NA',\n",
        "  'Antonio Moreno Vargas': 'NA',\n",
        "  'Augusta Tejada Huallpa': 'NA',\n",
        "  'Baldomero Caceres': 'NA',\n",
        "  'David Olivares': 'NA',\n",
        "  'Eliseo Condori': 'NA',\n",
        "  'Evo Morales': 'NA',\n",
        "  'Genaro Cahuana Serna': 'NA',\n",
        "  'Guido Gonzalez': 'NA',\n",
        "  'Hugo Cabieses': 'NA',\n",
        "  'La Paz': 'NA',\n",
        "  'Oscar Salas': 'NA',\n",
        "  'Ricardo Soberon': 'NA',\n",
        "  'Roberto Pancorbo': 'NA',\n",
        "  'Roger Rumrrill': 'NA'},\n",
        " 3713: {'Waldo Albarrac_n': 'NA',\n",
        "  'Waldo Albarracin': 'NA',\n",
        "  'Waldo Albarrac\\xc3\\xadn': 'NA'},\n",
        " 3714: {'Ascencio Picha': 'NA',\n",
        "  'Emilio Rodriguez': 'NA',\n",
        "  'Emilio Sejas': 'NA',\n",
        "  'Enriqueta Imaca': 'NA',\n",
        "  'Felipe Flores': 'NA',\n",
        "  'Felipe Quispe Huanca': 'NA',\n",
        "  'Filomeno Rivera': 'NA',\n",
        "  'Fred Nu\\xc3\\xb1ez': 'NA',\n",
        "  'Gabriel Herbas': 'NA',\n",
        "  'Juan Yapura': 'NA',\n",
        "  'Osvaldo Toco': 'NA',\n",
        "  'Pedro Soto': 'NA',\n",
        "  'Sacarias Pereira': 'NA',\n",
        "  'Victor Cossio': 'NA',\n",
        "  'Victor Nina': 'NA',\n",
        "  'Walter Antezana': 'NA'},\n",
        " 3715: {'Waldo Albarrac': 'NA', 'Waldo Albarrac\\xc3\\xadn': 'NA'},\n",
        " 3716: {'Cliver Rochas': 'NA'},\n",
        " 3718: {'Marcela Alejandra Porco': 'NA'},\n",
        " 3719: {'Alberto Quintanilla': 'NA',\n",
        "  'Antonio Moreno Vargas': 'NA',\n",
        "  'Augusta Tejada Huallpa': 'NA',\n",
        "  'Baldomero Caceres': 'NA',\n",
        "  'Carlos Camargo': 'NA',\n",
        "  'Carlos Sanchez Berzain': 'NA',\n",
        "  'Crisologo Mendoza Arias': 'NA',\n",
        "  'Dante Lorini': 'NA',\n",
        "  'David Olivares': 'NA',\n",
        "  'Eduardo Panoso': 'NA',\n",
        "  'Eliseo Condori': 'NA',\n",
        "  'Evo Morales': 'NA',\n",
        "  'Genaro Cahuana Serna': 'NA',\n",
        "  'Guido Gonzalez': 'NA',\n",
        "  'Hugo Cabieses': 'NA',\n",
        "  'Hugo Campos': 'NA',\n",
        "  'Jesus Javari': 'NA',\n",
        "  'Juan Bautista Torres Quispe': 'NA',\n",
        "  'Juvenal Garavito': 'NA',\n",
        "  'Marcelo Gonzalez Barrios': 'NA',\n",
        "  'Maruja Machaca': 'NA',\n",
        "  'Miguel Calizaya': 'NA',\n",
        "  'Miguel Humerez': 'NA',\n",
        "  'Oscar Salas': 'NA',\n",
        "  'Rafael Puente Calvo': 'NA',\n",
        "  'Ricardo Soberon': 'NA',\n",
        "  'Roberto Pancorbo': 'NA',\n",
        "  'Roger Rumrrill': 'NA',\n",
        "  'Ruben Cortes': 'NA',\n",
        "  'Sabino Arroyo Gonzalez': 'NA',\n",
        "  'Secundino Montevilla': 'NA',\n",
        "  'Victor Flores Alvarez': 'NA'},\n",
        " 3720: {'Manuel Morales Davila': 'NA'},\n",
        " 3721: {'Waldo Albarracin': 'NA'},\n",
        " 3722: {'Albarrac\\xc3\\xadn': 'NA',\n",
        "  'Waldo Albarrac_n': 'NA',\n",
        "  'Waldo Albarrac\\xc3\\xadn': 'NA'},\n",
        " 3723: {'Alejandro Colanzi Zeballos': 'NA', 'Luis Arturo Mendivil': 'NA'},\n",
        " 3724: {'Marcela Alejandra Porco': 'NA'},\n",
        " 3725: {'Adrian Monzon Jimenez': 'NA', 'Mario Andrade Penaloza': 'NA'},\n",
        " 3726: {'Bartolom\\xc3\\xa9 Flores': 'NA',\n",
        "  'David Goitia Benito': 'NA',\n",
        "  'Edwin Huanca': 'NA',\n",
        "  'Flores': 'NA',\n",
        "  'Franz Guzm': 'NA',\n",
        "  'Franz Guzm\\xc3\\xa1n': 'NA',\n",
        "  'Hugo Daza': 'NA',\n",
        "  'Noel Guzm\\xc3\\xa1n': 'NA',\n",
        "  'Wilfredo Apaza': 'NA'},\n",
        " 3727: {'Silvestre Saisari Cruz': 'NA'},\n",
        " 3728: {'Eduardo Flores Vargas': 'NA',\n",
        "  'Eliodoro Tinini Espinoza': 'NA',\n",
        "  'Miguel Lora': 'NA',\n",
        "  'Oscar Gonzalo Vega': 'NA',\n",
        "  'Telmo Roman': 'NA',\n",
        "  'Vilma Plata': 'NA'},\n",
        " 3729: {'Carlos Camargo': 'NA',\n",
        "  'Crisologo Mendoza Arias': 'NA',\n",
        "  'Dante Lorini': 'NA',\n",
        "  'David Olivares': 'NA',\n",
        "  'Eduardo Panoso': 'NA',\n",
        "  'Evo Morales': 'NA',\n",
        "  'Hugo Campos': 'NA',\n",
        "  'Jesus Javari': 'NA',\n",
        "  'Juan Bautista Torres Quispe': 'NA',\n",
        "  'Juvenal Garavito': 'NA',\n",
        "  'Marcelo Gonzalez Barrios': 'NA',\n",
        "  'Maruja Machaca': 'NA',\n",
        "  'Miguel Calizaya': 'NA',\n",
        "  'Miguel Humerez': 'NA',\n",
        "  'Oscar Salas': 'NA',\n",
        "  'Rafael Puente Calvo': 'NA',\n",
        "  'Roberto Pancorbo': 'NA',\n",
        "  'Ruben Cortes': 'NA',\n",
        "  'Sabino Arroyo Gonzalez': 'NA',\n",
        "  'Secundino Montevilla': 'NA',\n",
        "  'Victor Flores Alvarez': 'NA'},\n",
        " 3730: {'Adrian Monzon Jimenez': 'NA', 'Mario Andrade Penaloza': 'NA'},\n",
        " 3731: {'Juan del Granado': 'NA', 'Waldo Albarracin': 'NA'},\n",
        " 3732: {'Hugo Ortiz': 'NA',\n",
        "  'Padre Gines Mateo Rocamora': 'NA',\n",
        "  'Padre Hugo Ortiz': 'NA'},\n",
        " 3733: {'Carlos Cuasace Surub\\xc3\\xad': 'NA',\n",
        "  'Juan Pinto': 'NA',\n",
        "  'Organizaci': 'NA'},\n",
        " 3734: {'Adalberto Rojas': 'NA'},\n",
        " 3736: {'Evo Morales': 'NA',\n",
        "  'Flores Vargas Victor': 'NA',\n",
        "  'Marca Lamas Felipe': 'NA',\n",
        "  'Nestor Bravo': 'NA'},\n",
        " 3737: {'Alejo Veliz': 'NA',\n",
        "  'Andres Chavez': 'NA',\n",
        "  'Carmen Rojas': 'NA',\n",
        "  'Luis Garcia': 'NA',\n",
        "  'Miguel Mamani Fernandez': 'NA',\n",
        "  'Nancy Teran': 'NA',\n",
        "  'Nelson Rodriguez': 'NA',\n",
        "  'Nicolas Quiroga Armiento': 'NA',\n",
        "  'Sonia Ayala': 'NA'},\n",
        " 3738: {'Angel Claure': 'NA',\n",
        "  'Bartolome Flores': 'NA',\n",
        "  'David Goitia Benito': 'NA',\n",
        "  'Edwin Huanca': 'NA',\n",
        "  'Emilio Rodr\\xc3\\xadguez': 'NA',\n",
        "  'Emilio Rodr\\xef\\xbf\\xbdguez': 'NA',\n",
        "  'Felipe Flores': 'NA',\n",
        "  'Felipe Quispe Huanca': 'NA',\n",
        "  'Filomeno Rivera': 'NA',\n",
        "  'Francisco Partis': 'NA',\n",
        "  'Franz Guzm': 'NA',\n",
        "  'Franz Guzm\\xc3\\xa1n': 'NA',\n",
        "  'Fred Nu': 'NA',\n",
        "  'Fred Nu\\xc3\\xb1ez': 'NA',\n",
        "  'Gloria Eyzaguirre': 'NA',\n",
        "  'Jaime Buitrago': 'NA',\n",
        "  'Jhenny Osinaga': 'NA',\n",
        "  'Juan Yapura': 'NA',\n",
        "  'Noel Guzm': 'NA',\n",
        "  'Noel Guzm\\xc3\\xa1n Wilfredo Apaza': 'NA',\n",
        "  'Osvaldo Rioja': 'NA',\n",
        "  'Wilfredo Apaza': 'NA'},\n",
        " 3739: {'Cliver Rocha': 'NA', 'Investigaci': 'NA'},\n",
        " 3740: {'Alejandro Colanzi Zeballos': 'NA', 'Luis Arturo Mendivil': 'NA'},\n",
        " 3741: {'Evo Morales': 'NA',\n",
        "  'Flores Vargas Victor': 'NA',\n",
        "  'Marca Lamas Felipe': 'NA',\n",
        "  'Nestor Bravo': 'NA'},\n",
        " 3742: {'Manuel Morales Davila': 'NA'},\n",
        " 3743: {'Waldo Albarracin': 'NA'},\n",
        " 3744: {'Gonzalo Duran Carazani': 'NA',\n",
        "  'Jos\\xc3\\xa9 Luis Cardozo': 'NA',\n",
        "  'Jos\\xef\\xbf\\xbd Luis Cardozo': 'NA',\n",
        "  'Juan Carlos Serrudo Murrillo': 'NA'},\n",
        " 3745: {'Anselmo Cerezo': 'NA',\n",
        "  'Cancio Nina Ramirez': 'NA',\n",
        "  'David Herrera': 'NA',\n",
        "  'Fausto Montano': 'NA',\n",
        "  'Jose Claros': 'NA',\n",
        "  'Jose Menezes Vigamonte': 'NA',\n",
        "  'Marcial Alave': 'NA',\n",
        "  'Martin Villamontes': 'NA',\n",
        "  'Nemesio Montano': 'NA',\n",
        "  'Osvaldo Mamani': 'NA',\n",
        "  'Rene Ramirez': 'NA',\n",
        "  'Vicente Vigabriel': 'NA'},\n",
        " 3746: {'Alejo Veliz': 'NA',\n",
        "  'Andres Chavez': 'NA',\n",
        "  'Carmen Rojas': 'NA',\n",
        "  'Luis Garcia': 'NA',\n",
        "  'Miguel Mamani Fernandez': 'NA',\n",
        "  'Nancy Teran': 'NA',\n",
        "  'Nelson Rodriguez': 'NA',\n",
        "  'Nicolas Quiroga Armiento': 'NA',\n",
        "  'Sonia Ayala': 'NA'},\n",
        " 3747: {'Waldo Albarracin': 'NA'},\n",
        " 3748: {'Eduardo Flores Vargas': 'NA',\n",
        "  'Eliodoro Tinini Espinoza': 'NA',\n",
        "  'Miguel Lora': 'NA',\n",
        "  'Oscar Gonzalo Vega': 'NA',\n",
        "  'Telmo Roman': 'NA',\n",
        "  'Vilma Plata': 'NA'},\n",
        " 3749: {'Adrian Monzon Jimenes': 'NA', 'Mario Andrade Penaloza': 'NA'},\n",
        " 3750: {'Carlos Alberto Simoes Junior': 'NA',\n",
        "  'Juan Carlos Caballero': 'NA',\n",
        "  'Oscar Martin Serna': 'NA',\n",
        "  'Ronald Alberto Horna Aranda': 'NA'},\n",
        " 3751: {'Anselmo Cerezo': 'NA',\n",
        "  'Cancio Nina Ramirez': 'NA',\n",
        "  'David Herrera': 'NA',\n",
        "  'Faustino Montano': 'NA',\n",
        "  'Francisco Vallejo': 'NA',\n",
        "  'Guillermo Fuentes Gutierrez': 'NA',\n",
        "  'Jose Claros': 'NA',\n",
        "  'Jose Menezes Villamor': 'NA',\n",
        "  'Marcial Alavi': 'NA',\n",
        "  'Martin': 'NA',\n",
        "  'Nemesio Montano': 'NA',\n",
        "  'Osvaldo Mamani': 'NA',\n",
        "  'Rene Ramirez': 'NA',\n",
        "  'Vicente Vigabriel': 'NA'},\n",
        " 3752: {'Cancio Nina Ramirez': 'NA',\n",
        "  'David Herrera': 'NA',\n",
        "  'Francisco Vallejo': 'NA',\n",
        "  'Francsico Vallejo': 'NA',\n",
        "  'Guillermo Fuentes Gutierrez': 'NA',\n",
        "  'Marcial Alavi': 'NA',\n",
        "  'Nemesio Montano': 'NA',\n",
        "  'Osvaldo Mamani': 'NA',\n",
        "  'Vicente Vigabriel': 'NA'},\n",
        " 3753: {'Sacha Llorentti': 'NA', 'Sacha Llorentti Soliz': 'NA'},\n",
        " 3755: {'Delfin Olivera': 'NA',\n",
        "  'Esteban Quispe': 'NA',\n",
        "  'Quintin Vargas': 'NA',\n",
        "  'Teodocio Romero': 'NA'},\n",
        " 3756: {'Manuel Morales': 'NA', 'Manuel Morales Davila': 'NA'},\n",
        " 3757: {'Albarracin': 'NA', 'Waldo Albarracin': 'NA'},\n",
        " 3758: {'Cancio Nina': 'NA',\n",
        "  'Cancio Nina Ramirez': 'NA',\n",
        "  'David Herrera': 'NA',\n",
        "  'Francisco Vallejo': 'NA',\n",
        "  'Guillermo Fuentes Gutierrez': 'NA',\n",
        "  'Marcial Alavi': 'NA',\n",
        "  'Nemesio Montano': 'NA',\n",
        "  'Osvaldo Mamani': 'NA',\n",
        "  'Vicente Vigabriel': 'NA'},\n",
        " 3759: {'Margarita Ter': 'NA', 'Margarita Ter\\xc3\\xa1n': 'NA'},\n",
        " 3760: {'Delfin Olivera': 'NA',\n",
        "  'Esteban Quispe': 'NA',\n",
        "  'Quintin Vargas': 'NA',\n",
        "  'Teodocio Romero': 'NA'},\n",
        " 3762: {'Gonzalo S\\xc3\\xa1nchez de Lozada': 'NA',\n",
        "  'Gonzalo S\\xef\\xbf\\xbdnchez de Lozada': 'NA'},\n",
        " 3764: {'Raimundo Pereira': 'NA'},\n",
        " 3766: {'Cicero da Silva': 'NA',\n",
        "  'Joao Lucas da Silva': 'NA',\n",
        "  'Jose Cicero da Silva': 'NA',\n",
        "  'Maria Aparecida Pedrosa': 'NA'},\n",
        " 3767: {'Denise Vasconcelos': 'NA',\n",
        "  'Edmeia da Silva Eusebio': 'NA',\n",
        "  'Edneia Santos Cruz': 'NA',\n",
        "  'Euzilar Joana Da Silva Oliveira': 'NA',\n",
        "  'Marilene Lima De Souza': 'NA',\n",
        "  'Teresa Souza': 'NA',\n",
        "  'Vera Lucia Flores': 'NA'},\n",
        " 3768: {'Denise Vasconcelo': 'NA',\n",
        "  'Edneia Santos Cruz': 'NA',\n",
        "  'Euzilar Joana da Silva Oliveira': 'NA',\n",
        "  'Marilene Lima de Souza': 'NA',\n",
        "  'Sheila da Caonceicao': 'NA',\n",
        "  'Sheila da Conceicao': 'NA',\n",
        "  'Silva Euzebio': 'NA',\n",
        "  'Teresa Souza': 'NA',\n",
        "  'Vera Lucia Flores': 'NA'},\n",
        " 3769: {'Jonas Beltrao de Oliveira': 'NA',\n",
        "  'Jonathan Luke Hannay': 'NA',\n",
        "  'Maria Cecilia Garcez Leme': 'NA',\n",
        "  'Maria Ines Rondello': 'NA'},\n",
        " 3770: {'Adao Soares': 'NA', 'Joao Andre': 'NA'},\n",
        " 3771: {'Maracaju': 'NA'},\n",
        " 3773: {'Gerson de Souza': 'NA', 'Gerson de Souza Melo': 'NA'},\n",
        " 3774: {'Caraj': 'NA',\n",
        "  'Educa': 'NA',\n",
        "  'Educa\\xc3\\xa7\\xc3\\xa3o P\\xc3\\xbablica': 'NA',\n",
        "  'Zitinho': 'NA',\n",
        "  'Zito Augusto': 'NA',\n",
        "  'Zito Augusto Correia': 'NA'},\n",
        " 3775: {'Elma Novais': 'NA',\n",
        "  'Jefferson': 'NA',\n",
        "  'Josenildo Jo\\xc3\\xa3o de Freitas J\\xc3\\xbanior': 'NA',\n",
        "  'Josenildo Jo\\xef\\xbf\\xbdo de Freitas': 'NA',\n",
        "  'Novais': 'NA',\n",
        "  'Roxana': 'NA'},\n",
        " 3779: {'Expedito Ribeiro de Souza': 'NA'},\n",
        " 3780: {'Fausto Ribeiro': 'NA', 'Fausto Ribeiro da Silva Filho': 'NA'},\n",
        " 3781: {'Josemar Cantuario de Oliveira': 'NA',\n",
        "  'Manoel Delfino Felix da Silva': 'NA',\n",
        "  'Manoel Divino Alves da Silva': 'NA',\n",
        "  'Osvaldo Duarte da Silva': 'NA',\n",
        "  'Pedro Vieira de Araujo': 'NA',\n",
        "  'Valdemir Alves da Silva': 'NA'},\n",
        " 3782: {'Wagner': 'NA', 'Wagner dos Santos': 'NA'},\n",
        " 3783: {'Aldemir Ricardo Gomes': 'NA',\n",
        "  'Antonio Geronimo da Silva Junior': 'NA',\n",
        "  'Edmilson Jose de Oliveira': 'NA',\n",
        "  'Jose Alexandre da Silva': 'NA',\n",
        "  'Jose Marcos de Holanda Soares': 'NA',\n",
        "  'Walmir Barbosa da Silva': 'NA',\n",
        "  'Wilson Soares de Souza': 'NA'},\n",
        " 3785: {'Medeiros': 'NA',\n",
        "  'Pl\\xc3\\xa1cido Medeiros de Souza': 'NA',\n",
        "  'Pl\\xef\\xbf\\xbdcido Medeiros de Souza': 'NA',\n",
        "  'Roberto Monte': 'NA'},\n",
        " 3788: {'Raimundo Pereira': 'NA'},\n",
        " 3789: {'Osmarino Amancio Rodrigues': 'NA'},\n",
        " 3790: {'Altair Piana': 'NA',\n",
        "  'Atanagildo Mattos': 'NA',\n",
        "  'Francisco Rodrigues de Freitas': 'NA',\n",
        "  'Gerson Alves': 'NA',\n",
        "  'Getulio Joaquim da Silva': 'NA',\n",
        "  'Joao Vieira Cunha': 'NA',\n",
        "  'Jose Amancio de Souza': 'NA',\n",
        "  'Jose Galvao': 'NA',\n",
        "  'Marcelo Silva de Freitas': 'NA',\n",
        "  'Maria Divina da Silva Santos': 'NA',\n",
        "  'Raimundo Alves de Olivei': 'NA',\n",
        "  'Raimundo Alves de Oliveira': 'NA',\n",
        "  'Raimundo Jardim Siqueira': 'NA',\n",
        "  'Sandra de Oliveira Souza': 'NA',\n",
        "  'Santos': 'NA',\n",
        "  'Sebastiao Jorge Dias': 'NA',\n",
        "  'Valdo Jose da Silva': 'NA'},\n",
        " 3791: {'Domingos Mendes Cardoso': 'NA',\n",
        "  'Expedito Pinheiro de Castro': 'NA',\n",
        "  'Joao': 'NA'},\n",
        " 3792: {'Anderson Thome Pereira': 'NA',\n",
        "  'Elizabeth Cristina Borges de Oliveira Maia': 'NA',\n",
        "  'Fabio Ribeiro': 'NA',\n",
        "  'Fabio de Oliveira': 'NA',\n",
        "  'Leonardo Teixeira': 'NA',\n",
        "  'Marcelo Candido de Jesus': 'NA',\n",
        "  'Marcos Antonio Alves da Silva': 'NA',\n",
        "  'Marcos Pereira Muniz': 'NA',\n",
        "  'Michael Andre de Aguiar': 'NA',\n",
        "  'Neilton Pereira dos Santos': 'NA',\n",
        "  'Paulo Jose da Silva': 'NA',\n",
        "  'Paulo Roberto de Oliveira': 'NA',\n",
        "  'Rogerio da Silva': 'NA',\n",
        "  'Sergio Dias Gomes': 'NA',\n",
        "  'Valderino Miguel de Almeida': 'NA',\n",
        "  'Wagner dos Santos': 'NA'},\n",
        " 3793: {'Marco Antonio Rufino': 'NA', 'Marco Antonio Rufino da Cruz': 'NA'},\n",
        " 3794: {'Ariovaldo Jose dos Santos': 'NA', 'Sebastiao Moreira': 'NA'},\n",
        " 3795: {'Vagner Marcos da Silva': 'NA'},\n",
        " 3796: {'Gustavo dos Reis Gazzola': 'NA',\n",
        "  'Mohuyico Yabiku': 'NA',\n",
        "  'Roberto de Campos Andrade': 'NA',\n",
        "  'Thom': 'NA',\n",
        "  'Thom\\xc3\\xa1s Mohuyico Yabiku': 'NA'},\n",
        " 3797: {'Marcos Luidson de Ar': 'NA',\n",
        "  'Marcos Luidson de Ar\\xc3\\xa1ujo': 'NA',\n",
        "  'Marcos Luidson de Ar\\xef\\xbf\\xbdujo': 'NA'},\n",
        " 3799: {'Antonio Francisco Dias': 'NA',\n",
        "  'Benedito Conceicao': 'NA',\n",
        "  'Francisnaldo': 'NA',\n",
        "  'Jaime Amorim': 'NA',\n",
        "  'Lidio Rodrigues Lima': 'NA',\n",
        "  'Maria Antonia de Jesus': 'NA',\n",
        "  'Sebastiao Santos': 'NA'},\n",
        " 3800: {'Wagner': 'NA'},\n",
        " 3801: {'Francisco Rocha': 'NA',\n",
        "  'Hort\\xc3\\xaancio Vieira': 'NA',\n",
        "  'Jos': 'NA',\n",
        "  'Jos\\xc3\\xa9 Lisley Hort\\xc3\\xaancio Vieira': 'NA',\n",
        "  'Lisley Hort?ncio Vieira': 'NA',\n",
        "  'Vieira': 'NA'},\n",
        " 3802: {'Jos\\xc3\\xa9 de N\\xc3\\xb4 F\\xc3\\xa9lix': 'NA',\n",
        "  'Nilson F_lix': 'NA',\n",
        "  'Nilson F\\xc3\\xa9lix': 'NA'},\n",
        " 3803: {'Marcos Ant\\xc3\\xb4nio Monteiro': 'NA',\n",
        "  'Marcos Ant\\xef\\xbf\\xbdnio Monteiro': 'NA'},\n",
        " 3804: {'Marcelo Denadai': 'NA', 'Maria Aparecida Denadai': 'NA'},\n",
        " 3805: {'Prestes Maia': 'NA'},\n",
        " 3806: {'Raimundo Pereira': 'NA'},\n",
        " 3807: {'Ademir Nunes': 'NA',\n",
        "  'Amarildo Zanovello': 'NA',\n",
        "  'Antoninho Martes': 'NA',\n",
        "  'Antonio Moacir Rocil': 'NA',\n",
        "  'Eny Luiz Vinck': 'NA',\n",
        "  'Gaudencio da Motta': 'NA',\n",
        "  'Hamilton Soares': 'NA',\n",
        "  'Helmut Hering': 'NA',\n",
        "  'Ismael Ribeiro': 'NA',\n",
        "  'Joao Batista Serpa': 'NA',\n",
        "  'Joao Carlos Camargo': 'NA',\n",
        "  'Joao Fernando dos Santos': 'NA',\n",
        "  'Joao Tarcisio Schwap': 'NA',\n",
        "  'Jose da Rosa Silva': 'NA',\n",
        "  'Leonir Marcon': 'NA',\n",
        "  'Marilo de Bortolli': 'NA',\n",
        "  'Nelson Portela': 'NA',\n",
        "  'Norberto da Silva': 'NA',\n",
        "  'Osmar Pretik': 'NA',\n",
        "  'Paulinho Cirioli': 'NA',\n",
        "  'Valcir Dallacosta': 'NA',\n",
        "  'Valdir Dias Rodrigues': 'NA'},\n",
        " 3808: {'Alexander Santos Cunha': 'NA',\n",
        "  'Belfour Roxo': 'NA',\n",
        "  'Jose Francisco': 'NA',\n",
        "  'Miguel Couto': 'NA',\n",
        "  'Rosario Filho': 'NA'},\n",
        " 3809: {'Edval Silva': 'NA', 'Fabio Goncalves Cavalcante': 'NA'},\n",
        " 3810: {'Paulo Roberto da Silva': 'NA', 'Thiago Passos Ferreira': 'NA'},\n",
        " 3811: {'Dona Zenilda': 'NA',\n",
        "  'Marcinhos': 'NA',\n",
        "  'Marcos Luideson': 'NA',\n",
        "  'Zenilda Maria de Ara': 'NA',\n",
        "  'Zenilda Maria de Ara\\xc3\\xbajo': 'NA'},\n",
        " 3812: {'Frei Anast\\xc3\\xa1cio Ribeiro': 'NA',\n",
        "  'Frei Anast\\xef\\xbf\\xbdcio Ribeiro': 'NA',\n",
        "  'Jo\\xc3\\xa3o Pessoa': 'NA',\n",
        "  'Jo\\xef\\xbf\\xbdo Pessoa': 'NA'},\n",
        " 3814: {'Braz Antonio de Oliveira': 'NA',\n",
        "  'Carlos Cabral Pereira': 'NA',\n",
        "  'Expedito Ribeiro de Souza': 'NA',\n",
        "  'Jose Canuto Oliveira': 'NA',\n",
        "  'Orlando Canuto Pereira': 'NA',\n",
        "  'Paulo Canuto Oliveira': 'NA'},\n",
        " 3815: {'Carlos Cabral Pereira': 'NA',\n",
        "  'Orlando Canuto': 'NA',\n",
        "  'Ricardo Rezende': 'NA',\n",
        "  'Roberto Neto da Silva': 'NA',\n",
        "  'Valderio Pereira': 'NA'},\n",
        " 3816: {'Antonio Inacio Faria': 'NA',\n",
        "  'Luis Rodrigues': 'NA',\n",
        "  'Luis Rodrigues dos Santos': 'NA'},\n",
        " 3817: {'Hansen': 'NA', 'Jose Teixeira Castilho': 'NA', 'Ze de Feijao': 'NA'},\n",
        " 3818: {'Anna': 'NA',\n",
        "  \"Bartolomeu Homem D'El-Rei Pinto\": 'NA',\n",
        "  'Marco Antonio Rufino da Cruz': 'NA',\n",
        "  'Rutonio Jorge de Sant': 'NA',\n",
        "  'Solange': 'NA'},\n",
        " 3819: {'Aldemir Ricardo Gomes': 'NA',\n",
        "  'Antonio Geronimo da Silva Junior': 'NA',\n",
        "  'Edmilson Jose de Oliveira': 'NA',\n",
        "  'Jose Alexandre da Silva': 'NA',\n",
        "  'Jose Marcos de Holanda Soares': 'NA',\n",
        "  'Walmir Barbosa da Silva': 'NA',\n",
        "  'Wilson Soares de Souza': 'NA'},\n",
        " 3820: {'Anderson Pereira dos Santos': 'NA',\n",
        "  'Paulo Roberto da Silva': 'NA',\n",
        "  'Thiago Passos Ferreira': 'NA'},\n",
        " 3821: {'Amaral': 'NA',\n",
        "  'Carmen Lucia': 'NA',\n",
        "  'Joao Elizio Lima Pessoa': 'NA',\n",
        "  'Neusa Maria dos Santos': 'NA',\n",
        "  'Valter Melo': 'NA'},\n",
        " 3822: {'Carmelia Pereira dos Santos': 'NA',\n",
        "  'Father Luis Ferrari': 'NA',\n",
        "  'Nivaldo Brand\\xc3\\xa3o de Oliveira': 'NA',\n",
        "  'de Oliveira': 'NA'},\n",
        " 3823: {'Elma Novais': 'NA',\n",
        "  'Jefferson': 'NA',\n",
        "  'Josenildo Jo\\xc3\\xa3o de Freitas J\\xc3\\xbanior': 'NA',\n",
        "  'Josenildo Jo\\xef\\xbf\\xbdo de Freitas': 'NA',\n",
        "  'Novais': 'NA',\n",
        "  'Roxana': 'NA'},\n",
        " 3825: {'Prestes Maia': 'NA'},\n",
        " 3826: {'Antonio Francisco Dias': 'NA',\n",
        "  'Benedito Conceicao': 'NA',\n",
        "  'Francisnaldo': 'NA',\n",
        "  'Jaime Amorim': 'NA',\n",
        "  'Lidio Rodrigues Lima': 'NA',\n",
        "  'Maria Antonia de Jesus': 'NA',\n",
        "  'Sebastiao Santos': 'NA'}}"
       ]
      }
     ],
     "prompt_number": 55
    },
    {
     "cell_type": "code",
     "collapsed": false,
     "input": [
      "names1000 = namesSub # this gets the first 1000 keys in names"
     ],
     "language": "python",
     "metadata": {},
     "outputs": [],
     "prompt_number": 48
    },
    {
     "cell_type": "code",
     "collapsed": false,
     "input": [
      "names1000[1] #test"
     ],
     "language": "python",
     "metadata": {},
     "outputs": [
      {
       "metadata": {},
       "output_type": "pyout",
       "prompt_number": 49,
       "text": [
        "{'Seth Sendashonga': 0, 'Simeon Nsengiyumva': 0}"
       ]
      }
     ],
     "prompt_number": 49
    },
    {
     "cell_type": "code",
     "collapsed": false,
     "input": [
      "names2000 = namesSub # the second 1000 keys in names"
     ],
     "language": "python",
     "metadata": {},
     "outputs": [],
     "prompt_number": 52
    },
    {
     "cell_type": "code",
     "collapsed": false,
     "input": [
      "names2000[1624] #test"
     ],
     "language": "python",
     "metadata": {},
     "outputs": [
      {
       "metadata": {},
       "output_type": "pyout",
       "prompt_number": 53,
       "text": [
        "{'Alhaji Lamidi Adedibu': 0,\n",
        " 'Beko Ransome-Kuti': 0,\n",
        " 'Femi Falana': 0,\n",
        " 'Gani Fawehinmi': 0}"
       ]
      }
     ],
     "prompt_number": 53
    },
    {
     "cell_type": "code",
     "collapsed": false,
     "input": [
      "names2166 = dict((k, namesSub[k]) for k in namesSub.keys()[0:166]) # only got the first 166 items in the third 1000 items in names"
     ],
     "language": "python",
     "metadata": {},
     "outputs": [],
     "prompt_number": 81
    },
    {
     "cell_type": "code",
     "collapsed": false,
     "input": [
      "# goes to key 2760\n",
      "names2166 = dict(names1000.items() + names2000.items() + names2166.items()) # merging dicts to pickle"
     ],
     "language": "python",
     "metadata": {},
     "outputs": [],
     "prompt_number": 92
    },
    {
     "cell_type": "code",
     "collapsed": false,
     "input": [
      "output = open('names2166.pkl', 'wb')"
     ],
     "language": "python",
     "metadata": {},
     "outputs": [],
     "prompt_number": 93
    },
    {
     "cell_type": "code",
     "collapsed": false,
     "input": [
      "pickle.dump(names, output)"
     ],
     "language": "python",
     "metadata": {},
     "outputs": [],
     "prompt_number": 94
    },
    {
     "cell_type": "code",
     "collapsed": false,
     "input": [
      "output.close()"
     ],
     "language": "python",
     "metadata": {},
     "outputs": [],
     "prompt_number": 95
    },
    {
     "cell_type": "code",
     "collapsed": false,
     "input": [],
     "language": "python",
     "metadata": {},
     "outputs": []
    }
   ],
   "metadata": {}
  }
 ]
}