{
 "metadata": {
  "name": "",
  "signature": "sha256:7bfe57773d5a34ffefbe08f035cd355a549b0e26ad5a5249d13d5898bdb745de"
 },
 "nbformat": 3,
 "nbformat_minor": 0,
 "worksheets": [
  {
   "cells": [
    {
     "cell_type": "code",
     "collapsed": false,
     "input": [
      "from nytimesarticle import articleAPI"
     ],
     "language": "python",
     "metadata": {},
     "outputs": [],
     "prompt_number": 17
    },
    {
     "cell_type": "code",
     "collapsed": false,
     "input": [
      "api = articleAPI('e15cea455f73cc47d6d971667e09c31c:19:44644296')"
     ],
     "language": "python",
     "metadata": {},
     "outputs": [],
     "prompt_number": 18
    },
    {
     "cell_type": "markdown",
     "metadata": {},
     "source": [
      "###Unpickle my data from Amnesty_NER.ipynb"
     ]
    },
    {
     "cell_type": "code",
     "collapsed": false,
     "input": [
      "import pprint, pickle"
     ],
     "language": "python",
     "metadata": {},
     "outputs": [],
     "prompt_number": 9
    },
    {
     "cell_type": "code",
     "collapsed": false,
     "input": [
      "pkl_file = open('data.pkl', 'rb')"
     ],
     "language": "python",
     "metadata": {},
     "outputs": [],
     "prompt_number": 10
    },
    {
     "cell_type": "code",
     "collapsed": false,
     "input": [
      "names = pickle.load(pkl_file)"
     ],
     "language": "python",
     "metadata": {},
     "outputs": [],
     "prompt_number": 11
    },
    {
     "cell_type": "code",
     "collapsed": false,
     "input": [
      "pkl_file.close()"
     ],
     "language": "python",
     "metadata": {},
     "outputs": [],
     "prompt_number": 12
    },
    {
     "cell_type": "markdown",
     "metadata": {},
     "source": [
      "###Continuing with my analysis"
     ]
    },
    {
     "cell_type": "code",
     "collapsed": false,
     "input": [
      "namesSub = dict((k, names[k]) for k in names.keys()[0:50]) # taking subset of dict for testing purposes"
     ],
     "language": "python",
     "metadata": {},
     "outputs": [],
     "prompt_number": 19
    },
    {
     "cell_type": "code",
     "collapsed": false,
     "input": [
      "for key in namesSub.keys():\n",
      "    x = {}\n",
      "    for person in namesSub[key]:\n",
      "        try:\n",
      "            articles = api.search(q = person, fq = {'source':['Reuters','AP', 'The New York Times'], 'organizations.contains':['Amnesty']})\n",
      "            x[person] = len(articles['response']['docs'])\n",
      "            break\n",
      "        except:\n",
      "            x[person] = \"NA\"\n",
      "    namesSub[key] = x\n",
      "namesSub"
     ],
     "language": "python",
     "metadata": {},
     "outputs": []
    },
    {
     "cell_type": "code",
     "collapsed": false,
     "input": [],
     "language": "python",
     "metadata": {},
     "outputs": []
    }
   ],
   "metadata": {}
  }
 ]
}