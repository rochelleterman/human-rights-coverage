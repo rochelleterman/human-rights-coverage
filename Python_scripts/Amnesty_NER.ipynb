{
 "metadata": {
  "name": "",
  "signature": "sha256:83c49f3110373a5058e277fd7f7feee4ee4805f06251c23b660f770ee3abaf24"
 },
 "nbformat": 3,
 "nbformat_minor": 0,
 "worksheets": [
  {
   "cells": [
    {
     "cell_type": "code",
     "collapsed": false,
     "input": [
      "import ner\n",
      "import os\n",
      "import re\n",
      "import csv"
     ],
     "language": "python",
     "metadata": {},
     "outputs": [],
     "prompt_number": 4
    },
    {
     "cell_type": "code",
     "collapsed": false,
     "input": [
      "tagger = ner.SocketNER(host='localhost', port=8080)"
     ],
     "language": "python",
     "metadata": {},
     "outputs": [],
     "prompt_number": 5
    },
    {
     "cell_type": "code",
     "collapsed": false,
     "input": [
      "# test\n",
      "tagger.get_entities(\"Rochelle Terman\")"
     ],
     "language": "python",
     "metadata": {},
     "outputs": [
      {
       "metadata": {},
       "output_type": "pyout",
       "prompt_number": 6,
       "text": [
        "{u'PERSON': [u'Rochelle Terman']}"
       ]
      }
     ],
     "prompt_number": 6
    },
    {
     "cell_type": "code",
     "collapsed": false,
     "input": [
      "dir = \"/Users/rterman/Dropbox/berkeley/Dissertation/Data and Analyais/Git Repos/human-rights-coverage/Data/Amnesty/Texts\""
     ],
     "language": "python",
     "metadata": {},
     "outputs": [],
     "prompt_number": 7
    },
    {
     "cell_type": "code",
     "collapsed": false,
     "input": [
      "names= {}"
     ],
     "language": "python",
     "metadata": {},
     "outputs": [],
     "prompt_number": 8
    },
    {
     "cell_type": "code",
     "collapsed": false,
     "input": [
      "for filename in os.listdir(dir):\n",
      "    if filename.endswith(\".txt\"):\n",
      "        with open(os.path.join(dir, filename), 'r') as f:\n",
      "            text = f.read()\n",
      "            entities = tagger.get_entities(text)\n",
      "            if 'PERSON' in entities:\n",
      "                # get rid of extra white space\n",
      "                people = []\n",
      "                for name in entities['PERSON']:\n",
      "                    name = re.sub('\\s+', ' ', name)\n",
      "                    people.append(name.encode(\"UTF-8\"))\n",
      "                # assign\n",
      "                names[filename[:-4]] = set(people)\n"
     ],
     "language": "python",
     "metadata": {},
     "outputs": [],
     "prompt_number": 9
    },
    {
     "cell_type": "code",
     "collapsed": false,
     "input": [
      "names['1']"
     ],
     "language": "python",
     "metadata": {},
     "outputs": [
      {
       "metadata": {},
       "output_type": "pyout",
       "prompt_number": 10,
       "text": [
        "{'Seth Sendashonga', 'Simeon Nsengiyumva'}"
       ]
      }
     ],
     "prompt_number": 10
    },
    {
     "cell_type": "code",
     "collapsed": false,
     "input": [
      "# change to list\n",
      "for key in names:\n",
      "    names[key] = list(names[key])"
     ],
     "language": "python",
     "metadata": {},
     "outputs": [],
     "prompt_number": 11
    },
    {
     "cell_type": "code",
     "collapsed": false,
     "input": [
      "names = dict((int(k), names[k]) for k in names.keys()) # reassigning keys to integers instead of strings"
     ],
     "language": "python",
     "metadata": {},
     "outputs": [],
     "prompt_number": 12
    },
    {
     "cell_type": "code",
     "collapsed": false,
     "input": [
      "names[1]"
     ],
     "language": "python",
     "metadata": {},
     "outputs": [
      {
       "metadata": {},
       "output_type": "pyout",
       "prompt_number": 13,
       "text": [
        "['Seth Sendashonga', 'Simeon Nsengiyumva']"
       ]
      }
     ],
     "prompt_number": 13
    },
    {
     "cell_type": "code",
     "collapsed": false,
     "input": [
      "# pickle it for future use\n",
      "import cPickle"
     ],
     "language": "python",
     "metadata": {},
     "outputs": [],
     "prompt_number": 14
    },
    {
     "cell_type": "code",
     "collapsed": false,
     "input": [
      "output = open('data.pkl', 'wb')"
     ],
     "language": "python",
     "metadata": {},
     "outputs": [],
     "prompt_number": 15
    },
    {
     "cell_type": "code",
     "collapsed": false,
     "input": [
      "pickle.dump(names, output)"
     ],
     "language": "python",
     "metadata": {},
     "outputs": [],
     "prompt_number": 17
    },
    {
     "cell_type": "code",
     "collapsed": false,
     "input": [
      "# write a csv\n",
      "writer = csv.writer(open('dict.csv', 'wb'))\n",
      "for key, value in names.items():\n",
      "   writer.writerow([key, value])"
     ],
     "language": "python",
     "metadata": {},
     "outputs": []
    },
    {
     "cell_type": "code",
     "collapsed": false,
     "input": [],
     "language": "python",
     "metadata": {},
     "outputs": []
    }
   ],
   "metadata": {}
  }
 ]
}