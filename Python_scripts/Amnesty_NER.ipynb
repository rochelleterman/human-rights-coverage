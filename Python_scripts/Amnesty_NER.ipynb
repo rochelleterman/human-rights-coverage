{
 "metadata": {
  "name": "",
  "signature": "sha256:b21c64b48fa9ff016248eea78ffdfc28a33e90c782eb024b2f9e7864b7b7245a"
 },
 "nbformat": 3,
 "nbformat_minor": 0,
 "worksheets": [
  {
   "cells": [
    {
     "cell_type": "code",
     "collapsed": false,
     "input": [
      "import ner\n",
      "import os\n",
      "import re\n",
      "import csv"
     ],
     "language": "python",
     "metadata": {},
     "outputs": [],
     "prompt_number": 73
    },
    {
     "cell_type": "code",
     "collapsed": false,
     "input": [
      "tagger = ner.SocketNER(host='localhost', port=8080)"
     ],
     "language": "python",
     "metadata": {},
     "outputs": [],
     "prompt_number": 2
    },
    {
     "cell_type": "code",
     "collapsed": false,
     "input": [
      "# test\n",
      "tagger.get_entities(\"Rochelle Terman\")"
     ],
     "language": "python",
     "metadata": {},
     "outputs": [
      {
       "metadata": {},
       "output_type": "pyout",
       "prompt_number": 3,
       "text": [
        "{u'PERSON': [u'Rochelle Terman']}"
       ]
      }
     ],
     "prompt_number": 3
    },
    {
     "cell_type": "code",
     "collapsed": false,
     "input": [
      "dir = \"/Users/rterman/Dropbox/berkeley/Dissertation/Data and Analyais/Git Repos/human-rights-coverage/Data/Amnesty/Texts\""
     ],
     "language": "python",
     "metadata": {},
     "outputs": [],
     "prompt_number": 4
    },
    {
     "cell_type": "code",
     "collapsed": false,
     "input": [
      "names= {}"
     ],
     "language": "python",
     "metadata": {},
     "outputs": [],
     "prompt_number": 122
    },
    {
     "cell_type": "code",
     "collapsed": false,
     "input": [
      "for filename in os.listdir(dir):\n",
      "    if filename.endswith(\".txt\"):\n",
      "        with open(os.path.join(dir, filename), 'r') as f:\n",
      "            text = f.read()\n",
      "            entities = tagger.get_entities(text)\n",
      "            if 'PERSON' in entities:\n",
      "                # get rid of extra white space\n",
      "                people = []\n",
      "                for name in entities['PERSON']:\n",
      "                    name = re.sub('\\s+', ' ', name)\n",
      "                    people.append(name.encode(\"UTF-8\"))\n",
      "                # assign\n",
      "                names[filename[:-4]] = set(people)\n"
     ],
     "language": "python",
     "metadata": {},
     "outputs": [],
     "prompt_number": 123
    },
    {
     "cell_type": "code",
     "collapsed": false,
     "input": [
      "names['1']"
     ],
     "language": "python",
     "metadata": {},
     "outputs": [
      {
       "metadata": {},
       "output_type": "pyout",
       "prompt_number": 124,
       "text": [
        "{'Seth Sendashonga', 'Simeon Nsengiyumva'}"
       ]
      }
     ],
     "prompt_number": 124
    },
    {
     "cell_type": "code",
     "collapsed": false,
     "input": [
      "# change to list\n",
      "for key in names:\n",
      "    names[key] = list(names[key])"
     ],
     "language": "python",
     "metadata": {},
     "outputs": [],
     "prompt_number": 126
    },
    {
     "cell_type": "code",
     "collapsed": false,
     "input": [
      "# change to string\n",
      "for key in names:\n",
      "    names[key] = str(names[key])[1:-1]"
     ],
     "language": "python",
     "metadata": {},
     "outputs": [],
     "prompt_number": 131
    },
    {
     "cell_type": "code",
     "collapsed": false,
     "input": [
      "names['1']"
     ],
     "language": "python",
     "metadata": {},
     "outputs": [
      {
       "metadata": {},
       "output_type": "pyout",
       "prompt_number": 133,
       "text": [
        "\"'Seth Sendashonga', 'Simeon Nsengiyumva'\""
       ]
      }
     ],
     "prompt_number": 133
    },
    {
     "cell_type": "code",
     "collapsed": false,
     "input": [
      "# write a csv\n",
      "writer = csv.writer(open('dict.csv', 'wb'))\n",
      "for key, value in names.items():\n",
      "   writer.writerow([key, value])"
     ],
     "language": "python",
     "metadata": {},
     "outputs": [],
     "prompt_number": 134
    },
    {
     "cell_type": "code",
     "collapsed": false,
     "input": [],
     "language": "python",
     "metadata": {},
     "outputs": []
    }
   ],
   "metadata": {}
  }
 ]
}